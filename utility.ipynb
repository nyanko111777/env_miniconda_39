{
 "cells": [
  {
   "cell_type": "code",
   "execution_count": 1,
   "id": "8a0f984c",
   "metadata": {},
   "outputs": [],
   "source": [
    "! start ."
   ]
  },
  {
   "cell_type": "code",
   "execution_count": 3,
   "id": "36042461",
   "metadata": {},
   "outputs": [],
   "source": [
    "import os,git,shutil\n",
    "import pandas as pd"
   ]
  },
  {
   "cell_type": "code",
   "execution_count": 4,
   "id": "27b5d27b",
   "metadata": {},
   "outputs": [],
   "source": [
    "# 指定されたデータサイズでファイルを分割する\n",
    "def divide_file(filePath, chunkSize):\n",
    "    readedDataSize = 0\n",
    "    i = 0\n",
    "    fileList = []\n",
    "    # 対象ファイルを開く\n",
    "    f = open(filePath, \"rb\")\n",
    "    # ファイルを読み終わるまで繰り返す\n",
    "    contentLength = os.path.getsize(filePath)\n",
    "    while readedDataSize < contentLength:\n",
    "        # 読み取り位置をシーク\n",
    "        f.seek(readedDataSize)\n",
    "        # 指定されたデータサイズだけ読み込む\n",
    "        data = f.read(chunkSize)\n",
    "        # 分割ファイルを保存\n",
    "        saveFilePath = filePath + \".\" + str(i)\n",
    "        with open(saveFilePath, 'wb') as saveFile:\n",
    "            saveFile.write(data)\n",
    "        # 読み込んだデータサイズの更新\n",
    "        readedDataSize = readedDataSize + len(data)\n",
    "        i = i + 1\n",
    "        fileList.append(saveFilePath)\n",
    "    return fileList\n",
    "\n",
    "# 渡されたファイルリストの順序で１つのファイルに結合する\n",
    "def join_file(fileList, filePath):\n",
    "    with open(filePath, 'wb') as saveFile:\n",
    "        for f in fileList:\n",
    "            data = open(f, \"rb\").read()\n",
    "            saveFile.write(data)\n",
    "            saveFile.flush()"
   ]
  },
  {
   "cell_type": "code",
   "execution_count": 5,
   "id": "38bc6d6b",
   "metadata": {},
   "outputs": [],
   "source": [
    "  class env_util():\n",
    "    def __init__(self):\n",
    "        self.u_path = os.environ[\"userprofile\"]\n",
    "        self.miniconda_path = os.path.join(self.u_path,\"miniconda3\",\"pkgs\")\n",
    "        self.fac_path = os.path.join(self.u_path,\"000_work\",\"factory_env_miniconda39\")\n",
    "        self.fac_pkg_path = os.path.join(self.fac_path,\"pkgs\")\n",
    "        self.repo_fac = git.Repo(self.fac_path)\n",
    "        self.remote_folder_path = os.path.join(self.u_path,\"000_work\",\"env_miniconda_39\")\n",
    "        self.remote_pkg_path = os.path.join(self.remote_folder_path,\"pkgs\")\n",
    "        self.repo_remote_folder = git.Repo(self.remote_folder_path)\n",
    "\n",
    "    def get_status_text(self,case):\n",
    "        if case == 0:\n",
    "            tex = self.repo_fac.git.status(\"-s\")\n",
    "        elif case == 1:\n",
    "            tex = self.repo_remote_folder.git.status(\"-s\")\n",
    "        return tex\n",
    "        \n",
    "    def comfirm_file(self,case):\n",
    "        tex = self.get_status_text(case)\n",
    "        if tex.find(\"\\n\")  != 0:\n",
    "            li = tex.split(\"\\n\")\n",
    "            print(li)\n",
    "\n",
    "        return li\n",
    "\n",
    "    def get_list(self):\n",
    "        file_list = []\n",
    "        file_list_batsu = []\n",
    "        for root, dirs, files in os.walk(self.miniconda_path):\n",
    "            for filename in files:\n",
    "                fname = os.path.join(root, filename)\n",
    "                file_list.append([fname,os.path.getsize(fname) / 1000000])\n",
    "            df = pd.DataFrame(file_list)\n",
    "            df.columns=[\"path\",\"MB\"]\n",
    "        return df\n",
    "        \n",
    "if __name__ == '__main__':\n",
    "    self = env_util()"
   ]
  },
  {
   "cell_type": "markdown",
   "id": "2d003a1a",
   "metadata": {},
   "source": [
    "# おうち側作業"
   ]
  },
  {
   "cell_type": "markdown",
   "id": "c43b331b",
   "metadata": {},
   "source": [
    "## 初期化"
   ]
  },
  {
   "cell_type": "markdown",
   "id": "7c7a4b6c",
   "metadata": {},
   "source": [
    "### env_miniconda_39"
   ]
  },
  {
   "cell_type": "markdown",
   "id": "b6db74f4",
   "metadata": {},
   "source": [
    "pkgsとsep_file_listの中のファイルを削除"
   ]
  },
  {
   "cell_type": "code",
   "execution_count": 103,
   "id": "e5d985cb",
   "metadata": {},
   "outputs": [],
   "source": [
    "shutil.rmtree(self.remote_pkg_path)\n",
    "os.mkdir(self.remote_pkg_path)\n",
    "shutil.rmtree(os.path.join(self.remote_folder_path,\"sep_file_list\"))\n",
    "os.mkdir(os.path.join(self.remote_folder_path,\"sep_file_list\"))"
   ]
  },
  {
   "cell_type": "markdown",
   "id": "cfead465",
   "metadata": {},
   "source": [
    "### factory_env_miniconda39"
   ]
  },
  {
   "cell_type": "markdown",
   "id": "efabf77e",
   "metadata": {},
   "source": [
    "未コミットはコミットしておく"
   ]
  },
  {
   "cell_type": "code",
   "execution_count": 8,
   "id": "c534e391",
   "metadata": {
    "scrolled": false
   },
   "outputs": [
    {
     "name": "stdout",
     "output_type": "stream",
     "text": [
      "['']\n"
     ]
    }
   ],
   "source": [
    "li = self.comfirm_file(case=0)"
   ]
  },
  {
   "cell_type": "markdown",
   "id": "a5ae5054",
   "metadata": {},
   "source": [
    "未コミットがあれば、コミットとして0にする"
   ]
  },
  {
   "cell_type": "code",
   "execution_count": 32,
   "id": "35a238b6",
   "metadata": {},
   "outputs": [],
   "source": [
    "if len(li) != 0:\n",
    "    self.repo_fac.git.add(r\"*\")\n",
    "    li = self.comfirm_file(case=0)\n",
    "\n",
    "if len(li) != 0:\n",
    "    self.repo_fac.git.commit(\"-m\",\"initial commit\")"
   ]
  },
  {
   "cell_type": "markdown",
   "id": "ab0db296",
   "metadata": {},
   "source": [
    "## miniconda→factory_env_miniconda39にコピー\n",
    "同じ状態にします"
   ]
  },
  {
   "cell_type": "code",
   "execution_count": 22,
   "id": "c976dade",
   "metadata": {},
   "outputs": [],
   "source": [
    "files = os.listdir(self.miniconda_path)\n",
    "file_list = [f for f in files if os.path.isfile(os.path.join(self.miniconda_path, f))]\n",
    "for file in file_list:\n",
    "    f_path_moto = os.path.join(self.miniconda_path,file)\n",
    "    f_path_copy = os.path.join(self.fac_pkg_path,file)\n",
    "    try:\n",
    "        shutil.copyfile(f_path_moto,f_path_copy)\n",
    "    except :\n",
    "        print(f\"エラー:{file}\")\n",
    "        pass"
   ]
  },
  {
   "cell_type": "markdown",
   "id": "8235d828",
   "metadata": {},
   "source": [
    "## factory_env_miniconda39→env_miniconda_39にコピー\n",
    "factory_env_miniconda39の未コミットのファイルをenv_miniconda_39にコピーします"
   ]
  },
  {
   "cell_type": "code",
   "execution_count": 18,
   "id": "54488dbc",
   "metadata": {},
   "outputs": [
    {
     "name": "stdout",
     "output_type": "stream",
     "text": [
      "['']\n"
     ]
    }
   ],
   "source": [
    "import pandas as pd\n",
    "li_m = self.comfirm_file(case=0)\n",
    "li_s = [[i[0:2],i[3:]] for i in li_m]\n",
    "df = pd.DataFrame(li_s,columns=[\"code\",\"file_name\"])\n",
    "df_tg = df[df[\"code\"]==\"??\"]\n",
    "li = list(df_tg[\"file_name\"])"
   ]
  },
  {
   "cell_type": "code",
   "execution_count": 31,
   "id": "bd53e4c5",
   "metadata": {},
   "outputs": [],
   "source": [
    "file_list = li\n",
    "out_list = []\n",
    "for file in file_list:\n",
    "    f_path_moto = os.path.join(self.fac_path,file)\n",
    "    f_path_copy = os.path.join(self.remote_folder_path,file)\n",
    "    out_list.append([f_path_copy,os.path.getsize(f_path_moto) / 1000000])\n",
    "    try:\n",
    "        shutil.copyfile(f_path_moto,f_path_copy)\n",
    "    except :\n",
    "        print(f\"エラー:{f_path_moto}\")\n",
    "        pass\n",
    "df = pd.DataFrame(out_list)\n",
    "df.columns=[\"path\",\"MB\"]"
   ]
  },
  {
   "cell_type": "markdown",
   "id": "80402390",
   "metadata": {},
   "source": [
    "## 100M以上は分割（factory_env_miniconda39）"
   ]
  },
  {
   "cell_type": "code",
   "execution_count": 34,
   "id": "8675c85b",
   "metadata": {
    "scrolled": true
   },
   "outputs": [
    {
     "data": {
      "text/html": [
       "<div>\n",
       "<style scoped>\n",
       "    .dataframe tbody tr th:only-of-type {\n",
       "        vertical-align: middle;\n",
       "    }\n",
       "\n",
       "    .dataframe tbody tr th {\n",
       "        vertical-align: top;\n",
       "    }\n",
       "\n",
       "    .dataframe thead th {\n",
       "        text-align: right;\n",
       "    }\n",
       "</style>\n",
       "<table border=\"1\" class=\"dataframe\">\n",
       "  <thead>\n",
       "    <tr style=\"text-align: right;\">\n",
       "      <th></th>\n",
       "      <th>path</th>\n",
       "      <th>MB</th>\n",
       "    </tr>\n",
       "  </thead>\n",
       "  <tbody>\n",
       "    <tr>\n",
       "      <th>99</th>\n",
       "      <td>C:\\Users\\M151325\\000_work\\env_miniconda_39\\pkg...</td>\n",
       "      <td>180.784978</td>\n",
       "    </tr>\n",
       "    <tr>\n",
       "      <th>143</th>\n",
       "      <td>C:\\Users\\M151325\\000_work\\env_miniconda_39\\pkg...</td>\n",
       "      <td>111.249412</td>\n",
       "    </tr>\n",
       "  </tbody>\n",
       "</table>\n",
       "</div>"
      ],
      "text/plain": [
       "                                                  path          MB\n",
       "99   C:\\Users\\M151325\\000_work\\env_miniconda_39\\pkg...  180.784978\n",
       "143  C:\\Users\\M151325\\000_work\\env_miniconda_39\\pkg...  111.249412"
      ]
     },
     "execution_count": 34,
     "metadata": {},
     "output_type": "execute_result"
    }
   ],
   "source": [
    "df_b = df[df[\"MB\"]>99]\n",
    "df_b"
   ]
  },
  {
   "cell_type": "code",
   "execution_count": null,
   "id": "5837e768",
   "metadata": {},
   "outputs": [],
   "source": [
    "if len(df_b)!=0:\n",
    "    for target in files = list(df_b[\"path\"]):\n",
    "        fileList = divide_file(target, 50*10**6)\n",
    "        df_a = pd.DataFrame(fileList,columns=[\"path\"])\n",
    "        df_a.to_csv(os.path.join(\"sep_file_list/\",os.path.basename(target)+\".csv\"),index=False)\n",
    "        os.remove(target)"
   ]
  },
  {
   "cell_type": "markdown",
   "id": "e6eb68f8",
   "metadata": {},
   "source": [
    "## githubへpush(factory_env_miniconda39)"
   ]
  },
  {
   "cell_type": "code",
   "execution_count": 22,
   "id": "4f2f9119",
   "metadata": {},
   "outputs": [
    {
     "name": "stdout",
     "output_type": "stream",
     "text": [
      "[' M env.md', ' D pkgs/mkl-2020.4-hb70f87d_311.tar.bz2.0', ' D pkgs/mkl-2020.4-hb70f87d_311.tar.bz2.1', ' D pkgs/mkl-2020.4-hb70f87d_311.tar.bz2.2', ' D pkgs/mkl-2020.4-hb70f87d_311.tar.bz2.3', ' D pkgs/qt-5.12.9-h5909a2a_4.tar.bz2.0', ' D pkgs/qt-5.12.9-h5909a2a_4.tar.bz2.1', ' D pkgs/qt-5.12.9-h5909a2a_4.tar.bz2.2', ' M sep_file_list/mkl-2020.4-hb70f87d_311.tar.bz2.csv', ' M sep_file_list/qt-5.12.9-h5909a2a_4.tar.bz2.csv', ' M utility.ipynb', '?? pkgs/mkl-2020.4-hb70f87d_311.tar.bz2', '?? pkgs/qt-5.12.9-h5909a2a_4.tar.bz2']\n"
     ]
    },
    {
     "data": {
      "text/html": [
       "<div>\n",
       "<style scoped>\n",
       "    .dataframe tbody tr th:only-of-type {\n",
       "        vertical-align: middle;\n",
       "    }\n",
       "\n",
       "    .dataframe tbody tr th {\n",
       "        vertical-align: top;\n",
       "    }\n",
       "\n",
       "    .dataframe thead th {\n",
       "        text-align: right;\n",
       "    }\n",
       "</style>\n",
       "<table border=\"1\" class=\"dataframe\">\n",
       "  <thead>\n",
       "    <tr style=\"text-align: right;\">\n",
       "      <th></th>\n",
       "      <th>code</th>\n",
       "      <th>file_name</th>\n",
       "    </tr>\n",
       "  </thead>\n",
       "  <tbody>\n",
       "    <tr>\n",
       "      <th>0</th>\n",
       "      <td>M</td>\n",
       "      <td>env.md</td>\n",
       "    </tr>\n",
       "    <tr>\n",
       "      <th>1</th>\n",
       "      <td>D</td>\n",
       "      <td>pkgs/mkl-2020.4-hb70f87d_311.tar.bz2.0</td>\n",
       "    </tr>\n",
       "    <tr>\n",
       "      <th>2</th>\n",
       "      <td>D</td>\n",
       "      <td>pkgs/mkl-2020.4-hb70f87d_311.tar.bz2.1</td>\n",
       "    </tr>\n",
       "    <tr>\n",
       "      <th>3</th>\n",
       "      <td>D</td>\n",
       "      <td>pkgs/mkl-2020.4-hb70f87d_311.tar.bz2.2</td>\n",
       "    </tr>\n",
       "    <tr>\n",
       "      <th>4</th>\n",
       "      <td>D</td>\n",
       "      <td>pkgs/mkl-2020.4-hb70f87d_311.tar.bz2.3</td>\n",
       "    </tr>\n",
       "    <tr>\n",
       "      <th>5</th>\n",
       "      <td>D</td>\n",
       "      <td>pkgs/qt-5.12.9-h5909a2a_4.tar.bz2.0</td>\n",
       "    </tr>\n",
       "    <tr>\n",
       "      <th>6</th>\n",
       "      <td>D</td>\n",
       "      <td>pkgs/qt-5.12.9-h5909a2a_4.tar.bz2.1</td>\n",
       "    </tr>\n",
       "    <tr>\n",
       "      <th>7</th>\n",
       "      <td>D</td>\n",
       "      <td>pkgs/qt-5.12.9-h5909a2a_4.tar.bz2.2</td>\n",
       "    </tr>\n",
       "    <tr>\n",
       "      <th>8</th>\n",
       "      <td>M</td>\n",
       "      <td>sep_file_list/mkl-2020.4-hb70f87d_311.tar.bz2.csv</td>\n",
       "    </tr>\n",
       "    <tr>\n",
       "      <th>9</th>\n",
       "      <td>M</td>\n",
       "      <td>sep_file_list/qt-5.12.9-h5909a2a_4.tar.bz2.csv</td>\n",
       "    </tr>\n",
       "    <tr>\n",
       "      <th>10</th>\n",
       "      <td>M</td>\n",
       "      <td>utility.ipynb</td>\n",
       "    </tr>\n",
       "    <tr>\n",
       "      <th>11</th>\n",
       "      <td>??</td>\n",
       "      <td>pkgs/mkl-2020.4-hb70f87d_311.tar.bz2</td>\n",
       "    </tr>\n",
       "    <tr>\n",
       "      <th>12</th>\n",
       "      <td>??</td>\n",
       "      <td>pkgs/qt-5.12.9-h5909a2a_4.tar.bz2</td>\n",
       "    </tr>\n",
       "  </tbody>\n",
       "</table>\n",
       "</div>"
      ],
      "text/plain": [
       "   code                                          file_name\n",
       "0     M                                             env.md\n",
       "1     D             pkgs/mkl-2020.4-hb70f87d_311.tar.bz2.0\n",
       "2     D             pkgs/mkl-2020.4-hb70f87d_311.tar.bz2.1\n",
       "3     D             pkgs/mkl-2020.4-hb70f87d_311.tar.bz2.2\n",
       "4     D             pkgs/mkl-2020.4-hb70f87d_311.tar.bz2.3\n",
       "5     D                pkgs/qt-5.12.9-h5909a2a_4.tar.bz2.0\n",
       "6     D                pkgs/qt-5.12.9-h5909a2a_4.tar.bz2.1\n",
       "7     D                pkgs/qt-5.12.9-h5909a2a_4.tar.bz2.2\n",
       "8     M  sep_file_list/mkl-2020.4-hb70f87d_311.tar.bz2.csv\n",
       "9     M     sep_file_list/qt-5.12.9-h5909a2a_4.tar.bz2.csv\n",
       "10    M                                      utility.ipynb\n",
       "11   ??               pkgs/mkl-2020.4-hb70f87d_311.tar.bz2\n",
       "12   ??                  pkgs/qt-5.12.9-h5909a2a_4.tar.bz2"
      ]
     },
     "execution_count": 22,
     "metadata": {},
     "output_type": "execute_result"
    }
   ],
   "source": [
    "li_m = self.comfirm_file(case=1)\n",
    "li_s = [[i[0:2],i[3:]] for i in li_m]\n",
    "df = pd.DataFrame(li_s,columns=[\"code\",\"file_name\"])\n",
    "df"
   ]
  },
  {
   "cell_type": "code",
   "execution_count": null,
   "id": "c70d3cc6",
   "metadata": {},
   "outputs": [],
   "source": [
    "if len(li_mi) != 0:\n",
    "    self.repo_fac.git.add(r\"*\")\n",
    "    li_mi,li_st = self.comfirm_file(case=0)\n",
    "\n",
    "if len(li_st) != 0:\n",
    "    self.repo_fac.git.commit(\"-m\",\"initial commit\")\n"
   ]
  },
  {
   "cell_type": "markdown",
   "id": "603a5734",
   "metadata": {},
   "source": [
    "push"
   ]
  },
  {
   "cell_type": "code",
   "execution_count": null,
   "id": "31865b2c",
   "metadata": {},
   "outputs": [],
   "source": [
    "self.repo_fac.git.push()"
   ]
  },
  {
   "cell_type": "markdown",
   "id": "78e48d4f",
   "metadata": {},
   "source": [
    "# 相手側作業"
   ]
  },
  {
   "cell_type": "markdown",
   "id": "235e195b",
   "metadata": {},
   "source": [
    "リポジトリをダウンロードして、000_workの下に移動する\n",
    "\n",
    "https://github.com/nyanko111777/env_miniconda_39/archive/refs/heads/main.zip\n"
   ]
  },
  {
   "cell_type": "markdown",
   "id": "6c42c194",
   "metadata": {},
   "source": [
    "## 100M以上を復活"
   ]
  },
  {
   "cell_type": "code",
   "execution_count": 4,
   "id": "8f9cd91f",
   "metadata": {},
   "outputs": [
    {
     "data": {
      "text/plain": [
       "['mkl-2020.4-hb70f87d_311.tar.bz2.csv', 'qt-5.12.9-h5909a2a_4.tar.bz2.csv']"
      ]
     },
     "execution_count": 4,
     "metadata": {},
     "output_type": "execute_result"
    }
   ],
   "source": [
    "import pandas as pd\n",
    "import os\n",
    "\n",
    "file_list =  os.listdir(\"sep_file_list\")\n",
    "for file in file_list:\n",
    "    df_temp = pd.read_csv(\"sep_file_list/\"+file)\n",
    "    fileList = list(list(df_temp[\"path\"]))\n",
    "    target = fileList[0][:fileList[0].find(\".0\")]\n",
    "    join_file(fileList, target)\n",
    "    for d_file in fileList:\n",
    "        os.remove(d_file)"
   ]
  },
  {
   "cell_type": "markdown",
   "id": "94bed69e",
   "metadata": {},
   "source": [
    "## インストール"
   ]
  },
  {
   "cell_type": "markdown",
   "id": "c6df28cd",
   "metadata": {},
   "source": [
    "- conda の場合\n",
    "  `for /f %i in ('dir /A-d /B *') do conda install %i`\n",
    "\n",
    "\n",
    "\n",
    "- pip の場合\n",
    "  `for /f %i in ('dir /A-d /B *') do pip install %i`\n"
   ]
  },
  {
   "cell_type": "code",
   "execution_count": null,
   "id": "77156bc5",
   "metadata": {},
   "outputs": [],
   "source": []
  }
 ],
 "metadata": {
  "kernelspec": {
   "display_name": "Python 3 (ipykernel)",
   "language": "python",
   "name": "python3"
  },
  "language_info": {
   "codemirror_mode": {
    "name": "ipython",
    "version": 3
   },
   "file_extension": ".py",
   "mimetype": "text/x-python",
   "name": "python",
   "nbconvert_exporter": "python",
   "pygments_lexer": "ipython3",
   "version": "3.9.5"
  },
  "toc": {
   "base_numbering": 1,
   "nav_menu": {},
   "number_sections": true,
   "sideBar": true,
   "skip_h1_title": false,
   "title_cell": "Table of Contents",
   "title_sidebar": "Contents",
   "toc_cell": false,
   "toc_position": {
    "height": "calc(100% - 180px)",
    "left": "10px",
    "top": "150px",
    "width": "222.5px"
   },
   "toc_section_display": true,
   "toc_window_display": true
  }
 },
 "nbformat": 4,
 "nbformat_minor": 5
}
