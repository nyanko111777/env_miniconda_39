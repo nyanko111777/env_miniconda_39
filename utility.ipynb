{
 "cells": [
  {
   "cell_type": "code",
   "execution_count": 1,
   "id": "8a0f984c",
   "metadata": {},
   "outputs": [],
   "source": [
    "! start ."
   ]
  },
  {
   "cell_type": "code",
   "execution_count": 7,
   "id": "09bdba39",
   "metadata": {},
   "outputs": [],
   "source": [
    "! code ."
   ]
  },
  {
   "cell_type": "code",
   "execution_count": 1,
   "id": "36042461",
   "metadata": {},
   "outputs": [],
   "source": [
    "import os,git,shutil\n",
    "import pandas as pd"
   ]
  },
  {
   "cell_type": "code",
   "execution_count": 2,
   "id": "27b5d27b",
   "metadata": {},
   "outputs": [],
   "source": [
    "# 指定されたデータサイズでファイルを分割する\n",
    "def divide_file(filePath, chunkSize):\n",
    "    readedDataSize = 0\n",
    "    i = 0\n",
    "    fileList = []\n",
    "    # 対象ファイルを開く\n",
    "    f = open(filePath, \"rb\")\n",
    "    # ファイルを読み終わるまで繰り返す\n",
    "    contentLength = os.path.getsize(filePath)\n",
    "    while readedDataSize < contentLength:\n",
    "        # 読み取り位置をシーク\n",
    "        f.seek(readedDataSize)\n",
    "        # 指定されたデータサイズだけ読み込む\n",
    "        data = f.read(chunkSize)\n",
    "        # 分割ファイルを保存\n",
    "        saveFilePath = filePath + \".\" + str(i)\n",
    "        with open(saveFilePath, 'wb') as saveFile:\n",
    "            saveFile.write(data)\n",
    "        # 読み込んだデータサイズの更新\n",
    "        readedDataSize = readedDataSize + len(data)\n",
    "        i = i + 1\n",
    "        fileList.append(saveFilePath)\n",
    "    return fileList\n",
    "\n",
    "# 渡されたファイルリストの順序で１つのファイルに結合する\n",
    "def join_file(fileList, filePath):\n",
    "    with open(filePath, 'wb') as saveFile:\n",
    "        for f in fileList:\n",
    "            data = open(f, \"rb\").read()\n",
    "            saveFile.write(data)\n",
    "            saveFile.flush()"
   ]
  },
  {
   "cell_type": "code",
   "execution_count": 3,
   "id": "38bc6d6b",
   "metadata": {},
   "outputs": [],
   "source": [
    "  class env_util():\n",
    "    def __init__(self):\n",
    "        self.u_path = os.environ[\"userprofile\"]\n",
    "        self.miniconda_path = os.path.join(self.u_path,\"miniconda3\",\"pkgs\")\n",
    "        self.freecad_path = os.path.join(self.u_path,\"AppData\",\"Roaming\",\"FreeCAD\")\n",
    "        self.fac_path = os.path.join(self.u_path,\"000_work\",\"factory_env_miniconda39\")\n",
    "        self.fac_pkg_path = os.path.join(self.fac_path,\"pkgs\")\n",
    "        self.repo_fac = git.Repo(self.fac_path)\n",
    "#         self.repo_freecad = git.Repo(self.freecad_path)\n",
    "        self.remote_folder_path = os.path.join(self.u_path,\"000_work\",\"env_miniconda_39\")\n",
    "        self.remote_pkg_path = os.path.join(self.remote_folder_path,\"pkgs\")\n",
    "        self.repo_remote_folder = git.Repo(self.remote_folder_path)\n",
    "\n",
    "    def get_status_text(self,case):\n",
    "        if case == 0:\n",
    "            tex = self.repo_fac.git.status(\"-s\")\n",
    "        elif case == 1:\n",
    "            tex = self.repo_remote_folder.git.status(\"-s\")\n",
    "        elif case == 2:\n",
    "            tex = self.repo_freecad.git.status(\"-s\")\n",
    "        return tex\n",
    "        \n",
    "    def comfirm_file(self,case):\n",
    "        tex = self.get_status_text(case)\n",
    "        if tex.find(\"\\n\")  != 0:\n",
    "            li = tex.split(\"\\n\")\n",
    "            print(li)\n",
    "\n",
    "        return li\n",
    "\n",
    "    def get_list(self):\n",
    "        file_list = []\n",
    "        file_list_batsu = []\n",
    "        for root, dirs, files in os.walk(self.miniconda_path):\n",
    "            for filename in files:\n",
    "                fname = os.path.join(root, filename)\n",
    "                file_list.append([fname,os.path.getsize(fname) / 1000000])\n",
    "            df = pd.DataFrame(file_list)\n",
    "            df.columns=[\"path\",\"MB\"]\n",
    "        return df\n",
    "        \n",
    "if __name__ == '__main__':\n",
    "    self = env_util()"
   ]
  },
  {
   "cell_type": "markdown",
   "id": "2d003a1a",
   "metadata": {},
   "source": [
    "# おうち側作業"
   ]
  },
  {
   "cell_type": "markdown",
   "id": "d146cd6d",
   "metadata": {},
   "source": [
    "## pip"
   ]
  },
  {
   "cell_type": "code",
   "execution_count": 4,
   "id": "51245936",
   "metadata": {},
   "outputs": [],
   "source": [
    "import os"
   ]
  },
  {
   "cell_type": "code",
   "execution_count": 10,
   "id": "f84379d1",
   "metadata": {},
   "outputs": [
    {
     "data": {
      "text/plain": [
       "'C:\\\\Users\\\\M151325'"
      ]
     },
     "execution_count": 10,
     "metadata": {},
     "output_type": "execute_result"
    }
   ],
   "source": [
    "os.environ[\"userprofile\"]"
   ]
  },
  {
   "cell_type": "code",
   "execution_count": 11,
   "id": "4857fd52",
   "metadata": {},
   "outputs": [
    {
     "data": {
      "text/plain": [
       "'C:\\\\Users\\\\M151325\\\\000_work\\\\env_miniconda_39\\\\pip_pkgs'"
      ]
     },
     "execution_count": 11,
     "metadata": {},
     "output_type": "execute_result"
    }
   ],
   "source": [
    "f_path = os.path.join(os.environ[\"userprofile\"],\"000_work\",\"env_miniconda_39\",\"pip_pkgs\")\n",
    "f_path"
   ]
  },
  {
   "cell_type": "code",
   "execution_count": 12,
   "id": "86dd2c33",
   "metadata": {},
   "outputs": [
    {
     "name": "stdout",
     "output_type": "stream",
     "text": [
      "pip download -d C:\\Users\\M151325\\000_work\\env_miniconda_39\\pip_pkgs pymupdf\n"
     ]
    }
   ],
   "source": [
    "pkg_name = \"pymupdf\"\n",
    "# print(f\"pip download -d {f_path} --no-binary :all: {pkg_name}\")\n",
    "print(f\"pip download -d {f_path} {pkg_name}\")"
   ]
  },
  {
   "cell_type": "code",
   "execution_count": null,
   "id": "fac1e621",
   "metadata": {},
   "outputs": [],
   "source": []
  },
  {
   "cell_type": "code",
   "execution_count": 1,
   "id": "96cdfecd",
   "metadata": {},
   "outputs": [],
   "source": [
    "! start ."
   ]
  },
  {
   "cell_type": "markdown",
   "id": "c43b331b",
   "metadata": {},
   "source": [
    "## 初期化"
   ]
  },
  {
   "cell_type": "markdown",
   "id": "0b471779",
   "metadata": {},
   "source": [
    "### freecad"
   ]
  },
  {
   "cell_type": "markdown",
   "id": "7723b597",
   "metadata": {},
   "source": [
    "未コミットはコミットしておく"
   ]
  },
  {
   "cell_type": "code",
   "execution_count": 33,
   "id": "18d468ee",
   "metadata": {
    "scrolled": false
   },
   "outputs": [
    {
     "name": "stdout",
     "output_type": "stream",
     "text": [
      "['']\n"
     ]
    }
   ],
   "source": [
    "li = self.comfirm_file(case=2)"
   ]
  },
  {
   "cell_type": "markdown",
   "id": "60539871",
   "metadata": {},
   "source": [
    "未コミットがあれば、コミットとして0にする"
   ]
  },
  {
   "cell_type": "code",
   "execution_count": 9,
   "id": "f6fc3c24",
   "metadata": {},
   "outputs": [
    {
     "name": "stdout",
     "output_type": "stream",
     "text": [
      "['']\n"
     ]
    }
   ],
   "source": [
    "if len(li) != 0:\n",
    "    self.repo_fac.git.add(r\"*\")\n",
    "    li = self.comfirm_file(case=2)\n",
    "\n",
    "if len(li) != 0:\n",
    "    self.repo_fac.git.commit(\"-m\",\"initial commit\")"
   ]
  },
  {
   "cell_type": "markdown",
   "id": "5ffcc3c8",
   "metadata": {},
   "source": [
    "ファイルをコピー"
   ]
  },
  {
   "cell_type": "code",
   "execution_count": 10,
   "id": "d7ac2f2c",
   "metadata": {},
   "outputs": [
    {
     "name": "stdout",
     "output_type": "stream",
     "text": [
      "['']\n"
     ]
    }
   ],
   "source": [
    "import pandas as pd\n",
    "li_m = self.comfirm_file(case=2)\n",
    "li_s = [[i[0:2],i[3:]] for i in li_m]\n",
    "df = pd.DataFrame(li_s,columns=[\"code\",\"file_name\"])\n",
    "df_tg = df[df[\"code\"]==\"??\"]\n",
    "li = list(df_tg[\"file_name\"])"
   ]
  },
  {
   "cell_type": "code",
   "execution_count": 11,
   "id": "ebe815bf",
   "metadata": {},
   "outputs": [
    {
     "data": {
      "text/plain": [
       "['']"
      ]
     },
     "execution_count": 11,
     "metadata": {},
     "output_type": "execute_result"
    }
   ],
   "source": [
    "li_m"
   ]
  },
  {
   "cell_type": "code",
   "execution_count": 14,
   "id": "96b7d4ad",
   "metadata": {},
   "outputs": [],
   "source": [
    "file_list = li\n",
    "out_list = []\n",
    "for file in file_list:\n",
    "    f_path_moto = os.path.join(self.freecad_path,file)\n",
    "    f_path_copy = os.path.join(self.remote_folder_path,\"FreeCAD\",file)\n",
    "    out_list.append([f_path_copy,os.path.getsize(f_path_moto) / 1000000])\n",
    "    try:\n",
    "        shutil.copyfile(f_path_moto,f_path_copy)\n",
    "    except :\n",
    "        print(f\"エラー:{f_path_moto}\")\n",
    "        pass\n",
    "df = pd.DataFrame(out_list)\n",
    "if len(df) != 0:\n",
    "    df.columns=[\"path\",\"MB\"]"
   ]
  },
  {
   "cell_type": "markdown",
   "id": "6460d8ce",
   "metadata": {},
   "source": [
    "100M以上は分割（factory_env_miniconda39）"
   ]
  },
  {
   "cell_type": "code",
   "execution_count": 21,
   "id": "569381ab",
   "metadata": {},
   "outputs": [],
   "source": [
    "files = os.listdir(os.path.join(self.remote_folder_path,\"FreeCAD\"))\n",
    "file_list = [os.path.join(self.remote_folder_path,\"FreeCAD\",f) for f in files ]\n",
    "file_list = [[f,os.path.getsize(f) / 1000000] for f in file_list ]\n",
    "df = pd.DataFrame(file_list)\n",
    "df.columns=[\"path\",\"MB\"]"
   ]
  },
  {
   "cell_type": "code",
   "execution_count": 22,
   "id": "489e8e6b",
   "metadata": {
    "scrolled": true
   },
   "outputs": [
    {
     "data": {
      "text/html": [
       "<div>\n",
       "<style scoped>\n",
       "    .dataframe tbody tr th:only-of-type {\n",
       "        vertical-align: middle;\n",
       "    }\n",
       "\n",
       "    .dataframe tbody tr th {\n",
       "        vertical-align: top;\n",
       "    }\n",
       "\n",
       "    .dataframe thead th {\n",
       "        text-align: right;\n",
       "    }\n",
       "</style>\n",
       "<table border=\"1\" class=\"dataframe\">\n",
       "  <thead>\n",
       "    <tr style=\"text-align: right;\">\n",
       "      <th></th>\n",
       "      <th>path</th>\n",
       "      <th>MB</th>\n",
       "    </tr>\n",
       "  </thead>\n",
       "  <tbody>\n",
       "  </tbody>\n",
       "</table>\n",
       "</div>"
      ],
      "text/plain": [
       "Empty DataFrame\n",
       "Columns: [path, MB]\n",
       "Index: []"
      ]
     },
     "execution_count": 22,
     "metadata": {},
     "output_type": "execute_result"
    }
   ],
   "source": [
    "df_b = df[df[\"MB\"]>99]\n",
    "df_b"
   ]
  },
  {
   "cell_type": "code",
   "execution_count": 16,
   "id": "99b75dc1",
   "metadata": {},
   "outputs": [],
   "source": [
    "if len(df_b)!=0:\n",
    "    for target in list(df_b[\"path\"]):\n",
    "        fileList = divide_file(target, 50*10**6)\n",
    "        df_a = pd.DataFrame(fileList,columns=[\"path\"])\n",
    "        df_a.to_csv(os.path.join(\"sep_file_list_freecad/\",os.path.basename(target)+\".csv\"),index=False)\n",
    "        os.remove(target)"
   ]
  },
  {
   "cell_type": "markdown",
   "id": "7c7a4b6c",
   "metadata": {},
   "source": [
    "### env_miniconda_39"
   ]
  },
  {
   "cell_type": "markdown",
   "id": "b6db74f4",
   "metadata": {},
   "source": [
    "pkgsとsep_file_listの中のファイルを削除"
   ]
  },
  {
   "cell_type": "code",
   "execution_count": 8,
   "id": "e5d985cb",
   "metadata": {},
   "outputs": [],
   "source": [
    "shutil.rmtree(self.remote_pkg_path)\n",
    "os.mkdir(self.remote_pkg_path)\n",
    "shutil.rmtree(os.path.join(self.remote_folder_path,\"sep_file_list\"))\n",
    "os.mkdir(os.path.join(self.remote_folder_path,\"sep_file_list\"))"
   ]
  },
  {
   "cell_type": "markdown",
   "id": "cfead465",
   "metadata": {},
   "source": [
    "### factory_env_miniconda39"
   ]
  },
  {
   "cell_type": "markdown",
   "id": "efabf77e",
   "metadata": {},
   "source": [
    "未コミットはコミットしておく"
   ]
  },
  {
   "cell_type": "code",
   "execution_count": 9,
   "id": "c534e391",
   "metadata": {
    "scrolled": false
   },
   "outputs": [
    {
     "name": "stdout",
     "output_type": "stream",
     "text": [
      "['']\n"
     ]
    }
   ],
   "source": [
    "li = self.comfirm_file(case=0)"
   ]
  },
  {
   "cell_type": "markdown",
   "id": "a5ae5054",
   "metadata": {},
   "source": [
    "未コミットがあれば、コミットとして0にする"
   ]
  },
  {
   "cell_type": "code",
   "execution_count": 10,
   "id": "35a238b6",
   "metadata": {},
   "outputs": [
    {
     "name": "stdout",
     "output_type": "stream",
     "text": [
      "['']\n"
     ]
    },
    {
     "ename": "GitCommandError",
     "evalue": "Cmd('git') failed due to: exit code(1)\n  cmdline: git commit -m initial commit\n  stdout: 'On branch master\nnothing to commit, working tree clean'",
     "output_type": "error",
     "traceback": [
      "\u001b[1;31m---------------------------------------------------------------------------\u001b[0m",
      "\u001b[1;31mGitCommandError\u001b[0m                           Traceback (most recent call last)",
      "\u001b[1;32m~\\AppData\\Local\\Temp/ipykernel_18588/2445145841.py\u001b[0m in \u001b[0;36m<module>\u001b[1;34m\u001b[0m\n\u001b[0;32m      4\u001b[0m \u001b[1;33m\u001b[0m\u001b[0m\n\u001b[0;32m      5\u001b[0m \u001b[1;32mif\u001b[0m \u001b[0mlen\u001b[0m\u001b[1;33m(\u001b[0m\u001b[0mli\u001b[0m\u001b[1;33m)\u001b[0m \u001b[1;33m!=\u001b[0m \u001b[1;36m0\u001b[0m\u001b[1;33m:\u001b[0m\u001b[1;33m\u001b[0m\u001b[1;33m\u001b[0m\u001b[0m\n\u001b[1;32m----> 6\u001b[1;33m     \u001b[0mself\u001b[0m\u001b[1;33m.\u001b[0m\u001b[0mrepo_fac\u001b[0m\u001b[1;33m.\u001b[0m\u001b[0mgit\u001b[0m\u001b[1;33m.\u001b[0m\u001b[0mcommit\u001b[0m\u001b[1;33m(\u001b[0m\u001b[1;34m\"-m\"\u001b[0m\u001b[1;33m,\u001b[0m\u001b[1;34m\"initial commit\"\u001b[0m\u001b[1;33m)\u001b[0m\u001b[1;33m\u001b[0m\u001b[1;33m\u001b[0m\u001b[0m\n\u001b[0m",
      "\u001b[1;32m~\\miniconda3\\lib\\site-packages\\git\\cmd.py\u001b[0m in \u001b[0;36m<lambda>\u001b[1;34m(*args, **kwargs)\u001b[0m\n\u001b[0;32m    636\u001b[0m         \u001b[1;32mif\u001b[0m \u001b[0mname\u001b[0m\u001b[1;33m[\u001b[0m\u001b[1;36m0\u001b[0m\u001b[1;33m]\u001b[0m \u001b[1;33m==\u001b[0m \u001b[1;34m'_'\u001b[0m\u001b[1;33m:\u001b[0m\u001b[1;33m\u001b[0m\u001b[1;33m\u001b[0m\u001b[0m\n\u001b[0;32m    637\u001b[0m             \u001b[1;32mreturn\u001b[0m \u001b[0mLazyMixin\u001b[0m\u001b[1;33m.\u001b[0m\u001b[0m__getattr__\u001b[0m\u001b[1;33m(\u001b[0m\u001b[0mself\u001b[0m\u001b[1;33m,\u001b[0m \u001b[0mname\u001b[0m\u001b[1;33m)\u001b[0m\u001b[1;33m\u001b[0m\u001b[1;33m\u001b[0m\u001b[0m\n\u001b[1;32m--> 638\u001b[1;33m         \u001b[1;32mreturn\u001b[0m \u001b[1;32mlambda\u001b[0m \u001b[1;33m*\u001b[0m\u001b[0margs\u001b[0m\u001b[1;33m,\u001b[0m \u001b[1;33m**\u001b[0m\u001b[0mkwargs\u001b[0m\u001b[1;33m:\u001b[0m \u001b[0mself\u001b[0m\u001b[1;33m.\u001b[0m\u001b[0m_call_process\u001b[0m\u001b[1;33m(\u001b[0m\u001b[0mname\u001b[0m\u001b[1;33m,\u001b[0m \u001b[1;33m*\u001b[0m\u001b[0margs\u001b[0m\u001b[1;33m,\u001b[0m \u001b[1;33m**\u001b[0m\u001b[0mkwargs\u001b[0m\u001b[1;33m)\u001b[0m\u001b[1;33m\u001b[0m\u001b[1;33m\u001b[0m\u001b[0m\n\u001b[0m\u001b[0;32m    639\u001b[0m \u001b[1;33m\u001b[0m\u001b[0m\n\u001b[0;32m    640\u001b[0m     \u001b[1;32mdef\u001b[0m \u001b[0mset_persistent_git_options\u001b[0m\u001b[1;33m(\u001b[0m\u001b[0mself\u001b[0m\u001b[1;33m,\u001b[0m \u001b[1;33m**\u001b[0m\u001b[0mkwargs\u001b[0m\u001b[1;33m:\u001b[0m \u001b[0mAny\u001b[0m\u001b[1;33m)\u001b[0m \u001b[1;33m->\u001b[0m \u001b[1;32mNone\u001b[0m\u001b[1;33m:\u001b[0m\u001b[1;33m\u001b[0m\u001b[1;33m\u001b[0m\u001b[0m\n",
      "\u001b[1;32m~\\miniconda3\\lib\\site-packages\\git\\cmd.py\u001b[0m in \u001b[0;36m_call_process\u001b[1;34m(self, method, *args, **kwargs)\u001b[0m\n\u001b[0;32m   1181\u001b[0m         \u001b[0mcall\u001b[0m\u001b[1;33m.\u001b[0m\u001b[0mextend\u001b[0m\u001b[1;33m(\u001b[0m\u001b[0margs_list\u001b[0m\u001b[1;33m)\u001b[0m\u001b[1;33m\u001b[0m\u001b[1;33m\u001b[0m\u001b[0m\n\u001b[0;32m   1182\u001b[0m \u001b[1;33m\u001b[0m\u001b[0m\n\u001b[1;32m-> 1183\u001b[1;33m         \u001b[1;32mreturn\u001b[0m \u001b[0mself\u001b[0m\u001b[1;33m.\u001b[0m\u001b[0mexecute\u001b[0m\u001b[1;33m(\u001b[0m\u001b[0mcall\u001b[0m\u001b[1;33m,\u001b[0m \u001b[1;33m**\u001b[0m\u001b[0mexec_kwargs\u001b[0m\u001b[1;33m)\u001b[0m\u001b[1;33m\u001b[0m\u001b[1;33m\u001b[0m\u001b[0m\n\u001b[0m\u001b[0;32m   1184\u001b[0m \u001b[1;33m\u001b[0m\u001b[0m\n\u001b[0;32m   1185\u001b[0m     \u001b[1;32mdef\u001b[0m \u001b[0m_parse_object_header\u001b[0m\u001b[1;33m(\u001b[0m\u001b[0mself\u001b[0m\u001b[1;33m,\u001b[0m \u001b[0mheader_line\u001b[0m\u001b[1;33m:\u001b[0m \u001b[0mstr\u001b[0m\u001b[1;33m)\u001b[0m \u001b[1;33m->\u001b[0m \u001b[0mTuple\u001b[0m\u001b[1;33m[\u001b[0m\u001b[0mstr\u001b[0m\u001b[1;33m,\u001b[0m \u001b[0mstr\u001b[0m\u001b[1;33m,\u001b[0m \u001b[0mint\u001b[0m\u001b[1;33m]\u001b[0m\u001b[1;33m:\u001b[0m\u001b[1;33m\u001b[0m\u001b[1;33m\u001b[0m\u001b[0m\n",
      "\u001b[1;32m~\\miniconda3\\lib\\site-packages\\git\\cmd.py\u001b[0m in \u001b[0;36mexecute\u001b[1;34m(self, command, istream, with_extended_output, with_exceptions, as_process, output_stream, stdout_as_string, kill_after_timeout, with_stdout, universal_newlines, shell, env, max_chunk_size, **subprocess_kwargs)\u001b[0m\n\u001b[0;32m    981\u001b[0m \u001b[1;33m\u001b[0m\u001b[0m\n\u001b[0;32m    982\u001b[0m         \u001b[1;32mif\u001b[0m \u001b[0mwith_exceptions\u001b[0m \u001b[1;32mand\u001b[0m \u001b[0mstatus\u001b[0m \u001b[1;33m!=\u001b[0m \u001b[1;36m0\u001b[0m\u001b[1;33m:\u001b[0m\u001b[1;33m\u001b[0m\u001b[1;33m\u001b[0m\u001b[0m\n\u001b[1;32m--> 983\u001b[1;33m             \u001b[1;32mraise\u001b[0m \u001b[0mGitCommandError\u001b[0m\u001b[1;33m(\u001b[0m\u001b[0mredacted_command\u001b[0m\u001b[1;33m,\u001b[0m \u001b[0mstatus\u001b[0m\u001b[1;33m,\u001b[0m \u001b[0mstderr_value\u001b[0m\u001b[1;33m,\u001b[0m \u001b[0mstdout_value\u001b[0m\u001b[1;33m)\u001b[0m\u001b[1;33m\u001b[0m\u001b[1;33m\u001b[0m\u001b[0m\n\u001b[0m\u001b[0;32m    984\u001b[0m \u001b[1;33m\u001b[0m\u001b[0m\n\u001b[0;32m    985\u001b[0m         \u001b[1;32mif\u001b[0m \u001b[0misinstance\u001b[0m\u001b[1;33m(\u001b[0m\u001b[0mstdout_value\u001b[0m\u001b[1;33m,\u001b[0m \u001b[0mbytes\u001b[0m\u001b[1;33m)\u001b[0m \u001b[1;32mand\u001b[0m \u001b[0mstdout_as_string\u001b[0m\u001b[1;33m:\u001b[0m  \u001b[1;31m# could also be output_stream\u001b[0m\u001b[1;33m\u001b[0m\u001b[1;33m\u001b[0m\u001b[0m\n",
      "\u001b[1;31mGitCommandError\u001b[0m: Cmd('git') failed due to: exit code(1)\n  cmdline: git commit -m initial commit\n  stdout: 'On branch master\nnothing to commit, working tree clean'"
     ]
    }
   ],
   "source": [
    "if len(li) != 0:\n",
    "    self.repo_fac.git.add(r\"*\")\n",
    "    li = self.comfirm_file(case=0)\n",
    "\n",
    "if len(li) != 0:\n",
    "    self.repo_fac.git.commit(\"-m\",\"initial commit\")"
   ]
  },
  {
   "cell_type": "markdown",
   "id": "ab0db296",
   "metadata": {},
   "source": [
    "## miniconda→factory_env_miniconda39にコピー\n",
    "同じ状態にします"
   ]
  },
  {
   "cell_type": "code",
   "execution_count": 11,
   "id": "c976dade",
   "metadata": {},
   "outputs": [],
   "source": [
    "files = os.listdir(self.miniconda_path)\n",
    "file_list = [f for f in files if os.path.isfile(os.path.join(self.miniconda_path, f))]\n",
    "for file in file_list:\n",
    "    f_path_moto = os.path.join(self.miniconda_path,file)\n",
    "    f_path_copy = os.path.join(self.fac_pkg_path,file)\n",
    "    try:\n",
    "        shutil.copyfile(f_path_moto,f_path_copy)\n",
    "    except :\n",
    "        print(f\"エラー:{file}\")\n",
    "        pass"
   ]
  },
  {
   "cell_type": "code",
   "execution_count": 12,
   "id": "46a69b15",
   "metadata": {
    "scrolled": true
   },
   "outputs": [
    {
     "data": {
      "text/plain": [
       "['.cio-config.py',\n",
       " 'alabaster-0.7.12-py_0.tar.bz2',\n",
       " 'altgraph-0.17-pyhd8ed1ab_0.tar.bz2',\n",
       " 'ansi2html-1.6.0-py39hcbf5309_1.tar.bz2',\n",
       " 'anyio-3.3.4-py39hcbf5309_0.tar.bz2',\n",
       " 'appdirs-1.4.4-pyh9f0ad1d_0.tar.bz2',\n",
       " 'argon2-cffi-20.1.0-py39hb82d6ee_2.tar.bz2',\n",
       " 'asgiref-3.4.1-pyhd8ed1ab_0.tar.bz2',\n",
       " 'astroid-2.8.0-py39hcbf5309_0.tar.bz2',\n",
       " 'async_generator-1.10-py_0.tar.bz2',\n",
       " 'attrs-21.2.0-pyhd8ed1ab_0.tar.bz2',\n",
       " 'autopep8-1.5.7-pyhd8ed1ab_0.tar.bz2',\n",
       " 'babel-2.9.1-pyh44b312d_0.tar.bz2',\n",
       " 'backcall-0.2.0-pyh9f0ad1d_0.tar.bz2',\n",
       " 'backports-1.0-py_2.tar.bz2',\n",
       " 'backports.functools_lru_cache-1.6.4-pyhd8ed1ab_0.tar.bz2',\n",
       " 'beautifulsoup4-4.10.0-pyha770c72_0.tar.bz2',\n",
       " 'blas-1.0-mkl.conda',\n",
       " 'bleach-4.1.0-pyhd8ed1ab_0.tar.bz2',\n",
       " 'boost-cpp-1.74.0-h5b4e17d_4.tar.bz2',\n",
       " 'brotli-python-1.0.9-py39h415ef7b_5.tar.bz2',\n",
       " 'brotlipy-0.7.0-py39h2bbff1b_1003.conda',\n",
       " 'bzip2-1.0.8-h8ffe710_4.tar.bz2',\n",
       " 'ca-certificates-2021.10.8-h5b45459_0.tar.bz2',\n",
       " 'ca-certificates-2021.5.30-h5b45459_0.tar.bz2',\n",
       " 'ca-certificates-2021.7.5-haa95532_1.conda',\n",
       " 'certifi-2021.10.8-py39hcbf5309_0.tar.bz2',\n",
       " 'certifi-2021.10.8-py39hcbf5309_1.tar.bz2',\n",
       " 'certifi-2021.5.30-py39haa95532_0.conda',\n",
       " 'certifi-2021.5.30-py39hcbf5309_0.tar.bz2',\n",
       " 'cffi-1.14.6-py39h0878f49_1.tar.bz2',\n",
       " 'cffi-1.14.6-py39h2bbff1b_0.conda',\n",
       " 'chardet-4.0.0-py39haa95532_1003.conda',\n",
       " 'click-8.0.1-py39hcbf5309_0.tar.bz2',\n",
       " 'coin3d-4.0.0-h3243ecf_1011.tar.bz2',\n",
       " 'colorama-0.4.4-pyh9f0ad1d_0.tar.bz2',\n",
       " 'colorlover-0.3.0-py_0.tar.bz2',\n",
       " 'conda-4.10.3-py39haa95532_0.tar.bz2',\n",
       " 'conda-4.10.3-py39hcbf5309_2.tar.bz2',\n",
       " 'conda-4.10.3-py39hcbf5309_3.tar.bz2',\n",
       " 'conda-package-handling-1.7.3-py39h8cc25b3_1.conda',\n",
       " 'console_shortcut-0.1.1-4.conda',\n",
       " 'cpuonly-1.0-0.tar.bz2',\n",
       " 'cryptography-3.4.7-py39h71e12ea_0.conda',\n",
       " 'curl-7.79.1-h789b8ee_0.tar.bz2',\n",
       " 'cycler-0.10.0-py_2.tar.bz2',\n",
       " 'dacite-1.6.0-pyhd3deb0d_0.tar.bz2',\n",
       " 'dash-2.0.0-pyhd8ed1ab_0.tar.bz2',\n",
       " 'dash-bootstrap-components-0.13.0-pyhd8ed1ab_0.tar.bz2',\n",
       " 'dash-core-components-2.0.0-pyhd8ed1ab_0.tar.bz2',\n",
       " 'dash-daq-0.5.0-pyh9f0ad1d_1.tar.bz2',\n",
       " 'dash-html-components-2.0.0-pyhd8ed1ab_0.tar.bz2',\n",
       " 'dash_colorscales-0.0.4-pyh9f0ad1d_0.tar.bz2',\n",
       " 'dataclasses-0.8-pyhc8e2a94_3.tar.bz2',\n",
       " 'dataproperty-0.53.0-pyhd8ed1ab_0.tar.bz2',\n",
       " 'debugpy-1.4.1-py39h415ef7b_0.tar.bz2',\n",
       " 'decorator-5.1.0-pyhd8ed1ab_0.tar.bz2',\n",
       " 'defusedxml-0.7.1-pyhd8ed1ab_0.tar.bz2',\n",
       " 'deprecated-1.2.12-pyh44b312d_0.tar.bz2',\n",
       " 'descartes-1.1.0-py_4.tar.bz2',\n",
       " 'docutils-0.17.1-py39hcbf5309_0.tar.bz2',\n",
       " 'docx2txt-0.8-py_0.tar.bz2',\n",
       " 'double-conversion-3.1.5-h0e60522_2.tar.bz2',\n",
       " 'dtale-1.57.0-pyhd8ed1ab_0.tar.bz2',\n",
       " 'easygui-0.98.1-py39hde42818_2.tar.bz2',\n",
       " 'eigen-3.4.0-h2d74725_0.tar.bz2',\n",
       " 'entrypoints-0.3-pyhd8ed1ab_1003.tar.bz2',\n",
       " 'et_xmlfile-1.0.1-py_1001.tar.bz2',\n",
       " 'expat-2.4.1-h39d44d4_0.tar.bz2',\n",
       " 'fastapi-0.70.0-pyhd8ed1ab_0.tar.bz2',\n",
       " 'ffmpeg-4.3.1-ha925a31_0.tar.bz2',\n",
       " 'flann-1.9.1-h7dfa0ef_1008.tar.bz2',\n",
       " 'flask-2.0.1-pyhd8ed1ab_0.tar.bz2',\n",
       " 'flask-compress-1.10.1-pyhd8ed1ab_0.tar.bz2',\n",
       " 'font-ttf-dejavu-sans-mono-2.37-hab24e00_0.tar.bz2',\n",
       " 'font-ttf-inconsolata-3.000-h77eed37_0.tar.bz2',\n",
       " 'font-ttf-source-code-pro-2.038-h77eed37_0.tar.bz2',\n",
       " 'font-ttf-ubuntu-0.83-hab24e00_0.tar.bz2',\n",
       " 'fontconfig-2.13.1-h1989441_1005.tar.bz2',\n",
       " 'fonts-conda-ecosystem-1-0.tar.bz2',\n",
       " 'fonts-conda-forge-1-0.tar.bz2',\n",
       " 'freecad-0.19.2-py39h29cc40a_0.tar.bz2',\n",
       " 'freeglut-3.2.1-h0e60522_2.tar.bz2',\n",
       " 'freeimage-3.18.0-hfcb8cd7_7.tar.bz2',\n",
       " 'freetype-2.10.4-h546665d_1.tar.bz2',\n",
       " 'future-0.18.2-py39hcbf5309_3.tar.bz2',\n",
       " 'geos-3.9.1-h39d44d4_2.tar.bz2',\n",
       " 'gitdb-4.0.7-pyhd8ed1ab_0.tar.bz2',\n",
       " 'gitpython-3.1.24-pyhd8ed1ab_0.tar.bz2',\n",
       " 'gl2ps-1.4.2-h0597ee9_0.tar.bz2',\n",
       " 'glew-2.1.0-h39d44d4_2.tar.bz2',\n",
       " 'h11-0.12.0-pyhd8ed1ab_0.tar.bz2',\n",
       " 'hdf4-4.2.15-h0e5069d_3.tar.bz2',\n",
       " 'hdf5-1.10.6-nompi_h5268f04_1114.tar.bz2',\n",
       " 'icu-68.1-h0e60522_0.tar.bz2',\n",
       " 'idna-2.10-pyhd3eb1b0_0.tar.bz2',\n",
       " 'ilmbase-2.5.5-h12d4b20_0.tar.bz2',\n",
       " 'imagesize-1.2.0-py_0.tar.bz2',\n",
       " 'img2pdf-0.4.1-py39hcbf5309_0.tar.bz2',\n",
       " 'importlib-metadata-4.8.1-py39hcbf5309_0.tar.bz2',\n",
       " 'intel-openmp-2021.3.0-h57928b3_3372.tar.bz2',\n",
       " 'ipykernel-6.4.1-py39h832f523_0.tar.bz2',\n",
       " 'ipython-7.27.0-py39h832f523_0.tar.bz2',\n",
       " 'ipython_genutils-0.2.0-py_1.tar.bz2',\n",
       " 'ipywidgets-7.6.5-pyhd8ed1ab_0.tar.bz2',\n",
       " 'isort-5.9.3-pyhd8ed1ab_0.tar.bz2',\n",
       " 'itsdangerous-2.0.1-pyhd8ed1ab_0.tar.bz2',\n",
       " 'jaconv-0.3-pyhd8ed1ab_0.tar.bz2',\n",
       " 'jasper-2.0.14-h77af90b_2.tar.bz2',\n",
       " 'jbig-2.1-h8d14728_2003.tar.bz2',\n",
       " 'jedi-0.18.0-py39hcbf5309_2.tar.bz2',\n",
       " 'jinja2-3.0.1-pyhd8ed1ab_0.tar.bz2',\n",
       " 'joblib-1.0.1-pyhd8ed1ab_0.tar.bz2',\n",
       " 'jpeg-9d-h8ffe710_0.tar.bz2',\n",
       " 'jsoncpp-1.9.4-h2d74725_3.tar.bz2',\n",
       " 'jsonschema-3.2.0-pyhd8ed1ab_3.tar.bz2',\n",
       " 'jupyter-1.0.0-py39hcbf5309_6.tar.bz2',\n",
       " 'jupyter-dash-0.4.0-pyhd8ed1ab_0.tar.bz2',\n",
       " 'jupyterlab_pygments-0.1.2-pyh9f0ad1d_0.tar.bz2',\n",
       " 'jupyterlab_widgets-1.0.2-pyhd8ed1ab_0.tar.bz2',\n",
       " 'jupyter_client-7.0.3-pyhd8ed1ab_0.tar.bz2',\n",
       " 'jupyter_console-6.4.0-pyhd8ed1ab_0.tar.bz2',\n",
       " 'jupyter_contrib_core-0.3.3-py_2.tar.bz2',\n",
       " 'jupyter_contrib_nbextensions-0.5.1-pyhd8ed1ab_2.tar.bz2',\n",
       " 'jupyter_core-4.8.1-py39hcbf5309_0.tar.bz2',\n",
       " 'jupyter_highlight_selected_word-0.2.0-py39hcbf5309_1002.tar.bz2',\n",
       " 'jupyter_latex_envs-1.4.6-pyhd8ed1ab_1002.tar.bz2',\n",
       " 'jupyter_nbextensions_configurator-0.4.1-py39hcbf5309_2.tar.bz2',\n",
       " 'jupytext-1.13.1-pyh6002c4b_0.tar.bz2',\n",
       " 'jxrlib-1.1-h8ffe710_2.tar.bz2',\n",
       " 'kiwisolver-1.3.2-py39h2e07f2f_0.tar.bz2',\n",
       " 'krb5-1.19.2-hbae68bd_0.tar.bz2',\n",
       " 'lazy-object-proxy-1.6.0-py39hb82d6ee_0.tar.bz2',\n",
       " 'lcms2-2.12-h2a16943_0.tar.bz2',\n",
       " 'lerc-2.2.1-h0e60522_0.tar.bz2',\n",
       " 'libblas-3.9.0-8_mkl.tar.bz2',\n",
       " 'libcblas-3.9.0-8_mkl.tar.bz2',\n",
       " 'libclang-11.1.0-default_h5c34c98_1.tar.bz2',\n",
       " 'libcurl-7.79.1-h789b8ee_0.tar.bz2',\n",
       " 'libdeflate-1.7-h8ffe710_5.tar.bz2',\n",
       " 'libiconv-1.16-he774522_0.tar.bz2',\n",
       " 'liblapack-3.9.0-8_mkl.tar.bz2',\n",
       " 'liblapacke-3.9.0-8_mkl.tar.bz2',\n",
       " 'libnetcdf-4.8.0-nompi_hf689e7d_103.tar.bz2',\n",
       " 'libogg-1.3.4-h8ffe710_1.tar.bz2',\n",
       " 'libopencv-4.5.3-py39h41a9e09_1.tar.bz2',\n",
       " 'libpng-1.6.37-h1d00b33_2.tar.bz2',\n",
       " 'libprotobuf-3.16.0-h7755175_0.tar.bz2',\n",
       " 'libraw-0.20.2-hee1bdec_1.tar.bz2',\n",
       " 'libsodium-1.0.18-h8d14728_1.tar.bz2',\n",
       " 'libssh2-1.10.0-h680486a_1.tar.bz2',\n",
       " 'libtheora-1.1.1-h8d14728_1005.tar.bz2',\n",
       " 'libtiff-4.3.0-h0c97f57_1.tar.bz2',\n",
       " 'libuv-1.42.0-h8ffe710_0.tar.bz2',\n",
       " 'libwebp-base-1.2.1-h8ffe710_0.tar.bz2',\n",
       " 'libxml2-2.9.12-hf5bbc77_0.tar.bz2',\n",
       " 'libxslt-1.1.33-h65864e5_2.tar.bz2',\n",
       " 'libzip-1.8.0-hfed4ece_0.tar.bz2',\n",
       " 'loguru-0.5.3-py39hcbf5309_2.tar.bz2',\n",
       " 'lxml-4.6.3-py39h4fd7cdf_0.tar.bz2',\n",
       " 'lz4-3.1.3-py39h92e281b_0.tar.bz2',\n",
       " 'lz4-c-1.9.3-h8ffe710_1.tar.bz2',\n",
       " 'm2w64-gcc-libgfortran-5.3.0-6.tar.bz2',\n",
       " 'm2w64-gcc-libs-5.3.0-7.tar.bz2',\n",
       " 'm2w64-gcc-libs-core-5.3.0-7.tar.bz2',\n",
       " 'm2w64-gmp-6.1.0-2.tar.bz2',\n",
       " 'm2w64-libwinpthread-git-5.0.0.4634.697f757-2.tar.bz2',\n",
       " 'macholib-1.14-pyh9f0ad1d_1.tar.bz2',\n",
       " 'markdown-it-py-1.1.0-pyhd8ed1ab_0.tar.bz2',\n",
       " 'markupsafe-2.0.1-py39hb82d6ee_0.tar.bz2',\n",
       " 'matplotlib-base-3.4.3-py39h581301d_1.tar.bz2',\n",
       " 'matplotlib-inline-0.1.3-pyhd8ed1ab_0.tar.bz2',\n",
       " 'mbstrdecoder-1.1.0-pyhd8ed1ab_0.tar.bz2',\n",
       " 'mccabe-0.6.1-py_1.tar.bz2',\n",
       " 'mdit-py-plugins-0.2.8-pyhd8ed1ab_0.tar.bz2',\n",
       " 'menuinst-1.4.16-py39h2bbff1b_0.conda',\n",
       " 'meshpy-2020.1-py39h2e25243_0.tar.bz2',\n",
       " 'missingno-0.4.2-py_1.tar.bz2',\n",
       " 'mistune-0.8.4-py39hb82d6ee_1004.tar.bz2',\n",
       " 'mkl-2020.4-hb70f87d_311.tar.bz2',\n",
       " 'msgfy-0.1.0-py_0.tar.bz2',\n",
       " 'msys2-conda-epoch-20160418-1.tar.bz2',\n",
       " 'nbclient-0.5.4-pyhd8ed1ab_0.tar.bz2',\n",
       " 'nbconvert-6.2.0-py39hcbf5309_0.tar.bz2',\n",
       " 'nbformat-5.1.3-pyhd8ed1ab_0.tar.bz2',\n",
       " 'nest-asyncio-1.5.1-pyhd8ed1ab_0.tar.bz2',\n",
       " 'networkx-2.3-py_0.tar.bz2',\n",
       " 'ninja-1.10.2-h5362a0b_0.tar.bz2',\n",
       " 'nodejs-16.6.1-h57928b3_0.tar.bz2',\n",
       " 'notebook-6.4.4-pyha770c72_0.tar.bz2',\n",
       " 'numpy-1.19.5-py39h6635163_2.tar.bz2',\n",
       " 'numpy-1.21.2-py39h6635163_0.tar.bz2',\n",
       " 'occt-7.5.2-h60997fb_0.tar.bz2',\n",
       " 'olefile-0.46-pyh9f0ad1d_1.tar.bz2',\n",
       " 'opencv-4.5.3-py39hcbf5309_1.tar.bz2',\n",
       " 'openexr-2.5.5-hab3b255_0.tar.bz2',\n",
       " 'openjpeg-2.4.0-hb211442_1.tar.bz2',\n",
       " 'openpyxl-3.0.9-pyhd8ed1ab_0.tar.bz2',\n",
       " 'openssl-1.1.1k-h2bbff1b_0.conda',\n",
       " 'openssl-1.1.1l-h8ffe710_0.tar.bz2',\n",
       " 'packaging-21.0-pyhd8ed1ab_0.tar.bz2',\n",
       " 'pandas-1.3.3-py39h2e25243_0.tar.bz2',\n",
       " 'pandasgui-0.2.9-py39hcbf5309_0.tar.bz2',\n",
       " 'pandoc-2.14.2-h8ffe710_0.tar.bz2',\n",
       " 'pandocfilters-1.5.0-pyhd8ed1ab_0.tar.bz2',\n",
       " 'parso-0.8.2-pyhd8ed1ab_0.tar.bz2',\n",
       " 'pathvalidate-2.4.1-pyhd8ed1ab_0.tar.bz2',\n",
       " 'patsy-0.5.1-py_0.tar.bz2',\n",
       " 'pcl-1.12.0-h68e0818_0.tar.bz2',\n",
       " 'pdf2image-1.16.0-pyhd8ed1ab_0.tar.bz2',\n",
       " 'pdfminer.six-20201018-pyhd8ed1ab_3.tar.bz2',\n",
       " 'pefile-2021.9.3-pyhd8ed1ab_0.tar.bz2',\n",
       " 'pendulum-2.1.2-pyhd8ed1ab_1.tar.bz2',\n",
       " 'pickleshare-0.7.5-py_1003.tar.bz2',\n",
       " 'pillow-8.3.2-py39h916092e_0.tar.bz2',\n",
       " 'pip-21.1.3-py39haa95532_0.conda',\n",
       " 'pip-21.2.4-pyhd8ed1ab_0.tar.bz2',\n",
       " 'pivy-0.6.6-py39h2132ece_0.tar.bz2',\n",
       " 'platformdirs-2.3.0-pyhd8ed1ab_0.tar.bz2',\n",
       " 'plotly-5.3.1-pyhd8ed1ab_0.tar.bz2',\n",
       " 'ply-3.11-py_1.tar.bz2',\n",
       " 'post_install.bat',\n",
       " 'powershell_shortcut-0.0.1-3.conda',\n",
       " 'ppscore-1.2.0-pyhd3deb0d_0.tar.bz2',\n",
       " 'pre_uninstall.bat',\n",
       " 'proj-7.2.0-h1cfcee9_2.tar.bz2',\n",
       " 'prometheus_client-0.11.0-pyhd8ed1ab_0.tar.bz2',\n",
       " 'prompt-toolkit-3.0.20-pyha770c72_0.tar.bz2',\n",
       " 'prompt_toolkit-3.0.20-hd8ed1ab_0.tar.bz2',\n",
       " 'pthreads-win32-2.9.1-hfa6e2cd_3.tar.bz2',\n",
       " 'pugixml-1.11.4-h0e60522_0.tar.bz2',\n",
       " 'py-opencv-4.5.3-py39h832f523_1.tar.bz2',\n",
       " 'pyautogui-0.9.48-py39hde42818_1.tar.bz2',\n",
       " 'pycodestyle-2.7.0-pyhd8ed1ab_0.tar.bz2',\n",
       " 'pycosat-0.6.3-py39h2bbff1b_0.conda',\n",
       " 'pycparser-2.20-pyh9f0ad1d_2.tar.bz2',\n",
       " 'pycparser-2.20-py_2.conda',\n",
       " 'pydantic-1.8.2-py39hb82d6ee_0.tar.bz2',\n",
       " 'pygments-2.10.0-pyhd8ed1ab_0.tar.bz2',\n",
       " 'pyinstaller-4.5.1-py39h4dafc3f_0.tar.bz2',\n",
       " 'pyinstaller-hooks-contrib-2021.3-pyhd8ed1ab_0.tar.bz2',\n",
       " 'pykakasi-2.2.1-py39hcbf5309_0.tar.bz2',\n",
       " 'pylint-2.11.1-pyhd8ed1ab_0.tar.bz2',\n",
       " 'pymsgbox-1.0.9-pyh9f0ad1d_0.tar.bz2',\n",
       " 'pynput-1.7.3-py39hcbf5309_0.tar.bz2',\n",
       " 'pyntcloud-0.1.5-pyhd8ed1ab_0.tar.bz2',\n",
       " 'pyopenssl-20.0.1-pyhd3eb1b0_1.conda',\n",
       " 'pyparsing-2.4.7-pyh9f0ad1d_0.tar.bz2',\n",
       " 'pypdf2-1.26.0-py_2.tar.bz2',\n",
       " 'pyperclip-1.8.2-pyhd8ed1ab_2.tar.bz2',\n",
       " 'pyqt-5.12.3-py39hcbf5309_7.tar.bz2',\n",
       " 'pyqt-impl-5.12.3-py39h415ef7b_7.tar.bz2',\n",
       " 'pyqt5-sip-4.19.18-py39h415ef7b_7.tar.bz2',\n",
       " 'pyqtchart-5.12-py39h415ef7b_7.tar.bz2',\n",
       " 'pyqtwebengine-5.12.1-py39h415ef7b_7.tar.bz2',\n",
       " 'pyrsistent-0.17.3-py39hb82d6ee_2.tar.bz2',\n",
       " 'pyscreeze-0.1.27-pyhd8ed1ab_0.tar.bz2',\n",
       " 'pyside2-5.13.2-py39hc084194_4.tar.bz2',\n",
       " 'pysimplegui-4.47.0-pyhd8ed1ab_0.tar.bz2',\n",
       " 'pysimpleguiweb-0.39.0-py_0.tar.bz2',\n",
       " 'pysocks-1.7.1-py39haa95532_0.conda',\n",
       " 'pytablewriter-0.63.0-pyhd8ed1ab_0.tar.bz2',\n",
       " 'python-3.9.5-h6244533_3.conda',\n",
       " 'python-3.9.7-h7840368_2_cpython.tar.bz2',\n",
       " 'python-dateutil-2.8.2-pyhd8ed1ab_0.tar.bz2',\n",
       " 'python-docx-0.8.11-pyhd8ed1ab_0.tar.bz2',\n",
       " 'python-pptx-0.6.21-pyhd8ed1ab_0.tar.bz2',\n",
       " 'python-xlib-0.28-pyh9f0ad1d_0.tar.bz2',\n",
       " 'pythonocc-core-7.5.1-py39h5d9d39a_0.tar.bz2',\n",
       " 'python_abi-3.9-2_cp39.tar.bz2',\n",
       " 'pytools-2021.2.8-pyhd8ed1ab_0.tar.bz2',\n",
       " 'pytorch-1.9.1-py3.9_cpu_0.tar.bz2',\n",
       " 'pytweening-1.0.3-py_0.tar.bz2',\n",
       " 'pytz-2021.1-pyhd8ed1ab_0.tar.bz2',\n",
       " 'pytzdata-2020.1-pyh9f0ad1d_0.tar.bz2',\n",
       " 'pywin32-228-py39he774522_0.conda',\n",
       " 'pywin32-301-py39hb82d6ee_0.tar.bz2',\n",
       " 'pywin32-ctypes-0.2.0-py39hcbf5309_1003.tar.bz2',\n",
       " 'pywinpty-0.5.7-py39haa95532_0.conda',\n",
       " 'pywinpty-1.1.4-py39h99910a6_0.tar.bz2',\n",
       " 'pyyaml-5.4.1-py39hb82d6ee_1.tar.bz2',\n",
       " 'pyzmq-22.3.0-py39he46f08e_0.tar.bz2',\n",
       " 'qhull-2020.2-h70d2c02_2.tar.bz2',\n",
       " 'qt-5.12.9-h5909a2a_4.tar.bz2',\n",
       " 'qtconsole-5.1.1-pyhd8ed1ab_0.tar.bz2',\n",
       " 'qtpy-1.11.2-pyhd8ed1ab_0.tar.bz2',\n",
       " 'rapidjson-1.1.0-ha925a31_1002.tar.bz2',\n",
       " 'remi-2021.3.2-pyh44b312d_0.tar.bz2',\n",
       " 'requests-2.25.1-pyhd3eb1b0_0.conda',\n",
       " 'retrying-1.3.3-py_2.tar.bz2',\n",
       " 'ruamel_yaml-0.15.100-py39h2bbff1b_0.conda',\n",
       " 'scikit-learn-1.0-py39h74df8f2_0.tar.bz2',\n",
       " 'scipy-1.7.1-py39hc0c34ad_0.tar.bz2',\n",
       " 'seaborn-0.11.2-hd8ed1ab_0.tar.bz2',\n",
       " 'seaborn-base-0.11.2-pyhd8ed1ab_0.tar.bz2',\n",
       " 'selenium-3.141.0-py39hb82d6ee_1002.tar.bz2',\n",
       " 'send2trash-1.8.0-pyhd8ed1ab_0.tar.bz2',\n",
       " 'setuptools-52.0.0-py39haa95532_0.conda',\n",
       " 'setuptools-58.0.4-py39hcbf5309_1.tar.bz2',\n",
       " 'setuptools-lint-0.6.0-pyh9f0ad1d_0.tar.bz2',\n",
       " 'shapely-1.7.1-py39haadaec5_5.tar.bz2',\n",
       " 'six-1.16.0-pyh6c4a22f_0.tar.bz2',\n",
       " 'six-1.16.0-pyhd3eb1b0_0.conda',\n",
       " 'smesh-9.6.0.2-h7a081ec_0.tar.bz2',\n",
       " 'smmap-3.0.5-pyh44b312d_0.tar.bz2',\n",
       " 'sniffio-1.2.0-py39hcbf5309_1.tar.bz2',\n",
       " 'snowballstemmer-2.1.0-pyhd8ed1ab_0.tar.bz2',\n",
       " 'soqt-1.6.0-h95c7cbc_2.tar.bz2',\n",
       " 'sortedcontainers-2.4.0-pyhd8ed1ab_0.tar.bz2',\n",
       " 'soupsieve-2.0.1-py_1.tar.bz2',\n",
       " 'sphinx-4.2.0-pyh6c4a22f_0.tar.bz2',\n",
       " 'sphinxcontrib-applehelp-1.0.2-py_0.tar.bz2',\n",
       " 'sphinxcontrib-devhelp-1.0.2-py_0.tar.bz2',\n",
       " 'sphinxcontrib-htmlhelp-2.0.0-pyhd8ed1ab_0.tar.bz2',\n",
       " 'sphinxcontrib-jsmath-1.0.1-py_0.tar.bz2',\n",
       " 'sphinxcontrib-qthelp-1.0.3-py_0.tar.bz2',\n",
       " 'sphinxcontrib-serializinghtml-1.1.5-pyhd8ed1ab_0.tar.bz2',\n",
       " 'splipy-1.5.6-py39h5d4886f_1.tar.bz2',\n",
       " 'sqlite-3.36.0-h2bbff1b_0.conda',\n",
       " 'sqlite-3.36.0-h8ffe710_1.tar.bz2',\n",
       " 'squarify-0.4.3-py_0.tar.bz2',\n",
       " 'starlette-0.16.0-pyhd8ed1ab_0.tar.bz2',\n",
       " 'statsmodels-0.12.2-py39h5d4886f_0.tar.bz2',\n",
       " 'strsimpy-0.1.9-pyh9f0ad1d_0.tar.bz2',\n",
       " 'tabledata-1.3.0-pyhd8ed1ab_0.tar.bz2',\n",
       " 'tbb-2020.2-h2d74725_4.tar.bz2',\n",
       " 'tbb-devel-2020.2-h2d74725_4.tar.bz2',\n",
       " 'tcolorpy-0.1.1-pyhd8ed1ab_0.tar.bz2',\n",
       " 'tenacity-8.0.1-pyhd8ed1ab_0.tar.bz2',\n",
       " 'terminado-0.12.1-py39hcbf5309_0.tar.bz2',\n",
       " 'terminado-0.9.4-py39haa95532_0.conda',\n",
       " 'testpath-0.5.0-pyhd8ed1ab_0.tar.bz2',\n",
       " 'threadpoolctl-2.2.0-pyh8a188c0_0.tar.bz2',\n",
       " 'tk-8.6.11-h8ffe710_1.tar.bz2',\n",
       " 'toml-0.10.2-pyhd8ed1ab_0.tar.bz2',\n",
       " 'torchaudio-0.9.1-py39.tar.bz2',\n",
       " 'torchvision-0.2.2-py_3.tar.bz2',\n",
       " 'tornado-6.1-py39hb82d6ee_1.tar.bz2',\n",
       " 'tqdm-4.61.2-pyhd3eb1b0_1.conda',\n",
       " 'traitlets-5.1.0-pyhd8ed1ab_0.tar.bz2',\n",
       " 'trimesh-3.9.30-pyh6c4a22f_0.tar.bz2',\n",
       " 'typepy-1.3.0-pyhd8ed1ab_0.tar.bz2',\n",
       " 'typing-extensions-3.10.0.2-hd8ed1ab_0.tar.bz2',\n",
       " 'typing_extensions-3.10.0.2-pyha770c72_0.tar.bz2',\n",
       " 'tzdata-2021a-h52ac0ba_0.conda',\n",
       " 'tzdata-2021a-he74cb21_1.tar.bz2',\n",
       " 'ucrt-10.0.20348.0-h57928b3_0.tar.bz2',\n",
       " 'urllib3-1.26.6-pyhd3eb1b0_1.conda',\n",
       " 'urls',\n",
       " 'urls.txt',\n",
       " 'utfcpp-3.2.1-h57928b3_0.tar.bz2',\n",
       " 'uvicorn-0.15.0-py39hcbf5309_1.tar.bz2',\n",
       " 'vc-14.2-h21ff451_1.conda',\n",
       " 'vc-14.2-hb210afc_5.tar.bz2',\n",
       " 'vs2015_runtime-14.27.29016-h5e58377_2.conda',\n",
       " 'vs2015_runtime-14.29.30037-h902a5da_5.tar.bz2',\n",
       " 'vtk-9.0.1-no_osmesa_py39h47d625f_109.tar.bz2',\n",
       " 'wcwidth-0.2.5-pyh9f0ad1d_2.tar.bz2',\n",
       " 'webencodings-0.5.1-py_1.tar.bz2',\n",
       " 'werkzeug-2.0.1-pyhd8ed1ab_0.tar.bz2',\n",
       " 'wheel-0.36.2-pyhd3eb1b0_0.conda',\n",
       " 'wheel-0.37.0-pyhd8ed1ab_1.tar.bz2',\n",
       " 'widgetsnbextension-3.5.1-py39hcbf5309_4.tar.bz2',\n",
       " 'win32_setctime-1.0.3-py_0.tar.bz2',\n",
       " 'wincertstore-0.2-py39h2bbff1b_0.conda',\n",
       " 'winpty-0.4.3-4.tar.bz2',\n",
       " 'win_inet_pton-1.1.0-py39haa95532_0.conda',\n",
       " 'wrapt-1.11.2-py39h4cdbadb_1.tar.bz2',\n",
       " 'xarray-0.19.0-pyhd8ed1ab_1.tar.bz2',\n",
       " 'xerces-c-3.2.3-h0e60522_2.tar.bz2',\n",
       " 'xlrd-2.0.1-pyhd8ed1ab_3.tar.bz2',\n",
       " 'xlsxwriter-3.0.1-pyhd8ed1ab_0.tar.bz2',\n",
       " 'xlwings-0.24.9-py39hcbf5309_0.tar.bz2',\n",
       " 'xz-5.2.5-h62dcd97_1.tar.bz2',\n",
       " 'yaml-0.2.5-he774522_0.conda',\n",
       " 'yaml-0.2.5-he774522_0.tar.bz2',\n",
       " 'zeromq-4.3.4-h0e60522_1.tar.bz2',\n",
       " 'zipp-3.5.0-pyhd8ed1ab_0.tar.bz2',\n",
       " 'zlib-1.2.11-h62dcd97_1010.tar.bz2',\n",
       " 'zstd-1.5.0-h6255e5f_0.tar.bz2']"
      ]
     },
     "execution_count": 12,
     "metadata": {},
     "output_type": "execute_result"
    }
   ],
   "source": [
    "file_list"
   ]
  },
  {
   "cell_type": "markdown",
   "id": "8235d828",
   "metadata": {},
   "source": [
    "## factory_env_miniconda39→env_miniconda_39にコピー\n",
    "factory_env_miniconda39の未コミットのファイルをenv_miniconda_39にコピーします"
   ]
  },
  {
   "cell_type": "code",
   "execution_count": null,
   "id": "54488dbc",
   "metadata": {},
   "outputs": [],
   "source": [
    "import pandas as pd\n",
    "li_m = self.comfirm_file(case=0)\n",
    "li_s = [[i[0:2],i[3:]] for i in li_m]\n",
    "df = pd.DataFrame(li_s,columns=[\"code\",\"file_name\"])\n",
    "df_tg = df[df[\"code\"]==\"??\"]\n",
    "li = list(df_tg[\"file_name\"])"
   ]
  },
  {
   "cell_type": "code",
   "execution_count": null,
   "id": "77aafb01",
   "metadata": {},
   "outputs": [],
   "source": [
    "li_m"
   ]
  },
  {
   "cell_type": "code",
   "execution_count": 18,
   "id": "bd53e4c5",
   "metadata": {},
   "outputs": [],
   "source": [
    "file_list = li\n",
    "out_list = []\n",
    "for file in file_list:\n",
    "    f_path_moto = os.path.join(self.fac_path,file)\n",
    "    f_path_copy = os.path.join(self.remote_folder_path,file)\n",
    "    out_list.append([f_path_copy,os.path.getsize(f_path_moto) / 1000000])\n",
    "    try:\n",
    "        shutil.copyfile(f_path_moto,f_path_copy)\n",
    "    except :\n",
    "        print(f\"エラー:{f_path_moto}\")\n",
    "        pass\n",
    "df = pd.DataFrame(out_list)\n",
    "if len(df) != 0:\n",
    "    df.columns=[\"path\",\"MB\"]"
   ]
  },
  {
   "cell_type": "markdown",
   "id": "80402390",
   "metadata": {},
   "source": [
    "## 100M以上は分割（factory_env_miniconda39）"
   ]
  },
  {
   "cell_type": "code",
   "execution_count": 19,
   "id": "91b33c01",
   "metadata": {},
   "outputs": [],
   "source": [
    "files = os.listdir(self.remote_pkg_path)\n",
    "file_list = [os.path.join(self.remote_pkg_path,f) for f in files ]\n",
    "file_list = [[f,os.path.getsize(f) / 1000000] for f in file_list ]\n",
    "df = pd.DataFrame(file_list)\n",
    "df.columns=[\"path\",\"MB\"]"
   ]
  },
  {
   "cell_type": "code",
   "execution_count": 20,
   "id": "8675c85b",
   "metadata": {
    "scrolled": true
   },
   "outputs": [
    {
     "data": {
      "text/html": [
       "<div>\n",
       "<style scoped>\n",
       "    .dataframe tbody tr th:only-of-type {\n",
       "        vertical-align: middle;\n",
       "    }\n",
       "\n",
       "    .dataframe tbody tr th {\n",
       "        vertical-align: top;\n",
       "    }\n",
       "\n",
       "    .dataframe thead th {\n",
       "        text-align: right;\n",
       "    }\n",
       "</style>\n",
       "<table border=\"1\" class=\"dataframe\">\n",
       "  <thead>\n",
       "    <tr style=\"text-align: right;\">\n",
       "      <th></th>\n",
       "      <th>path</th>\n",
       "      <th>MB</th>\n",
       "    </tr>\n",
       "  </thead>\n",
       "  <tbody>\n",
       "    <tr>\n",
       "      <th>48</th>\n",
       "      <td>C:\\Users\\M151325\\000_work\\env_miniconda_39\\pkg...</td>\n",
       "      <td>198.27625</td>\n",
       "    </tr>\n",
       "  </tbody>\n",
       "</table>\n",
       "</div>"
      ],
      "text/plain": [
       "                                                 path         MB\n",
       "48  C:\\Users\\M151325\\000_work\\env_miniconda_39\\pkg...  198.27625"
      ]
     },
     "execution_count": 20,
     "metadata": {},
     "output_type": "execute_result"
    }
   ],
   "source": [
    "df_b = df[df[\"MB\"]>99]\n",
    "df_b"
   ]
  },
  {
   "cell_type": "code",
   "execution_count": 21,
   "id": "5837e768",
   "metadata": {},
   "outputs": [],
   "source": [
    "if len(df_b)!=0:\n",
    "    for target in list(df_b[\"path\"]):\n",
    "        fileList = divide_file(target, 50*10**6)\n",
    "        df_a = pd.DataFrame(fileList,columns=[\"path\"])\n",
    "        df_a.to_csv(os.path.join(\"sep_file_list/\",os.path.basename(target)+\".csv\"),index=False)\n",
    "        os.remove(target)"
   ]
  },
  {
   "cell_type": "code",
   "execution_count": 22,
   "id": "d990418a",
   "metadata": {},
   "outputs": [],
   "source": [
    "! start ."
   ]
  },
  {
   "cell_type": "markdown",
   "id": "e6eb68f8",
   "metadata": {},
   "source": [
    "## githubへpush(factory_env_miniconda39)"
   ]
  },
  {
   "cell_type": "code",
   "execution_count": 6,
   "id": "4f2f9119",
   "metadata": {},
   "outputs": [
    {
     "name": "stdout",
     "output_type": "stream",
     "text": [
      "[' M env.md', ' D pkgs/beautifulsoup4-4.10.0-pyha770c72_0.tar.bz2', ' D pkgs/soupsieve-2.0.1-py_1.tar.bz2', ' D pkgs/xlwings-0.24.9-py39hcbf5309_0.tar.bz2', ' M utility.ipynb', '?? Untitled.ipynb', '?? pkgs/anyio-3.3.4-py39hcbf5309_0.tar.bz2', '?? pkgs/asgiref-3.4.1-pyhd8ed1ab_0.tar.bz2', '?? pkgs/astroid-2.8.0-py39hcbf5309_0.tar.bz2', '?? pkgs/ca-certificates-2021.10.8-h5b45459_0.tar.bz2', '?? pkgs/certifi-2021.10.8-py39hcbf5309_0.tar.bz2', '?? pkgs/cffi-1.14.6-py39h0878f49_1.tar.bz2', '?? pkgs/conda-4.10.3-py39hcbf5309_2.tar.bz2', '?? pkgs/curl-7.79.1-h789b8ee_0.tar.bz2', '?? pkgs/dash-2.0.0-pyhd8ed1ab_0.tar.bz2', '?? pkgs/dash-core-components-2.0.0-pyhd8ed1ab_0.tar.bz2', '?? pkgs/dash-html-components-2.0.0-pyhd8ed1ab_0.tar.bz2', '?? pkgs/dataproperty-0.53.0-pyhd8ed1ab_0.tar.bz2', '?? pkgs/decorator-5.1.0-pyhd8ed1ab_0.tar.bz2', '?? pkgs/dtale-1.57.0-pyhd8ed1ab_0.tar.bz2', '?? pkgs/eigen-3.4.0-h2d74725_0.tar.bz2', '?? pkgs/fastapi-0.70.0-pyhd8ed1ab_0.tar.bz2', '?? pkgs/gitpython-3.1.24-pyhd8ed1ab_0.tar.bz2', '?? pkgs/h11-0.12.0-pyhd8ed1ab_0.tar.bz2', '?? pkgs/img2pdf-0.4.1-py39hcbf5309_0.tar.bz2', '?? pkgs/importlib-metadata-4.8.1-py39hcbf5309_0.tar.bz2', '?? pkgs/ipykernel-6.4.1-py39h832f523_0.tar.bz2', '?? pkgs/ipython-7.27.0-py39h832f523_0.tar.bz2', '?? pkgs/ipywidgets-7.6.5-pyhd8ed1ab_0.tar.bz2', '?? pkgs/jupyter_client-7.0.3-pyhd8ed1ab_0.tar.bz2', '?? pkgs/jupyter_core-4.8.1-py39hcbf5309_0.tar.bz2', '?? pkgs/jupyterlab_widgets-1.0.2-pyhd8ed1ab_0.tar.bz2', '?? pkgs/libcurl-7.79.1-h789b8ee_0.tar.bz2', '?? pkgs/libopencv-4.5.3-py39h41a9e09_1.tar.bz2', '?? pkgs/libssh2-1.10.0-h680486a_1.tar.bz2', '?? pkgs/matplotlib-base-3.4.3-py39h581301d_1.tar.bz2', '?? pkgs/matplotlib-inline-0.1.3-pyhd8ed1ab_0.tar.bz2', '?? pkgs/mbstrdecoder-1.1.0-pyhd8ed1ab_0.tar.bz2', '?? pkgs/nbconvert-6.2.0-py39hcbf5309_0.tar.bz2', '?? pkgs/notebook-6.4.4-pyha770c72_0.tar.bz2', '?? pkgs/opencv-4.5.3-py39hcbf5309_1.tar.bz2', '?? pkgs/openpyxl-3.0.9-pyhd8ed1ab_0.tar.bz2', '?? pkgs/pandas-1.3.3-py39h2e25243_0.tar.bz2', '?? pkgs/pandocfilters-1.5.0-pyhd8ed1ab_0.tar.bz2', '?? pkgs/pendulum-2.1.2-pyhd8ed1ab_1.tar.bz2', '?? pkgs/pillow-8.3.2-py39h916092e_0.tar.bz2', '?? pkgs/pip-21.2.4-pyhd8ed1ab_0.tar.bz2', '?? pkgs/py-opencv-4.5.3-py39h832f523_1.tar.bz2', '?? pkgs/pycparser-2.20-pyh9f0ad1d_2.tar.bz2', '?? pkgs/pydantic-1.8.2-py39hb82d6ee_0.tar.bz2', '?? pkgs/pylint-2.11.1-pyhd8ed1ab_0.tar.bz2', '?? pkgs/pytablewriter-0.63.0-pyhd8ed1ab_0.tar.bz2', '?? pkgs/python-3.9.7-h7840368_2_cpython.tar.bz2', '?? pkgs/python-pptx-0.6.21-pyhd8ed1ab_0.tar.bz2', '?? pkgs/pytorch-1.9.1-py3.9_cpu_0.tar.bz2.0', '?? pkgs/pytorch-1.9.1-py3.9_cpu_0.tar.bz2.1', '?? pkgs/pytorch-1.9.1-py3.9_cpu_0.tar.bz2.2', '?? pkgs/pytorch-1.9.1-py3.9_cpu_0.tar.bz2.3', '?? pkgs/pytzdata-2020.1-pyh9f0ad1d_0.tar.bz2', '?? pkgs/pywin32-301-py39hb82d6ee_0.tar.bz2', '?? pkgs/pywinpty-1.1.4-py39h99910a6_0.tar.bz2', '?? pkgs/pyzmq-22.3.0-py39he46f08e_0.tar.bz2', '?? pkgs/qhull-2020.2-h70d2c02_2.tar.bz2', '?? pkgs/qtpy-1.11.2-pyhd8ed1ab_0.tar.bz2', '?? pkgs/scikit-learn-1.0-py39h74df8f2_0.tar.bz2', '?? pkgs/setuptools-58.0.4-py39hcbf5309_1.tar.bz2', '?? pkgs/six-1.16.0-pyh6c4a22f_0.tar.bz2', '?? pkgs/sniffio-1.2.0-py39hcbf5309_1.tar.bz2', '?? pkgs/sphinx-4.2.0-pyh6c4a22f_0.tar.bz2', '?? pkgs/sqlite-3.36.0-h8ffe710_1.tar.bz2', '?? pkgs/starlette-0.16.0-pyhd8ed1ab_0.tar.bz2', '?? pkgs/tabledata-1.3.0-pyhd8ed1ab_0.tar.bz2', '?? pkgs/terminado-0.12.1-py39hcbf5309_0.tar.bz2', '?? pkgs/tk-8.6.11-h8ffe710_1.tar.bz2', '?? pkgs/torchaudio-0.9.1-py39.tar.bz2', '?? pkgs/traitlets-5.1.0-pyhd8ed1ab_0.tar.bz2', '?? pkgs/trimesh-3.9.30-pyh6c4a22f_0.tar.bz2', '?? pkgs/typepy-1.3.0-pyhd8ed1ab_0.tar.bz2', '?? pkgs/typing-extensions-3.10.0.2-hd8ed1ab_0.tar.bz2', '?? pkgs/typing_extensions-3.10.0.2-pyha770c72_0.tar.bz2', '?? pkgs/tzdata-2021a-he74cb21_1.tar.bz2', '?? pkgs/ucrt-10.0.20348.0-h57928b3_0.tar.bz2', '?? pkgs/uvicorn-0.15.0-py39hcbf5309_1.tar.bz2', '?? pkgs/vc-14.2-hb210afc_5.tar.bz2', '?? pkgs/vs2015_runtime-14.29.30037-h902a5da_5.tar.bz2', '?? pkgs/wheel-0.37.0-pyhd8ed1ab_1.tar.bz2', '?? pkgs/yaml-0.2.5-he774522_0.tar.bz2', '?? sep_file_list/']\n"
     ]
    },
    {
     "data": {
      "text/html": [
       "<div>\n",
       "<style scoped>\n",
       "    .dataframe tbody tr th:only-of-type {\n",
       "        vertical-align: middle;\n",
       "    }\n",
       "\n",
       "    .dataframe tbody tr th {\n",
       "        vertical-align: top;\n",
       "    }\n",
       "\n",
       "    .dataframe thead th {\n",
       "        text-align: right;\n",
       "    }\n",
       "</style>\n",
       "<table border=\"1\" class=\"dataframe\">\n",
       "  <thead>\n",
       "    <tr style=\"text-align: right;\">\n",
       "      <th></th>\n",
       "      <th>code</th>\n",
       "      <th>file_name</th>\n",
       "    </tr>\n",
       "  </thead>\n",
       "  <tbody>\n",
       "    <tr>\n",
       "      <th>0</th>\n",
       "      <td>M</td>\n",
       "      <td>env.md</td>\n",
       "    </tr>\n",
       "    <tr>\n",
       "      <th>1</th>\n",
       "      <td>D</td>\n",
       "      <td>pkgs/beautifulsoup4-4.10.0-pyha770c72_0.tar.bz2</td>\n",
       "    </tr>\n",
       "    <tr>\n",
       "      <th>2</th>\n",
       "      <td>D</td>\n",
       "      <td>pkgs/soupsieve-2.0.1-py_1.tar.bz2</td>\n",
       "    </tr>\n",
       "    <tr>\n",
       "      <th>3</th>\n",
       "      <td>D</td>\n",
       "      <td>pkgs/xlwings-0.24.9-py39hcbf5309_0.tar.bz2</td>\n",
       "    </tr>\n",
       "    <tr>\n",
       "      <th>4</th>\n",
       "      <td>M</td>\n",
       "      <td>utility.ipynb</td>\n",
       "    </tr>\n",
       "    <tr>\n",
       "      <th>...</th>\n",
       "      <td>...</td>\n",
       "      <td>...</td>\n",
       "    </tr>\n",
       "    <tr>\n",
       "      <th>83</th>\n",
       "      <td>??</td>\n",
       "      <td>pkgs/vc-14.2-hb210afc_5.tar.bz2</td>\n",
       "    </tr>\n",
       "    <tr>\n",
       "      <th>84</th>\n",
       "      <td>??</td>\n",
       "      <td>pkgs/vs2015_runtime-14.29.30037-h902a5da_5.tar...</td>\n",
       "    </tr>\n",
       "    <tr>\n",
       "      <th>85</th>\n",
       "      <td>??</td>\n",
       "      <td>pkgs/wheel-0.37.0-pyhd8ed1ab_1.tar.bz2</td>\n",
       "    </tr>\n",
       "    <tr>\n",
       "      <th>86</th>\n",
       "      <td>??</td>\n",
       "      <td>pkgs/yaml-0.2.5-he774522_0.tar.bz2</td>\n",
       "    </tr>\n",
       "    <tr>\n",
       "      <th>87</th>\n",
       "      <td>??</td>\n",
       "      <td>sep_file_list/</td>\n",
       "    </tr>\n",
       "  </tbody>\n",
       "</table>\n",
       "<p>88 rows × 2 columns</p>\n",
       "</div>"
      ],
      "text/plain": [
       "   code                                          file_name\n",
       "0     M                                             env.md\n",
       "1     D    pkgs/beautifulsoup4-4.10.0-pyha770c72_0.tar.bz2\n",
       "2     D                  pkgs/soupsieve-2.0.1-py_1.tar.bz2\n",
       "3     D         pkgs/xlwings-0.24.9-py39hcbf5309_0.tar.bz2\n",
       "4     M                                      utility.ipynb\n",
       "..  ...                                                ...\n",
       "83   ??                    pkgs/vc-14.2-hb210afc_5.tar.bz2\n",
       "84   ??  pkgs/vs2015_runtime-14.29.30037-h902a5da_5.tar...\n",
       "85   ??             pkgs/wheel-0.37.0-pyhd8ed1ab_1.tar.bz2\n",
       "86   ??                 pkgs/yaml-0.2.5-he774522_0.tar.bz2\n",
       "87   ??                                     sep_file_list/\n",
       "\n",
       "[88 rows x 2 columns]"
      ]
     },
     "execution_count": 6,
     "metadata": {},
     "output_type": "execute_result"
    }
   ],
   "source": [
    "li_m = self.comfirm_file(case=1)\n",
    "li_s = [[i[0:2],i[3:]] for i in li_m]\n",
    "df = pd.DataFrame(li_s,columns=[\"code\",\"file_name\"])\n",
    "df"
   ]
  },
  {
   "cell_type": "code",
   "execution_count": 7,
   "id": "c70d3cc6",
   "metadata": {},
   "outputs": [
    {
     "name": "stdout",
     "output_type": "stream",
     "text": [
      "['A  Untitled.ipynb', 'M  env.md', 'A  pkgs/anyio-3.3.4-py39hcbf5309_0.tar.bz2', 'A  pkgs/asgiref-3.4.1-pyhd8ed1ab_0.tar.bz2', 'A  pkgs/astroid-2.8.0-py39hcbf5309_0.tar.bz2', 'D  pkgs/beautifulsoup4-4.10.0-pyha770c72_0.tar.bz2', 'A  pkgs/ca-certificates-2021.10.8-h5b45459_0.tar.bz2', 'A  pkgs/certifi-2021.10.8-py39hcbf5309_0.tar.bz2', 'A  pkgs/cffi-1.14.6-py39h0878f49_1.tar.bz2', 'A  pkgs/conda-4.10.3-py39hcbf5309_2.tar.bz2', 'A  pkgs/curl-7.79.1-h789b8ee_0.tar.bz2', 'A  pkgs/dash-2.0.0-pyhd8ed1ab_0.tar.bz2', 'A  pkgs/dash-core-components-2.0.0-pyhd8ed1ab_0.tar.bz2', 'A  pkgs/dash-html-components-2.0.0-pyhd8ed1ab_0.tar.bz2', 'A  pkgs/dataproperty-0.53.0-pyhd8ed1ab_0.tar.bz2', 'A  pkgs/decorator-5.1.0-pyhd8ed1ab_0.tar.bz2', 'A  pkgs/dtale-1.57.0-pyhd8ed1ab_0.tar.bz2', 'A  pkgs/eigen-3.4.0-h2d74725_0.tar.bz2', 'A  pkgs/fastapi-0.70.0-pyhd8ed1ab_0.tar.bz2', 'A  pkgs/gitpython-3.1.24-pyhd8ed1ab_0.tar.bz2', 'A  pkgs/h11-0.12.0-pyhd8ed1ab_0.tar.bz2', 'A  pkgs/img2pdf-0.4.1-py39hcbf5309_0.tar.bz2', 'A  pkgs/importlib-metadata-4.8.1-py39hcbf5309_0.tar.bz2', 'A  pkgs/ipykernel-6.4.1-py39h832f523_0.tar.bz2', 'A  pkgs/ipython-7.27.0-py39h832f523_0.tar.bz2', 'A  pkgs/ipywidgets-7.6.5-pyhd8ed1ab_0.tar.bz2', 'A  pkgs/jupyter_client-7.0.3-pyhd8ed1ab_0.tar.bz2', 'A  pkgs/jupyter_core-4.8.1-py39hcbf5309_0.tar.bz2', 'A  pkgs/jupyterlab_widgets-1.0.2-pyhd8ed1ab_0.tar.bz2', 'A  pkgs/libcurl-7.79.1-h789b8ee_0.tar.bz2', 'A  pkgs/libopencv-4.5.3-py39h41a9e09_1.tar.bz2', 'A  pkgs/libssh2-1.10.0-h680486a_1.tar.bz2', 'A  pkgs/matplotlib-base-3.4.3-py39h581301d_1.tar.bz2', 'A  pkgs/matplotlib-inline-0.1.3-pyhd8ed1ab_0.tar.bz2', 'A  pkgs/mbstrdecoder-1.1.0-pyhd8ed1ab_0.tar.bz2', 'A  pkgs/nbconvert-6.2.0-py39hcbf5309_0.tar.bz2', 'A  pkgs/notebook-6.4.4-pyha770c72_0.tar.bz2', 'A  pkgs/opencv-4.5.3-py39hcbf5309_1.tar.bz2', 'A  pkgs/openpyxl-3.0.9-pyhd8ed1ab_0.tar.bz2', 'A  pkgs/pandas-1.3.3-py39h2e25243_0.tar.bz2', 'A  pkgs/pandocfilters-1.5.0-pyhd8ed1ab_0.tar.bz2', 'A  pkgs/pendulum-2.1.2-pyhd8ed1ab_1.tar.bz2', 'A  pkgs/pillow-8.3.2-py39h916092e_0.tar.bz2', 'A  pkgs/pip-21.2.4-pyhd8ed1ab_0.tar.bz2', 'A  pkgs/py-opencv-4.5.3-py39h832f523_1.tar.bz2', 'A  pkgs/pycparser-2.20-pyh9f0ad1d_2.tar.bz2', 'A  pkgs/pydantic-1.8.2-py39hb82d6ee_0.tar.bz2', 'A  pkgs/pylint-2.11.1-pyhd8ed1ab_0.tar.bz2', 'A  pkgs/pytablewriter-0.63.0-pyhd8ed1ab_0.tar.bz2', 'A  pkgs/python-3.9.7-h7840368_2_cpython.tar.bz2', 'A  pkgs/python-pptx-0.6.21-pyhd8ed1ab_0.tar.bz2', 'A  pkgs/pytorch-1.9.1-py3.9_cpu_0.tar.bz2.0', 'A  pkgs/pytorch-1.9.1-py3.9_cpu_0.tar.bz2.1', 'A  pkgs/pytorch-1.9.1-py3.9_cpu_0.tar.bz2.2', 'A  pkgs/pytorch-1.9.1-py3.9_cpu_0.tar.bz2.3', 'A  pkgs/pytzdata-2020.1-pyh9f0ad1d_0.tar.bz2', 'A  pkgs/pywin32-301-py39hb82d6ee_0.tar.bz2', 'A  pkgs/pywinpty-1.1.4-py39h99910a6_0.tar.bz2', 'A  pkgs/pyzmq-22.3.0-py39he46f08e_0.tar.bz2', 'A  pkgs/qhull-2020.2-h70d2c02_2.tar.bz2', 'A  pkgs/qtpy-1.11.2-pyhd8ed1ab_0.tar.bz2', 'A  pkgs/scikit-learn-1.0-py39h74df8f2_0.tar.bz2', 'A  pkgs/setuptools-58.0.4-py39hcbf5309_1.tar.bz2', 'A  pkgs/six-1.16.0-pyh6c4a22f_0.tar.bz2', 'A  pkgs/sniffio-1.2.0-py39hcbf5309_1.tar.bz2', 'D  pkgs/soupsieve-2.0.1-py_1.tar.bz2', 'A  pkgs/sphinx-4.2.0-pyh6c4a22f_0.tar.bz2', 'A  pkgs/sqlite-3.36.0-h8ffe710_1.tar.bz2', 'A  pkgs/starlette-0.16.0-pyhd8ed1ab_0.tar.bz2', 'A  pkgs/tabledata-1.3.0-pyhd8ed1ab_0.tar.bz2', 'A  pkgs/terminado-0.12.1-py39hcbf5309_0.tar.bz2', 'A  pkgs/tk-8.6.11-h8ffe710_1.tar.bz2', 'A  pkgs/torchaudio-0.9.1-py39.tar.bz2', 'A  pkgs/traitlets-5.1.0-pyhd8ed1ab_0.tar.bz2', 'A  pkgs/trimesh-3.9.30-pyh6c4a22f_0.tar.bz2', 'A  pkgs/typepy-1.3.0-pyhd8ed1ab_0.tar.bz2', 'A  pkgs/typing-extensions-3.10.0.2-hd8ed1ab_0.tar.bz2', 'A  pkgs/typing_extensions-3.10.0.2-pyha770c72_0.tar.bz2', 'A  pkgs/tzdata-2021a-he74cb21_1.tar.bz2', 'A  pkgs/ucrt-10.0.20348.0-h57928b3_0.tar.bz2', 'A  pkgs/uvicorn-0.15.0-py39hcbf5309_1.tar.bz2', 'A  pkgs/vc-14.2-hb210afc_5.tar.bz2', 'A  pkgs/vs2015_runtime-14.29.30037-h902a5da_5.tar.bz2', 'A  pkgs/wheel-0.37.0-pyhd8ed1ab_1.tar.bz2', 'D  pkgs/xlwings-0.24.9-py39hcbf5309_0.tar.bz2', 'A  pkgs/yaml-0.2.5-he774522_0.tar.bz2', 'A  sep_file_list/pytorch-1.9.1-py3.9_cpu_0.tar.bz2.csv', 'M  utility.ipynb']\n"
     ]
    }
   ],
   "source": [
    "if len(li_m) != 0:\n",
    "    self.repo_remote_folder.git.add(r\"*\")\n",
    "    li_mi= self.comfirm_file(case=1)"
   ]
  },
  {
   "cell_type": "code",
   "execution_count": 9,
   "id": "64601c0c",
   "metadata": {
    "scrolled": true
   },
   "outputs": [
    {
     "data": {
      "text/plain": [
       "['A  Untitled.ipynb',\n",
       " 'M  env.md',\n",
       " 'A  pkgs/anyio-3.3.4-py39hcbf5309_0.tar.bz2',\n",
       " 'A  pkgs/asgiref-3.4.1-pyhd8ed1ab_0.tar.bz2',\n",
       " 'A  pkgs/astroid-2.8.0-py39hcbf5309_0.tar.bz2',\n",
       " 'D  pkgs/beautifulsoup4-4.10.0-pyha770c72_0.tar.bz2',\n",
       " 'A  pkgs/ca-certificates-2021.10.8-h5b45459_0.tar.bz2',\n",
       " 'A  pkgs/certifi-2021.10.8-py39hcbf5309_0.tar.bz2',\n",
       " 'A  pkgs/cffi-1.14.6-py39h0878f49_1.tar.bz2',\n",
       " 'A  pkgs/conda-4.10.3-py39hcbf5309_2.tar.bz2',\n",
       " 'A  pkgs/curl-7.79.1-h789b8ee_0.tar.bz2',\n",
       " 'A  pkgs/dash-2.0.0-pyhd8ed1ab_0.tar.bz2',\n",
       " 'A  pkgs/dash-core-components-2.0.0-pyhd8ed1ab_0.tar.bz2',\n",
       " 'A  pkgs/dash-html-components-2.0.0-pyhd8ed1ab_0.tar.bz2',\n",
       " 'A  pkgs/dataproperty-0.53.0-pyhd8ed1ab_0.tar.bz2',\n",
       " 'A  pkgs/decorator-5.1.0-pyhd8ed1ab_0.tar.bz2',\n",
       " 'A  pkgs/dtale-1.57.0-pyhd8ed1ab_0.tar.bz2',\n",
       " 'A  pkgs/eigen-3.4.0-h2d74725_0.tar.bz2',\n",
       " 'A  pkgs/fastapi-0.70.0-pyhd8ed1ab_0.tar.bz2',\n",
       " 'A  pkgs/gitpython-3.1.24-pyhd8ed1ab_0.tar.bz2',\n",
       " 'A  pkgs/h11-0.12.0-pyhd8ed1ab_0.tar.bz2',\n",
       " 'A  pkgs/img2pdf-0.4.1-py39hcbf5309_0.tar.bz2',\n",
       " 'A  pkgs/importlib-metadata-4.8.1-py39hcbf5309_0.tar.bz2',\n",
       " 'A  pkgs/ipykernel-6.4.1-py39h832f523_0.tar.bz2',\n",
       " 'A  pkgs/ipython-7.27.0-py39h832f523_0.tar.bz2',\n",
       " 'A  pkgs/ipywidgets-7.6.5-pyhd8ed1ab_0.tar.bz2',\n",
       " 'A  pkgs/jupyter_client-7.0.3-pyhd8ed1ab_0.tar.bz2',\n",
       " 'A  pkgs/jupyter_core-4.8.1-py39hcbf5309_0.tar.bz2',\n",
       " 'A  pkgs/jupyterlab_widgets-1.0.2-pyhd8ed1ab_0.tar.bz2',\n",
       " 'A  pkgs/libcurl-7.79.1-h789b8ee_0.tar.bz2',\n",
       " 'A  pkgs/libopencv-4.5.3-py39h41a9e09_1.tar.bz2',\n",
       " 'A  pkgs/libssh2-1.10.0-h680486a_1.tar.bz2',\n",
       " 'A  pkgs/matplotlib-base-3.4.3-py39h581301d_1.tar.bz2',\n",
       " 'A  pkgs/matplotlib-inline-0.1.3-pyhd8ed1ab_0.tar.bz2',\n",
       " 'A  pkgs/mbstrdecoder-1.1.0-pyhd8ed1ab_0.tar.bz2',\n",
       " 'A  pkgs/nbconvert-6.2.0-py39hcbf5309_0.tar.bz2',\n",
       " 'A  pkgs/notebook-6.4.4-pyha770c72_0.tar.bz2',\n",
       " 'A  pkgs/opencv-4.5.3-py39hcbf5309_1.tar.bz2',\n",
       " 'A  pkgs/openpyxl-3.0.9-pyhd8ed1ab_0.tar.bz2',\n",
       " 'A  pkgs/pandas-1.3.3-py39h2e25243_0.tar.bz2',\n",
       " 'A  pkgs/pandocfilters-1.5.0-pyhd8ed1ab_0.tar.bz2',\n",
       " 'A  pkgs/pendulum-2.1.2-pyhd8ed1ab_1.tar.bz2',\n",
       " 'A  pkgs/pillow-8.3.2-py39h916092e_0.tar.bz2',\n",
       " 'A  pkgs/pip-21.2.4-pyhd8ed1ab_0.tar.bz2',\n",
       " 'A  pkgs/py-opencv-4.5.3-py39h832f523_1.tar.bz2',\n",
       " 'A  pkgs/pycparser-2.20-pyh9f0ad1d_2.tar.bz2',\n",
       " 'A  pkgs/pydantic-1.8.2-py39hb82d6ee_0.tar.bz2',\n",
       " 'A  pkgs/pylint-2.11.1-pyhd8ed1ab_0.tar.bz2',\n",
       " 'A  pkgs/pytablewriter-0.63.0-pyhd8ed1ab_0.tar.bz2',\n",
       " 'A  pkgs/python-3.9.7-h7840368_2_cpython.tar.bz2',\n",
       " 'A  pkgs/python-pptx-0.6.21-pyhd8ed1ab_0.tar.bz2',\n",
       " 'A  pkgs/pytorch-1.9.1-py3.9_cpu_0.tar.bz2.0',\n",
       " 'A  pkgs/pytorch-1.9.1-py3.9_cpu_0.tar.bz2.1',\n",
       " 'A  pkgs/pytorch-1.9.1-py3.9_cpu_0.tar.bz2.2',\n",
       " 'A  pkgs/pytorch-1.9.1-py3.9_cpu_0.tar.bz2.3',\n",
       " 'A  pkgs/pytzdata-2020.1-pyh9f0ad1d_0.tar.bz2',\n",
       " 'A  pkgs/pywin32-301-py39hb82d6ee_0.tar.bz2',\n",
       " 'A  pkgs/pywinpty-1.1.4-py39h99910a6_0.tar.bz2',\n",
       " 'A  pkgs/pyzmq-22.3.0-py39he46f08e_0.tar.bz2',\n",
       " 'A  pkgs/qhull-2020.2-h70d2c02_2.tar.bz2',\n",
       " 'A  pkgs/qtpy-1.11.2-pyhd8ed1ab_0.tar.bz2',\n",
       " 'A  pkgs/scikit-learn-1.0-py39h74df8f2_0.tar.bz2',\n",
       " 'A  pkgs/setuptools-58.0.4-py39hcbf5309_1.tar.bz2',\n",
       " 'A  pkgs/six-1.16.0-pyh6c4a22f_0.tar.bz2',\n",
       " 'A  pkgs/sniffio-1.2.0-py39hcbf5309_1.tar.bz2',\n",
       " 'D  pkgs/soupsieve-2.0.1-py_1.tar.bz2',\n",
       " 'A  pkgs/sphinx-4.2.0-pyh6c4a22f_0.tar.bz2',\n",
       " 'A  pkgs/sqlite-3.36.0-h8ffe710_1.tar.bz2',\n",
       " 'A  pkgs/starlette-0.16.0-pyhd8ed1ab_0.tar.bz2',\n",
       " 'A  pkgs/tabledata-1.3.0-pyhd8ed1ab_0.tar.bz2',\n",
       " 'A  pkgs/terminado-0.12.1-py39hcbf5309_0.tar.bz2',\n",
       " 'A  pkgs/tk-8.6.11-h8ffe710_1.tar.bz2',\n",
       " 'A  pkgs/torchaudio-0.9.1-py39.tar.bz2',\n",
       " 'A  pkgs/traitlets-5.1.0-pyhd8ed1ab_0.tar.bz2',\n",
       " 'A  pkgs/trimesh-3.9.30-pyh6c4a22f_0.tar.bz2',\n",
       " 'A  pkgs/typepy-1.3.0-pyhd8ed1ab_0.tar.bz2',\n",
       " 'A  pkgs/typing-extensions-3.10.0.2-hd8ed1ab_0.tar.bz2',\n",
       " 'A  pkgs/typing_extensions-3.10.0.2-pyha770c72_0.tar.bz2',\n",
       " 'A  pkgs/tzdata-2021a-he74cb21_1.tar.bz2',\n",
       " 'A  pkgs/ucrt-10.0.20348.0-h57928b3_0.tar.bz2',\n",
       " 'A  pkgs/uvicorn-0.15.0-py39hcbf5309_1.tar.bz2',\n",
       " 'A  pkgs/vc-14.2-hb210afc_5.tar.bz2',\n",
       " 'A  pkgs/vs2015_runtime-14.29.30037-h902a5da_5.tar.bz2',\n",
       " 'A  pkgs/wheel-0.37.0-pyhd8ed1ab_1.tar.bz2',\n",
       " 'D  pkgs/xlwings-0.24.9-py39hcbf5309_0.tar.bz2',\n",
       " 'A  pkgs/yaml-0.2.5-he774522_0.tar.bz2',\n",
       " 'A  sep_file_list/pytorch-1.9.1-py3.9_cpu_0.tar.bz2.csv',\n",
       " 'M  utility.ipynb']"
      ]
     },
     "execution_count": 9,
     "metadata": {},
     "output_type": "execute_result"
    }
   ],
   "source": [
    "li_mi"
   ]
  },
  {
   "cell_type": "code",
   "execution_count": 8,
   "id": "4cdddc3b",
   "metadata": {},
   "outputs": [],
   "source": [
    "if len(li_mi) != 0:\n",
    "    self.repo_remote_folder.git.commit(\"-m\",\"STEP8_iroiror\")"
   ]
  },
  {
   "cell_type": "markdown",
   "id": "603a5734",
   "metadata": {},
   "source": [
    "push"
   ]
  },
  {
   "cell_type": "code",
   "execution_count": 10,
   "id": "31865b2c",
   "metadata": {},
   "outputs": [
    {
     "data": {
      "text/plain": [
       "''"
      ]
     },
     "execution_count": 10,
     "metadata": {},
     "output_type": "execute_result"
    }
   ],
   "source": [
    "self.repo_remote_folder.git.push()"
   ]
  },
  {
   "cell_type": "markdown",
   "id": "78e48d4f",
   "metadata": {},
   "source": [
    "# 相手側作業"
   ]
  },
  {
   "cell_type": "markdown",
   "id": "235e195b",
   "metadata": {},
   "source": [
    "リポジトリをダウンロードして、000_workの下に移動する\n",
    "\n",
    "https://github.com/nyanko111777/env_miniconda_39/archive/refs/heads/main.zip\n"
   ]
  },
  {
   "cell_type": "markdown",
   "id": "6c42c194",
   "metadata": {},
   "source": [
    "## 100M以上を復活"
   ]
  },
  {
   "cell_type": "code",
   "execution_count": 4,
   "id": "8f9cd91f",
   "metadata": {},
   "outputs": [
    {
     "data": {
      "text/plain": [
       "['mkl-2020.4-hb70f87d_311.tar.bz2.csv', 'qt-5.12.9-h5909a2a_4.tar.bz2.csv']"
      ]
     },
     "execution_count": 4,
     "metadata": {},
     "output_type": "execute_result"
    }
   ],
   "source": [
    "import pandas as pd\n",
    "import os\n",
    "\n",
    "file_list =  os.listdir(\"sep_file_list\")\n",
    "for file in file_list:\n",
    "    df_temp = pd.read_csv(\"sep_file_list/\"+file)\n",
    "    fileList = list(list(df_temp[\"path\"]))\n",
    "    target = fileList[0][:fileList[0].find(\".0\")]\n",
    "    join_file(fileList, target)\n",
    "    for d_file in fileList:\n",
    "        os.remove(d_file)"
   ]
  },
  {
   "cell_type": "markdown",
   "id": "94bed69e",
   "metadata": {},
   "source": [
    "## インストール"
   ]
  },
  {
   "cell_type": "markdown",
   "id": "c6df28cd",
   "metadata": {},
   "source": [
    "- conda の場合\n",
    "  `for /f %i in ('dir /A-d /B *') do conda install %i`\n",
    "\n",
    "\n",
    "\n",
    "- pip の場合\n",
    "  `for /f %i in ('dir /A-d /B *') do pip install %i`\n"
   ]
  },
  {
   "cell_type": "code",
   "execution_count": null,
   "id": "77156bc5",
   "metadata": {},
   "outputs": [],
   "source": []
  }
 ],
 "metadata": {
  "kernelspec": {
   "display_name": "Python 3 (ipykernel)",
   "language": "python",
   "name": "python3"
  },
  "language_info": {
   "codemirror_mode": {
    "name": "ipython",
    "version": 3
   },
   "file_extension": ".py",
   "mimetype": "text/x-python",
   "name": "python",
   "nbconvert_exporter": "python",
   "pygments_lexer": "ipython3",
   "version": "3.9.5"
  },
  "toc": {
   "base_numbering": 1,
   "nav_menu": {},
   "number_sections": true,
   "sideBar": true,
   "skip_h1_title": false,
   "title_cell": "Table of Contents",
   "title_sidebar": "Contents",
   "toc_cell": false,
   "toc_position": {
    "height": "calc(100% - 180px)",
    "left": "10px",
    "top": "150px",
    "width": "222.5px"
   },
   "toc_section_display": true,
   "toc_window_display": true
  }
 },
 "nbformat": 4,
 "nbformat_minor": 5
}
