{
 "cells": [
  {
   "cell_type": "code",
   "execution_count": 1,
   "id": "8a0f984c",
   "metadata": {},
   "outputs": [],
   "source": [
    "! start ."
   ]
  },
  {
   "cell_type": "code",
   "execution_count": 14,
   "id": "09bdba39",
   "metadata": {},
   "outputs": [],
   "source": [
    "! code ."
   ]
  },
  {
   "cell_type": "code",
   "execution_count": 1,
   "id": "27b5d27b",
   "metadata": {},
   "outputs": [],
   "source": [
    "import os,git,shutil\n",
    "import pandas as pd\n",
    "\n",
    "# 指定されたデータサイズでファイルを分割する\n",
    "def divide_file(filePath, chunkSize):\n",
    "    readedDataSize = 0\n",
    "    i = 0\n",
    "    fileList = []\n",
    "    # 対象ファイルを開く\n",
    "    f = open(filePath, \"rb\")\n",
    "    # ファイルを読み終わるまで繰り返す\n",
    "    contentLength = os.path.getsize(filePath)\n",
    "    while readedDataSize < contentLength:\n",
    "        # 読み取り位置をシーク\n",
    "        f.seek(readedDataSize)\n",
    "        # 指定されたデータサイズだけ読み込む\n",
    "        data = f.read(chunkSize)\n",
    "        # 分割ファイルを保存\n",
    "        saveFilePath = filePath + \".\" + str(i)\n",
    "        with open(saveFilePath, 'wb') as saveFile:\n",
    "            saveFile.write(data)\n",
    "        # 読み込んだデータサイズの更新\n",
    "        readedDataSize = readedDataSize + len(data)\n",
    "        i = i + 1\n",
    "        fileList.append(saveFilePath)\n",
    "    return fileList\n",
    "\n",
    "# 渡されたファイルリストの順序で１つのファイルに結合する\n",
    "def join_file(fileList, filePath):\n",
    "    with open(filePath, 'wb') as saveFile:\n",
    "        for f in fileList:\n",
    "            data = open(f, \"rb\").read()\n",
    "            saveFile.write(data)\n",
    "            saveFile.flush()\n",
    "            \n",
    "class env_util():\n",
    "    def __init__(self):\n",
    "        self.u_path = os.environ[\"userprofile\"]\n",
    "        self.miniconda_path = os.path.join(self.u_path,\"miniconda3\",\"pkgs\")\n",
    "        self.miniconda_path = os.path.join(self.u_path,\"miniconda3\",\"pkgs\")\n",
    "        self.freecad_path = os.path.join(self.u_path,\"AppData\",\"Roaming\",\"FreeCAD\")\n",
    "        self.fac_path = os.path.join(self.u_path,\"000_work\",\"factory_env_miniconda39\")\n",
    "        self.fac_pkg_path = os.path.join(self.fac_path,\"pkgs\")\n",
    "        self.repo_fac = git.Repo(self.fac_path)\n",
    "    #         self.repo_freecad = git.Repo(self.freecad_path)\n",
    "        self.remote_folder_path = os.path.join(self.u_path,\"000_work\",\"env_miniconda_39\")\n",
    "        self.remote_pkg_path = os.path.join(self.remote_folder_path,\"pkgs\")\n",
    "        self.repo_remote_folder = git.Repo(self.remote_folder_path)\n",
    "\n",
    "    def get_status_text(self,case):\n",
    "        if case == 0:\n",
    "            tex = self.repo_fac.git.status(\"-s\")\n",
    "        elif case == 1:\n",
    "            tex = self.repo_remote_folder.git.status(\"-s\")\n",
    "#         elif case == 2:\n",
    "#             tex = self.repo_freecad.git.status(\"-s\")\n",
    "        return tex\n",
    "\n",
    "    def comfirm_file(self,case):\n",
    "        tex = self.get_status_text(case)\n",
    "        if tex.find(\"\\n\")  != 0:\n",
    "            li = tex.split(\"\\n\")\n",
    "            print(li)\n",
    "\n",
    "        return li\n",
    "\n",
    "    def get_list(self):\n",
    "        file_list = []\n",
    "        file_list_batsu = []\n",
    "        for root, dirs, files in os.walk(self.miniconda_path):\n",
    "            for filename in files:\n",
    "                fname = os.path.join(root, filename)\n",
    "                file_list.append([fname,os.path.getsize(fname) / 1000000])\n",
    "            df = pd.DataFrame(file_list)\n",
    "            df.columns=[\"path\",\"MB\"]\n",
    "        return df\n",
    "\n",
    "if __name__ == '__main__':\n",
    "    self = env_util()"
   ]
  },
  {
   "cell_type": "markdown",
   "id": "2d003a1a",
   "metadata": {},
   "source": [
    "# おうち側作業"
   ]
  },
  {
   "cell_type": "markdown",
   "id": "0ab260b9",
   "metadata": {},
   "source": [
    "## 初期化\n",
    "移動完了したファイルを消して、初期化します。\n",
    "\n",
    "ファイルが残っていると、相手側でのダウンロードが遅くなる"
   ]
  },
  {
   "cell_type": "markdown",
   "id": "4bef5cd4",
   "metadata": {},
   "source": [
    "### フォルダの中をきれいにする"
   ]
  },
  {
   "cell_type": "code",
   "execution_count": null,
   "id": "36d93c81",
   "metadata": {},
   "outputs": [],
   "source": [
    "! start ."
   ]
  },
  {
   "cell_type": "markdown",
   "id": "e3f19653",
   "metadata": {},
   "source": [
    "未コミットを確認"
   ]
  },
  {
   "cell_type": "code",
   "execution_count": 2,
   "id": "59e73694",
   "metadata": {},
   "outputs": [
    {
     "name": "stdout",
     "output_type": "stream",
     "text": [
      "[' ? diff-dwg', ' M utility.ipynb', ' M utility.py']\n"
     ]
    },
    {
     "data": {
      "text/plain": [
       "[' ? diff-dwg', ' M utility.ipynb', ' M utility.py']"
      ]
     },
     "execution_count": 2,
     "metadata": {},
     "output_type": "execute_result"
    }
   ],
   "source": [
    "li = self.comfirm_file(case=1)\n",
    "li"
   ]
  },
  {
   "cell_type": "markdown",
   "id": "e84fea6d",
   "metadata": {},
   "source": [
    "git add"
   ]
  },
  {
   "cell_type": "code",
   "execution_count": 3,
   "id": "64112554",
   "metadata": {},
   "outputs": [
    {
     "name": "stdout",
     "output_type": "stream",
     "text": [
      "['D  FreeCAD/.gitignore', 'D  FreeCAD/Macro/FCCreaLoft.FCMacro', 'D  FreeCAD/Macro/FCHoneycombMaker.FCMacro', 'D  FreeCAD/Macro/FaceToSketch.FCMacro', 'D  FreeCAD/Macro/HoneycombSolid.FCMacro', 'D  FreeCAD/Macro/MeshToPart.FCMacro', 'D  FreeCAD/Macro/cross_section.FCMacro', 'D  FreeCAD/Macro/honeycomb_solid/__init__.py', 'D  FreeCAD/Macro/honeycomb_solid/honeycomb_solid.py', 'D  FreeCAD/Macro/test.FCStd', 'D  FreeCAD/Macro/test.FCStd1', 'D  FreeCAD/Mod/3DfindIT/.gitignore', 'D  FreeCAD/Mod/3DfindIT/3DfindIT.png', 'D  FreeCAD/Mod/3DfindIT/LICENSE', 'D  FreeCAD/Mod/3DfindIT/README.md', 'D  FreeCAD/Mod/3DfindIT/freecad/cadenas3dfindit/__init__.py', 'D  FreeCAD/Mod/3DfindIT/freecad/cadenas3dfindit/api.py', 'D  FreeCAD/Mod/3DfindIT/freecad/cadenas3dfindit/browser.py', 'D  FreeCAD/Mod/3DfindIT/freecad/cadenas3dfindit/dialog.py', 'D  FreeCAD/Mod/3DfindIT/freecad/cadenas3dfindit/init_gui.py', 'D  FreeCAD/Mod/3DfindIT/freecad/cadenas3dfindit/native_api.py', 'D  FreeCAD/Mod/3DfindIT/freecad/cadenas3dfindit/resources/icons/3dfindit.svg', 'D  FreeCAD/Mod/3DfindIT/freecad/cadenas3dfindit/resources/icons/geomsearch.svg', 'D  FreeCAD/Mod/3DfindIT/freecad/cadenas3dfindit/resources/icons/sketchsearch.svg', 'D  FreeCAD/Mod/Curves/.gitignore', 'D  FreeCAD/Mod/Curves/LICENSE', 'D  FreeCAD/Mod/Curves/MANIFEST.in', 'D  FreeCAD/Mod/Curves/docs/pics/Approximate_01.jpg', 'D  FreeCAD/Mod/Curves/docs/pics/Approximate_02.jpg', 'D  FreeCAD/Mod/Curves/docs/pics/BSplineCurve_01.jpg', 'D  FreeCAD/Mod/Curves/docs/pics/BlendCurve_01.jpg', 'D  FreeCAD/Mod/Curves/docs/pics/CombPlot_01.jpg', 'D  FreeCAD/Mod/Curves/docs/pics/Discretize_01.jpg', 'D  FreeCAD/Mod/Curves/docs/pics/GeomInfo_01.jpg', 'D  FreeCAD/Mod/Curves/docs/pics/GeomInfo_02.jpg', 'D  FreeCAD/Mod/Curves/docs/pics/Spline_01.jpg', 'D  FreeCAD/Mod/Curves/freecad/Curves/BSplineAlgorithms.py', 'D  FreeCAD/Mod/Curves/freecad/Curves/BSplineApproxInterp.py', 'D  FreeCAD/Mod/Curves/freecad/Curves/CoinNodes.py', 'D  FreeCAD/Mod/Curves/freecad/Curves/Discretize.py', 'D  FreeCAD/Mod/Curves/freecad/Curves/ExtractShapes.py', 'D  FreeCAD/Mod/Curves/freecad/Curves/FC_interaction_example.py', 'D  FreeCAD/Mod/Curves/freecad/Curves/FaceMapFP.py', 'D  FreeCAD/Mod/Curves/freecad/Curves/GeomInfo.py', 'D  FreeCAD/Mod/Curves/freecad/Curves/Gui/Zebra_Gui.py', 'D  FreeCAD/Mod/Curves/freecad/Curves/Gui/Zebra_Gui.ui', 'D  FreeCAD/Mod/Curves/freecad/Curves/Gui/__init__.py', 'D  FreeCAD/Mod/Curves/freecad/Curves/Gui/curveEdit.ui', 'D  FreeCAD/Mod/Curves/freecad/Curves/HQRuledSurfaceFP.py', 'D  FreeCAD/Mod/Curves/freecad/Curves/HUD.py', 'D  FreeCAD/Mod/Curves/freecad/Curves/HelicalSweepFP.py', 'D  FreeCAD/Mod/Curves/freecad/Curves/IsoCurve.py', 'D  FreeCAD/Mod/Curves/freecad/Curves/JoinCurves.py', 'D  FreeCAD/Mod/Curves/freecad/Curves/LICENSE', 'D  FreeCAD/Mod/Curves/freecad/Curves/Outline_FP.py', 'D  FreeCAD/Mod/Curves/freecad/Curves/ParametricBlendCurve.py', 'D  FreeCAD/Mod/Curves/freecad/Curves/ParametricComb.py', 'D  FreeCAD/Mod/Curves/freecad/Curves/PlateSurface.py', 'D  FreeCAD/Mod/Curves/freecad/Curves/ProfileSketch.py', 'D  FreeCAD/Mod/Curves/freecad/Curves/ReflectLinesFP.py', 'D  FreeCAD/Mod/Curves/freecad/Curves/Sketch_On_Surface.py', 'D  FreeCAD/Mod/Curves/freecad/Curves/Sweep2Rails.py', 'D  FreeCAD/Mod/Curves/freecad/Curves/TemplateFP.py', 'D  FreeCAD/Mod/Curves/freecad/Curves/TestFiles/Gordon-1.fcstd', 'D  FreeCAD/Mod/Curves/freecad/Curves/TestFiles/Gordon-2.fcstd', 'D  FreeCAD/Mod/Curves/freecad/Curves/TestFiles/Sketch_on_surface.fcstd', 'D  FreeCAD/Mod/Curves/freecad/Curves/TestFiles/SurfaceTest-1.fcstd', 'D  FreeCAD/Mod/Curves/freecad/Curves/TestFiles/SurfaceTest-2.fcstd', 'D  FreeCAD/Mod/Curves/freecad/Curves/TestFiles/TiGL-tests.fcstd', 'D  FreeCAD/Mod/Curves/freecad/Curves/TestFiles/blendsolid_test.FCStd', 'D  FreeCAD/Mod/Curves/freecad/Curves/TestFiles/pipeshell-test.fcstd', 'D  FreeCAD/Mod/Curves/freecad/Curves/TestFiles/test-S2R-2.fcstd', 'D  FreeCAD/Mod/Curves/freecad/Curves/TestFiles/test-S2R.fcstd', 'D  FreeCAD/Mod/Curves/freecad/Curves/TestFiles/test-birail-2.fcstd', 'D  FreeCAD/Mod/Curves/freecad/Curves/TestFiles/test-birail-3.fcstd', 'D  FreeCAD/Mod/Curves/freecad/Curves/TestFiles/test-birail.fcstd', 'D  FreeCAD/Mod/Curves/freecad/Curves/TestFiles/test-flatten.fcstd', 'D  FreeCAD/Mod/Curves/freecad/Curves/TrimFace.py', 'D  FreeCAD/Mod/Curves/freecad/Curves/ZebraTool.py', 'D  FreeCAD/Mod/Curves/freecad/Curves/__init__.py', 'D  FreeCAD/Mod/Curves/freecad/Curves/_utils.py', 'D  FreeCAD/Mod/Curves/freecad/Curves/adjacent_faces.py', 'D  FreeCAD/Mod/Curves/freecad/Curves/approximate.py', 'D  FreeCAD/Mod/Curves/freecad/Curves/approximate_extension.py', 'D  FreeCAD/Mod/Curves/freecad/Curves/blendSolidFP.py', 'D  FreeCAD/Mod/Curves/freecad/Curves/blendSolids.py', 'D  FreeCAD/Mod/Curves/freecad/Curves/blendSurface.py', 'D  FreeCAD/Mod/Curves/freecad/Curves/blendSurfaceFP.py', 'D  FreeCAD/Mod/Curves/freecad/Curves/blendSurfaceFP_new.py', 'D  FreeCAD/Mod/Curves/freecad/Curves/blend_curve.py', 'D  FreeCAD/Mod/Curves/freecad/Curves/comp_spring.py', 'D  FreeCAD/Mod/Curves/freecad/Curves/curveExtend.py', 'D  FreeCAD/Mod/Curves/freecad/Curves/curveExtendFP.py', 'D  FreeCAD/Mod/Curves/freecad/Curves/curveOnSurface.py', 'D  FreeCAD/Mod/Curves/freecad/Curves/curveOnSurfaceFP.py', 'D  FreeCAD/Mod/Curves/freecad/Curves/curve_network_sorter.py', 'D  FreeCAD/Mod/Curves/freecad/Curves/curve_to_script.py', 'D  FreeCAD/Mod/Curves/freecad/Curves/curves_to_surface.py', 'D  FreeCAD/Mod/Curves/freecad/Curves/fuzzy_wire.py', 'D  FreeCAD/Mod/Curves/freecad/Curves/gordon.py', 'D  FreeCAD/Mod/Curves/freecad/Curves/gordonFP.py', 'D  FreeCAD/Mod/Curves/freecad/Curves/gordon_profile_FP.py', 'D  FreeCAD/Mod/Curves/freecad/Curves/graphics.py', 'D  FreeCAD/Mod/Curves/freecad/Curves/grid.py', 'D  FreeCAD/Mod/Curves/freecad/Curves/grid2.py', 'D  FreeCAD/Mod/Curves/freecad/Curves/helix_on_face.py', 'D  FreeCAD/Mod/Curves/freecad/Curves/import3DM.py', 'D  FreeCAD/Mod/Curves/freecad/Curves/init_gui.py', 'D  FreeCAD/Mod/Curves/freecad/Curves/interpolate.py', 'D  FreeCAD/Mod/Curves/freecad/Curves/isocurves.py', 'D  FreeCAD/Mod/Curves/freecad/Curves/libS2R.py', 'D  FreeCAD/Mod/Curves/freecad/Curves/lineFP.py', 'D  FreeCAD/Mod/Curves/freecad/Curves/manipulators.py', 'D  FreeCAD/Mod/Curves/freecad/Curves/match_wires.py', 'D  FreeCAD/Mod/Curves/freecad/Curves/mixed_curve.py', 'D  FreeCAD/Mod/Curves/freecad/Curves/multiLoftFP.py', 'D  FreeCAD/Mod/Curves/freecad/Curves/nurbs_surface_match.py', 'D  FreeCAD/Mod/Curves/freecad/Curves/nurbs_tools.py', 'D  FreeCAD/Mod/Curves/freecad/Curves/parametricSolid.py', 'D  FreeCAD/Mod/Curves/freecad/Curves/pasteSVG.py', 'D  FreeCAD/Mod/Curves/freecad/Curves/pipeshellFP.py', 'D  FreeCAD/Mod/Curves/freecad/Curves/pipeshellProfileFP.py', 'D  FreeCAD/Mod/Curves/freecad/Curves/profile_editor.py', 'D  FreeCAD/Mod/Curves/freecad/Curves/property_editor.py', 'D  FreeCAD/Mod/Curves/freecad/Curves/reparametrize.py', 'D  FreeCAD/Mod/Curves/freecad/Curves/resources/icons/Tree_Part_Plane_Parametric.svg', 'D  FreeCAD/Mod/Curves/freecad/Curves/resources/icons/adjacent_faces.svg', 'D  FreeCAD/Mod/Curves/freecad/Curves/resources/icons/approximate.svg', 'D  FreeCAD/Mod/Curves/freecad/Curves/resources/icons/bezier.svg', 'D  FreeCAD/Mod/Curves/freecad/Curves/resources/icons/birail.svg', 'D  FreeCAD/Mod/Curves/freecad/Curves/resources/icons/blend.svg', 'D  FreeCAD/Mod/Curves/freecad/Curves/resources/icons/blend1.svg', 'D  FreeCAD/Mod/Curves/freecad/Curves/resources/icons/blend2.svg', 'D  FreeCAD/Mod/Curves/freecad/Curves/resources/icons/blendSolid.svg', 'D  FreeCAD/Mod/Curves/freecad/Curves/resources/icons/blendSurf.svg', 'D  FreeCAD/Mod/Curves/freecad/Curves/resources/icons/comb.svg', 'D  FreeCAD/Mod/Curves/freecad/Curves/resources/icons/curveOnSurface.svg', 'D  FreeCAD/Mod/Curves/freecad/Curves/resources/icons/curve_to_console.svg', 'D  FreeCAD/Mod/Curves/freecad/Curves/resources/icons/discretize.svg', 'D  FreeCAD/Mod/Curves/freecad/Curves/resources/icons/editableSpline.svg', 'D  FreeCAD/Mod/Curves/freecad/Curves/resources/icons/extendcurve.svg', 'D  FreeCAD/Mod/Curves/freecad/Curves/resources/icons/extract.svg', 'D  FreeCAD/Mod/Curves/freecad/Curves/resources/icons/gordon.svg', 'D  FreeCAD/Mod/Curves/freecad/Curves/resources/icons/helical_sweep.svg', 'D  FreeCAD/Mod/Curves/freecad/Curves/resources/icons/info.svg', 'D  FreeCAD/Mod/Curves/freecad/Curves/resources/icons/info2.svg', 'D  FreeCAD/Mod/Curves/freecad/Curves/resources/icons/info2_backup.svg', 'D  FreeCAD/Mod/Curves/freecad/Curves/resources/icons/interpolate.svg', 'D  FreeCAD/Mod/Curves/freecad/Curves/resources/icons/isocurve.svg', 'D  FreeCAD/Mod/Curves/freecad/Curves/resources/icons/joincurve.svg', 'D  FreeCAD/Mod/Curves/freecad/Curves/resources/icons/line.svg', 'D  FreeCAD/Mod/Curves/freecad/Curves/resources/icons/mixed_curve.svg', 'D  FreeCAD/Mod/Curves/freecad/Curves/resources/icons/multiLoft.svg', 'D  FreeCAD/Mod/Curves/freecad/Curves/resources/icons/oriented_sketch.svg', 'D  FreeCAD/Mod/Curves/freecad/Curves/resources/icons/pipeshell.svg', 'D  FreeCAD/Mod/Curves/freecad/Curves/resources/icons/profile.svg', 'D  FreeCAD/Mod/Curves/freecad/Curves/resources/icons/profileSupport.svg', 'D  FreeCAD/Mod/Curves/freecad/Curves/resources/icons/reflectLines.svg', 'D  FreeCAD/Mod/Curves/freecad/Curves/resources/icons/ruled_surface.svg', 'D  FreeCAD/Mod/Curves/freecad/Curves/resources/icons/segment_surface.svg', 'D  FreeCAD/Mod/Curves/freecad/Curves/resources/icons/sketch_surf.svg', 'D  FreeCAD/Mod/Curves/freecad/Curves/resources/icons/solid.svg', 'D  FreeCAD/Mod/Curves/freecad/Curves/resources/icons/splitcurve.svg', 'D  FreeCAD/Mod/Curves/freecad/Curves/resources/icons/spring.svg', 'D  FreeCAD/Mod/Curves/freecad/Curves/resources/icons/sublink_edit.svg', 'D  FreeCAD/Mod/Curves/freecad/Curves/resources/icons/surfEdit.svg', 'D  FreeCAD/Mod/Curves/freecad/Curves/resources/icons/svg.svg', 'D  FreeCAD/Mod/Curves/freecad/Curves/resources/icons/svg_rv3.svg', 'D  FreeCAD/Mod/Curves/freecad/Curves/resources/icons/sw2r.svg', 'D  FreeCAD/Mod/Curves/freecad/Curves/resources/icons/template_resource.svg', 'D  FreeCAD/Mod/Curves/freecad/Curves/resources/icons/toconsole.svg', 'D  FreeCAD/Mod/Curves/freecad/Curves/resources/icons/trimFace.svg', 'D  FreeCAD/Mod/Curves/freecad/Curves/resources/icons/vector.svg', 'D  FreeCAD/Mod/Curves/freecad/Curves/resources/icons/zebra.svg', 'D  FreeCAD/Mod/Curves/freecad/Curves/resources/icons/zebra_backup.svg', 'D  FreeCAD/Mod/Curves/freecad/Curves/ribbon.py', 'D  FreeCAD/Mod/Curves/freecad/Curves/segmentSurfaceFP.py', 'D  FreeCAD/Mod/Curves/freecad/Curves/selFilter.py', 'D  FreeCAD/Mod/Curves/freecad/Curves/splitCurves_2.py', 'D  FreeCAD/Mod/Curves/freecad/Curves/sublink_edit.py', 'D  FreeCAD/Mod/Curves/freecad/Curves/toConsole.py', 'D  FreeCAD/Mod/Curves/freecad/Curves/version.py', 'D  FreeCAD/Mod/Curves/manifest.ini', 'D  FreeCAD/Mod/Curves/setup.py', 'D  FreeCAD/Mod/Defeaturing/.gitignore', 'D  FreeCAD/Mod/Defeaturing/DefeaturingCMD.py', 'D  FreeCAD/Mod/Defeaturing/DefeaturingFeature.py', 'D  FreeCAD/Mod/Defeaturing/DefeaturingTools-a.py', 'D  FreeCAD/Mod/Defeaturing/DefeaturingTools.py', 'D  FreeCAD/Mod/Defeaturing/DefeaturingTools.ui', 'D  FreeCAD/Mod/Defeaturing/FuzzyTools.py', 'D  FreeCAD/Mod/Defeaturing/Init.py', 'D  FreeCAD/Mod/Defeaturing/InitGui.py', 'D  FreeCAD/Mod/Defeaturing/README.md', 'D  FreeCAD/Mod/Defeaturing/Resources/icons/Defeaturing-icon.svg', 'D  FreeCAD/Mod/Defeaturing/Resources/icons/DefeaturingParametric.svg', 'D  FreeCAD/Mod/Defeaturing/Resources/icons/Freecad.svg', 'D  FreeCAD/Mod/Defeaturing/Resources/icons/FuzzyCommon.svg', 'D  FreeCAD/Mod/Defeaturing/Resources/icons/FuzzyCut.svg', 'D  FreeCAD/Mod/Defeaturing/Resources/icons/FuzzyUnion.svg', 'D  FreeCAD/Mod/Defeaturing/Resources/icons/Path-SelectLoop.svg', 'D  FreeCAD/Mod/Defeaturing/Resources/icons/RefineShapeFeature.svg', 'D  FreeCAD/Mod/Defeaturing/Resources/icons/defeaturingTools.svg', 'D  FreeCAD/Mod/Defeaturing/Resources/icons/error.svg', 'D  FreeCAD/Mod/Defeaturing/dft_locator.py', 'D  FreeCAD/Mod/FEM_FrontISTR/.gitattributes', 'D  FreeCAD/Mod/FEM_FrontISTR/.gitignore', 'D  FreeCAD/Mod/FEM_FrontISTR/.gitlab-ci.yml', 'D  FreeCAD/Mod/FEM_FrontISTR/FISTR_solver.py', 'D  FreeCAD/Mod/FEM_FrontISTR/FrontISTR-latest.hybrid_impi_mkl_intelthread.zip', 'D  FreeCAD/Mod/FEM_FrontISTR/InitGui.py', 'D  FreeCAD/Mod/FEM_FrontISTR/LISENCE', 'D  FreeCAD/Mod/FEM_FrontISTR/ObjectsFISTR.py', 'D  FreeCAD/Mod/FEM_FrontISTR/README.md', 'D  FreeCAD/Mod/FEM_FrontISTR/Resources/FrontISTR.svg', 'D  FreeCAD/Mod/FEM_FrontISTR/Resources/FrontISTR_solver.svg', 'D  FreeCAD/Mod/FEM_FrontISTR/Resources/SolverFrontISTR.ui', 'D  FreeCAD/Mod/FEM_FrontISTR/femsolver_FrontISTR/__init__.py', 'D  FreeCAD/Mod/FEM_FrontISTR/femsolver_FrontISTR/solver.py', 'D  FreeCAD/Mod/FEM_FrontISTR/femsolver_FrontISTR/tasks.py', 'D  FreeCAD/Mod/FEM_FrontISTR/femsolver_FrontISTR/writer.py', 'D  FreeCAD/Mod/FEM_FrontISTR/fistrtools.py', 'D  FreeCAD/Mod/FEM_FrontISTR/importfistrAvsResults.py', 'D  FreeCAD/Mod/FEM_FrontISTR/sample/benchmarks/01_gear/README.md', 'D  FreeCAD/Mod/FEM_FrontISTR/sample/benchmarks/01_gear/data_sheet.xlsx', 'D  FreeCAD/Mod/FEM_FrontISTR/sample/benchmarks/01_gear/gear.FCStd', 'D  FreeCAD/Mod/FEM_FrontISTR/sample/benchmarks/01_gear/mesh_large.png', 'D  FreeCAD/Mod/FEM_FrontISTR/sample/benchmarks/01_gear/mesh_middle.png', 'D  FreeCAD/Mod/FEM_FrontISTR/sample/benchmarks/01_gear/mesh_small.png', 'D  FreeCAD/Mod/FEM_FrontISTR/sample/benchmarks/01_gear/result_mises_small.png', 'D  FreeCAD/Mod/FEM_FrontISTR/sample/benchmarks/01_gear/result_performance.png', 'D  FreeCAD/Mod/FEM_FrontISTR/sample/benchmarks/02_can/README.md', 'D  FreeCAD/Mod/FEM_FrontISTR/sample/benchmarks/02_can/can.FCStd', 'D  FreeCAD/Mod/FEM_FrontISTR/sample/benchmarks/02_can/data_sheet.xlsx', 'D  FreeCAD/Mod/FEM_FrontISTR/sample/benchmarks/02_can/mesh_large.png', 'D  FreeCAD/Mod/FEM_FrontISTR/sample/benchmarks/02_can/mesh_middle.png', 'D  FreeCAD/Mod/FEM_FrontISTR/sample/benchmarks/02_can/mesh_small.png', 'D  FreeCAD/Mod/FEM_FrontISTR/sample/benchmarks/02_can/result_mises_small.png', 'D  FreeCAD/Mod/FEM_FrontISTR/sample/benchmarks/02_can/result_performance.png', 'D  FreeCAD/Mod/FEM_FrontISTR/sample/benchmarks/03_bikeframe/README.md', 'D  FreeCAD/Mod/FEM_FrontISTR/sample/benchmarks/03_bikeframe/bikeframe.FCStd', 'D  FreeCAD/Mod/FEM_FrontISTR/sample/benchmarks/03_bikeframe/data_sheet.xlsx', 'D  FreeCAD/Mod/FEM_FrontISTR/sample/benchmarks/03_bikeframe/mesh_large.png', 'D  FreeCAD/Mod/FEM_FrontISTR/sample/benchmarks/03_bikeframe/mesh_middle.png', 'D  FreeCAD/Mod/FEM_FrontISTR/sample/benchmarks/03_bikeframe/mesh_small.png', 'D  FreeCAD/Mod/FEM_FrontISTR/sample/benchmarks/03_bikeframe/result_mises_large.png', 'D  FreeCAD/Mod/FEM_FrontISTR/sample/benchmarks/03_bikeframe/result_mises_small.png', 'D  FreeCAD/Mod/FEM_FrontISTR/sample/benchmarks/03_bikeframe/result_performance.png', 'D  FreeCAD/Mod/FEM_FrontISTR/sample/benchmarks/04_spring/README.md', 'D  FreeCAD/Mod/FEM_FrontISTR/sample/benchmarks/04_spring/data_sheet.xlsx', 'D  FreeCAD/Mod/FEM_FrontISTR/sample/benchmarks/04_spring/mesh_large.png', 'D  FreeCAD/Mod/FEM_FrontISTR/sample/benchmarks/04_spring/mesh_middle.png', 'D  FreeCAD/Mod/FEM_FrontISTR/sample/benchmarks/04_spring/mesh_small.png', 'D  FreeCAD/Mod/FEM_FrontISTR/sample/benchmarks/04_spring/result_mises_large.png', 'D  FreeCAD/Mod/FEM_FrontISTR/sample/benchmarks/04_spring/result_performance.png', 'D  FreeCAD/Mod/FEM_FrontISTR/sample/benchmarks/04_spring/spring.FCStd', 'D  FreeCAD/Mod/FEM_FrontISTR/sample/benchmarks/05_gear_large/README.md', 'D  FreeCAD/Mod/FEM_FrontISTR/sample/benchmarks/05_gear_large/gear6.xlsx', 'D  FreeCAD/Mod/FEM_FrontISTR/sample/benchmarks/05_gear_large/result_mises.png', 'D  FreeCAD/Mod/FEM_FrontISTR/sample/benchmarks/05_gear_large/result_performance.png', 'D  FreeCAD/Mod/FEM_FrontISTR/sample/scripting.py', 'D  FreeCAD/Mod/FEM_FrontISTR/sample/showcase/0a_bikeframe.png', 'D  FreeCAD/Mod/FEM_FrontISTR/sample/showcase/README.md', 'D  FreeCAD/Mod/FEM_FrontISTR/sample/showcase/gear4F-mises.png', 'D  FreeCAD/Mod/FEM_FrontISTR/sample/showcase/spring1-mises.png', 'D  FreeCAD/Mod/FEM_FrontISTR/solver_fistrtools.py', 'D  FreeCAD/Mod/FEM_FrontISTR/task_solver_fistrtools.py', 'D  FreeCAD/Mod/FEM_FrontISTR/tutorial/en/docs/images/0a_bikeframe.png', 'D  FreeCAD/Mod/FEM_FrontISTR/tutorial/en/docs/images/11_python_console.png', 'D  FreeCAD/Mod/FEM_FrontISTR/tutorial/en/docs/images/12_python_results.png', 'D  FreeCAD/Mod/FEM_FrontISTR/tutorial/en/docs/images/1_FreeCAD_start.png', 'D  FreeCAD/Mod/FEM_FrontISTR/tutorial/en/docs/images/2_Cantilever_init.png', 'D  FreeCAD/Mod/FEM_FrontISTR/tutorial/en/docs/images/3_FrontISTR_workbench.png', 'D  FreeCAD/Mod/FEM_FrontISTR/tutorial/en/docs/images/4_FrontISTR_option.png', 'D  FreeCAD/Mod/FEM_FrontISTR/tutorial/en/docs/images/5_FrontISTR_run.png', 'D  FreeCAD/Mod/FEM_FrontISTR/tutorial/en/docs/images/6_FrontISTR_result.png', 'D  FreeCAD/Mod/FEM_FrontISTR/tutorial/en/docs/images/6b_FrontISTR_result.png', 'D  FreeCAD/Mod/FEM_FrontISTR/tutorial/en/docs/images/6c_FrontISTR_result.png', 'D  FreeCAD/Mod/FEM_FrontISTR/tutorial/en/docs/images/7_other_options.png', 'D  FreeCAD/Mod/FEM_FrontISTR/tutorial/en/docs/index.md', 'D  FreeCAD/Mod/FEM_FrontISTR/tutorial/en/docs/install.md', 'D  FreeCAD/Mod/FEM_FrontISTR/tutorial/en/docs/usegui.md', 'D  FreeCAD/Mod/FEM_FrontISTR/tutorial/en/docs/usescript.md', 'D  FreeCAD/Mod/FEM_FrontISTR/tutorial/en/mkdocs.yml', 'D  FreeCAD/Mod/FEM_FrontISTR/tutorial/ja/docs/images/0a_bikeframe.png', 'D  FreeCAD/Mod/FEM_FrontISTR/tutorial/ja/docs/images/11_python_console.png', 'D  FreeCAD/Mod/FEM_FrontISTR/tutorial/ja/docs/images/12_python_results.png', 'D  FreeCAD/Mod/FEM_FrontISTR/tutorial/ja/docs/images/1_FreeCAD_start.png', 'D  FreeCAD/Mod/FEM_FrontISTR/tutorial/ja/docs/images/2_Cantilever_init.png', 'D  FreeCAD/Mod/FEM_FrontISTR/tutorial/ja/docs/images/3_FrontISTR_workbench.png', 'D  FreeCAD/Mod/FEM_FrontISTR/tutorial/ja/docs/images/4_FrontISTR_option.png', 'D  FreeCAD/Mod/FEM_FrontISTR/tutorial/ja/docs/images/5_FrontISTR_run.png', 'D  FreeCAD/Mod/FEM_FrontISTR/tutorial/ja/docs/images/6_FrontISTR_result.png', 'D  FreeCAD/Mod/FEM_FrontISTR/tutorial/ja/docs/images/6b_FrontISTR_result.png', 'D  FreeCAD/Mod/FEM_FrontISTR/tutorial/ja/docs/images/6c_FrontISTR_result.png', 'D  FreeCAD/Mod/FEM_FrontISTR/tutorial/ja/docs/images/7_other_options.png', 'D  FreeCAD/Mod/FEM_FrontISTR/tutorial/ja/docs/index.md', 'D  FreeCAD/Mod/FEM_FrontISTR/tutorial/ja/docs/install.md', 'D  FreeCAD/Mod/FEM_FrontISTR/tutorial/ja/docs/usegui.md', 'D  FreeCAD/Mod/FEM_FrontISTR/tutorial/ja/docs/usescript.md', 'D  FreeCAD/Mod/FEM_FrontISTR/tutorial/ja/mkdocs.yml', 'D  FreeCAD/Mod/FEM_FrontISTR/view_solver_fistrtools.py', 'D  FreeCAD/Mod/MeshRemodel/.gitignore', 'D  FreeCAD/Mod/MeshRemodel/Init.py', 'D  FreeCAD/Mod/MeshRemodel/InitGui.py', 'D  FreeCAD/Mod/MeshRemodel/LICENSE', 'D  FreeCAD/Mod/MeshRemodel/MeshRemodelCmd.py', 'D  FreeCAD/Mod/MeshRemodel/README.md', 'D  FreeCAD/Mod/MeshRemodel/Resources/icons/AddSelectionObserver.svg', 'D  FreeCAD/Mod/MeshRemodel/Resources/icons/CreateArc.svg', 'D  FreeCAD/Mod/MeshRemodel/Resources/icons/CreateBSpline.svg', 'D  FreeCAD/Mod/MeshRemodel/Resources/icons/CreateCircle.svg', 'D  FreeCAD/Mod/MeshRemodel/Resources/icons/CreateCoplanar.svg', 'D  FreeCAD/Mod/MeshRemodel/Resources/icons/CreateCrossSections.svg', 'D  FreeCAD/Mod/MeshRemodel/Resources/icons/CreateLine.svg', 'D  FreeCAD/Mod/MeshRemodel/Resources/icons/CreatePointObject.svg', 'D  FreeCAD/Mod/MeshRemodel/Resources/icons/CreatePointsObject.svg', 'D  FreeCAD/Mod/MeshRemodel/Resources/icons/CreatePolygon.svg', 'D  FreeCAD/Mod/MeshRemodel/Resources/icons/CreateSketch.svg', 'D  FreeCAD/Mod/MeshRemodel/Resources/icons/CreateWire.svg', 'D  FreeCAD/Mod/MeshRemodel/Resources/icons/CreateWireFrameObject.svg', 'D  FreeCAD/Mod/MeshRemodel/Resources/icons/MergeSketches.svg', 'D  FreeCAD/Mod/MeshRemodel/Resources/icons/MeshRemodelSVGLogo.svg', 'D  FreeCAD/Mod/MeshRemodel/Resources/icons/PartSolid.svg', 'D  FreeCAD/Mod/MeshRemodel/Resources/icons/Settings.svg', 'D  FreeCAD/Mod/MeshRemodel/Resources/icons/ValidateSketch.svg', 'D  FreeCAD/Mod/MeshRemodel/meshremodelwb_locator.py', 'D  FreeCAD/Mod/PieMenu/InitGui.py', 'D  FreeCAD/Mod/PieMenu/License/lgpl-2.1.txt', 'D  FreeCAD/Mod/PieMenu/PieMenuCommon.py', 'D  FreeCAD/Mod/PieMenu/PieMenuGui.py', 'D  FreeCAD/Mod/PieMenu/PieMenuLocator.py', 'D  FreeCAD/Mod/PieMenu/PieMenuPreferences.py', 'D  FreeCAD/Mod/PieMenu/PieMenuToolbars.py', 'D  FreeCAD/Mod/PieMenu/README.md', 'D  FreeCAD/Mod/PieMenu/Resources/icons/PieMenuAdd.svg', 'D  FreeCAD/Mod/PieMenu/Resources/icons/PieMenuAddCommand.svg', 'D  FreeCAD/Mod/PieMenu/Resources/icons/PieMenuAddMenu.svg', 'D  FreeCAD/Mod/PieMenu/Resources/icons/PieMenuAddSeparator.svg', 'D  FreeCAD/Mod/PieMenu/Resources/icons/PieMenuClose.svg', 'D  FreeCAD/Mod/PieMenu/Resources/icons/PieMenuCopy.svg', 'D  FreeCAD/Mod/PieMenu/Resources/icons/PieMenuDown.svg', 'D  FreeCAD/Mod/PieMenu/Resources/icons/PieMenuEditMenu.svg', 'D  FreeCAD/Mod/PieMenu/Resources/icons/PieMenuQuickMenu.svg', 'D  FreeCAD/Mod/PieMenu/Resources/icons/PieMenuRemove.svg', 'D  FreeCAD/Mod/PieMenu/Resources/icons/PieMenuRemoveCommand.svg', 'D  FreeCAD/Mod/PieMenu/Resources/icons/PieMenuRename.svg', 'D  FreeCAD/Mod/PieMenu/Resources/icons/PieMenuReset.svg', 'D  FreeCAD/Mod/PieMenu/Resources/icons/PieMenuUp.svg', 'D  FreeCAD/Mod/PieMenu/__pycache__/PieMenuCommon.cpython-39.pyc', 'D  FreeCAD/Mod/PieMenu/__pycache__/PieMenuGui.cpython-39.pyc', 'D  FreeCAD/Mod/PieMenu/__pycache__/PieMenuLocator.cpython-39.pyc', 'D  FreeCAD/Mod/PieMenu/__pycache__/PieMenuPreferences.cpython-39.pyc', 'D  FreeCAD/Mod/PieMenu/__pycache__/PieMenuToolbars.cpython-39.pyc', 'D  FreeCAD/Mod/Rocket/.gitignore', 'D  FreeCAD/Mod/Rocket/App/BodyTubeShapeHandler.py', 'D  FreeCAD/Mod/Rocket/App/BulkheadShapeHandler.py', 'D  FreeCAD/Mod/Rocket/App/CenteringRingShapeHandler.py', 'D  FreeCAD/Mod/Rocket/App/Component/AxialStageComponent.py', 'D  FreeCAD/Mod/Rocket/App/Component/BodyTubeComponent.py', 'D  FreeCAD/Mod/Rocket/App/Component/Component.py', 'D  FreeCAD/Mod/Rocket/App/Component/NoseconeComponent.py', 'D  FreeCAD/Mod/Rocket/App/Component/RocketComponent.py', 'D  FreeCAD/Mod/Rocket/App/Component/__init__.py', 'D  FreeCAD/Mod/Rocket/App/Constants.py', 'D  FreeCAD/Mod/Rocket/App/FinEllipseShapeHandler.py', 'D  FreeCAD/Mod/Rocket/App/FinShapeHandler.py', 'D  FreeCAD/Mod/Rocket/App/FinSketchShapeHandler.py', 'D  FreeCAD/Mod/Rocket/App/FinTrapezoidShapeHandler.py', 'D  FreeCAD/Mod/Rocket/App/NoseConeShapeHandler.py', 'D  FreeCAD/Mod/Rocket/App/NoseEllipseShapeHandler.py', 'D  FreeCAD/Mod/Rocket/App/NoseHaackShapeHandler.py', 'D  FreeCAD/Mod/Rocket/App/NoseOgiveShapeHandler.py', 'D  FreeCAD/Mod/Rocket/App/NoseParabolicShapeHandler.py', 'D  FreeCAD/Mod/Rocket/App/NosePowerShapeHandler.py', 'D  FreeCAD/Mod/Rocket/App/NoseShapeHandler.py', 'D  FreeCAD/Mod/Rocket/App/OpenRocket.py', 'D  FreeCAD/Mod/Rocket/App/Parts/BodyTube.py', 'D  FreeCAD/Mod/Rocket/App/Parts/Bulkhead.py', 'D  FreeCAD/Mod/Rocket/App/Parts/CenteringRing.py', 'D  FreeCAD/Mod/Rocket/App/Parts/Component.py', 'D  FreeCAD/Mod/Rocket/App/Parts/Coupler.py', 'D  FreeCAD/Mod/Rocket/App/Parts/EngineBlock.py', 'D  FreeCAD/Mod/Rocket/App/Parts/Exceptions.py', 'D  FreeCAD/Mod/Rocket/App/Parts/LaunchLug.py', 'D  FreeCAD/Mod/Rocket/App/Parts/Material.py', 'D  FreeCAD/Mod/Rocket/App/Parts/NoseCone.py', 'D  FreeCAD/Mod/Rocket/App/Parts/Parachute.py', 'D  FreeCAD/Mod/Rocket/App/Parts/PartDatabase.py', 'D  FreeCAD/Mod/Rocket/App/Parts/PartDatabaseOrcImporter.py', 'D  FreeCAD/Mod/Rocket/App/Parts/Streamer.py', 'D  FreeCAD/Mod/Rocket/App/Parts/Transition.py', 'D  FreeCAD/Mod/Rocket/App/Parts/__init__.py', 'D  FreeCAD/Mod/Rocket/App/ShapeBodyTube.py', 'D  FreeCAD/Mod/Rocket/App/ShapeBulkhead.py', 'D  FreeCAD/Mod/Rocket/App/ShapeCenteringRing.py', 'D  FreeCAD/Mod/Rocket/App/ShapeComponent.py', 'D  FreeCAD/Mod/Rocket/App/ShapeFin.py', 'D  FreeCAD/Mod/Rocket/App/ShapeNoseCone.py', 'D  FreeCAD/Mod/Rocket/App/ShapeTransition.py', 'D  FreeCAD/Mod/Rocket/App/Tools/ImportDatabase.py', 'D  FreeCAD/Mod/Rocket/App/Tools/Utilities.py', 'D  FreeCAD/Mod/Rocket/App/Tools/__init__.py', 'D  FreeCAD/Mod/Rocket/App/TransitionConeShapeHandler.py', 'D  FreeCAD/Mod/Rocket/App/TransitionEllipseShapeHandler.py', 'D  FreeCAD/Mod/Rocket/App/TransitionHaackShapeHandler.py', 'D  FreeCAD/Mod/Rocket/App/TransitionOgiveShapeHandler.py', 'D  FreeCAD/Mod/Rocket/App/TransitionParabolicShapeHandler.py', 'D  FreeCAD/Mod/Rocket/App/TransitionPowerShapeHandler.py', 'D  FreeCAD/Mod/Rocket/App/TransitionShapeHandler.py', 'D  FreeCAD/Mod/Rocket/App/Utilities.py', 'D  FreeCAD/Mod/Rocket/App/__init__.py', 'D  FreeCAD/Mod/Rocket/CMakeLists.txt', 'D  FreeCAD/Mod/Rocket/Init.py', 'D  FreeCAD/Mod/Rocket/InitGui.py', 'D  FreeCAD/Mod/Rocket/LICENSE', 'D  FreeCAD/Mod/Rocket/README.md', 'D  FreeCAD/Mod/Rocket/Resources/Rocket.qrc', 'D  FreeCAD/Mod/Rocket/Resources/RocketAnim.gif', 'D  FreeCAD/Mod/Rocket/Resources/icons/RocketWorkbench.svg', 'D  FreeCAD/Mod/Rocket/Resources/icons/Rocket_BodyTube.svg', 'D  FreeCAD/Mod/Rocket/Resources/icons/Rocket_Bulkhead.svg', 'D  FreeCAD/Mod/Rocket/Resources/icons/Rocket_Calculator.svg', 'D  FreeCAD/Mod/Rocket/Resources/icons/Rocket_CenteringRing.svg', 'D  FreeCAD/Mod/Rocket/Resources/icons/Rocket_Fin.svg', 'D  FreeCAD/Mod/Rocket/Resources/icons/Rocket_FinCan.svg', 'D  FreeCAD/Mod/Rocket/Resources/icons/Rocket_NoseCone.svg', 'D  FreeCAD/Mod/Rocket/Resources/icons/Rocket_Transition.svg', 'D  FreeCAD/Mod/Rocket/Resources/parts/Parts.db', 'D  FreeCAD/Mod/Rocket/Resources/parts/openrocket_components/Estes.orc', 'D  FreeCAD/Mod/Rocket/Resources/parts/openrocket_components/LocPrecision.orc', 'D  FreeCAD/Mod/Rocket/Resources/parts/openrocket_components/Quest.orc', 'D  FreeCAD/Mod/Rocket/Resources/parts/openrocket_components/bluetube.orc', 'D  FreeCAD/Mod/Rocket/Resources/parts/openrocket_components/bms.orc', 'D  FreeCAD/Mod/Rocket/Resources/parts/openrocket_components/fliskits.orc', 'D  FreeCAD/Mod/Rocket/Resources/parts/openrocket_components/giantleaprocketry.orc', 'D  FreeCAD/Mod/Rocket/Resources/parts/openrocket_components/publicmissiles.orc', 'D  FreeCAD/Mod/Rocket/Resources/parts/openrocket_components/semroc.orc', 'D  FreeCAD/Mod/Rocket/Resources/parts/rocksim_components/bluetube/BTDATA.CSV', 'D  FreeCAD/Mod/Rocket/Resources/parts/rocksim_components/bluetube/MATERIAL.CSV', 'D  FreeCAD/Mod/Rocket/Resources/parts/rocksim_components/bluetube/TCDATA.CSV', 'D  FreeCAD/Mod/Rocket/Resources/parts/rocksim_components/bluetube/readme.txt', 'D  FreeCAD/Mod/Rocket/Resources/parts/rocksim_components/bms/BHdata.csv', 'D  FreeCAD/Mod/Rocket/Resources/parts/rocksim_components/bms/BTdata.csv', 'D  FreeCAD/Mod/Rocket/Resources/parts/rocksim_components/bms/CRdata.csv', 'D  FreeCAD/Mod/Rocket/Resources/parts/rocksim_components/bms/LLdata.csv', 'D  FreeCAD/Mod/Rocket/Resources/parts/rocksim_components/bms/MATERIAL.CSV', 'D  FreeCAD/Mod/Rocket/Resources/parts/rocksim_components/bms/NCdata.csv', 'D  FreeCAD/Mod/Rocket/Resources/parts/rocksim_components/bms/TCdata.csv', 'D  FreeCAD/Mod/Rocket/Resources/parts/rocksim_components/bms/TRdata.csv', 'D  FreeCAD/Mod/Rocket/Resources/parts/rocksim_components/bms/ebdata.csv', 'D  FreeCAD/Mod/Rocket/Resources/parts/rocksim_components/estes/BTDATA.CSV', 'D  FreeCAD/Mod/Rocket/Resources/parts/rocksim_components/estes/EBDATA.CSV', 'D  FreeCAD/Mod/Rocket/Resources/parts/rocksim_components/estes/LLDATA.CSV', 'D  FreeCAD/Mod/Rocket/Resources/parts/rocksim_components/estes/MATERIAL.CSV', 'D  FreeCAD/Mod/Rocket/Resources/parts/rocksim_components/estes/MODATA.CSV', 'D  FreeCAD/Mod/Rocket/Resources/parts/rocksim_components/estes/NCDATA.CSV', 'D  FreeCAD/Mod/Rocket/Resources/parts/rocksim_components/estes/PCDATA.CSV', 'D  FreeCAD/Mod/Rocket/Resources/parts/rocksim_components/estes/TCDATA.CSV', 'D  FreeCAD/Mod/Rocket/Resources/parts/rocksim_components/estes/TRDATA.CSV', 'D  FreeCAD/Mod/Rocket/Resources/parts/rocksim_components/giantleaprocketry/BHDATA.CSV', 'D  FreeCAD/Mod/Rocket/Resources/parts/rocksim_components/giantleaprocketry/BTDATA.CSV', 'D  FreeCAD/Mod/Rocket/Resources/parts/rocksim_components/giantleaprocketry/CRDATA.CSV', 'D  FreeCAD/Mod/Rocket/Resources/parts/rocksim_components/giantleaprocketry/LLDATA.CSV', 'D  FreeCAD/Mod/Rocket/Resources/parts/rocksim_components/giantleaprocketry/MATERIAL.CSV', 'D  FreeCAD/Mod/Rocket/Resources/parts/rocksim_components/giantleaprocketry/MODATA.CSV', 'D  FreeCAD/Mod/Rocket/Resources/parts/rocksim_components/giantleaprocketry/NCDATA.CSV', 'D  FreeCAD/Mod/Rocket/Resources/parts/rocksim_components/giantleaprocketry/PCDATA.CSV', 'D  FreeCAD/Mod/Rocket/Resources/parts/rocksim_components/giantleaprocketry/TCDATA.CSV', 'D  FreeCAD/Mod/Rocket/Resources/parts/rocksim_components/publicmissiles/BHDATA.CSV', 'D  FreeCAD/Mod/Rocket/Resources/parts/rocksim_components/publicmissiles/BTDATA.CSV', 'D  FreeCAD/Mod/Rocket/Resources/parts/rocksim_components/publicmissiles/CFDATA.CSV', 'D  FreeCAD/Mod/Rocket/Resources/parts/rocksim_components/publicmissiles/CRDATA.CSV', 'D  FreeCAD/Mod/Rocket/Resources/parts/rocksim_components/publicmissiles/EBDATA.CSV', 'D  FreeCAD/Mod/Rocket/Resources/parts/rocksim_components/publicmissiles/FSDATA.CSV', 'D  FreeCAD/Mod/Rocket/Resources/parts/rocksim_components/publicmissiles/GRAPHS.CSV', 'D  FreeCAD/Mod/Rocket/Resources/parts/rocksim_components/publicmissiles/LLDATA.CSV', 'D  FreeCAD/Mod/Rocket/Resources/parts/rocksim_components/publicmissiles/MATERIAL.CSV', 'D  FreeCAD/Mod/Rocket/Resources/parts/rocksim_components/publicmissiles/MODATA.CSV', 'D  FreeCAD/Mod/Rocket/Resources/parts/rocksim_components/publicmissiles/NCDATA.CSV', 'D  FreeCAD/Mod/Rocket/Resources/parts/rocksim_components/publicmissiles/PCDATA.CSV', 'D  FreeCAD/Mod/Rocket/Resources/parts/rocksim_components/publicmissiles/SLDATA.CSV', 'D  FreeCAD/Mod/Rocket/Resources/parts/rocksim_components/publicmissiles/STDATA.CSV', 'D  FreeCAD/Mod/Rocket/Resources/parts/rocksim_components/publicmissiles/TCDATA.CSV', 'D  FreeCAD/Mod/Rocket/Resources/parts/rocksim_components/publicmissiles/TRDATA.CSV', 'D  FreeCAD/Mod/Rocket/Resources/parts/rocksim_components/quest/BTDATA.CSV', 'D  FreeCAD/Mod/Rocket/Resources/parts/rocksim_components/quest/CRDATA.CSV', 'D  FreeCAD/Mod/Rocket/Resources/parts/rocksim_components/quest/EBDATA.CSV', 'D  FreeCAD/Mod/Rocket/Resources/parts/rocksim_components/quest/MATERIAL.CSV', 'D  FreeCAD/Mod/Rocket/Resources/parts/rocksim_components/quest/NCDATA.CSV', 'D  FreeCAD/Mod/Rocket/Resources/parts/rocksim_components/quest/PCDATA.CSV', 'D  FreeCAD/Mod/Rocket/Resources/parts/rocksim_components/quest/STDATA.CSV', 'D  FreeCAD/Mod/Rocket/Resources/parts/rocksim_components/quest/TCDATA.CSV', 'D  FreeCAD/Mod/Rocket/Resources/parts/rocksim_components/quest/TRDATA.CSV', 'D  FreeCAD/Mod/Rocket/Resources/parts/rocksim_components/semroc/BHDATA.CSV', 'D  FreeCAD/Mod/Rocket/Resources/parts/rocksim_components/semroc/BTDATA.CSV', 'D  FreeCAD/Mod/Rocket/Resources/parts/rocksim_components/semroc/CRDATA.CSV', 'D  FreeCAD/Mod/Rocket/Resources/parts/rocksim_components/semroc/EBDATA.CSV', 'D  FreeCAD/Mod/Rocket/Resources/parts/rocksim_components/semroc/LLDATA.CSV', 'D  FreeCAD/Mod/Rocket/Resources/parts/rocksim_components/semroc/MATERIAL.CSV', 'D  FreeCAD/Mod/Rocket/Resources/parts/rocksim_components/semroc/NCDATA.CSV', 'D  FreeCAD/Mod/Rocket/Resources/parts/rocksim_components/semroc/PCDATA.CSV', 'D  FreeCAD/Mod/Rocket/Resources/parts/rocksim_components/semroc/STDATA.CSV', 'D  FreeCAD/Mod/Rocket/Resources/parts/rocksim_components/semroc/TCDATA.CSV', 'D  FreeCAD/Mod/Rocket/Resources/parts/rocksim_components/semroc/TRDATA.CSV', 'D  FreeCAD/Mod/Rocket/Resources/parts/workbench/preseed.orc', 'D  FreeCAD/Mod/Rocket/Resources/translations/Rocket.ts', 'D  FreeCAD/Mod/Rocket/Rocket.dox', 'D  FreeCAD/Mod/Rocket/Rocket.py', 'D  FreeCAD/Mod/Rocket/RocketGui.py', 'D  FreeCAD/Mod/Rocket/Ui/CmdBodyTube.py', 'D  FreeCAD/Mod/Rocket/Ui/CmdBulkhead.py', 'D  FreeCAD/Mod/Rocket/Ui/CmdCalcBlackPowder.py', 'D  FreeCAD/Mod/Rocket/Ui/CmdCalcParachute.py', 'D  FreeCAD/Mod/Rocket/Ui/CmdCalcThrustToWeight.py', 'D  FreeCAD/Mod/Rocket/Ui/CmdCalcVentHoles.py', 'D  FreeCAD/Mod/Rocket/Ui/CmdCenteringRing.py', 'D  FreeCAD/Mod/Rocket/Ui/CmdFin.py', 'D  FreeCAD/Mod/Rocket/Ui/CmdNoseCone.py', 'D  FreeCAD/Mod/Rocket/Ui/CmdSketcher.py', 'D  FreeCAD/Mod/Rocket/Ui/CmdTransition.py', 'D  FreeCAD/Mod/Rocket/Ui/DialogBlackPowder.py', 'D  FreeCAD/Mod/Rocket/Ui/DialogLookup.py', 'D  FreeCAD/Mod/Rocket/Ui/DialogParachute.py', 'D  FreeCAD/Mod/Rocket/Ui/DialogThrustToWeight.py', 'D  FreeCAD/Mod/Rocket/Ui/DialogVentHoles.py', 'D  FreeCAD/Mod/Rocket/Ui/TaskPanelBodyTube.py', 'D  FreeCAD/Mod/Rocket/Ui/TaskPanelBulkhead.py', 'D  FreeCAD/Mod/Rocket/Ui/TaskPanelDatabase.py', 'D  FreeCAD/Mod/Rocket/Ui/TaskPanelFin.py', 'D  FreeCAD/Mod/Rocket/Ui/TaskPanelNoseCone.py', 'D  FreeCAD/Mod/Rocket/Ui/TaskPanelTransition.py', 'D  FreeCAD/Mod/Rocket/Ui/ViewBodyTube.py', 'D  FreeCAD/Mod/Rocket/Ui/ViewBulkhead.py', 'D  FreeCAD/Mod/Rocket/Ui/ViewCenteringRing.py', 'D  FreeCAD/Mod/Rocket/Ui/ViewFin.py', 'D  FreeCAD/Mod/Rocket/Ui/ViewNoseCone.py', 'D  FreeCAD/Mod/Rocket/Ui/ViewTransition.py', 'D  FreeCAD/Mod/Rocket/Ui/__init__.py', 'D  FreeCAD/Mod/Rocket/importORK.py', 'D  FreeCAD/Mod/Rocket/importRKT.py', 'D  FreeCAD/Mod/ShortCuts/InitGui.py', 'D  FreeCAD/Mod/ShortCuts/License/lgpl-2.1.txt', 'D  FreeCAD/Mod/ShortCuts/README.md', 'D  FreeCAD/Mod/ShortCuts/Resources/icons/ShortCuts_Global.svg', 'D  FreeCAD/Mod/ShortCuts/Resources/icons/ShortCuts_Local.svg', 'D  FreeCAD/Mod/ShortCuts/Resources/icons/ShortCuts_LocalGlobal.svg', 'D  FreeCAD/Mod/ShortCuts/ShortCutsLocator.py', 'D  FreeCAD/Mod/ShortCuts/ShortCuts_Gui.py', 'D  FreeCAD/Mod/ShortCuts/__pycache__/ShortCutsLocator.cpython-39.pyc', 'D  FreeCAD/Mod/ShortCuts/__pycache__/ShortCuts_Gui.cpython-39.pyc', 'D  FreeCAD/Mod/fasteners/.gitignore', 'D  FreeCAD/Mod/fasteners/CONTRIBUTING.md', 'D  FreeCAD/Mod/fasteners/CountersunkHoles.py', 'D  FreeCAD/Mod/fasteners/DlgChangeParams.ui', 'D  FreeCAD/Mod/fasteners/DlgCountersunkHoles.ui', 'D  FreeCAD/Mod/fasteners/FSChangeParams.py', 'D  FreeCAD/Mod/fasteners/FSNuts.py', 'D  FreeCAD/Mod/fasteners/FSScrewCalc.py', 'D  FreeCAD/Mod/fasteners/FSprefs.ui', 'D  FreeCAD/Mod/fasteners/FastenerBase.py', 'D  FreeCAD/Mod/fasteners/FastenersCmd.py', 'D  FreeCAD/Mod/fasteners/FsData/DiaList.csv', 'D  FreeCAD/Mod/fasteners/FsData/Raised_countersunk_def.csv', 'D  FreeCAD/Mod/fasteners/FsData/asmeb18.2.1.6def.csv', 'D  FreeCAD/Mod/fasteners/FsData/asmeb18.2.1.6length.csv', 'D  FreeCAD/Mod/fasteners/FsData/asmeb18.2.1.6range.csv', 'D  FreeCAD/Mod/fasteners/FsData/asmeb18.2.1.8def.csv', 'D  FreeCAD/Mod/fasteners/FsData/asmeb18.2.1.8range.csv', 'D  FreeCAD/Mod/fasteners/FsData/asmeb18.2.2.1adef.csv', 'D  FreeCAD/Mod/fasteners/FsData/asmeb18.2.2.4def.csv', 'D  FreeCAD/Mod/fasteners/FsData/asmeb18.21.1.12def.csv', 'D  FreeCAD/Mod/fasteners/FsData/asmeb18.3.1adef.csv', 'D  FreeCAD/Mod/fasteners/FsData/asmeb18.3.1arange.csv', 'D  FreeCAD/Mod/fasteners/FsData/asmeb18.3.2def.csv', 'D  FreeCAD/Mod/fasteners/FsData/asmeb18.3.2range.csv', 'D  FreeCAD/Mod/fasteners/FsData/asmeb18.3.3adef.csv', 'D  FreeCAD/Mod/fasteners/FsData/asmeb18.3.3arange.csv', 'D  FreeCAD/Mod/fasteners/FsData/asmeb18.3.3bdef.csv', 'D  FreeCAD/Mod/fasteners/FsData/asmeb18.3.3brange.csv', 'D  FreeCAD/Mod/fasteners/FsData/asmeb18.3.4def.csv', 'D  FreeCAD/Mod/fasteners/FsData/asmeb18.3.4range.csv', 'D  FreeCAD/Mod/fasteners/FsData/asmeb18.3.5def.csv', 'D  FreeCAD/Mod/fasteners/FsData/asmeb18.3.5range.csv', 'D  FreeCAD/Mod/fasteners/FsData/asmeb18.5.2def.csv', 'D  FreeCAD/Mod/fasteners/FsData/asmeb18.5.2range.csv', 'D  FreeCAD/Mod/fasteners/FsData/asmeb18.6.3.1adef.csv', 'D  FreeCAD/Mod/fasteners/FsData/asmeb18.6.3.1arange.csv', 'D  FreeCAD/Mod/fasteners/FsData/din6912def.csv', 'D  FreeCAD/Mod/fasteners/FsData/din6912length.csv', 'D  FreeCAD/Mod/fasteners/FsData/din6912range.csv', 'D  FreeCAD/Mod/fasteners/FsData/din7984def.csv', 'D  FreeCAD/Mod/fasteners/FsData/din7984length.csv', 'D  FreeCAD/Mod/fasteners/FsData/din7984range.csv', 'D  FreeCAD/Mod/fasteners/FsData/din967def.csv', 'D  FreeCAD/Mod/fasteners/FsData/din967length.csv', 'D  FreeCAD/Mod/fasteners/FsData/din967range.csv', 'D  FreeCAD/Mod/fasteners/FsData/en1661def.csv', 'D  FreeCAD/Mod/fasteners/FsData/en1662def.csv', 'D  FreeCAD/Mod/fasteners/FsData/en1662length.csv', 'D  FreeCAD/Mod/fasteners/FsData/en1662range.csv', 'D  FreeCAD/Mod/fasteners/FsData/en1665def.csv', 'D  FreeCAD/Mod/fasteners/FsData/en1665length.csv', 'D  FreeCAD/Mod/fasteners/FsData/en1665range.csv', 'D  FreeCAD/Mod/fasteners/FsData/inch_fs_length.csv', 'D  FreeCAD/Mod/fasteners/FsData/inch_screw_hole_chart.csv', 'D  FreeCAD/Mod/fasteners/FsData/iso10642def.csv', 'D  FreeCAD/Mod/fasteners/FsData/iso10642length.csv', 'D  FreeCAD/Mod/fasteners/FsData/iso10642range.csv', 'D  FreeCAD/Mod/fasteners/FsData/iso10664def.csv', 'D  FreeCAD/Mod/fasteners/FsData/iso1207def.csv', 'D  FreeCAD/Mod/fasteners/FsData/iso1207length.csv', 'D  FreeCAD/Mod/fasteners/FsData/iso1207range.csv', 'D  FreeCAD/Mod/fasteners/FsData/iso14579def.csv', 'D  FreeCAD/Mod/fasteners/FsData/iso14579length.csv', 'D  FreeCAD/Mod/fasteners/FsData/iso14579range.csv', 'D  FreeCAD/Mod/fasteners/FsData/iso14580def.csv', 'D  FreeCAD/Mod/fasteners/FsData/iso14580length.csv', 'D  FreeCAD/Mod/fasteners/FsData/iso14582def.csv', 'D  FreeCAD/Mod/fasteners/FsData/iso14582length.csv', 'D  FreeCAD/Mod/fasteners/FsData/iso14582range.csv', 'D  FreeCAD/Mod/fasteners/FsData/iso14583def.csv', 'D  FreeCAD/Mod/fasteners/FsData/iso14584def.csv', 'D  FreeCAD/Mod/fasteners/FsData/iso14584range.csv', 'D  FreeCAD/Mod/fasteners/FsData/iso1580def.csv', 'D  FreeCAD/Mod/fasteners/FsData/iso2009def.csv', 'D  FreeCAD/Mod/fasteners/FsData/iso2009length.csv', 'D  FreeCAD/Mod/fasteners/FsData/iso2009range.csv', 'D  FreeCAD/Mod/fasteners/FsData/iso4014head.csv', 'D  FreeCAD/Mod/fasteners/FsData/iso4014length.csv', 'D  FreeCAD/Mod/fasteners/FsData/iso4014range.csv', 'D  FreeCAD/Mod/fasteners/FsData/iso4017head.csv', 'D  FreeCAD/Mod/fasteners/FsData/iso4017length.csv', 'D  FreeCAD/Mod/fasteners/FsData/iso4017range.csv', 'D  FreeCAD/Mod/fasteners/FsData/iso4026def.csv', 'D  FreeCAD/Mod/fasteners/FsData/iso4026length.csv', 'D  FreeCAD/Mod/fasteners/FsData/iso4026range.csv', 'D  FreeCAD/Mod/fasteners/FsData/iso4028def.csv', 'D  FreeCAD/Mod/fasteners/FsData/iso4028length.csv', 'D  FreeCAD/Mod/fasteners/FsData/iso4028range.csv', 'D  FreeCAD/Mod/fasteners/FsData/iso4032def.csv', 'D  FreeCAD/Mod/fasteners/FsData/iso4033def.csv', 'D  FreeCAD/Mod/fasteners/FsData/iso4035def.csv', 'D  FreeCAD/Mod/fasteners/FsData/iso4036def.csv', 'D  FreeCAD/Mod/fasteners/FsData/iso4757def.csv', 'D  FreeCAD/Mod/fasteners/FsData/iso4762def.csv', 'D  FreeCAD/Mod/fasteners/FsData/iso4762length.csv', 'D  FreeCAD/Mod/fasteners/FsData/iso4762range.csv', 'D  FreeCAD/Mod/fasteners/FsData/iso7045def.csv', 'D  FreeCAD/Mod/fasteners/FsData/iso7045length.csv', 'D  FreeCAD/Mod/fasteners/FsData/iso7045range.csv', 'D  FreeCAD/Mod/fasteners/FsData/iso7046def.csv', 'D  FreeCAD/Mod/fasteners/FsData/iso7046range.csv', 'D  FreeCAD/Mod/fasteners/FsData/iso7048def.csv', 'D  FreeCAD/Mod/fasteners/FsData/iso7048length.csv', 'D  FreeCAD/Mod/fasteners/FsData/iso7048range.csv', 'D  FreeCAD/Mod/fasteners/FsData/iso7089def.csv', 'D  FreeCAD/Mod/fasteners/FsData/iso7090def.csv', 'D  FreeCAD/Mod/fasteners/FsData/iso7091def.csv', 'D  FreeCAD/Mod/fasteners/FsData/iso7092def.csv', 'D  FreeCAD/Mod/fasteners/FsData/iso7093def.csv', 'D  FreeCAD/Mod/fasteners/FsData/iso7094def.csv', 'D  FreeCAD/Mod/fasteners/FsData/iso7379def.csv', 'D  FreeCAD/Mod/fasteners/FsData/iso7379length.csv', 'D  FreeCAD/Mod/fasteners/FsData/iso7379range.csv', 'D  FreeCAD/Mod/fasteners/FsData/iso7380_2def.csv', 'D  FreeCAD/Mod/fasteners/FsData/iso7380def.csv', 'D  FreeCAD/Mod/fasteners/FsData/iso7380length.csv', 'D  FreeCAD/Mod/fasteners/FsData/iso7380range.csv', 'D  FreeCAD/Mod/fasteners/FsData/iso888length.csv', 'D  FreeCAD/Mod/fasteners/FsData/standard_diameters.csv', 'D  FreeCAD/Mod/fasteners/FsData/tuningTable.csv', 'D  FreeCAD/Mod/fasteners/Icons/ASMEB18.2.1.6.svg', 'D  FreeCAD/Mod/fasteners/Icons/ASMEB18.2.1.8.svg', 'D  FreeCAD/Mod/fasteners/Icons/ASMEB18.2.2.1A.svg', 'D  FreeCAD/Mod/fasteners/Icons/ASMEB18.2.2.4A.svg', 'D  FreeCAD/Mod/fasteners/Icons/ASMEB18.2.2.4B.svg', 'D  FreeCAD/Mod/fasteners/Icons/ASMEB18.21.1.12A.svg', 'D  FreeCAD/Mod/fasteners/Icons/ASMEB18.21.1.12B.svg', 'D  FreeCAD/Mod/fasteners/Icons/ASMEB18.21.1.12C.svg', 'D  FreeCAD/Mod/fasteners/Icons/ASMEB18.3.1A.svg', 'D  FreeCAD/Mod/fasteners/Icons/ASMEB18.3.2.svg', 'D  FreeCAD/Mod/fasteners/Icons/ASMEB18.3.3A.svg', 'D  FreeCAD/Mod/fasteners/Icons/ASMEB18.3.3B.svg', 'D  FreeCAD/Mod/fasteners/Icons/ASMEB18.3.4.svg', 'D  FreeCAD/Mod/fasteners/Icons/ASMEB18.3.5A.svg', 'D  FreeCAD/Mod/fasteners/Icons/ASMEB18.3.5B.svg', 'D  FreeCAD/Mod/fasteners/Icons/ASMEB18.3.5C.svg', 'D  FreeCAD/Mod/fasteners/Icons/ASMEB18.3.5D.svg', 'D  FreeCAD/Mod/fasteners/Icons/ASMEB18.5.2.svg', 'D  FreeCAD/Mod/fasteners/Icons/ASMEB18.6.3.1A.svg', 'D  FreeCAD/Mod/fasteners/Icons/DIN557.svg', 'D  FreeCAD/Mod/fasteners/Icons/DIN562.svg', 'D  FreeCAD/Mod/fasteners/Icons/DIN6912.svg', 'D  FreeCAD/Mod/fasteners/Icons/DIN7984.svg', 'D  FreeCAD/Mod/fasteners/Icons/DIN967.svg', 'D  FreeCAD/Mod/fasteners/Icons/DIN985.svg', 'D  FreeCAD/Mod/fasteners/Icons/EN1661.svg', 'D  FreeCAD/Mod/fasteners/Icons/EN1662.svg', 'D  FreeCAD/Mod/fasteners/Icons/EN1665.svg', 'D  FreeCAD/Mod/fasteners/Icons/FNLogo.svg', 'D  FreeCAD/Mod/fasteners/Icons/HexNut.svg', 'D  FreeCAD/Mod/fasteners/Icons/ISO10642.svg', 'D  FreeCAD/Mod/fasteners/Icons/ISO1207.svg', 'D  FreeCAD/Mod/fasteners/Icons/ISO14579.svg', 'D  FreeCAD/Mod/fasteners/Icons/ISO14580.svg', 'D  FreeCAD/Mod/fasteners/Icons/ISO14582.svg', 'D  FreeCAD/Mod/fasteners/Icons/ISO14583.svg', 'D  FreeCAD/Mod/fasteners/Icons/ISO14584.svg', 'D  FreeCAD/Mod/fasteners/Icons/ISO1580.svg', 'D  FreeCAD/Mod/fasteners/Icons/ISO2009.svg', 'D  FreeCAD/Mod/fasteners/Icons/ISO2010.svg', 'D  FreeCAD/Mod/fasteners/Icons/ISO4014.svg', 'D  FreeCAD/Mod/fasteners/Icons/ISO4017.svg', 'D  FreeCAD/Mod/fasteners/Icons/ISO4026.svg', 'D  FreeCAD/Mod/fasteners/Icons/ISO4027.svg', 'D  FreeCAD/Mod/fasteners/Icons/ISO4028.svg', 'D  FreeCAD/Mod/fasteners/Icons/ISO4029.svg', 'D  FreeCAD/Mod/fasteners/Icons/ISO4032.svg', 'D  FreeCAD/Mod/fasteners/Icons/ISO4033.svg', 'D  FreeCAD/Mod/fasteners/Icons/ISO4035.svg', 'D  FreeCAD/Mod/fasteners/Icons/ISO4762.svg', 'D  FreeCAD/Mod/fasteners/Icons/ISO7045.svg', 'D  FreeCAD/Mod/fasteners/Icons/ISO7046.svg', 'D  FreeCAD/Mod/fasteners/Icons/ISO7047.svg', 'D  FreeCAD/Mod/fasteners/Icons/ISO7048.svg', 'D  FreeCAD/Mod/fasteners/Icons/ISO7089.svg', 'D  FreeCAD/Mod/fasteners/Icons/ISO7090.svg', 'D  FreeCAD/Mod/fasteners/Icons/ISO7092.svg', 'D  FreeCAD/Mod/fasteners/Icons/ISO7093-1.svg', 'D  FreeCAD/Mod/fasteners/Icons/ISO7094.svg', 'D  FreeCAD/Mod/fasteners/Icons/ISO7379.svg', 'D  FreeCAD/Mod/fasteners/Icons/ISO7380-1.svg', 'D  FreeCAD/Mod/fasteners/Icons/ISO7380-2.svg', 'D  FreeCAD/Mod/fasteners/Icons/ISO7380.svg', 'D  FreeCAD/Mod/fasteners/Icons/IconBOM.svg', 'D  FreeCAD/Mod/fasteners/Icons/IconCSHole.svg', 'D  FreeCAD/Mod/fasteners/Icons/IconChangeParam.svg', 'D  FreeCAD/Mod/fasteners/Icons/IconFlip.svg', 'D  FreeCAD/Mod/fasteners/Icons/IconMatchTypeInner.svg', 'D  FreeCAD/Mod/fasteners/Icons/IconMatchTypeOuter.svg', 'D  FreeCAD/Mod/fasteners/Icons/IconMove.svg', 'D  FreeCAD/Mod/fasteners/Icons/IconScrewCalc.svg', 'D  FreeCAD/Mod/fasteners/Icons/IconShape.svg', 'D  FreeCAD/Mod/fasteners/Icons/PCBSpacer.svg', 'D  FreeCAD/Mod/fasteners/Icons/PCBStandoff.svg', 'D  FreeCAD/Mod/fasteners/Icons/PEMBLStandoff.svg', 'D  FreeCAD/Mod/fasteners/Icons/PEMPressNut.svg', 'D  FreeCAD/Mod/fasteners/Icons/PEMStud.svg', 'D  FreeCAD/Mod/fasteners/Icons/PEMTHStandoff.svg', 'D  FreeCAD/Mod/fasteners/Icons/ScrewDie.svg', 'D  FreeCAD/Mod/fasteners/Icons/ScrewDieInch.svg', 'D  FreeCAD/Mod/fasteners/Icons/ScrewTap.svg', 'D  FreeCAD/Mod/fasteners/Icons/ScrewTapInch.svg', 'D  FreeCAD/Mod/fasteners/Icons/ScrewTapOld.svg', 'D  FreeCAD/Mod/fasteners/Icons/ThreadedRod.svg', 'D  FreeCAD/Mod/fasteners/Icons/ThreadedRodInch.svg', 'D  FreeCAD/Mod/fasteners/Icons/preferences-fasteners.svg', 'D  FreeCAD/Mod/fasteners/Init.py', 'D  FreeCAD/Mod/fasteners/InitGui.py', 'D  FreeCAD/Mod/fasteners/LICENSE', 'D  FreeCAD/Mod/fasteners/PEMInserts.py', 'D  FreeCAD/Mod/fasteners/README.md', 'D  FreeCAD/Mod/fasteners/Resources/FSCreated.png', 'D  FreeCAD/Mod/fasteners/Resources/FSIconProcess.png', 'D  FreeCAD/Mod/fasteners/Resources/FSMoved.png', 'D  FreeCAD/Mod/fasteners/Resources/FSParams.png', 'D  FreeCAD/Mod/fasteners/Resources/FSSelMove.png', 'D  FreeCAD/Mod/fasteners/Resources/FSSelect.png', 'D  FreeCAD/Mod/fasteners/Resources/FSToolbar.png', 'D  FreeCAD/Mod/fasteners/Resources/FScalcExportOption.png', 'D  FreeCAD/Mod/fasteners/Resources/FSexampletable.png', 'D  FreeCAD/Mod/fasteners/Resources/FastenersScreencast.gif', 'D  FreeCAD/Mod/fasteners/ScrewMaker.py', 'D  FreeCAD/Mod/fasteners/WidgetScrewCalc.ui', 'D  FreeCAD/Mod/fasteners/fnwb_locator.py', 'D  FreeCAD/Mod/fasteners/screw_maker.py', 'D  FreeCAD/system.cfg', 'D  FreeCAD/user.cfg', ' ? diff-dwg', 'D  gantt/gantt-howto-node_s/README.md', 'D  gantt/gantt-howto-node_s/node_modules/.bin/mime', 'D  gantt/gantt-howto-node_s/node_modules/.bin/mime.cmd', 'D  gantt/gantt-howto-node_s/node_modules/.bin/mime.ps1', 'D  gantt/gantt-howto-node_s/node_modules/.package-lock.json', 'D  gantt/gantt-howto-node_s/node_modules/@types/bluebird/LICENSE', 'D  gantt/gantt-howto-node_s/node_modules/@types/bluebird/README.md', 'D  gantt/gantt-howto-node_s/node_modules/@types/bluebird/index.d.ts', 'D  gantt/gantt-howto-node_s/node_modules/@types/bluebird/package.json', 'D  gantt/gantt-howto-node_s/node_modules/@types/bluebird/ts4.1/index.d.ts', 'D  gantt/gantt-howto-node_s/node_modules/@types/mysql/LICENSE', 'D  gantt/gantt-howto-node_s/node_modules/@types/mysql/README.md', 'D  gantt/gantt-howto-node_s/node_modules/@types/mysql/index.d.ts', 'D  gantt/gantt-howto-node_s/node_modules/@types/mysql/package.json', 'D  gantt/gantt-howto-node_s/node_modules/@types/node/LICENSE', 'D  gantt/gantt-howto-node_s/node_modules/@types/node/README.md', 'D  gantt/gantt-howto-node_s/node_modules/@types/node/assert.d.ts', 'D  gantt/gantt-howto-node_s/node_modules/@types/node/assert/strict.d.ts', 'D  gantt/gantt-howto-node_s/node_modules/@types/node/async_hooks.d.ts', 'D  gantt/gantt-howto-node_s/node_modules/@types/node/buffer.d.ts', 'D  gantt/gantt-howto-node_s/node_modules/@types/node/child_process.d.ts', 'D  gantt/gantt-howto-node_s/node_modules/@types/node/cluster.d.ts', 'D  gantt/gantt-howto-node_s/node_modules/@types/node/console.d.ts', 'D  gantt/gantt-howto-node_s/node_modules/@types/node/constants.d.ts', 'D  gantt/gantt-howto-node_s/node_modules/@types/node/crypto.d.ts', 'D  gantt/gantt-howto-node_s/node_modules/@types/node/dgram.d.ts', 'D  gantt/gantt-howto-node_s/node_modules/@types/node/diagnostics_channel.d.ts', 'D  gantt/gantt-howto-node_s/node_modules/@types/node/dns.d.ts', 'D  gantt/gantt-howto-node_s/node_modules/@types/node/dns/promises.d.ts', 'D  gantt/gantt-howto-node_s/node_modules/@types/node/domain.d.ts', 'D  gantt/gantt-howto-node_s/node_modules/@types/node/events.d.ts', 'D  gantt/gantt-howto-node_s/node_modules/@types/node/fs.d.ts', 'D  gantt/gantt-howto-node_s/node_modules/@types/node/fs/promises.d.ts', 'D  gantt/gantt-howto-node_s/node_modules/@types/node/globals.d.ts', 'D  gantt/gantt-howto-node_s/node_modules/@types/node/globals.global.d.ts', 'D  gantt/gantt-howto-node_s/node_modules/@types/node/http.d.ts', 'D  gantt/gantt-howto-node_s/node_modules/@types/node/http2.d.ts', 'D  gantt/gantt-howto-node_s/node_modules/@types/node/https.d.ts', 'D  gantt/gantt-howto-node_s/node_modules/@types/node/index.d.ts', 'D  gantt/gantt-howto-node_s/node_modules/@types/node/inspector.d.ts', 'D  gantt/gantt-howto-node_s/node_modules/@types/node/module.d.ts', 'D  gantt/gantt-howto-node_s/node_modules/@types/node/net.d.ts', 'D  gantt/gantt-howto-node_s/node_modules/@types/node/os.d.ts', 'D  gantt/gantt-howto-node_s/node_modules/@types/node/package.json', 'D  gantt/gantt-howto-node_s/node_modules/@types/node/path.d.ts', 'D  gantt/gantt-howto-node_s/node_modules/@types/node/perf_hooks.d.ts', 'D  gantt/gantt-howto-node_s/node_modules/@types/node/process.d.ts', 'D  gantt/gantt-howto-node_s/node_modules/@types/node/punycode.d.ts', 'D  gantt/gantt-howto-node_s/node_modules/@types/node/querystring.d.ts', 'D  gantt/gantt-howto-node_s/node_modules/@types/node/readline.d.ts', 'D  gantt/gantt-howto-node_s/node_modules/@types/node/repl.d.ts', 'D  gantt/gantt-howto-node_s/node_modules/@types/node/stream.d.ts', 'D  gantt/gantt-howto-node_s/node_modules/@types/node/stream/consumers.d.ts', 'D  gantt/gantt-howto-node_s/node_modules/@types/node/stream/promises.d.ts', 'D  gantt/gantt-howto-node_s/node_modules/@types/node/stream/web.d.ts', 'D  gantt/gantt-howto-node_s/node_modules/@types/node/string_decoder.d.ts', 'D  gantt/gantt-howto-node_s/node_modules/@types/node/timers.d.ts', 'D  gantt/gantt-howto-node_s/node_modules/@types/node/timers/promises.d.ts', 'D  gantt/gantt-howto-node_s/node_modules/@types/node/tls.d.ts', 'D  gantt/gantt-howto-node_s/node_modules/@types/node/trace_events.d.ts', 'D  gantt/gantt-howto-node_s/node_modules/@types/node/tty.d.ts', 'D  gantt/gantt-howto-node_s/node_modules/@types/node/url.d.ts', 'D  gantt/gantt-howto-node_s/node_modules/@types/node/util.d.ts', 'D  gantt/gantt-howto-node_s/node_modules/@types/node/v8.d.ts', 'D  gantt/gantt-howto-node_s/node_modules/@types/node/vm.d.ts', 'D  gantt/gantt-howto-node_s/node_modules/@types/node/wasi.d.ts', 'D  gantt/gantt-howto-node_s/node_modules/@types/node/worker_threads.d.ts', 'D  gantt/gantt-howto-node_s/node_modules/@types/node/zlib.d.ts', 'D  gantt/gantt-howto-node_s/node_modules/accepts/HISTORY.md', 'D  gantt/gantt-howto-node_s/node_modules/accepts/LICENSE', 'D  gantt/gantt-howto-node_s/node_modules/accepts/README.md', 'D  gantt/gantt-howto-node_s/node_modules/accepts/index.js', 'D  gantt/gantt-howto-node_s/node_modules/accepts/package.json', 'D  gantt/gantt-howto-node_s/node_modules/array-flatten/LICENSE', 'D  gantt/gantt-howto-node_s/node_modules/array-flatten/README.md', 'D  gantt/gantt-howto-node_s/node_modules/array-flatten/array-flatten.js', 'D  gantt/gantt-howto-node_s/node_modules/array-flatten/package.json', 'D  gantt/gantt-howto-node_s/node_modules/bignumber.js/CHANGELOG.md', 'D  gantt/gantt-howto-node_s/node_modules/bignumber.js/LICENCE', 'D  gantt/gantt-howto-node_s/node_modules/bignumber.js/README.md', 'D  gantt/gantt-howto-node_s/node_modules/bignumber.js/bignumber.d.ts', 'D  gantt/gantt-howto-node_s/node_modules/bignumber.js/bignumber.js', 'D  gantt/gantt-howto-node_s/node_modules/bignumber.js/bignumber.min.js', 'D  gantt/gantt-howto-node_s/node_modules/bignumber.js/bignumber.min.js.map', 'D  gantt/gantt-howto-node_s/node_modules/bignumber.js/bignumber.mjs', 'D  gantt/gantt-howto-node_s/node_modules/bignumber.js/doc/API.html', 'D  gantt/gantt-howto-node_s/node_modules/bignumber.js/package.json', 'D  gantt/gantt-howto-node_s/node_modules/bluebird/LICENSE', 'D  gantt/gantt-howto-node_s/node_modules/bluebird/README.md', 'D  gantt/gantt-howto-node_s/node_modules/bluebird/changelog.md', 'D  gantt/gantt-howto-node_s/node_modules/bluebird/js/browser/bluebird.core.js', 'D  gantt/gantt-howto-node_s/node_modules/bluebird/js/browser/bluebird.core.min.js', 'D  gantt/gantt-howto-node_s/node_modules/bluebird/js/browser/bluebird.js', 'D  gantt/gantt-howto-node_s/node_modules/bluebird/js/browser/bluebird.min.js', 'D  gantt/gantt-howto-node_s/node_modules/bluebird/js/release/any.js', 'D  gantt/gantt-howto-node_s/node_modules/bluebird/js/release/assert.js', 'D  gantt/gantt-howto-node_s/node_modules/bluebird/js/release/async.js', 'D  gantt/gantt-howto-node_s/node_modules/bluebird/js/release/bind.js', 'D  gantt/gantt-howto-node_s/node_modules/bluebird/js/release/bluebird.js', 'D  gantt/gantt-howto-node_s/node_modules/bluebird/js/release/call_get.js', 'D  gantt/gantt-howto-node_s/node_modules/bluebird/js/release/cancel.js', 'D  gantt/gantt-howto-node_s/node_modules/bluebird/js/release/catch_filter.js', 'D  gantt/gantt-howto-node_s/node_modules/bluebird/js/release/context.js', 'D  gantt/gantt-howto-node_s/node_modules/bluebird/js/release/debuggability.js', 'D  gantt/gantt-howto-node_s/node_modules/bluebird/js/release/direct_resolve.js', 'D  gantt/gantt-howto-node_s/node_modules/bluebird/js/release/each.js', 'D  gantt/gantt-howto-node_s/node_modules/bluebird/js/release/errors.js', 'D  gantt/gantt-howto-node_s/node_modules/bluebird/js/release/es5.js', 'D  gantt/gantt-howto-node_s/node_modules/bluebird/js/release/filter.js', 'D  gantt/gantt-howto-node_s/node_modules/bluebird/js/release/finally.js', 'D  gantt/gantt-howto-node_s/node_modules/bluebird/js/release/generators.js', 'D  gantt/gantt-howto-node_s/node_modules/bluebird/js/release/join.js', 'D  gantt/gantt-howto-node_s/node_modules/bluebird/js/release/map.js', 'D  gantt/gantt-howto-node_s/node_modules/bluebird/js/release/method.js', 'D  gantt/gantt-howto-node_s/node_modules/bluebird/js/release/nodeback.js', 'D  gantt/gantt-howto-node_s/node_modules/bluebird/js/release/nodeify.js', 'D  gantt/gantt-howto-node_s/node_modules/bluebird/js/release/promise.js', 'D  gantt/gantt-howto-node_s/node_modules/bluebird/js/release/promise_array.js', 'D  gantt/gantt-howto-node_s/node_modules/bluebird/js/release/promisify.js', 'D  gantt/gantt-howto-node_s/node_modules/bluebird/js/release/props.js', 'D  gantt/gantt-howto-node_s/node_modules/bluebird/js/release/queue.js', 'D  gantt/gantt-howto-node_s/node_modules/bluebird/js/release/race.js', 'D  gantt/gantt-howto-node_s/node_modules/bluebird/js/release/reduce.js', 'D  gantt/gantt-howto-node_s/node_modules/bluebird/js/release/schedule.js', 'D  gantt/gantt-howto-node_s/node_modules/bluebird/js/release/settle.js', 'D  gantt/gantt-howto-node_s/node_modules/bluebird/js/release/some.js', 'D  gantt/gantt-howto-node_s/node_modules/bluebird/js/release/synchronous_inspection.js', 'D  gantt/gantt-howto-node_s/node_modules/bluebird/js/release/thenables.js', 'D  gantt/gantt-howto-node_s/node_modules/bluebird/js/release/timers.js', 'D  gantt/gantt-howto-node_s/node_modules/bluebird/js/release/using.js', 'D  gantt/gantt-howto-node_s/node_modules/bluebird/js/release/util.js', 'D  gantt/gantt-howto-node_s/node_modules/bluebird/package.json', 'D  gantt/gantt-howto-node_s/node_modules/body-parser/HISTORY.md', 'D  gantt/gantt-howto-node_s/node_modules/body-parser/LICENSE', 'D  gantt/gantt-howto-node_s/node_modules/body-parser/README.md', 'D  gantt/gantt-howto-node_s/node_modules/body-parser/index.js', 'D  gantt/gantt-howto-node_s/node_modules/body-parser/lib/read.js', 'D  gantt/gantt-howto-node_s/node_modules/body-parser/lib/types/json.js', 'D  gantt/gantt-howto-node_s/node_modules/body-parser/lib/types/raw.js', 'D  gantt/gantt-howto-node_s/node_modules/body-parser/lib/types/text.js', 'D  gantt/gantt-howto-node_s/node_modules/body-parser/lib/types/urlencoded.js', 'D  gantt/gantt-howto-node_s/node_modules/body-parser/package.json', 'D  gantt/gantt-howto-node_s/node_modules/bytes/History.md', 'D  gantt/gantt-howto-node_s/node_modules/bytes/LICENSE', 'D  gantt/gantt-howto-node_s/node_modules/bytes/Readme.md', 'D  gantt/gantt-howto-node_s/node_modules/bytes/index.js', 'D  gantt/gantt-howto-node_s/node_modules/bytes/package.json', 'D  gantt/gantt-howto-node_s/node_modules/content-disposition/HISTORY.md', 'D  gantt/gantt-howto-node_s/node_modules/content-disposition/LICENSE', 'D  gantt/gantt-howto-node_s/node_modules/content-disposition/README.md', 'D  gantt/gantt-howto-node_s/node_modules/content-disposition/index.js', 'D  gantt/gantt-howto-node_s/node_modules/content-disposition/package.json', 'D  gantt/gantt-howto-node_s/node_modules/content-type/HISTORY.md', 'D  gantt/gantt-howto-node_s/node_modules/content-type/LICENSE', 'D  gantt/gantt-howto-node_s/node_modules/content-type/README.md', 'D  gantt/gantt-howto-node_s/node_modules/content-type/index.js', 'D  gantt/gantt-howto-node_s/node_modules/content-type/package.json', 'D  gantt/gantt-howto-node_s/node_modules/cookie-session/HISTORY.md', 'D  gantt/gantt-howto-node_s/node_modules/cookie-session/LICENSE', 'D  gantt/gantt-howto-node_s/node_modules/cookie-session/README.md', 'D  gantt/gantt-howto-node_s/node_modules/cookie-session/index.js', 'D  gantt/gantt-howto-node_s/node_modules/cookie-session/node_modules/debug/CHANGELOG.md', 'D  gantt/gantt-howto-node_s/node_modules/cookie-session/node_modules/debug/LICENSE', 'D  gantt/gantt-howto-node_s/node_modules/cookie-session/node_modules/debug/README.md', 'D  gantt/gantt-howto-node_s/node_modules/cookie-session/node_modules/debug/node.js', 'D  gantt/gantt-howto-node_s/node_modules/cookie-session/node_modules/debug/package.json', 'D  gantt/gantt-howto-node_s/node_modules/cookie-session/node_modules/debug/src/browser.js', 'D  gantt/gantt-howto-node_s/node_modules/cookie-session/node_modules/debug/src/common.js', 'D  gantt/gantt-howto-node_s/node_modules/cookie-session/node_modules/debug/src/index.js', 'D  gantt/gantt-howto-node_s/node_modules/cookie-session/node_modules/debug/src/node.js', 'D  gantt/gantt-howto-node_s/node_modules/cookie-session/node_modules/ms/index.js', 'D  gantt/gantt-howto-node_s/node_modules/cookie-session/node_modules/ms/license.md', 'D  gantt/gantt-howto-node_s/node_modules/cookie-session/node_modules/ms/package.json', 'D  gantt/gantt-howto-node_s/node_modules/cookie-session/node_modules/ms/readme.md', 'D  gantt/gantt-howto-node_s/node_modules/cookie-session/package.json', 'D  gantt/gantt-howto-node_s/node_modules/cookie-signature/.npmignore', 'D  gantt/gantt-howto-node_s/node_modules/cookie-signature/History.md', 'D  gantt/gantt-howto-node_s/node_modules/cookie-signature/Readme.md', 'D  gantt/gantt-howto-node_s/node_modules/cookie-signature/index.js', 'D  gantt/gantt-howto-node_s/node_modules/cookie-signature/package.json', 'D  gantt/gantt-howto-node_s/node_modules/cookie/HISTORY.md', 'D  gantt/gantt-howto-node_s/node_modules/cookie/LICENSE', 'D  gantt/gantt-howto-node_s/node_modules/cookie/README.md', 'D  gantt/gantt-howto-node_s/node_modules/cookie/index.js', 'D  gantt/gantt-howto-node_s/node_modules/cookie/package.json', 'D  gantt/gantt-howto-node_s/node_modules/cookies/HISTORY.md', 'D  gantt/gantt-howto-node_s/node_modules/cookies/LICENSE', 'D  gantt/gantt-howto-node_s/node_modules/cookies/README.md', 'D  gantt/gantt-howto-node_s/node_modules/cookies/index.js', 'D  gantt/gantt-howto-node_s/node_modules/cookies/node_modules/depd/History.md', 'D  gantt/gantt-howto-node_s/node_modules/cookies/node_modules/depd/LICENSE', 'D  gantt/gantt-howto-node_s/node_modules/cookies/node_modules/depd/Readme.md', 'D  gantt/gantt-howto-node_s/node_modules/cookies/node_modules/depd/index.js', 'D  gantt/gantt-howto-node_s/node_modules/cookies/node_modules/depd/lib/browser/index.js', 'D  gantt/gantt-howto-node_s/node_modules/cookies/node_modules/depd/package.json', 'D  gantt/gantt-howto-node_s/node_modules/cookies/package.json', 'D  gantt/gantt-howto-node_s/node_modules/core-util-is/LICENSE', 'D  gantt/gantt-howto-node_s/node_modules/core-util-is/README.md', 'D  gantt/gantt-howto-node_s/node_modules/core-util-is/lib/util.js', 'D  gantt/gantt-howto-node_s/node_modules/core-util-is/package.json', 'D  gantt/gantt-howto-node_s/node_modules/date-format-lite/ChangeLog', 'D  gantt/gantt-howto-node_s/node_modules/date-format-lite/README.md', 'D  gantt/gantt-howto-node_s/node_modules/date-format-lite/dist/index-min.js', 'D  gantt/gantt-howto-node_s/node_modules/date-format-lite/index.js', 'D  gantt/gantt-howto-node_s/node_modules/date-format-lite/package.json', 'D  gantt/gantt-howto-node_s/node_modules/debug/.coveralls.yml', 'D  gantt/gantt-howto-node_s/node_modules/debug/.eslintrc', 'D  gantt/gantt-howto-node_s/node_modules/debug/.npmignore', 'D  gantt/gantt-howto-node_s/node_modules/debug/.travis.yml', 'D  gantt/gantt-howto-node_s/node_modules/debug/CHANGELOG.md', 'D  gantt/gantt-howto-node_s/node_modules/debug/LICENSE', 'D  gantt/gantt-howto-node_s/node_modules/debug/Makefile', 'D  gantt/gantt-howto-node_s/node_modules/debug/README.md', 'D  gantt/gantt-howto-node_s/node_modules/debug/component.json', 'D  gantt/gantt-howto-node_s/node_modules/debug/karma.conf.js', 'D  gantt/gantt-howto-node_s/node_modules/debug/node.js', 'D  gantt/gantt-howto-node_s/node_modules/debug/package.json', 'D  gantt/gantt-howto-node_s/node_modules/debug/src/browser.js', 'D  gantt/gantt-howto-node_s/node_modules/debug/src/debug.js', 'D  gantt/gantt-howto-node_s/node_modules/debug/src/index.js', 'D  gantt/gantt-howto-node_s/node_modules/debug/src/inspector-log.js', 'D  gantt/gantt-howto-node_s/node_modules/debug/src/node.js', 'D  gantt/gantt-howto-node_s/node_modules/depd/History.md', 'D  gantt/gantt-howto-node_s/node_modules/depd/LICENSE', 'D  gantt/gantt-howto-node_s/node_modules/depd/Readme.md', 'D  gantt/gantt-howto-node_s/node_modules/depd/index.js', 'D  gantt/gantt-howto-node_s/node_modules/depd/lib/browser/index.js', 'D  gantt/gantt-howto-node_s/node_modules/depd/lib/compat/callsite-tostring.js', 'D  gantt/gantt-howto-node_s/node_modules/depd/lib/compat/event-listener-count.js', 'D  gantt/gantt-howto-node_s/node_modules/depd/lib/compat/index.js', 'D  gantt/gantt-howto-node_s/node_modules/depd/package.json', 'D  gantt/gantt-howto-node_s/node_modules/destroy/LICENSE', 'D  gantt/gantt-howto-node_s/node_modules/destroy/README.md', 'D  gantt/gantt-howto-node_s/node_modules/destroy/index.js', 'D  gantt/gantt-howto-node_s/node_modules/destroy/package.json', 'D  gantt/gantt-howto-node_s/node_modules/ee-first/LICENSE', 'D  gantt/gantt-howto-node_s/node_modules/ee-first/README.md', 'D  gantt/gantt-howto-node_s/node_modules/ee-first/index.js', 'D  gantt/gantt-howto-node_s/node_modules/ee-first/package.json', 'D  gantt/gantt-howto-node_s/node_modules/encodeurl/HISTORY.md', 'D  gantt/gantt-howto-node_s/node_modules/encodeurl/LICENSE', 'D  gantt/gantt-howto-node_s/node_modules/encodeurl/README.md', 'D  gantt/gantt-howto-node_s/node_modules/encodeurl/index.js', 'D  gantt/gantt-howto-node_s/node_modules/encodeurl/package.json', 'D  gantt/gantt-howto-node_s/node_modules/escape-html/LICENSE', 'D  gantt/gantt-howto-node_s/node_modules/escape-html/Readme.md', 'D  gantt/gantt-howto-node_s/node_modules/escape-html/index.js', 'D  gantt/gantt-howto-node_s/node_modules/escape-html/package.json', 'D  gantt/gantt-howto-node_s/node_modules/etag/HISTORY.md', 'D  gantt/gantt-howto-node_s/node_modules/etag/LICENSE', 'D  gantt/gantt-howto-node_s/node_modules/etag/README.md', 'D  gantt/gantt-howto-node_s/node_modules/etag/index.js', 'D  gantt/gantt-howto-node_s/node_modules/etag/package.json', 'D  gantt/gantt-howto-node_s/node_modules/express/History.md', 'D  gantt/gantt-howto-node_s/node_modules/express/LICENSE', 'D  gantt/gantt-howto-node_s/node_modules/express/Readme.md', 'D  gantt/gantt-howto-node_s/node_modules/express/index.js', 'D  gantt/gantt-howto-node_s/node_modules/express/lib/application.js', 'D  gantt/gantt-howto-node_s/node_modules/express/lib/express.js', 'D  gantt/gantt-howto-node_s/node_modules/express/lib/middleware/init.js', 'D  gantt/gantt-howto-node_s/node_modules/express/lib/middleware/query.js', 'D  gantt/gantt-howto-node_s/node_modules/express/lib/request.js', 'D  gantt/gantt-howto-node_s/node_modules/express/lib/response.js', 'D  gantt/gantt-howto-node_s/node_modules/express/lib/router/index.js', 'D  gantt/gantt-howto-node_s/node_modules/express/lib/router/layer.js', 'D  gantt/gantt-howto-node_s/node_modules/express/lib/router/route.js', 'D  gantt/gantt-howto-node_s/node_modules/express/lib/utils.js', 'D  gantt/gantt-howto-node_s/node_modules/express/lib/view.js', 'D  gantt/gantt-howto-node_s/node_modules/express/package.json', 'D  gantt/gantt-howto-node_s/node_modules/finalhandler/HISTORY.md', 'D  gantt/gantt-howto-node_s/node_modules/finalhandler/LICENSE', 'D  gantt/gantt-howto-node_s/node_modules/finalhandler/README.md', 'D  gantt/gantt-howto-node_s/node_modules/finalhandler/index.js', 'D  gantt/gantt-howto-node_s/node_modules/finalhandler/package.json', 'D  gantt/gantt-howto-node_s/node_modules/forwarded/HISTORY.md', 'D  gantt/gantt-howto-node_s/node_modules/forwarded/LICENSE', 'D  gantt/gantt-howto-node_s/node_modules/forwarded/README.md', 'D  gantt/gantt-howto-node_s/node_modules/forwarded/index.js', 'D  gantt/gantt-howto-node_s/node_modules/forwarded/package.json', 'D  gantt/gantt-howto-node_s/node_modules/fresh/HISTORY.md', 'D  gantt/gantt-howto-node_s/node_modules/fresh/LICENSE', 'D  gantt/gantt-howto-node_s/node_modules/fresh/README.md', 'D  gantt/gantt-howto-node_s/node_modules/fresh/index.js', 'D  gantt/gantt-howto-node_s/node_modules/fresh/package.json', 'D  gantt/gantt-howto-node_s/node_modules/http-errors/HISTORY.md', 'D  gantt/gantt-howto-node_s/node_modules/http-errors/LICENSE', 'D  gantt/gantt-howto-node_s/node_modules/http-errors/README.md', 'D  gantt/gantt-howto-node_s/node_modules/http-errors/index.js', 'D  gantt/gantt-howto-node_s/node_modules/http-errors/package.json', 'D  gantt/gantt-howto-node_s/node_modules/iconv-lite/Changelog.md', 'D  gantt/gantt-howto-node_s/node_modules/iconv-lite/LICENSE', 'D  gantt/gantt-howto-node_s/node_modules/iconv-lite/README.md', 'D  gantt/gantt-howto-node_s/node_modules/iconv-lite/encodings/dbcs-codec.js', 'D  gantt/gantt-howto-node_s/node_modules/iconv-lite/encodings/dbcs-data.js', 'D  gantt/gantt-howto-node_s/node_modules/iconv-lite/encodings/index.js', 'D  gantt/gantt-howto-node_s/node_modules/iconv-lite/encodings/internal.js', 'D  gantt/gantt-howto-node_s/node_modules/iconv-lite/encodings/sbcs-codec.js', 'D  gantt/gantt-howto-node_s/node_modules/iconv-lite/encodings/sbcs-data-generated.js', 'D  gantt/gantt-howto-node_s/node_modules/iconv-lite/encodings/sbcs-data.js', 'D  gantt/gantt-howto-node_s/node_modules/iconv-lite/encodings/tables/big5-added.json', 'D  gantt/gantt-howto-node_s/node_modules/iconv-lite/encodings/tables/cp936.json', 'D  gantt/gantt-howto-node_s/node_modules/iconv-lite/encodings/tables/cp949.json', 'D  gantt/gantt-howto-node_s/node_modules/iconv-lite/encodings/tables/cp950.json', 'D  gantt/gantt-howto-node_s/node_modules/iconv-lite/encodings/tables/eucjp.json', 'D  gantt/gantt-howto-node_s/node_modules/iconv-lite/encodings/tables/gb18030-ranges.json', 'D  gantt/gantt-howto-node_s/node_modules/iconv-lite/encodings/tables/gbk-added.json', 'D  gantt/gantt-howto-node_s/node_modules/iconv-lite/encodings/tables/shiftjis.json', 'D  gantt/gantt-howto-node_s/node_modules/iconv-lite/encodings/utf16.js', 'D  gantt/gantt-howto-node_s/node_modules/iconv-lite/encodings/utf7.js', 'D  gantt/gantt-howto-node_s/node_modules/iconv-lite/lib/bom-handling.js', 'D  gantt/gantt-howto-node_s/node_modules/iconv-lite/lib/extend-node.js', 'D  gantt/gantt-howto-node_s/node_modules/iconv-lite/lib/index.d.ts', 'D  gantt/gantt-howto-node_s/node_modules/iconv-lite/lib/index.js', 'D  gantt/gantt-howto-node_s/node_modules/iconv-lite/lib/streams.js', 'D  gantt/gantt-howto-node_s/node_modules/iconv-lite/package.json', 'D  gantt/gantt-howto-node_s/node_modules/inherits/LICENSE', 'D  gantt/gantt-howto-node_s/node_modules/inherits/README.md', 'D  gantt/gantt-howto-node_s/node_modules/inherits/inherits.js', 'D  gantt/gantt-howto-node_s/node_modules/inherits/inherits_browser.js', 'D  gantt/gantt-howto-node_s/node_modules/inherits/package.json', 'D  gantt/gantt-howto-node_s/node_modules/ipaddr.js/LICENSE', 'D  gantt/gantt-howto-node_s/node_modules/ipaddr.js/README.md', 'D  gantt/gantt-howto-node_s/node_modules/ipaddr.js/ipaddr.min.js', 'D  gantt/gantt-howto-node_s/node_modules/ipaddr.js/lib/ipaddr.js', 'D  gantt/gantt-howto-node_s/node_modules/ipaddr.js/lib/ipaddr.js.d.ts', 'D  gantt/gantt-howto-node_s/node_modules/ipaddr.js/package.json', 'D  gantt/gantt-howto-node_s/node_modules/isarray/.npmignore', 'D  gantt/gantt-howto-node_s/node_modules/isarray/.travis.yml', 'D  gantt/gantt-howto-node_s/node_modules/isarray/Makefile', 'D  gantt/gantt-howto-node_s/node_modules/isarray/README.md', 'D  gantt/gantt-howto-node_s/node_modules/isarray/component.json', 'D  gantt/gantt-howto-node_s/node_modules/isarray/index.js', 'D  gantt/gantt-howto-node_s/node_modules/isarray/package.json', 'D  gantt/gantt-howto-node_s/node_modules/isarray/test.js', 'D  gantt/gantt-howto-node_s/node_modules/keygrip/HISTORY.md', 'D  gantt/gantt-howto-node_s/node_modules/keygrip/LICENSE', 'D  gantt/gantt-howto-node_s/node_modules/keygrip/README.md', 'D  gantt/gantt-howto-node_s/node_modules/keygrip/index.js', 'D  gantt/gantt-howto-node_s/node_modules/keygrip/package.json', 'D  gantt/gantt-howto-node_s/node_modules/media-typer/HISTORY.md', 'D  gantt/gantt-howto-node_s/node_modules/media-typer/LICENSE', 'D  gantt/gantt-howto-node_s/node_modules/media-typer/README.md', 'D  gantt/gantt-howto-node_s/node_modules/media-typer/index.js', 'D  gantt/gantt-howto-node_s/node_modules/media-typer/package.json', 'D  gantt/gantt-howto-node_s/node_modules/merge-descriptors/HISTORY.md', 'D  gantt/gantt-howto-node_s/node_modules/merge-descriptors/LICENSE', 'D  gantt/gantt-howto-node_s/node_modules/merge-descriptors/README.md', 'D  gantt/gantt-howto-node_s/node_modules/merge-descriptors/index.js', 'D  gantt/gantt-howto-node_s/node_modules/merge-descriptors/package.json', 'D  gantt/gantt-howto-node_s/node_modules/methods/HISTORY.md', 'D  gantt/gantt-howto-node_s/node_modules/methods/LICENSE', 'D  gantt/gantt-howto-node_s/node_modules/methods/README.md', 'D  gantt/gantt-howto-node_s/node_modules/methods/index.js', 'D  gantt/gantt-howto-node_s/node_modules/methods/package.json', 'D  gantt/gantt-howto-node_s/node_modules/mime-db/HISTORY.md', 'D  gantt/gantt-howto-node_s/node_modules/mime-db/LICENSE', 'D  gantt/gantt-howto-node_s/node_modules/mime-db/README.md', 'D  gantt/gantt-howto-node_s/node_modules/mime-db/db.json', 'D  gantt/gantt-howto-node_s/node_modules/mime-db/index.js', 'D  gantt/gantt-howto-node_s/node_modules/mime-db/package.json', 'D  gantt/gantt-howto-node_s/node_modules/mime-types/HISTORY.md', 'D  gantt/gantt-howto-node_s/node_modules/mime-types/LICENSE', 'D  gantt/gantt-howto-node_s/node_modules/mime-types/README.md', 'D  gantt/gantt-howto-node_s/node_modules/mime-types/index.js', 'D  gantt/gantt-howto-node_s/node_modules/mime-types/package.json', 'D  gantt/gantt-howto-node_s/node_modules/mime/.npmignore', 'D  gantt/gantt-howto-node_s/node_modules/mime/CHANGELOG.md', 'D  gantt/gantt-howto-node_s/node_modules/mime/LICENSE', 'D  gantt/gantt-howto-node_s/node_modules/mime/README.md', 'D  gantt/gantt-howto-node_s/node_modules/mime/cli.js', 'D  gantt/gantt-howto-node_s/node_modules/mime/mime.js', 'D  gantt/gantt-howto-node_s/node_modules/mime/package.json', 'D  gantt/gantt-howto-node_s/node_modules/mime/src/build.js', 'D  gantt/gantt-howto-node_s/node_modules/mime/src/test.js', 'D  gantt/gantt-howto-node_s/node_modules/mime/types.json', 'D  gantt/gantt-howto-node_s/node_modules/ms/index.js', 'D  gantt/gantt-howto-node_s/node_modules/ms/license.md', 'D  gantt/gantt-howto-node_s/node_modules/ms/package.json', 'D  gantt/gantt-howto-node_s/node_modules/ms/readme.md', 'D  gantt/gantt-howto-node_s/node_modules/mysql/Changes.md', 'D  gantt/gantt-howto-node_s/node_modules/mysql/License', 'D  gantt/gantt-howto-node_s/node_modules/mysql/Readme.md', 'D  gantt/gantt-howto-node_s/node_modules/mysql/index.js', 'D  gantt/gantt-howto-node_s/node_modules/mysql/lib/Connection.js', 'D  gantt/gantt-howto-node_s/node_modules/mysql/lib/ConnectionConfig.js', 'D  gantt/gantt-howto-node_s/node_modules/mysql/lib/Pool.js', 'D  gantt/gantt-howto-node_s/node_modules/mysql/lib/PoolCluster.js', 'D  gantt/gantt-howto-node_s/node_modules/mysql/lib/PoolConfig.js', 'D  gantt/gantt-howto-node_s/node_modules/mysql/lib/PoolConnection.js', 'D  gantt/gantt-howto-node_s/node_modules/mysql/lib/PoolNamespace.js', 'D  gantt/gantt-howto-node_s/node_modules/mysql/lib/PoolSelector.js', 'D  gantt/gantt-howto-node_s/node_modules/mysql/lib/protocol/Auth.js', 'D  gantt/gantt-howto-node_s/node_modules/mysql/lib/protocol/BufferList.js', 'D  gantt/gantt-howto-node_s/node_modules/mysql/lib/protocol/PacketHeader.js', 'D  gantt/gantt-howto-node_s/node_modules/mysql/lib/protocol/PacketWriter.js', 'D  gantt/gantt-howto-node_s/node_modules/mysql/lib/protocol/Parser.js', 'D  gantt/gantt-howto-node_s/node_modules/mysql/lib/protocol/Protocol.js', 'D  gantt/gantt-howto-node_s/node_modules/mysql/lib/protocol/ResultSet.js', 'D  gantt/gantt-howto-node_s/node_modules/mysql/lib/protocol/SqlString.js', 'D  gantt/gantt-howto-node_s/node_modules/mysql/lib/protocol/Timer.js', 'D  gantt/gantt-howto-node_s/node_modules/mysql/lib/protocol/constants/charsets.js', 'D  gantt/gantt-howto-node_s/node_modules/mysql/lib/protocol/constants/client.js', 'D  gantt/gantt-howto-node_s/node_modules/mysql/lib/protocol/constants/errors.js', 'D  gantt/gantt-howto-node_s/node_modules/mysql/lib/protocol/constants/field_flags.js', 'D  gantt/gantt-howto-node_s/node_modules/mysql/lib/protocol/constants/server_status.js', 'D  gantt/gantt-howto-node_s/node_modules/mysql/lib/protocol/constants/ssl_profiles.js', 'D  gantt/gantt-howto-node_s/node_modules/mysql/lib/protocol/constants/types.js', 'D  gantt/gantt-howto-node_s/node_modules/mysql/lib/protocol/packets/AuthSwitchRequestPacket.js', 'D  gantt/gantt-howto-node_s/node_modules/mysql/lib/protocol/packets/AuthSwitchResponsePacket.js', 'D  gantt/gantt-howto-node_s/node_modules/mysql/lib/protocol/packets/ClientAuthenticationPacket.js', 'D  gantt/gantt-howto-node_s/node_modules/mysql/lib/protocol/packets/ComChangeUserPacket.js', 'D  gantt/gantt-howto-node_s/node_modules/mysql/lib/protocol/packets/ComPingPacket.js', 'D  gantt/gantt-howto-node_s/node_modules/mysql/lib/protocol/packets/ComQueryPacket.js', 'D  gantt/gantt-howto-node_s/node_modules/mysql/lib/protocol/packets/ComQuitPacket.js', 'D  gantt/gantt-howto-node_s/node_modules/mysql/lib/protocol/packets/ComStatisticsPacket.js', 'D  gantt/gantt-howto-node_s/node_modules/mysql/lib/protocol/packets/EmptyPacket.js', 'D  gantt/gantt-howto-node_s/node_modules/mysql/lib/protocol/packets/EofPacket.js', 'D  gantt/gantt-howto-node_s/node_modules/mysql/lib/protocol/packets/ErrorPacket.js', 'D  gantt/gantt-howto-node_s/node_modules/mysql/lib/protocol/packets/Field.js', 'D  gantt/gantt-howto-node_s/node_modules/mysql/lib/protocol/packets/FieldPacket.js', 'D  gantt/gantt-howto-node_s/node_modules/mysql/lib/protocol/packets/HandshakeInitializationPacket.js', 'D  gantt/gantt-howto-node_s/node_modules/mysql/lib/protocol/packets/LocalDataFilePacket.js', 'D  gantt/gantt-howto-node_s/node_modules/mysql/lib/protocol/packets/LocalInfileRequestPacket.js', 'D  gantt/gantt-howto-node_s/node_modules/mysql/lib/protocol/packets/OkPacket.js', 'D  gantt/gantt-howto-node_s/node_modules/mysql/lib/protocol/packets/OldPasswordPacket.js', 'D  gantt/gantt-howto-node_s/node_modules/mysql/lib/protocol/packets/ResultSetHeaderPacket.js', 'D  gantt/gantt-howto-node_s/node_modules/mysql/lib/protocol/packets/RowDataPacket.js', 'D  gantt/gantt-howto-node_s/node_modules/mysql/lib/protocol/packets/SSLRequestPacket.js', 'D  gantt/gantt-howto-node_s/node_modules/mysql/lib/protocol/packets/StatisticsPacket.js', 'D  gantt/gantt-howto-node_s/node_modules/mysql/lib/protocol/packets/UseOldPasswordPacket.js', 'D  gantt/gantt-howto-node_s/node_modules/mysql/lib/protocol/packets/index.js', 'D  gantt/gantt-howto-node_s/node_modules/mysql/lib/protocol/sequences/ChangeUser.js', 'D  gantt/gantt-howto-node_s/node_modules/mysql/lib/protocol/sequences/Handshake.js', 'D  gantt/gantt-howto-node_s/node_modules/mysql/lib/protocol/sequences/Ping.js', 'D  gantt/gantt-howto-node_s/node_modules/mysql/lib/protocol/sequences/Query.js', 'D  gantt/gantt-howto-node_s/node_modules/mysql/lib/protocol/sequences/Quit.js', 'D  gantt/gantt-howto-node_s/node_modules/mysql/lib/protocol/sequences/Sequence.js', 'D  gantt/gantt-howto-node_s/node_modules/mysql/lib/protocol/sequences/Statistics.js', 'D  gantt/gantt-howto-node_s/node_modules/mysql/lib/protocol/sequences/index.js', 'D  gantt/gantt-howto-node_s/node_modules/mysql/node_modules/safe-buffer/LICENSE', 'D  gantt/gantt-howto-node_s/node_modules/mysql/node_modules/safe-buffer/README.md', 'D  gantt/gantt-howto-node_s/node_modules/mysql/node_modules/safe-buffer/index.d.ts', 'D  gantt/gantt-howto-node_s/node_modules/mysql/node_modules/safe-buffer/index.js', 'D  gantt/gantt-howto-node_s/node_modules/mysql/node_modules/safe-buffer/package.json', 'D  gantt/gantt-howto-node_s/node_modules/mysql/package.json', 'D  gantt/gantt-howto-node_s/node_modules/negotiator/HISTORY.md', 'D  gantt/gantt-howto-node_s/node_modules/negotiator/LICENSE', 'D  gantt/gantt-howto-node_s/node_modules/negotiator/README.md', 'D  gantt/gantt-howto-node_s/node_modules/negotiator/index.js', 'D  gantt/gantt-howto-node_s/node_modules/negotiator/lib/charset.js', 'D  gantt/gantt-howto-node_s/node_modules/negotiator/lib/encoding.js', 'D  gantt/gantt-howto-node_s/node_modules/negotiator/lib/language.js', 'D  gantt/gantt-howto-node_s/node_modules/negotiator/lib/mediaType.js', 'D  gantt/gantt-howto-node_s/node_modules/negotiator/package.json', 'D  gantt/gantt-howto-node_s/node_modules/on-finished/HISTORY.md', 'D  gantt/gantt-howto-node_s/node_modules/on-finished/LICENSE', 'D  gantt/gantt-howto-node_s/node_modules/on-finished/README.md', 'D  gantt/gantt-howto-node_s/node_modules/on-finished/index.js', 'D  gantt/gantt-howto-node_s/node_modules/on-finished/package.json', 'D  gantt/gantt-howto-node_s/node_modules/on-headers/HISTORY.md', 'D  gantt/gantt-howto-node_s/node_modules/on-headers/LICENSE', 'D  gantt/gantt-howto-node_s/node_modules/on-headers/README.md', 'D  gantt/gantt-howto-node_s/node_modules/on-headers/index.js', 'D  gantt/gantt-howto-node_s/node_modules/on-headers/package.json', 'D  gantt/gantt-howto-node_s/node_modules/parseurl/HISTORY.md', 'D  gantt/gantt-howto-node_s/node_modules/parseurl/LICENSE', 'D  gantt/gantt-howto-node_s/node_modules/parseurl/README.md', 'D  gantt/gantt-howto-node_s/node_modules/parseurl/index.js', 'D  gantt/gantt-howto-node_s/node_modules/parseurl/package.json', 'D  gantt/gantt-howto-node_s/node_modules/path-to-regexp/History.md', 'D  gantt/gantt-howto-node_s/node_modules/path-to-regexp/LICENSE', 'D  gantt/gantt-howto-node_s/node_modules/path-to-regexp/Readme.md', 'D  gantt/gantt-howto-node_s/node_modules/path-to-regexp/index.js', 'D  gantt/gantt-howto-node_s/node_modules/path-to-regexp/package.json', 'D  gantt/gantt-howto-node_s/node_modules/process-nextick-args/index.js', 'D  gantt/gantt-howto-node_s/node_modules/process-nextick-args/license.md', 'D  gantt/gantt-howto-node_s/node_modules/process-nextick-args/package.json', 'D  gantt/gantt-howto-node_s/node_modules/process-nextick-args/readme.md', 'D  gantt/gantt-howto-node_s/node_modules/promise-mysql/LICENSE', 'D  gantt/gantt-howto-node_s/node_modules/promise-mysql/README.md', 'D  gantt/gantt-howto-node_s/node_modules/promise-mysql/index.d.ts', 'D  gantt/gantt-howto-node_s/node_modules/promise-mysql/index.js', 'D  gantt/gantt-howto-node_s/node_modules/promise-mysql/lib/connection.js', 'D  gantt/gantt-howto-node_s/node_modules/promise-mysql/lib/helper.js', 'D  gantt/gantt-howto-node_s/node_modules/promise-mysql/lib/pool.js', 'D  gantt/gantt-howto-node_s/node_modules/promise-mysql/lib/poolConnection.js', 'D  gantt/gantt-howto-node_s/node_modules/promise-mysql/package.json', 'D  gantt/gantt-howto-node_s/node_modules/proxy-addr/HISTORY.md', 'D  gantt/gantt-howto-node_s/node_modules/proxy-addr/LICENSE', 'D  gantt/gantt-howto-node_s/node_modules/proxy-addr/README.md', 'D  gantt/gantt-howto-node_s/node_modules/proxy-addr/index.js', 'D  gantt/gantt-howto-node_s/node_modules/proxy-addr/package.json', 'D  gantt/gantt-howto-node_s/node_modules/qs/.editorconfig', 'D  gantt/gantt-howto-node_s/node_modules/qs/.eslintignore', 'D  gantt/gantt-howto-node_s/node_modules/qs/.eslintrc', 'D  gantt/gantt-howto-node_s/node_modules/qs/.github/FUNDING.yml', 'D  gantt/gantt-howto-node_s/node_modules/qs/.nycrc', 'D  gantt/gantt-howto-node_s/node_modules/qs/CHANGELOG.md', 'D  gantt/gantt-howto-node_s/node_modules/qs/LICENSE.md', 'D  gantt/gantt-howto-node_s/node_modules/qs/README.md', 'D  gantt/gantt-howto-node_s/node_modules/qs/dist/qs.js', 'D  gantt/gantt-howto-node_s/node_modules/qs/lib/formats.js', 'D  gantt/gantt-howto-node_s/node_modules/qs/lib/index.js', 'D  gantt/gantt-howto-node_s/node_modules/qs/lib/parse.js', 'D  gantt/gantt-howto-node_s/node_modules/qs/lib/stringify.js', 'D  gantt/gantt-howto-node_s/node_modules/qs/lib/utils.js', 'D  gantt/gantt-howto-node_s/node_modules/qs/package.json', 'D  gantt/gantt-howto-node_s/node_modules/qs/test/parse.js', 'D  gantt/gantt-howto-node_s/node_modules/qs/test/stringify.js', 'D  gantt/gantt-howto-node_s/node_modules/qs/test/utils.js', 'D  gantt/gantt-howto-node_s/node_modules/range-parser/HISTORY.md', 'D  gantt/gantt-howto-node_s/node_modules/range-parser/LICENSE', 'D  gantt/gantt-howto-node_s/node_modules/range-parser/README.md', 'D  gantt/gantt-howto-node_s/node_modules/range-parser/index.js', 'D  gantt/gantt-howto-node_s/node_modules/range-parser/package.json', 'D  gantt/gantt-howto-node_s/node_modules/raw-body/HISTORY.md', 'D  gantt/gantt-howto-node_s/node_modules/raw-body/LICENSE', 'D  gantt/gantt-howto-node_s/node_modules/raw-body/README.md', 'D  gantt/gantt-howto-node_s/node_modules/raw-body/index.d.ts', 'D  gantt/gantt-howto-node_s/node_modules/raw-body/index.js', 'D  gantt/gantt-howto-node_s/node_modules/raw-body/package.json', 'D  gantt/gantt-howto-node_s/node_modules/readable-stream/.travis.yml', 'D  gantt/gantt-howto-node_s/node_modules/readable-stream/CONTRIBUTING.md', 'D  gantt/gantt-howto-node_s/node_modules/readable-stream/GOVERNANCE.md', 'D  gantt/gantt-howto-node_s/node_modules/readable-stream/LICENSE', 'D  gantt/gantt-howto-node_s/node_modules/readable-stream/README.md', 'D  gantt/gantt-howto-node_s/node_modules/readable-stream/doc/wg-meetings/2015-01-30.md', 'D  gantt/gantt-howto-node_s/node_modules/readable-stream/duplex-browser.js', 'D  gantt/gantt-howto-node_s/node_modules/readable-stream/duplex.js', 'D  gantt/gantt-howto-node_s/node_modules/readable-stream/lib/_stream_duplex.js', 'D  gantt/gantt-howto-node_s/node_modules/readable-stream/lib/_stream_passthrough.js', 'D  gantt/gantt-howto-node_s/node_modules/readable-stream/lib/_stream_readable.js', 'D  gantt/gantt-howto-node_s/node_modules/readable-stream/lib/_stream_transform.js', 'D  gantt/gantt-howto-node_s/node_modules/readable-stream/lib/_stream_writable.js', 'D  gantt/gantt-howto-node_s/node_modules/readable-stream/lib/internal/streams/BufferList.js', 'D  gantt/gantt-howto-node_s/node_modules/readable-stream/lib/internal/streams/destroy.js', 'D  gantt/gantt-howto-node_s/node_modules/readable-stream/lib/internal/streams/stream-browser.js', 'D  gantt/gantt-howto-node_s/node_modules/readable-stream/lib/internal/streams/stream.js', 'D  gantt/gantt-howto-node_s/node_modules/readable-stream/node_modules/safe-buffer/LICENSE', 'D  gantt/gantt-howto-node_s/node_modules/readable-stream/node_modules/safe-buffer/README.md', 'D  gantt/gantt-howto-node_s/node_modules/readable-stream/node_modules/safe-buffer/index.d.ts', 'D  gantt/gantt-howto-node_s/node_modules/readable-stream/node_modules/safe-buffer/index.js', 'D  gantt/gantt-howto-node_s/node_modules/readable-stream/node_modules/safe-buffer/package.json', 'D  gantt/gantt-howto-node_s/node_modules/readable-stream/package.json', 'D  gantt/gantt-howto-node_s/node_modules/readable-stream/passthrough.js', 'D  gantt/gantt-howto-node_s/node_modules/readable-stream/readable-browser.js', 'D  gantt/gantt-howto-node_s/node_modules/readable-stream/readable.js', 'D  gantt/gantt-howto-node_s/node_modules/readable-stream/transform.js', 'D  gantt/gantt-howto-node_s/node_modules/readable-stream/writable-browser.js', 'D  gantt/gantt-howto-node_s/node_modules/readable-stream/writable.js', 'D  gantt/gantt-howto-node_s/node_modules/safe-buffer/LICENSE', 'D  gantt/gantt-howto-node_s/node_modules/safe-buffer/README.md', 'D  gantt/gantt-howto-node_s/node_modules/safe-buffer/index.d.ts', 'D  gantt/gantt-howto-node_s/node_modules/safe-buffer/index.js', 'D  gantt/gantt-howto-node_s/node_modules/safe-buffer/package.json', 'D  gantt/gantt-howto-node_s/node_modules/safer-buffer/LICENSE', 'D  gantt/gantt-howto-node_s/node_modules/safer-buffer/Porting-Buffer.md', 'D  gantt/gantt-howto-node_s/node_modules/safer-buffer/Readme.md', 'D  gantt/gantt-howto-node_s/node_modules/safer-buffer/dangerous.js', 'D  gantt/gantt-howto-node_s/node_modules/safer-buffer/package.json', 'D  gantt/gantt-howto-node_s/node_modules/safer-buffer/safer.js', 'D  gantt/gantt-howto-node_s/node_modules/safer-buffer/tests.js', 'D  gantt/gantt-howto-node_s/node_modules/send/HISTORY.md', 'D  gantt/gantt-howto-node_s/node_modules/send/LICENSE', 'D  gantt/gantt-howto-node_s/node_modules/send/README.md', 'D  gantt/gantt-howto-node_s/node_modules/send/index.js', 'D  gantt/gantt-howto-node_s/node_modules/send/node_modules/ms/index.js', 'D  gantt/gantt-howto-node_s/node_modules/send/node_modules/ms/license.md', 'D  gantt/gantt-howto-node_s/node_modules/send/node_modules/ms/package.json', 'D  gantt/gantt-howto-node_s/node_modules/send/node_modules/ms/readme.md', 'D  gantt/gantt-howto-node_s/node_modules/send/package.json', 'D  gantt/gantt-howto-node_s/node_modules/serve-static/HISTORY.md', 'D  gantt/gantt-howto-node_s/node_modules/serve-static/LICENSE', 'D  gantt/gantt-howto-node_s/node_modules/serve-static/README.md', 'D  gantt/gantt-howto-node_s/node_modules/serve-static/index.js', 'D  gantt/gantt-howto-node_s/node_modules/serve-static/package.json', 'D  gantt/gantt-howto-node_s/node_modules/setprototypeof/LICENSE', 'D  gantt/gantt-howto-node_s/node_modules/setprototypeof/README.md', 'D  gantt/gantt-howto-node_s/node_modules/setprototypeof/index.d.ts', 'D  gantt/gantt-howto-node_s/node_modules/setprototypeof/index.js', 'D  gantt/gantt-howto-node_s/node_modules/setprototypeof/package.json', 'D  gantt/gantt-howto-node_s/node_modules/setprototypeof/test/index.js', 'D  gantt/gantt-howto-node_s/node_modules/sqlstring/HISTORY.md', 'D  gantt/gantt-howto-node_s/node_modules/sqlstring/LICENSE', 'D  gantt/gantt-howto-node_s/node_modules/sqlstring/README.md', 'D  gantt/gantt-howto-node_s/node_modules/sqlstring/index.js', 'D  gantt/gantt-howto-node_s/node_modules/sqlstring/lib/SqlString.js', 'D  gantt/gantt-howto-node_s/node_modules/sqlstring/package.json', 'D  gantt/gantt-howto-node_s/node_modules/statuses/HISTORY.md', 'D  gantt/gantt-howto-node_s/node_modules/statuses/LICENSE', 'D  gantt/gantt-howto-node_s/node_modules/statuses/README.md', 'D  gantt/gantt-howto-node_s/node_modules/statuses/codes.json', 'D  gantt/gantt-howto-node_s/node_modules/statuses/index.js', 'D  gantt/gantt-howto-node_s/node_modules/statuses/package.json', 'D  gantt/gantt-howto-node_s/node_modules/string_decoder/.travis.yml', 'D  gantt/gantt-howto-node_s/node_modules/string_decoder/LICENSE', 'D  gantt/gantt-howto-node_s/node_modules/string_decoder/README.md', 'D  gantt/gantt-howto-node_s/node_modules/string_decoder/lib/string_decoder.js', 'D  gantt/gantt-howto-node_s/node_modules/string_decoder/node_modules/safe-buffer/LICENSE', 'D  gantt/gantt-howto-node_s/node_modules/string_decoder/node_modules/safe-buffer/README.md', 'D  gantt/gantt-howto-node_s/node_modules/string_decoder/node_modules/safe-buffer/index.d.ts', 'D  gantt/gantt-howto-node_s/node_modules/string_decoder/node_modules/safe-buffer/index.js', 'D  gantt/gantt-howto-node_s/node_modules/string_decoder/node_modules/safe-buffer/package.json', 'D  gantt/gantt-howto-node_s/node_modules/string_decoder/package.json', 'D  gantt/gantt-howto-node_s/node_modules/toidentifier/HISTORY.md', 'D  gantt/gantt-howto-node_s/node_modules/toidentifier/LICENSE', 'D  gantt/gantt-howto-node_s/node_modules/toidentifier/README.md', 'D  gantt/gantt-howto-node_s/node_modules/toidentifier/index.js', 'D  gantt/gantt-howto-node_s/node_modules/toidentifier/package.json', 'D  gantt/gantt-howto-node_s/node_modules/tsscmp/.travis.yml', 'D  gantt/gantt-howto-node_s/node_modules/tsscmp/LICENSE', 'D  gantt/gantt-howto-node_s/node_modules/tsscmp/README.md', 'D  gantt/gantt-howto-node_s/node_modules/tsscmp/appveyor.yml', 'D  gantt/gantt-howto-node_s/node_modules/tsscmp/lib/index.js', 'D  gantt/gantt-howto-node_s/node_modules/tsscmp/package.json', 'D  gantt/gantt-howto-node_s/node_modules/tsscmp/test/benchmark/index.js', 'D  gantt/gantt-howto-node_s/node_modules/tsscmp/test/unit/index.js', 'D  gantt/gantt-howto-node_s/node_modules/type-is/HISTORY.md', 'D  gantt/gantt-howto-node_s/node_modules/type-is/LICENSE', 'D  gantt/gantt-howto-node_s/node_modules/type-is/README.md', 'D  gantt/gantt-howto-node_s/node_modules/type-is/index.js', 'D  gantt/gantt-howto-node_s/node_modules/type-is/package.json', 'D  gantt/gantt-howto-node_s/node_modules/unpipe/HISTORY.md', 'D  gantt/gantt-howto-node_s/node_modules/unpipe/LICENSE', 'D  gantt/gantt-howto-node_s/node_modules/unpipe/README.md', 'D  gantt/gantt-howto-node_s/node_modules/unpipe/index.js', 'D  gantt/gantt-howto-node_s/node_modules/unpipe/package.json', 'D  gantt/gantt-howto-node_s/node_modules/util-deprecate/History.md', 'D  gantt/gantt-howto-node_s/node_modules/util-deprecate/LICENSE', 'D  gantt/gantt-howto-node_s/node_modules/util-deprecate/README.md', 'D  gantt/gantt-howto-node_s/node_modules/util-deprecate/browser.js', 'D  gantt/gantt-howto-node_s/node_modules/util-deprecate/node.js', 'D  gantt/gantt-howto-node_s/node_modules/util-deprecate/package.json', 'D  gantt/gantt-howto-node_s/node_modules/utils-merge/.npmignore', 'D  gantt/gantt-howto-node_s/node_modules/utils-merge/LICENSE', 'D  gantt/gantt-howto-node_s/node_modules/utils-merge/README.md', 'D  gantt/gantt-howto-node_s/node_modules/utils-merge/index.js', 'D  gantt/gantt-howto-node_s/node_modules/utils-merge/package.json', 'D  gantt/gantt-howto-node_s/node_modules/vary/HISTORY.md', 'D  gantt/gantt-howto-node_s/node_modules/vary/LICENSE', 'D  gantt/gantt-howto-node_s/node_modules/vary/README.md', 'D  gantt/gantt-howto-node_s/node_modules/vary/index.js', 'D  gantt/gantt-howto-node_s/node_modules/vary/package.json', 'D  gantt/gantt-howto-node_s/package-lock.json', 'D  gantt/gantt-howto-node_s/package.json', 'D  gantt/gantt-howto-node_s/public/css/dhtmlxgantt.css', 'D  gantt/gantt-howto-node_s/public/index.html', 'D  gantt/gantt-howto-node_s/public/js/dhtmlxgantt.js', 'D  gantt/gantt-howto-node_s/public/js/dhtmlxgantt.js.map', 'D  gantt/gantt-howto-node_s/schema.sql', 'D  gantt/gantt-howto-node_s/server.js', 'D  gantt/gantt/Gantt-Useful-Info.html', 'D  gantt/gantt/backend/data-dynamic.json', 'D  gantt/gantt/backend/data.json', 'D  gantt/gantt/backend/index.js', 'D  gantt/gantt/backend/item_initializer.js', 'D  gantt/gantt/backend/node_modules/.bin/mime', 'D  gantt/gantt/backend/node_modules/.bin/mime.cmd', 'D  gantt/gantt/backend/node_modules/.bin/mime.ps1', 'D  gantt/gantt/backend/node_modules/.package-lock.json', 'D  gantt/gantt/backend/node_modules/accepts/HISTORY.md', 'D  gantt/gantt/backend/node_modules/accepts/LICENSE', 'D  gantt/gantt/backend/node_modules/accepts/README.md', 'D  gantt/gantt/backend/node_modules/accepts/index.js', 'D  gantt/gantt/backend/node_modules/accepts/package.json', 'D  gantt/gantt/backend/node_modules/array-flatten/LICENSE', 'D  gantt/gantt/backend/node_modules/array-flatten/README.md', 'D  gantt/gantt/backend/node_modules/array-flatten/array-flatten.js', 'D  gantt/gantt/backend/node_modules/array-flatten/package.json', 'D  gantt/gantt/backend/node_modules/body-parser/HISTORY.md', 'D  gantt/gantt/backend/node_modules/body-parser/LICENSE', 'D  gantt/gantt/backend/node_modules/body-parser/README.md', 'D  gantt/gantt/backend/node_modules/body-parser/index.js', 'D  gantt/gantt/backend/node_modules/body-parser/lib/read.js', 'D  gantt/gantt/backend/node_modules/body-parser/lib/types/json.js', 'D  gantt/gantt/backend/node_modules/body-parser/lib/types/raw.js', 'D  gantt/gantt/backend/node_modules/body-parser/lib/types/text.js', 'D  gantt/gantt/backend/node_modules/body-parser/lib/types/urlencoded.js', 'D  gantt/gantt/backend/node_modules/body-parser/package.json', 'D  gantt/gantt/backend/node_modules/bytes/History.md', 'D  gantt/gantt/backend/node_modules/bytes/LICENSE', 'D  gantt/gantt/backend/node_modules/bytes/Readme.md', 'D  gantt/gantt/backend/node_modules/bytes/index.js', 'D  gantt/gantt/backend/node_modules/bytes/package.json', 'D  gantt/gantt/backend/node_modules/content-disposition/HISTORY.md', 'D  gantt/gantt/backend/node_modules/content-disposition/LICENSE', 'D  gantt/gantt/backend/node_modules/content-disposition/README.md', 'D  gantt/gantt/backend/node_modules/content-disposition/index.js', 'D  gantt/gantt/backend/node_modules/content-disposition/package.json', 'D  gantt/gantt/backend/node_modules/content-type/HISTORY.md', 'D  gantt/gantt/backend/node_modules/content-type/LICENSE', 'D  gantt/gantt/backend/node_modules/content-type/README.md', 'D  gantt/gantt/backend/node_modules/content-type/index.js', 'D  gantt/gantt/backend/node_modules/content-type/package.json', 'D  gantt/gantt/backend/node_modules/cookie-signature/.npmignore', 'D  gantt/gantt/backend/node_modules/cookie-signature/History.md', 'D  gantt/gantt/backend/node_modules/cookie-signature/Readme.md', 'D  gantt/gantt/backend/node_modules/cookie-signature/index.js', 'D  gantt/gantt/backend/node_modules/cookie-signature/package.json', 'D  gantt/gantt/backend/node_modules/cookie/HISTORY.md', 'D  gantt/gantt/backend/node_modules/cookie/LICENSE', 'D  gantt/gantt/backend/node_modules/cookie/README.md', 'D  gantt/gantt/backend/node_modules/cookie/index.js', 'D  gantt/gantt/backend/node_modules/cookie/package.json', 'D  gantt/gantt/backend/node_modules/debug/.coveralls.yml', 'D  gantt/gantt/backend/node_modules/debug/.eslintrc', 'D  gantt/gantt/backend/node_modules/debug/.npmignore', 'D  gantt/gantt/backend/node_modules/debug/.travis.yml', 'D  gantt/gantt/backend/node_modules/debug/CHANGELOG.md', 'D  gantt/gantt/backend/node_modules/debug/LICENSE', 'D  gantt/gantt/backend/node_modules/debug/Makefile', 'D  gantt/gantt/backend/node_modules/debug/README.md', 'D  gantt/gantt/backend/node_modules/debug/component.json', 'D  gantt/gantt/backend/node_modules/debug/karma.conf.js', 'D  gantt/gantt/backend/node_modules/debug/node.js', 'D  gantt/gantt/backend/node_modules/debug/package.json', 'D  gantt/gantt/backend/node_modules/debug/src/browser.js', 'D  gantt/gantt/backend/node_modules/debug/src/debug.js', 'D  gantt/gantt/backend/node_modules/debug/src/index.js', 'D  gantt/gantt/backend/node_modules/debug/src/inspector-log.js', 'D  gantt/gantt/backend/node_modules/debug/src/node.js', 'D  gantt/gantt/backend/node_modules/depd/History.md', 'D  gantt/gantt/backend/node_modules/depd/LICENSE', 'D  gantt/gantt/backend/node_modules/depd/Readme.md', 'D  gantt/gantt/backend/node_modules/depd/index.js', 'D  gantt/gantt/backend/node_modules/depd/lib/browser/index.js', 'D  gantt/gantt/backend/node_modules/depd/lib/compat/callsite-tostring.js', 'D  gantt/gantt/backend/node_modules/depd/lib/compat/event-listener-count.js', 'D  gantt/gantt/backend/node_modules/depd/lib/compat/index.js', 'D  gantt/gantt/backend/node_modules/depd/package.json', 'D  gantt/gantt/backend/node_modules/destroy/LICENSE', 'D  gantt/gantt/backend/node_modules/destroy/README.md', 'D  gantt/gantt/backend/node_modules/destroy/index.js', 'D  gantt/gantt/backend/node_modules/destroy/package.json', 'D  gantt/gantt/backend/node_modules/ee-first/LICENSE', 'D  gantt/gantt/backend/node_modules/ee-first/README.md', 'D  gantt/gantt/backend/node_modules/ee-first/index.js', 'D  gantt/gantt/backend/node_modules/ee-first/package.json', 'D  gantt/gantt/backend/node_modules/encodeurl/HISTORY.md', 'D  gantt/gantt/backend/node_modules/encodeurl/LICENSE', 'D  gantt/gantt/backend/node_modules/encodeurl/README.md', 'D  gantt/gantt/backend/node_modules/encodeurl/index.js', 'D  gantt/gantt/backend/node_modules/encodeurl/package.json', 'D  gantt/gantt/backend/node_modules/escape-html/LICENSE', 'D  gantt/gantt/backend/node_modules/escape-html/Readme.md', 'D  gantt/gantt/backend/node_modules/escape-html/index.js', 'D  gantt/gantt/backend/node_modules/escape-html/package.json', 'D  gantt/gantt/backend/node_modules/etag/HISTORY.md', 'D  gantt/gantt/backend/node_modules/etag/LICENSE', 'D  gantt/gantt/backend/node_modules/etag/README.md', 'D  gantt/gantt/backend/node_modules/etag/index.js', 'D  gantt/gantt/backend/node_modules/etag/package.json', 'D  gantt/gantt/backend/node_modules/express/History.md', 'D  gantt/gantt/backend/node_modules/express/LICENSE', 'D  gantt/gantt/backend/node_modules/express/Readme.md', 'D  gantt/gantt/backend/node_modules/express/index.js', 'D  gantt/gantt/backend/node_modules/express/lib/application.js', 'D  gantt/gantt/backend/node_modules/express/lib/express.js', 'D  gantt/gantt/backend/node_modules/express/lib/middleware/init.js', 'D  gantt/gantt/backend/node_modules/express/lib/middleware/query.js', 'D  gantt/gantt/backend/node_modules/express/lib/request.js', 'D  gantt/gantt/backend/node_modules/express/lib/response.js', 'D  gantt/gantt/backend/node_modules/express/lib/router/index.js', 'D  gantt/gantt/backend/node_modules/express/lib/router/layer.js', 'D  gantt/gantt/backend/node_modules/express/lib/router/route.js', 'D  gantt/gantt/backend/node_modules/express/lib/utils.js', 'D  gantt/gantt/backend/node_modules/express/lib/view.js', 'D  gantt/gantt/backend/node_modules/express/package.json', 'D  gantt/gantt/backend/node_modules/finalhandler/HISTORY.md', 'D  gantt/gantt/backend/node_modules/finalhandler/LICENSE', 'D  gantt/gantt/backend/node_modules/finalhandler/README.md', 'D  gantt/gantt/backend/node_modules/finalhandler/index.js', 'D  gantt/gantt/backend/node_modules/finalhandler/package.json', 'D  gantt/gantt/backend/node_modules/forwarded/HISTORY.md', 'D  gantt/gantt/backend/node_modules/forwarded/LICENSE', 'D  gantt/gantt/backend/node_modules/forwarded/README.md', 'D  gantt/gantt/backend/node_modules/forwarded/index.js', 'D  gantt/gantt/backend/node_modules/forwarded/package.json', 'D  gantt/gantt/backend/node_modules/fresh/HISTORY.md', 'D  gantt/gantt/backend/node_modules/fresh/LICENSE', 'D  gantt/gantt/backend/node_modules/fresh/README.md', 'D  gantt/gantt/backend/node_modules/fresh/index.js', 'D  gantt/gantt/backend/node_modules/fresh/package.json', 'D  gantt/gantt/backend/node_modules/http-errors/HISTORY.md', 'D  gantt/gantt/backend/node_modules/http-errors/LICENSE', 'D  gantt/gantt/backend/node_modules/http-errors/README.md', 'D  gantt/gantt/backend/node_modules/http-errors/index.js', 'D  gantt/gantt/backend/node_modules/http-errors/package.json', 'D  gantt/gantt/backend/node_modules/iconv-lite/Changelog.md', 'D  gantt/gantt/backend/node_modules/iconv-lite/LICENSE', 'D  gantt/gantt/backend/node_modules/iconv-lite/README.md', 'D  gantt/gantt/backend/node_modules/iconv-lite/encodings/dbcs-codec.js', 'D  gantt/gantt/backend/node_modules/iconv-lite/encodings/dbcs-data.js', 'D  gantt/gantt/backend/node_modules/iconv-lite/encodings/index.js', 'D  gantt/gantt/backend/node_modules/iconv-lite/encodings/internal.js', 'D  gantt/gantt/backend/node_modules/iconv-lite/encodings/sbcs-codec.js', 'D  gantt/gantt/backend/node_modules/iconv-lite/encodings/sbcs-data-generated.js', 'D  gantt/gantt/backend/node_modules/iconv-lite/encodings/sbcs-data.js', 'D  gantt/gantt/backend/node_modules/iconv-lite/encodings/tables/big5-added.json', 'D  gantt/gantt/backend/node_modules/iconv-lite/encodings/tables/cp936.json', 'D  gantt/gantt/backend/node_modules/iconv-lite/encodings/tables/cp949.json', 'D  gantt/gantt/backend/node_modules/iconv-lite/encodings/tables/cp950.json', 'D  gantt/gantt/backend/node_modules/iconv-lite/encodings/tables/eucjp.json', 'D  gantt/gantt/backend/node_modules/iconv-lite/encodings/tables/gb18030-ranges.json', 'D  gantt/gantt/backend/node_modules/iconv-lite/encodings/tables/gbk-added.json', 'D  gantt/gantt/backend/node_modules/iconv-lite/encodings/tables/shiftjis.json', 'D  gantt/gantt/backend/node_modules/iconv-lite/encodings/utf16.js', 'D  gantt/gantt/backend/node_modules/iconv-lite/encodings/utf7.js', 'D  gantt/gantt/backend/node_modules/iconv-lite/lib/bom-handling.js', 'D  gantt/gantt/backend/node_modules/iconv-lite/lib/extend-node.js', 'D  gantt/gantt/backend/node_modules/iconv-lite/lib/index.d.ts', 'D  gantt/gantt/backend/node_modules/iconv-lite/lib/index.js', 'D  gantt/gantt/backend/node_modules/iconv-lite/lib/streams.js', 'D  gantt/gantt/backend/node_modules/iconv-lite/package.json', 'D  gantt/gantt/backend/node_modules/inherits/LICENSE', 'D  gantt/gantt/backend/node_modules/inherits/README.md', 'D  gantt/gantt/backend/node_modules/inherits/inherits.js', 'D  gantt/gantt/backend/node_modules/inherits/inherits_browser.js', 'D  gantt/gantt/backend/node_modules/inherits/package.json', 'D  gantt/gantt/backend/node_modules/ipaddr.js/LICENSE', 'D  gantt/gantt/backend/node_modules/ipaddr.js/README.md', 'D  gantt/gantt/backend/node_modules/ipaddr.js/ipaddr.min.js', 'D  gantt/gantt/backend/node_modules/ipaddr.js/lib/ipaddr.js', 'D  gantt/gantt/backend/node_modules/ipaddr.js/lib/ipaddr.js.d.ts', 'D  gantt/gantt/backend/node_modules/ipaddr.js/package.json', 'D  gantt/gantt/backend/node_modules/media-typer/HISTORY.md', 'D  gantt/gantt/backend/node_modules/media-typer/LICENSE', 'D  gantt/gantt/backend/node_modules/media-typer/README.md', 'D  gantt/gantt/backend/node_modules/media-typer/index.js', 'D  gantt/gantt/backend/node_modules/media-typer/package.json', 'D  gantt/gantt/backend/node_modules/merge-descriptors/HISTORY.md', 'D  gantt/gantt/backend/node_modules/merge-descriptors/LICENSE', 'D  gantt/gantt/backend/node_modules/merge-descriptors/README.md', 'D  gantt/gantt/backend/node_modules/merge-descriptors/index.js', 'D  gantt/gantt/backend/node_modules/merge-descriptors/package.json', 'D  gantt/gantt/backend/node_modules/methods/HISTORY.md', 'D  gantt/gantt/backend/node_modules/methods/LICENSE', 'D  gantt/gantt/backend/node_modules/methods/README.md', 'D  gantt/gantt/backend/node_modules/methods/index.js', 'D  gantt/gantt/backend/node_modules/methods/package.json', 'D  gantt/gantt/backend/node_modules/mime-db/HISTORY.md', 'D  gantt/gantt/backend/node_modules/mime-db/LICENSE', 'D  gantt/gantt/backend/node_modules/mime-db/README.md', 'D  gantt/gantt/backend/node_modules/mime-db/db.json', 'D  gantt/gantt/backend/node_modules/mime-db/index.js', 'D  gantt/gantt/backend/node_modules/mime-db/package.json', 'D  gantt/gantt/backend/node_modules/mime-types/HISTORY.md', 'D  gantt/gantt/backend/node_modules/mime-types/LICENSE', 'D  gantt/gantt/backend/node_modules/mime-types/README.md', 'D  gantt/gantt/backend/node_modules/mime-types/index.js', 'D  gantt/gantt/backend/node_modules/mime-types/package.json', 'D  gantt/gantt/backend/node_modules/mime/.npmignore', 'D  gantt/gantt/backend/node_modules/mime/CHANGELOG.md', 'D  gantt/gantt/backend/node_modules/mime/LICENSE', 'D  gantt/gantt/backend/node_modules/mime/README.md', 'D  gantt/gantt/backend/node_modules/mime/cli.js', 'D  gantt/gantt/backend/node_modules/mime/mime.js', 'D  gantt/gantt/backend/node_modules/mime/package.json', 'D  gantt/gantt/backend/node_modules/mime/src/build.js', 'D  gantt/gantt/backend/node_modules/mime/src/test.js', 'D  gantt/gantt/backend/node_modules/mime/types.json', 'D  gantt/gantt/backend/node_modules/ms/index.js', 'D  gantt/gantt/backend/node_modules/ms/license.md', 'D  gantt/gantt/backend/node_modules/ms/package.json', 'D  gantt/gantt/backend/node_modules/ms/readme.md', 'D  gantt/gantt/backend/node_modules/negotiator/HISTORY.md', 'D  gantt/gantt/backend/node_modules/negotiator/LICENSE', 'D  gantt/gantt/backend/node_modules/negotiator/README.md', 'D  gantt/gantt/backend/node_modules/negotiator/index.js', 'D  gantt/gantt/backend/node_modules/negotiator/lib/charset.js', 'D  gantt/gantt/backend/node_modules/negotiator/lib/encoding.js', 'D  gantt/gantt/backend/node_modules/negotiator/lib/language.js', 'D  gantt/gantt/backend/node_modules/negotiator/lib/mediaType.js', 'D  gantt/gantt/backend/node_modules/negotiator/package.json', 'D  gantt/gantt/backend/node_modules/on-finished/HISTORY.md', 'D  gantt/gantt/backend/node_modules/on-finished/LICENSE', 'D  gantt/gantt/backend/node_modules/on-finished/README.md', 'D  gantt/gantt/backend/node_modules/on-finished/index.js', 'D  gantt/gantt/backend/node_modules/on-finished/package.json', 'D  gantt/gantt/backend/node_modules/parseurl/HISTORY.md', 'D  gantt/gantt/backend/node_modules/parseurl/LICENSE', 'D  gantt/gantt/backend/node_modules/parseurl/README.md', 'D  gantt/gantt/backend/node_modules/parseurl/index.js', 'D  gantt/gantt/backend/node_modules/parseurl/package.json', 'D  gantt/gantt/backend/node_modules/path-to-regexp/History.md', 'D  gantt/gantt/backend/node_modules/path-to-regexp/LICENSE', 'D  gantt/gantt/backend/node_modules/path-to-regexp/Readme.md', 'D  gantt/gantt/backend/node_modules/path-to-regexp/index.js', 'D  gantt/gantt/backend/node_modules/path-to-regexp/package.json', 'D  gantt/gantt/backend/node_modules/proxy-addr/HISTORY.md', 'D  gantt/gantt/backend/node_modules/proxy-addr/LICENSE', 'D  gantt/gantt/backend/node_modules/proxy-addr/README.md', 'D  gantt/gantt/backend/node_modules/proxy-addr/index.js', 'D  gantt/gantt/backend/node_modules/proxy-addr/package.json', 'D  gantt/gantt/backend/node_modules/qs/.editorconfig', 'D  gantt/gantt/backend/node_modules/qs/.eslintignore', 'D  gantt/gantt/backend/node_modules/qs/.eslintrc', 'D  gantt/gantt/backend/node_modules/qs/.github/FUNDING.yml', 'D  gantt/gantt/backend/node_modules/qs/.nycrc', 'D  gantt/gantt/backend/node_modules/qs/CHANGELOG.md', 'D  gantt/gantt/backend/node_modules/qs/LICENSE.md', 'D  gantt/gantt/backend/node_modules/qs/README.md', 'D  gantt/gantt/backend/node_modules/qs/dist/qs.js', 'D  gantt/gantt/backend/node_modules/qs/lib/formats.js', 'D  gantt/gantt/backend/node_modules/qs/lib/index.js', 'D  gantt/gantt/backend/node_modules/qs/lib/parse.js', 'D  gantt/gantt/backend/node_modules/qs/lib/stringify.js', 'D  gantt/gantt/backend/node_modules/qs/lib/utils.js', 'D  gantt/gantt/backend/node_modules/qs/package.json', 'D  gantt/gantt/backend/node_modules/qs/test/parse.js', 'D  gantt/gantt/backend/node_modules/qs/test/stringify.js', 'D  gantt/gantt/backend/node_modules/qs/test/utils.js', 'D  gantt/gantt/backend/node_modules/range-parser/HISTORY.md', 'D  gantt/gantt/backend/node_modules/range-parser/LICENSE', 'D  gantt/gantt/backend/node_modules/range-parser/README.md', 'D  gantt/gantt/backend/node_modules/range-parser/index.js', 'D  gantt/gantt/backend/node_modules/range-parser/package.json', 'D  gantt/gantt/backend/node_modules/raw-body/HISTORY.md', 'D  gantt/gantt/backend/node_modules/raw-body/LICENSE', 'D  gantt/gantt/backend/node_modules/raw-body/README.md', 'D  gantt/gantt/backend/node_modules/raw-body/index.d.ts', 'D  gantt/gantt/backend/node_modules/raw-body/index.js', 'D  gantt/gantt/backend/node_modules/raw-body/package.json', 'D  gantt/gantt/backend/node_modules/safe-buffer/LICENSE', 'D  gantt/gantt/backend/node_modules/safe-buffer/README.md', 'D  gantt/gantt/backend/node_modules/safe-buffer/index.d.ts', 'D  gantt/gantt/backend/node_modules/safe-buffer/index.js', 'D  gantt/gantt/backend/node_modules/safe-buffer/package.json', 'D  gantt/gantt/backend/node_modules/safer-buffer/LICENSE', 'D  gantt/gantt/backend/node_modules/safer-buffer/Porting-Buffer.md', 'D  gantt/gantt/backend/node_modules/safer-buffer/Readme.md', 'D  gantt/gantt/backend/node_modules/safer-buffer/dangerous.js', 'D  gantt/gantt/backend/node_modules/safer-buffer/package.json', 'D  gantt/gantt/backend/node_modules/safer-buffer/safer.js', 'D  gantt/gantt/backend/node_modules/safer-buffer/tests.js', 'D  gantt/gantt/backend/node_modules/send/HISTORY.md', 'D  gantt/gantt/backend/node_modules/send/LICENSE', 'D  gantt/gantt/backend/node_modules/send/README.md', 'D  gantt/gantt/backend/node_modules/send/index.js', 'D  gantt/gantt/backend/node_modules/send/node_modules/ms/index.js', 'D  gantt/gantt/backend/node_modules/send/node_modules/ms/license.md', 'D  gantt/gantt/backend/node_modules/send/node_modules/ms/package.json', 'D  gantt/gantt/backend/node_modules/send/node_modules/ms/readme.md', 'D  gantt/gantt/backend/node_modules/send/package.json', 'D  gantt/gantt/backend/node_modules/serve-static/HISTORY.md', 'D  gantt/gantt/backend/node_modules/serve-static/LICENSE', 'D  gantt/gantt/backend/node_modules/serve-static/README.md', 'D  gantt/gantt/backend/node_modules/serve-static/index.js', 'D  gantt/gantt/backend/node_modules/serve-static/package.json', 'D  gantt/gantt/backend/node_modules/setprototypeof/LICENSE', 'D  gantt/gantt/backend/node_modules/setprototypeof/README.md', 'D  gantt/gantt/backend/node_modules/setprototypeof/index.d.ts', 'D  gantt/gantt/backend/node_modules/setprototypeof/index.js', 'D  gantt/gantt/backend/node_modules/setprototypeof/package.json', 'D  gantt/gantt/backend/node_modules/setprototypeof/test/index.js', 'D  gantt/gantt/backend/node_modules/statuses/HISTORY.md', 'D  gantt/gantt/backend/node_modules/statuses/LICENSE', 'D  gantt/gantt/backend/node_modules/statuses/README.md', 'D  gantt/gantt/backend/node_modules/statuses/codes.json', 'D  gantt/gantt/backend/node_modules/statuses/index.js', 'D  gantt/gantt/backend/node_modules/statuses/package.json', 'D  gantt/gantt/backend/node_modules/striptags/.travis.yml', 'D  gantt/gantt/backend/node_modules/striptags/LICENSE', 'D  gantt/gantt/backend/node_modules/striptags/README.md', 'D  gantt/gantt/backend/node_modules/striptags/bower.json', 'D  gantt/gantt/backend/node_modules/striptags/index.d.ts', 'D  gantt/gantt/backend/node_modules/striptags/package.json', 'D  gantt/gantt/backend/node_modules/striptags/src/striptags.js', 'D  gantt/gantt/backend/node_modules/striptags/test/striptags-test.js', 'D  gantt/gantt/backend/node_modules/toidentifier/HISTORY.md', 'D  gantt/gantt/backend/node_modules/toidentifier/LICENSE', 'D  gantt/gantt/backend/node_modules/toidentifier/README.md', 'D  gantt/gantt/backend/node_modules/toidentifier/index.js', 'D  gantt/gantt/backend/node_modules/toidentifier/package.json', 'D  gantt/gantt/backend/node_modules/type-is/HISTORY.md', 'D  gantt/gantt/backend/node_modules/type-is/LICENSE', 'D  gantt/gantt/backend/node_modules/type-is/README.md', 'D  gantt/gantt/backend/node_modules/type-is/index.js', 'D  gantt/gantt/backend/node_modules/type-is/package.json', 'D  gantt/gantt/backend/node_modules/unpipe/HISTORY.md', 'D  gantt/gantt/backend/node_modules/unpipe/LICENSE', 'D  gantt/gantt/backend/node_modules/unpipe/README.md', 'D  gantt/gantt/backend/node_modules/unpipe/index.js', 'D  gantt/gantt/backend/node_modules/unpipe/package.json', 'D  gantt/gantt/backend/node_modules/utils-merge/.npmignore', 'D  gantt/gantt/backend/node_modules/utils-merge/LICENSE', 'D  gantt/gantt/backend/node_modules/utils-merge/README.md', 'D  gantt/gantt/backend/node_modules/utils-merge/index.js', 'D  gantt/gantt/backend/node_modules/utils-merge/package.json', 'D  gantt/gantt/backend/node_modules/vary/HISTORY.md', 'D  gantt/gantt/backend/node_modules/vary/LICENSE', 'D  gantt/gantt/backend/node_modules/vary/README.md', 'D  gantt/gantt/backend/node_modules/vary/index.js', 'D  gantt/gantt/backend/node_modules/vary/package.json', 'D  gantt/gantt/backend/package-lock.json', 'D  gantt/gantt/backend/package.json', 'D  gantt/gantt/backend/router.js', 'D  gantt/gantt/backend/router_dynamic_loading.js', 'D  gantt/gantt/backend/server.js', 'D  gantt/gantt/backend/storage.js', 'D  gantt/gantt/backend/storage_tree.js', 'D  gantt/gantt/codebase/dhtmlxgantt.css', 'D  gantt/gantt/codebase/dhtmlxgantt.d.ts', 'D  gantt/gantt/codebase/dhtmlxgantt.js', 'D  gantt/gantt/codebase/dhtmlxgantt.js.map', 'D  gantt/gantt/codebase/skins/dhtmlxgantt_broadway.css', 'D  gantt/gantt/codebase/skins/dhtmlxgantt_contrast_black.css', 'D  gantt/gantt/codebase/skins/dhtmlxgantt_contrast_white.css', 'D  gantt/gantt/codebase/skins/dhtmlxgantt_material.css', 'D  gantt/gantt/codebase/skins/dhtmlxgantt_meadow.css', 'D  gantt/gantt/codebase/skins/dhtmlxgantt_skyblue.css', 'D  gantt/gantt/codebase/skins/dhtmlxgantt_terrace.css', 'D  gantt/gantt/codebase/sources/dhtmlxgantt.css', 'D  gantt/gantt/codebase/sources/dhtmlxgantt.js', 'D  gantt/gantt/codebase/sources/skins/dhtmlxgantt_broadway.css', 'D  gantt/gantt/codebase/sources/skins/dhtmlxgantt_contrast_black.css', 'D  gantt/gantt/codebase/sources/skins/dhtmlxgantt_contrast_white.css', 'D  gantt/gantt/codebase/sources/skins/dhtmlxgantt_material.css', 'D  gantt/gantt/codebase/sources/skins/dhtmlxgantt_meadow.css', 'D  gantt/gantt/codebase/sources/skins/dhtmlxgantt_skyblue.css', 'D  gantt/gantt/codebase/sources/skins/dhtmlxgantt_terrace.css', 'D  gantt/gantt/license.txt', 'D  gantt/gantt/package-lock.json', 'D  gantt/gantt/package.json', 'D  gantt/gantt/readme.txt', 'D  gantt/gantt/samples/01_initialization/01_basic_init.html', 'D  gantt/gantt/samples/01_initialization/02_load_json.html', 'D  gantt/gantt/samples/01_initialization/03_load_xml.html', 'D  gantt/gantt/samples/01_initialization/04_save_rest.html', 'D  gantt/gantt/samples/01_initialization/06_touch_forced.html', 'D  gantt/gantt/samples/01_initialization/07_jquery.html', 'D  gantt/gantt/samples/01_initialization/08_explicit_time_range.html', 'D  gantt/gantt/samples/01_initialization/09_backward_compatibility.html', 'D  gantt/gantt/samples/01_initialization/10_fixed_size.html', 'D  gantt/gantt/samples/01_initialization/11_clickable_links.html', 'D  gantt/gantt/samples/01_initialization/12_localization.html', 'D  gantt/gantt/samples/01_initialization/13_project_duration.html', 'D  gantt/gantt/samples/01_initialization/14_reinitializtion.html', 'D  gantt/gantt/samples/01_initialization/15_connector_json_enddate.html', 'D  gantt/gantt/samples/01_initialization/17_bootstrap.html', 'D  gantt/gantt/samples/01_initialization/18_backward_planning.html', 'D  gantt/gantt/samples/01_initialization/19_tasks_without_dates.html', 'D  gantt/gantt/samples/01_initialization/20_tasks_outside_timescale.html', 'D  gantt/gantt/samples/01_initialization/21_rollup_tasks.html', 'D  gantt/gantt/samples/01_initialization/index.html', 'D  gantt/gantt/samples/02_extensions/01_quickinfo.html', 'D  gantt/gantt/samples/02_extensions/02_tooltip.html', 'D  gantt/gantt/samples/02_extensions/05_today_line.html', 'D  gantt/gantt/samples/02_extensions/09_multiselection.html', 'D  gantt/gantt/samples/02_extensions/11_full_screen.html', 'D  gantt/gantt/samples/02_extensions/13_smart_rendering.html', 'D  gantt/gantt/samples/02_extensions/14_undo.html', 'D  gantt/gantt/samples/02_extensions/16_keyboard_navigation.html', 'D  gantt/gantt/samples/02_extensions/17_keyboard_navigation_cell.html', 'D  gantt/gantt/samples/02_extensions/18_linked_tasks.html', 'D  gantt/gantt/samples/02_extensions/21_overlay.html', 'D  gantt/gantt/samples/02_extensions/22_tooltip_api.html', 'D  gantt/gantt/samples/02_extensions/23_click_drag_splittask.html', 'D  gantt/gantt/samples/02_extensions/24_click_drag.html', 'D  gantt/gantt/samples/02_extensions/25_click_drag_select_by_drag.html', 'D  gantt/gantt/samples/02_extensions/26_full_screen_with_additional_elements.html', 'D  gantt/gantt/samples/02_extensions/27_drag_timeline.html', 'D  gantt/gantt/samples/02_extensions/28_row_resize.html', 'D  gantt/gantt/samples/02_extensions/28_tasks_grouping_relation_properties.html', 'D  gantt/gantt/samples/02_extensions/data.js', 'D  gantt/gantt/samples/02_extensions/data.json', 'D  gantt/gantt/samples/02_extensions/index.html', 'D  gantt/gantt/samples/03_scales/01_multiple_scales.html', 'D  gantt/gantt/samples/03_scales/02_month_days.html', 'D  gantt/gantt/samples/03_scales/03_full_year.html', 'D  gantt/gantt/samples/03_scales/04_days.html', 'D  gantt/gantt/samples/03_scales/05_dynamic_scales.html', 'D  gantt/gantt/samples/03_scales/06_custom_scales.html', 'D  gantt/gantt/samples/03_scales/07_minutes_scale.html', 'D  gantt/gantt/samples/03_scales/08_scale_autoconfig.html', 'D  gantt/gantt/samples/03_scales/10_working_hours.html', 'D  gantt/gantt/samples/03_scales/11_select_column.html', 'D  gantt/gantt/samples/03_scales/12_year_quarters.html', 'D  gantt/gantt/samples/03_scales/13_zoom_to_fit.html', 'D  gantt/gantt/samples/03_scales/14_scale_zoom_by_wheelmouse.html', 'D  gantt/gantt/samples/03_scales/index.html', 'D  gantt/gantt/samples/04_customization/01_outer_content.html', 'D  gantt/gantt/samples/04_customization/02_custom_tree.html', 'D  gantt/gantt/samples/04_customization/03_link_styles.html', 'D  gantt/gantt/samples/04_customization/04_task_styles.html', 'D  gantt/gantt/samples/04_customization/05_tree_template.html', 'D  gantt/gantt/samples/04_customization/06_highlight_weekend.html', 'D  gantt/gantt/samples/04_customization/07_progress_text.html', 'D  gantt/gantt/samples/04_customization/08_templates.html', 'D  gantt/gantt/samples/04_customization/09_html_content.html', 'D  gantt/gantt/samples/04_customization/10_context_menu.html', 'D  gantt/gantt/samples/04_customization/11_split_task.html', 'D  gantt/gantt/samples/04_customization/13_autosize_container.html', 'D  gantt/gantt/samples/04_customization/16_inline_task_colors.html', 'D  gantt/gantt/samples/04_customization/18_subtasks_displaying.html', 'D  gantt/gantt/samples/04_customization/20_message_types.html', 'D  gantt/gantt/samples/04_customization/21_open_split_task.html', 'D  gantt/gantt/samples/04_customization/22_draw_links_as_svg_images.html', 'D  gantt/gantt/samples/04_customization/common/deadline_icon.png', 'D  gantt/gantt/samples/04_customization/index.html', 'D  gantt/gantt/samples/05_lightbox/01_lightbox_customization.html', 'D  gantt/gantt/samples/05_lightbox/02_checkbox.html', 'D  gantt/gantt/samples/05_lightbox/02_progress_lightbox.html', 'D  gantt/gantt/samples/05_lightbox/02_radio.html', 'D  gantt/gantt/samples/05_lightbox/03_validation.html', 'D  gantt/gantt/samples/05_lightbox/04_custom_editor.html', 'D  gantt/gantt/samples/05_lightbox/05_template.html', 'D  gantt/gantt/samples/05_lightbox/06_custom_button.html', 'D  gantt/gantt/samples/05_lightbox/07_time.html', 'D  gantt/gantt/samples/05_lightbox/08_parent_selector.html', 'D  gantt/gantt/samples/05_lightbox/09_years_selector_range.html', 'D  gantt/gantt/samples/05_lightbox/10_progress_slider.html', 'D  gantt/gantt/samples/05_lightbox/11_datepicker_for_lightbox.html', 'D  gantt/gantt/samples/05_lightbox/12_select.html', 'D  gantt/gantt/samples/05_lightbox/14_jquery_multiselect.html', 'D  gantt/gantt/samples/05_lightbox/15_readonly_lightbox.html', 'D  gantt/gantt/samples/05_lightbox/common/v_complete.png', 'D  gantt/gantt/samples/05_lightbox/index.html', 'D  gantt/gantt/samples/06_skins/01_default.html', 'D  gantt/gantt/samples/06_skins/02_default_lightbox.html', 'D  gantt/gantt/samples/06_skins/03_skyblue.html', 'D  gantt/gantt/samples/06_skins/04_meadow.html', 'D  gantt/gantt/samples/06_skins/05_broadway.html', 'D  gantt/gantt/samples/06_skins/06_dynamic_skin.html', 'D  gantt/gantt/samples/06_skins/07_high_contrast_black.html', 'D  gantt/gantt/samples/06_skins/08_high_contrast_white.html', 'D  gantt/gantt/samples/06_skins/09_material.html', 'D  gantt/gantt/samples/06_skins/index.html', 'D  gantt/gantt/samples/07_grid/01_builtin_sorting.html', 'D  gantt/gantt/samples/07_grid/02_branch_ordering.html', 'D  gantt/gantt/samples/07_grid/03_filtering.html', 'D  gantt/gantt/samples/07_grid/04_custom_sorting.html', 'D  gantt/gantt/samples/07_grid/05_sort_api.html', 'D  gantt/gantt/samples/07_grid/06_without_grid.html', 'D  gantt/gantt/samples/07_grid/07_custom_buttons.html', 'D  gantt/gantt/samples/07_grid/08_drag_between_levels.html', 'D  gantt/gantt/samples/07_grid/09_wbs_column.html', 'D  gantt/gantt/samples/07_grid/10_scrollable_grid.html', 'D  gantt/gantt/samples/07_grid/11_inline_edit_basic.html', 'D  gantt/gantt/samples/07_grid/12_inline_edit_key_nav.html', 'D  gantt/gantt/samples/07_grid/13_custom_mapping.html', 'D  gantt/gantt/samples/07_grid/14_branch_ordering_highlight.html', 'D  gantt/gantt/samples/07_grid/index.html', 'D  gantt/gantt/samples/08_api/01_dnd_events.html', 'D  gantt/gantt/samples/08_api/02_constraints.html', 'D  gantt/gantt/samples/08_api/03_validation.html', 'D  gantt/gantt/samples/08_api/04_limit_project.html', 'D  gantt/gantt/samples/08_api/05_limit_drag_dates.html', 'D  gantt/gantt/samples/08_api/06_export.html', 'D  gantt/gantt/samples/08_api/07_export_styles.html', 'D  gantt/gantt/samples/08_api/08_export_other.html', 'D  gantt/gantt/samples/08_api/09_export_store.html', 'D  gantt/gantt/samples/08_api/11_project_structure.html', 'D  gantt/gantt/samples/08_api/12_fit_task_text.html', 'D  gantt/gantt/samples/08_api/13_highlight_drag_position.html', 'D  gantt/gantt/samples/08_api/18_load_from_mpp.html', 'D  gantt/gantt/samples/08_api/18_load_from_primaverap6.html', 'D  gantt/gantt/samples/08_api/19_draggable_projects.html', 'D  gantt/gantt/samples/08_api/21_load_from_excel.html', 'D  gantt/gantt/samples/08_api/22_data_processor.html', 'D  gantt/gantt/samples/08_api/common/excel.png', 'D  gantt/gantt/samples/08_api/common/ms-project.png', 'D  gantt/gantt/samples/08_api/index.html', 'D  gantt/gantt/samples/09_worktime/01_working_hours_per_day.html', 'D  gantt/gantt/samples/09_worktime/02_working_days.html', 'D  gantt/gantt/samples/09_worktime/03_exclude_holidays.html', 'D  gantt/gantt/samples/09_worktime/04_custom_workday_duration.html', 'D  gantt/gantt/samples/09_worktime/05_adjust_to_worktime.html', 'D  gantt/gantt/samples/09_worktime/06_task_calendars.html', 'D  gantt/gantt/samples/09_worktime/07_resource_calendars.html', 'D  gantt/gantt/samples/09_worktime/08_project_calendars.html', 'D  gantt/gantt/samples/09_worktime/09_decimal_durations.html', 'D  gantt/gantt/samples/09_worktime/10_merge_calendars.html', 'D  gantt/gantt/samples/09_worktime/11_working_hours_with_minutes.html', 'D  gantt/gantt/samples/09_worktime/12_calendar_ranges.html', 'D  gantt/gantt/samples/09_worktime/index.html', 'D  gantt/gantt/samples/10_layout/01_rightside_columns.html', 'D  gantt/gantt/samples/10_layout/02_resource_panel.html', 'D  gantt/gantt/samples/10_layout/03_scale_at_bottom.html', 'D  gantt/gantt/samples/10_layout/04_rtl.html', 'D  gantt/gantt/samples/10_layout/data.js', 'D  gantt/gantt/samples/10_layout/data.json', 'D  gantt/gantt/samples/10_layout/index.html', 'D  gantt/gantt/samples/11_resources/01_assigning_resources.html', 'D  gantt/gantt/samples/11_resources/06_assign_multiple_owners.html', 'D  gantt/gantt/samples/11_resources/13_resource_assignments_for_days.html', 'D  gantt/gantt/samples/11_resources/common/jquery_multiselect.css', 'D  gantt/gantt/samples/11_resources/common/jquery_multiselect.js', 'D  gantt/gantt/samples/11_resources/common/resource_filter.js', 'D  gantt/gantt/samples/11_resources/index.html', 'D  gantt/gantt/samples/common/DemoProject.mpp', 'D  gantt/gantt/samples/common/DemoProject.xlsx', 'D  gantt/gantt/samples/common/PROJECT.xer', 'D  gantt/gantt/samples/common/constraint-arrow.svg', 'D  gantt/gantt/samples/common/controls_styles.css', 'D  gantt/gantt/samples/common/customstyles.css', 'D  gantt/gantt/samples/common/data.js', 'D  gantt/gantt/samples/common/data.json', 'D  gantt/gantt/samples/common/data.xml', 'D  gantt/gantt/samples/common/data_baselines.js', 'D  gantt/gantt/samples/common/data_end_dates.js', 'D  gantt/gantt/samples/common/data_extra.js', 'D  gantt/gantt/samples/common/data_large.js', 'D  gantt/gantt/samples/common/data_start_end_dates.json', 'D  gantt/gantt/samples/common/dhxmenu.xml', 'D  gantt/gantt/samples/common/docs.css', 'D  gantt/gantt/samples/common/dump.sql', 'D  gantt/gantt/samples/common/loaddata.json', 'D  gantt/gantt/samples/common/olddata.xml', 'D  gantt/gantt/samples/common/resource_construction_materials.js', 'D  gantt/gantt/samples/common/resource_project_assignments.js', 'D  gantt/gantt/samples/common/resource_project_assignments_percents.js', 'D  gantt/gantt/samples/common/resource_project_construction.js', 'D  gantt/gantt/samples/common/resource_project_multiple_owners.js', 'D  gantt/gantt/samples/common/resource_project_single_resource.js', 'D  gantt/gantt/samples/common/resource_project_single_resource_diagram.js', 'D  gantt/gantt/samples/common/sample_images/about.gif', 'D  gantt/gantt/samples/common/sample_images/about_dis.gif', 'D  gantt/gantt/samples/common/sample_images/bug_reporting.gif', 'D  gantt/gantt/samples/common/sample_images/bug_reporting_dis.gif', 'D  gantt/gantt/samples/common/sample_images/close.gif', 'D  gantt/gantt/samples/common/sample_images/close_dis.gif', 'D  gantt/gantt/samples/common/sample_images/copy.gif', 'D  gantt/gantt/samples/common/sample_images/copy_dis.gif', 'D  gantt/gantt/samples/common/sample_images/cut.gif', 'D  gantt/gantt/samples/common/sample_images/cut_dis.gif', 'D  gantt/gantt/samples/common/sample_images/help.gif', 'D  gantt/gantt/samples/common/sample_images/help_dis.gif', 'D  gantt/gantt/samples/common/sample_images/new.gif', 'D  gantt/gantt/samples/common/sample_images/new_dis.gif', 'D  gantt/gantt/samples/common/sample_images/open.gif', 'D  gantt/gantt/samples/common/sample_images/open_dis.gif', 'D  gantt/gantt/samples/common/sample_images/page_setup.gif', 'D  gantt/gantt/samples/common/sample_images/page_setup_dis.gif', 'D  gantt/gantt/samples/common/sample_images/paste.gif', 'D  gantt/gantt/samples/common/sample_images/paste_dis.gif', 'D  gantt/gantt/samples/common/sample_images/print.gif', 'D  gantt/gantt/samples/common/sample_images/print_dis.gif', 'D  gantt/gantt/samples/common/sample_images/redo.gif', 'D  gantt/gantt/samples/common/sample_images/redo_dis.gif', 'D  gantt/gantt/samples/common/sample_images/save.gif', 'D  gantt/gantt/samples/common/sample_images/save_as.gif', 'D  gantt/gantt/samples/common/sample_images/save_as_dis.gif', 'D  gantt/gantt/samples/common/sample_images/save_dis.gif', 'D  gantt/gantt/samples/common/sample_images/select_all.gif', 'D  gantt/gantt/samples/common/sample_images/select_all_dis.gif', 'D  gantt/gantt/samples/common/sample_images/undo.gif', 'D  gantt/gantt/samples/common/sample_images/undo_dis.gif', 'D  gantt/gantt/samples/common/snippets/dhx_file_dnd.css', 'D  gantt/gantt/samples/common/snippets/dhx_file_dnd.js', 'D  gantt/gantt/samples/common/snippets/multiselect.js', 'D  gantt/gantt/samples/common/testdata.js', 'D  gantt/gantt/samples/index.html', 'D  gantt/gantt/samples/readme.txt', 'D  gantt/gantt/whatsnew.txt', 'D  pip_pkgs/anytree/anytree-2.8.0-py2.py3-none-any.whl', 'D  pip_pkgs/anytree/six-1.16.0-py2.py3-none-any.whl', 'D  pip_pkgs/node/node-0.9.28.tar.gz', 'D  pip_pkgs/node/odict-1.8.0.tar.gz', 'D  pip_pkgs/node/plumber-1.6.tar.gz', 'D  pip_pkgs/node/setuptools-60.5.0-py3-none-any.whl', 'D  pip_pkgs/node/zope.component-5.0.1-py2.py3-none-any.whl', 'D  pip_pkgs/node/zope.deprecation-4.4.0-py2.py3-none-any.whl', 'D  pip_pkgs/node/zope.event-4.5.0-py2.py3-none-any.whl', 'D  pip_pkgs/node/zope.hookable-5.1.0-cp39-cp39-win_amd64.whl', 'D  pip_pkgs/node/zope.interface-5.4.0-cp39-cp39-win_amd64.whl', 'D  pip_pkgs/node/zope.lifecycleevent-4.3-py2.py3-none-any.whl', 'D  pkgs/cached-property-1.5.2-hd8ed1ab_1.tar.bz2', 'D  pkgs/cached_property-1.5.2-pyha770c72_1.tar.bz2', 'D  pkgs/conda-4.11.0-py39hcbf5309_0.tar.bz2', 'D  pkgs/isodate-0.6.0-py_1.tar.bz2', 'D  pkgs/requests-file-1.5.1-pyh9f0ad1d_0.tar.bz2', 'D  pkgs/requests-toolbelt-0.9.1-py_0.tar.bz2', 'D  pkgs/zeep-4.1.0-pyh6c4a22f_0.tar.bz2', 'M  utility.ipynb', 'M  utility.py']\n"
     ]
    }
   ],
   "source": [
    "if len(li) != 0:\n",
    "    self.repo_remote_folder.git.add(r\"*\")\n",
    "    li = self.comfirm_file(case=1)"
   ]
  },
  {
   "cell_type": "markdown",
   "id": "a6a879d4",
   "metadata": {},
   "source": [
    "git commit"
   ]
  },
  {
   "cell_type": "code",
   "execution_count": 4,
   "id": "1253d3f0",
   "metadata": {},
   "outputs": [],
   "source": [
    "if len(li) != 0:\n",
    "    self.repo_remote_folder.git.commit(\"-m\",\"init_seiri\")"
   ]
  },
  {
   "cell_type": "markdown",
   "id": "3caf9c01",
   "metadata": {},
   "source": [
    "push"
   ]
  },
  {
   "cell_type": "code",
   "execution_count": 5,
   "id": "3d8edfbe",
   "metadata": {},
   "outputs": [
    {
     "data": {
      "text/plain": [
       "''"
      ]
     },
     "execution_count": 5,
     "metadata": {},
     "output_type": "execute_result"
    }
   ],
   "source": [
    "self.repo_remote_folder.git.push()"
   ]
  },
  {
   "cell_type": "markdown",
   "id": "ced7c471",
   "metadata": {},
   "source": [
    "未コミットを確認"
   ]
  },
  {
   "cell_type": "code",
   "execution_count": 8,
   "id": "0f51d7c4",
   "metadata": {},
   "outputs": [
    {
     "name": "stdout",
     "output_type": "stream",
     "text": [
      "[' ? diff-dwg', ' M utility.ipynb', ' M utility.py']\n"
     ]
    },
    {
     "data": {
      "text/plain": [
       "[' ? diff-dwg', ' M utility.ipynb', ' M utility.py']"
      ]
     },
     "execution_count": 8,
     "metadata": {},
     "output_type": "execute_result"
    }
   ],
   "source": [
    "li = self.comfirm_file(case=1)\n",
    "li"
   ]
  },
  {
   "cell_type": "markdown",
   "id": "a592221f",
   "metadata": {},
   "source": [
    "## nmp"
   ]
  },
  {
   "cell_type": "code",
   "execution_count": 3,
   "id": "823f6d80",
   "metadata": {},
   "outputs": [
    {
     "data": {
      "text/plain": [
       "'C:\\\\Users\\\\M151325\\\\000_work\\\\env_miniconda_39\\\\nmp_pkgs'"
      ]
     },
     "execution_count": 3,
     "metadata": {},
     "output_type": "execute_result"
    }
   ],
   "source": [
    "os.environ[\"userprofile\"]\n",
    "f_path = os.path.join(os.environ[\"userprofile\"],\"000_work\",\"env_miniconda_39\",\"nmp_pkgs\")\n",
    "f_path"
   ]
  },
  {
   "cell_type": "code",
   "execution_count": 9,
   "id": "29bd3998",
   "metadata": {},
   "outputs": [
    {
     "name": "stdout",
     "output_type": "stream",
     "text": [
      "['']\n"
     ]
    }
   ],
   "source": []
  },
  {
   "cell_type": "code",
   "execution_count": null,
   "id": "d7fef44b",
   "metadata": {},
   "outputs": [],
   "source": []
  },
  {
   "cell_type": "code",
   "execution_count": null,
   "id": "afcda9c1",
   "metadata": {},
   "outputs": [],
   "source": []
  },
  {
   "cell_type": "code",
   "execution_count": null,
   "id": "148775aa",
   "metadata": {},
   "outputs": [],
   "source": []
  },
  {
   "cell_type": "code",
   "execution_count": null,
   "id": "ef7a7d47",
   "metadata": {},
   "outputs": [],
   "source": []
  },
  {
   "cell_type": "code",
   "execution_count": null,
   "id": "b8c0176c",
   "metadata": {},
   "outputs": [],
   "source": []
  },
  {
   "cell_type": "markdown",
   "id": "d146cd6d",
   "metadata": {},
   "source": [
    "## pip"
   ]
  },
  {
   "cell_type": "code",
   "execution_count": 10,
   "id": "51245936",
   "metadata": {},
   "outputs": [
    {
     "data": {
      "text/plain": [
       "'C:\\\\Users\\\\M151325\\\\000_work\\\\env_miniconda_39\\\\pip_pkgs'"
      ]
     },
     "execution_count": 10,
     "metadata": {},
     "output_type": "execute_result"
    }
   ],
   "source": [
    "import os\n",
    "os.environ[\"userprofile\"]\n",
    "f_path = os.path.join(os.environ[\"userprofile\"],\"000_work\",\"env_miniconda_39\",\"pip_pkgs\")\n",
    "f_path"
   ]
  },
  {
   "cell_type": "code",
   "execution_count": 11,
   "id": "568bfbb2",
   "metadata": {},
   "outputs": [],
   "source": [
    "os.startfile(f_path)"
   ]
  },
  {
   "cell_type": "raw",
   "id": "93ca3142",
   "metadata": {},
   "source": [
    "pipで依存関係も含めてダウンロード"
   ]
  },
  {
   "cell_type": "code",
   "execution_count": 12,
   "id": "86dd2c33",
   "metadata": {},
   "outputs": [
    {
     "name": "stdout",
     "output_type": "stream",
     "text": [
      "pip download -d C:\\Users\\M151325\\000_work\\env_miniconda_39\\pip_pkgs pikepdf\n"
     ]
    }
   ],
   "source": [
    "pkg_name = \"pikepdf\"\n",
    "# print(f\"pip download -d {f_path} --no-binary :all: {pkg_name}\")\n",
    "print(f\"pip download -d {f_path} {pkg_name}\")"
   ]
  },
  {
   "cell_type": "code",
   "execution_count": null,
   "id": "fac1e621",
   "metadata": {},
   "outputs": [],
   "source": []
  },
  {
   "cell_type": "code",
   "execution_count": 9,
   "id": "96cdfecd",
   "metadata": {},
   "outputs": [],
   "source": [
    "! start ."
   ]
  },
  {
   "cell_type": "markdown",
   "id": "c43b331b",
   "metadata": {},
   "source": [
    "## 初期化"
   ]
  },
  {
   "cell_type": "markdown",
   "id": "0b471779",
   "metadata": {},
   "source": [
    "## freecad"
   ]
  },
  {
   "cell_type": "markdown",
   "id": "5ffcc3c8",
   "metadata": {},
   "source": [
    "ファイルをコピー"
   ]
  },
  {
   "cell_type": "code",
   "execution_count": 10,
   "id": "d7ac2f2c",
   "metadata": {},
   "outputs": [
    {
     "name": "stdout",
     "output_type": "stream",
     "text": [
      "['']\n"
     ]
    }
   ],
   "source": [
    "import pandas as pd\n",
    "li_m = self.comfirm_file(case=2)\n",
    "li_s = [[i[0:2],i[3:]] for i in li_m]\n",
    "df = pd.DataFrame(li_s,columns=[\"code\",\"file_name\"])\n",
    "df_tg = df[df[\"code\"]==\"??\"]\n",
    "li = list(df_tg[\"file_name\"])"
   ]
  },
  {
   "cell_type": "code",
   "execution_count": 11,
   "id": "ebe815bf",
   "metadata": {},
   "outputs": [
    {
     "data": {
      "text/plain": [
       "['']"
      ]
     },
     "execution_count": 11,
     "metadata": {},
     "output_type": "execute_result"
    }
   ],
   "source": [
    "li_m"
   ]
  },
  {
   "cell_type": "code",
   "execution_count": 14,
   "id": "96b7d4ad",
   "metadata": {},
   "outputs": [],
   "source": [
    "file_list = li\n",
    "out_list = []\n",
    "for file in file_list:\n",
    "    f_path_moto = os.path.join(self.freecad_path,file)\n",
    "    f_path_copy = os.path.join(self.remote_folder_path,\"FreeCAD\",file)\n",
    "    out_list.append([f_path_copy,os.path.getsize(f_path_moto) / 1000000])\n",
    "    try:\n",
    "        shutil.copyfile(f_path_moto,f_path_copy)\n",
    "    except :\n",
    "        print(f\"エラー:{f_path_moto}\")\n",
    "        pass\n",
    "df = pd.DataFrame(out_list)\n",
    "if len(df) != 0:\n",
    "    df.columns=[\"path\",\"MB\"]"
   ]
  },
  {
   "cell_type": "markdown",
   "id": "6460d8ce",
   "metadata": {},
   "source": [
    "100M以上は分割（factory_env_miniconda39）"
   ]
  },
  {
   "cell_type": "code",
   "execution_count": 21,
   "id": "569381ab",
   "metadata": {},
   "outputs": [],
   "source": [
    "files = os.listdir(os.path.join(self.remote_folder_path,\"FreeCAD\"))\n",
    "file_list = [os.path.join(self.remote_folder_path,\"FreeCAD\",f) for f in files ]\n",
    "file_list = [[f,os.path.getsize(f) / 1000000] for f in file_list ]\n",
    "df = pd.DataFrame(file_list)\n",
    "df.columns=[\"path\",\"MB\"]"
   ]
  },
  {
   "cell_type": "code",
   "execution_count": 22,
   "id": "489e8e6b",
   "metadata": {
    "scrolled": true
   },
   "outputs": [
    {
     "data": {
      "text/html": [
       "<div>\n",
       "<style scoped>\n",
       "    .dataframe tbody tr th:only-of-type {\n",
       "        vertical-align: middle;\n",
       "    }\n",
       "\n",
       "    .dataframe tbody tr th {\n",
       "        vertical-align: top;\n",
       "    }\n",
       "\n",
       "    .dataframe thead th {\n",
       "        text-align: right;\n",
       "    }\n",
       "</style>\n",
       "<table border=\"1\" class=\"dataframe\">\n",
       "  <thead>\n",
       "    <tr style=\"text-align: right;\">\n",
       "      <th></th>\n",
       "      <th>path</th>\n",
       "      <th>MB</th>\n",
       "    </tr>\n",
       "  </thead>\n",
       "  <tbody>\n",
       "  </tbody>\n",
       "</table>\n",
       "</div>"
      ],
      "text/plain": [
       "Empty DataFrame\n",
       "Columns: [path, MB]\n",
       "Index: []"
      ]
     },
     "execution_count": 22,
     "metadata": {},
     "output_type": "execute_result"
    }
   ],
   "source": [
    "df_b = df[df[\"MB\"]>99]\n",
    "df_b"
   ]
  },
  {
   "cell_type": "code",
   "execution_count": 16,
   "id": "99b75dc1",
   "metadata": {},
   "outputs": [],
   "source": [
    "if len(df_b)!=0:\n",
    "    for target in list(df_b[\"path\"]):\n",
    "        fileList = divide_file(target, 50*10**6)\n",
    "        df_a = pd.DataFrame(fileList,columns=[\"path\"])\n",
    "        df_a.to_csv(os.path.join(\"sep_file_list_freecad/\",os.path.basename(target)+\".csv\"),index=False)\n",
    "        os.remove(target)"
   ]
  },
  {
   "cell_type": "code",
   "execution_count": null,
   "id": "476a9570",
   "metadata": {},
   "outputs": [],
   "source": []
  },
  {
   "cell_type": "code",
   "execution_count": null,
   "id": "cbcfff76",
   "metadata": {},
   "outputs": [],
   "source": []
  },
  {
   "cell_type": "markdown",
   "id": "7c7a4b6c",
   "metadata": {},
   "source": [
    "## conda"
   ]
  },
  {
   "cell_type": "markdown",
   "id": "b6db74f4",
   "metadata": {},
   "source": [
    "pkgsとsep_file_listの中のファイルを削除"
   ]
  },
  {
   "cell_type": "code",
   "execution_count": 3,
   "id": "e5d985cb",
   "metadata": {},
   "outputs": [],
   "source": [
    "shutil.rmtree(self.remote_pkg_path)\n",
    "os.mkdir(self.remote_pkg_path)\n",
    "shutil.rmtree(os.path.join(self.remote_folder_path,\"sep_file_list\"))\n",
    "os.mkdir(os.path.join(self.remote_folder_path,\"sep_file_list\"))"
   ]
  },
  {
   "cell_type": "markdown",
   "id": "cfead465",
   "metadata": {},
   "source": [
    "### factory_env_miniconda39"
   ]
  },
  {
   "cell_type": "markdown",
   "id": "efabf77e",
   "metadata": {},
   "source": [
    "factory_env_miniconda39の未コミットはコミットしておく"
   ]
  },
  {
   "cell_type": "code",
   "execution_count": 4,
   "id": "c534e391",
   "metadata": {
    "scrolled": false
   },
   "outputs": [
    {
     "name": "stdout",
     "output_type": "stream",
     "text": [
      "[' M pkgs/urls.txt', '?? pkgs/chart-studio-1.1.0-pyh9f0ad1d_0.tar.bz2', '?? pkgs/conda-4.11.0-py39hcbf5309_2.tar.bz2', '?? pkgs/cufflinks-py-0.17.3-py_0.tar.bz2', '?? pkgs/python-cufflinks-0.17.3-py_0.tar.bz2']\n"
     ]
    }
   ],
   "source": [
    "li = self.comfirm_file(case=0)"
   ]
  },
  {
   "cell_type": "markdown",
   "id": "a5ae5054",
   "metadata": {},
   "source": [
    "未コミットがあれば、コミットとして0にする"
   ]
  },
  {
   "cell_type": "code",
   "execution_count": 5,
   "id": "35a238b6",
   "metadata": {},
   "outputs": [
    {
     "name": "stdout",
     "output_type": "stream",
     "text": [
      "['A  pkgs/chart-studio-1.1.0-pyh9f0ad1d_0.tar.bz2', 'A  pkgs/conda-4.11.0-py39hcbf5309_2.tar.bz2', 'A  pkgs/cufflinks-py-0.17.3-py_0.tar.bz2', 'A  pkgs/python-cufflinks-0.17.3-py_0.tar.bz2', 'M  pkgs/urls.txt']\n"
     ]
    }
   ],
   "source": [
    "if li[0] != \"\":\n",
    "    self.repo_fac.git.add(r\"*\")\n",
    "    li = self.comfirm_file(case=0)\n",
    "\n",
    "if li[0] != \"\":\n",
    "    self.repo_fac.git.commit(\"-m\",\"initial commit\")"
   ]
  },
  {
   "cell_type": "code",
   "execution_count": 6,
   "id": "2ba84409",
   "metadata": {},
   "outputs": [],
   "source": [
    "!start ."
   ]
  },
  {
   "cell_type": "markdown",
   "id": "743b7a8d",
   "metadata": {},
   "source": [
    "conda install でパッケージをインストール"
   ]
  },
  {
   "cell_type": "markdown",
   "id": "ab0db296",
   "metadata": {},
   "source": [
    "## miniconda→factory_env_miniconda39にコピー\n",
    "同じ状態にします"
   ]
  },
  {
   "cell_type": "code",
   "execution_count": 16,
   "id": "c976dade",
   "metadata": {},
   "outputs": [],
   "source": [
    "files = os.listdir(self.miniconda_path)\n",
    "file_list = [f for f in files if os.path.isfile(os.path.join(self.miniconda_path, f))]\n",
    "for file in file_list:\n",
    "    f_path_moto = os.path.join(self.miniconda_path,file)\n",
    "    f_path_copy = os.path.join(self.fac_pkg_path,file)\n",
    "    try:\n",
    "        shutil.copyfile(f_path_moto,f_path_copy)\n",
    "    except :\n",
    "        print(f\"エラー:{file}\")\n",
    "        pass"
   ]
  },
  {
   "cell_type": "code",
   "execution_count": 17,
   "id": "46a69b15",
   "metadata": {
    "scrolled": true
   },
   "outputs": [
    {
     "data": {
      "text/plain": [
       "['.cio-config.py',\n",
       " 'alabaster-0.7.12-py_0.tar.bz2',\n",
       " 'altgraph-0.17-pyhd8ed1ab_0.tar.bz2',\n",
       " 'ansi2html-1.6.0-py39hcbf5309_1.tar.bz2',\n",
       " 'anyio-3.3.4-py39hcbf5309_0.tar.bz2',\n",
       " 'appdirs-1.4.4-pyh9f0ad1d_0.tar.bz2',\n",
       " 'argon2-cffi-20.1.0-py39hb82d6ee_2.tar.bz2',\n",
       " 'asgiref-3.4.1-pyhd8ed1ab_0.tar.bz2',\n",
       " 'astroid-2.8.0-py39hcbf5309_0.tar.bz2',\n",
       " 'async_generator-1.10-py_0.tar.bz2',\n",
       " 'attrs-21.2.0-pyhd8ed1ab_0.tar.bz2',\n",
       " 'autopep8-1.5.7-pyhd8ed1ab_0.tar.bz2',\n",
       " 'babel-2.9.1-pyh44b312d_0.tar.bz2',\n",
       " 'backcall-0.2.0-pyh9f0ad1d_0.tar.bz2',\n",
       " 'backports-1.0-py_2.tar.bz2',\n",
       " 'backports.functools_lru_cache-1.6.4-pyhd8ed1ab_0.tar.bz2',\n",
       " 'beautifulsoup4-4.10.0-pyha770c72_0.tar.bz2',\n",
       " 'blas-1.0-mkl.conda',\n",
       " 'bleach-4.1.0-pyhd8ed1ab_0.tar.bz2',\n",
       " 'boost-cpp-1.74.0-h5b4e17d_4.tar.bz2',\n",
       " 'brotli-python-1.0.9-py39h415ef7b_5.tar.bz2',\n",
       " 'brotlipy-0.7.0-py39h2bbff1b_1003.conda',\n",
       " 'bzip2-1.0.8-h8ffe710_4.tar.bz2',\n",
       " 'ca-certificates-2021.10.8-h5b45459_0.tar.bz2',\n",
       " 'ca-certificates-2021.5.30-h5b45459_0.tar.bz2',\n",
       " 'ca-certificates-2021.7.5-haa95532_1.conda',\n",
       " 'cached-property-1.5.2-hd8ed1ab_1.tar.bz2',\n",
       " 'cached_property-1.5.2-pyha770c72_1.tar.bz2',\n",
       " 'certifi-2021.10.8-py39hcbf5309_0.tar.bz2',\n",
       " 'certifi-2021.10.8-py39hcbf5309_1.tar.bz2',\n",
       " 'certifi-2021.5.30-py39haa95532_0.conda',\n",
       " 'certifi-2021.5.30-py39hcbf5309_0.tar.bz2',\n",
       " 'cffi-1.14.6-py39h0878f49_1.tar.bz2',\n",
       " 'cffi-1.14.6-py39h2bbff1b_0.conda',\n",
       " 'chardet-4.0.0-py39haa95532_1003.conda',\n",
       " 'chart-studio-1.1.0-pyh9f0ad1d_0.tar.bz2',\n",
       " 'click-8.0.1-py39hcbf5309_0.tar.bz2',\n",
       " 'coin3d-4.0.0-h3243ecf_1011.tar.bz2',\n",
       " 'colorama-0.4.4-pyh9f0ad1d_0.tar.bz2',\n",
       " 'colorlover-0.3.0-py_0.tar.bz2',\n",
       " 'conda-4.10.3-py39haa95532_0.tar.bz2',\n",
       " 'conda-4.10.3-py39hcbf5309_2.tar.bz2',\n",
       " 'conda-4.10.3-py39hcbf5309_3.tar.bz2',\n",
       " 'conda-4.11.0-py39hcbf5309_0.tar.bz2',\n",
       " 'conda-4.11.0-py39hcbf5309_2.tar.bz2',\n",
       " 'conda-package-handling-1.7.3-py39h8cc25b3_1.conda',\n",
       " 'console_shortcut-0.1.1-4.conda',\n",
       " 'cpuonly-1.0-0.tar.bz2',\n",
       " 'cryptography-3.4.7-py39h71e12ea_0.conda',\n",
       " 'cufflinks-py-0.17.3-py_0.tar.bz2',\n",
       " 'curl-7.79.1-h789b8ee_0.tar.bz2',\n",
       " 'cycler-0.10.0-py_2.tar.bz2',\n",
       " 'dacite-1.6.0-pyhd3deb0d_0.tar.bz2',\n",
       " 'dash-2.0.0-pyhd8ed1ab_0.tar.bz2',\n",
       " 'dash-bootstrap-components-0.13.0-pyhd8ed1ab_0.tar.bz2',\n",
       " 'dash-core-components-2.0.0-pyhd8ed1ab_0.tar.bz2',\n",
       " 'dash-daq-0.5.0-pyh9f0ad1d_1.tar.bz2',\n",
       " 'dash-html-components-2.0.0-pyhd8ed1ab_0.tar.bz2',\n",
       " 'dash_colorscales-0.0.4-pyh9f0ad1d_0.tar.bz2',\n",
       " 'dataclasses-0.8-pyhc8e2a94_3.tar.bz2',\n",
       " 'dataproperty-0.53.0-pyhd8ed1ab_0.tar.bz2',\n",
       " 'debugpy-1.4.1-py39h415ef7b_0.tar.bz2',\n",
       " 'decorator-5.1.0-pyhd8ed1ab_0.tar.bz2',\n",
       " 'defusedxml-0.7.1-pyhd8ed1ab_0.tar.bz2',\n",
       " 'deprecated-1.2.12-pyh44b312d_0.tar.bz2',\n",
       " 'descartes-1.1.0-py_4.tar.bz2',\n",
       " 'docutils-0.17.1-py39hcbf5309_0.tar.bz2',\n",
       " 'docx2txt-0.8-py_0.tar.bz2',\n",
       " 'double-conversion-3.1.5-h0e60522_2.tar.bz2',\n",
       " 'dtale-1.57.0-pyhd8ed1ab_0.tar.bz2',\n",
       " 'easygui-0.98.1-py39hde42818_2.tar.bz2',\n",
       " 'eigen-3.4.0-h2d74725_0.tar.bz2',\n",
       " 'entrypoints-0.3-pyhd8ed1ab_1003.tar.bz2',\n",
       " 'et_xmlfile-1.0.1-py_1001.tar.bz2',\n",
       " 'expat-2.4.1-h39d44d4_0.tar.bz2',\n",
       " 'fastapi-0.70.0-pyhd8ed1ab_0.tar.bz2',\n",
       " 'ffmpeg-4.3.1-ha925a31_0.tar.bz2',\n",
       " 'flann-1.9.1-h7dfa0ef_1008.tar.bz2',\n",
       " 'flask-2.0.1-pyhd8ed1ab_0.tar.bz2',\n",
       " 'flask-compress-1.10.1-pyhd8ed1ab_0.tar.bz2',\n",
       " 'font-ttf-dejavu-sans-mono-2.37-hab24e00_0.tar.bz2',\n",
       " 'font-ttf-inconsolata-3.000-h77eed37_0.tar.bz2',\n",
       " 'font-ttf-source-code-pro-2.038-h77eed37_0.tar.bz2',\n",
       " 'font-ttf-ubuntu-0.83-hab24e00_0.tar.bz2',\n",
       " 'fontconfig-2.13.1-h1989441_1005.tar.bz2',\n",
       " 'fonts-conda-ecosystem-1-0.tar.bz2',\n",
       " 'fonts-conda-forge-1-0.tar.bz2',\n",
       " 'freecad-0.19.2-py39h29cc40a_0.tar.bz2',\n",
       " 'freeglut-3.2.1-h0e60522_2.tar.bz2',\n",
       " 'freeimage-3.18.0-hfcb8cd7_7.tar.bz2',\n",
       " 'freetype-2.10.4-h546665d_1.tar.bz2',\n",
       " 'future-0.18.2-py39hcbf5309_3.tar.bz2',\n",
       " 'geos-3.9.1-h39d44d4_2.tar.bz2',\n",
       " 'gitdb-4.0.7-pyhd8ed1ab_0.tar.bz2',\n",
       " 'gitpython-3.1.24-pyhd8ed1ab_0.tar.bz2',\n",
       " 'gl2ps-1.4.2-h0597ee9_0.tar.bz2',\n",
       " 'glew-2.1.0-h39d44d4_2.tar.bz2',\n",
       " 'greenlet-1.1.2-py39h415ef7b_1.tar.bz2',\n",
       " 'h11-0.12.0-pyhd8ed1ab_0.tar.bz2',\n",
       " 'hdf4-4.2.15-h0e5069d_3.tar.bz2',\n",
       " 'hdf5-1.10.6-nompi_h5268f04_1114.tar.bz2',\n",
       " 'html5lib-1.1-pyh9f0ad1d_0.tar.bz2',\n",
       " 'icu-68.1-h0e60522_0.tar.bz2',\n",
       " 'idna-2.10-pyhd3eb1b0_0.tar.bz2',\n",
       " 'ilmbase-2.5.5-h12d4b20_0.tar.bz2',\n",
       " 'imagesize-1.2.0-py_0.tar.bz2',\n",
       " 'img2pdf-0.4.1-py39hcbf5309_0.tar.bz2',\n",
       " 'importlib-metadata-4.8.1-py39hcbf5309_0.tar.bz2',\n",
       " 'intel-openmp-2021.3.0-h57928b3_3372.tar.bz2',\n",
       " 'ipykernel-6.4.1-py39h832f523_0.tar.bz2',\n",
       " 'ipython-7.27.0-py39h832f523_0.tar.bz2',\n",
       " 'ipython_genutils-0.2.0-py_1.tar.bz2',\n",
       " 'ipywidgets-7.6.5-pyhd8ed1ab_0.tar.bz2',\n",
       " 'isodate-0.6.0-py_1.tar.bz2',\n",
       " 'isort-5.9.3-pyhd8ed1ab_0.tar.bz2',\n",
       " 'itsdangerous-2.0.1-pyhd8ed1ab_0.tar.bz2',\n",
       " 'jaconv-0.3-pyhd8ed1ab_0.tar.bz2',\n",
       " 'jasper-2.0.14-h77af90b_2.tar.bz2',\n",
       " 'jbig-2.1-h8d14728_2003.tar.bz2',\n",
       " 'jedi-0.18.0-py39hcbf5309_2.tar.bz2',\n",
       " 'jinja2-3.0.1-pyhd8ed1ab_0.tar.bz2',\n",
       " 'joblib-1.0.1-pyhd8ed1ab_0.tar.bz2',\n",
       " 'jpeg-9d-h8ffe710_0.tar.bz2',\n",
       " 'jsoncpp-1.9.4-h2d74725_3.tar.bz2',\n",
       " 'jsonschema-3.2.0-pyhd8ed1ab_3.tar.bz2',\n",
       " 'jupyter-1.0.0-py39hcbf5309_6.tar.bz2',\n",
       " 'jupyter-dash-0.4.0-pyhd8ed1ab_0.tar.bz2',\n",
       " 'jupyterlab_pygments-0.1.2-pyh9f0ad1d_0.tar.bz2',\n",
       " 'jupyterlab_widgets-1.0.2-pyhd8ed1ab_0.tar.bz2',\n",
       " 'jupyter_client-7.0.3-pyhd8ed1ab_0.tar.bz2',\n",
       " 'jupyter_console-6.4.0-pyhd8ed1ab_0.tar.bz2',\n",
       " 'jupyter_contrib_core-0.3.3-py_2.tar.bz2',\n",
       " 'jupyter_contrib_nbextensions-0.5.1-pyhd8ed1ab_2.tar.bz2',\n",
       " 'jupyter_core-4.8.1-py39hcbf5309_0.tar.bz2',\n",
       " 'jupyter_highlight_selected_word-0.2.0-py39hcbf5309_1002.tar.bz2',\n",
       " 'jupyter_latex_envs-1.4.6-pyhd8ed1ab_1002.tar.bz2',\n",
       " 'jupyter_nbextensions_configurator-0.4.1-py39hcbf5309_2.tar.bz2',\n",
       " 'jupytext-1.13.1-pyh6002c4b_0.tar.bz2',\n",
       " 'jxrlib-1.1-h8ffe710_2.tar.bz2',\n",
       " 'kiwisolver-1.3.2-py39h2e07f2f_0.tar.bz2',\n",
       " 'krb5-1.19.2-hbae68bd_0.tar.bz2',\n",
       " 'lazy-object-proxy-1.6.0-py39hb82d6ee_0.tar.bz2',\n",
       " 'lcms2-2.12-h2a16943_0.tar.bz2',\n",
       " 'lerc-2.2.1-h0e60522_0.tar.bz2',\n",
       " 'libblas-3.9.0-8_mkl.tar.bz2',\n",
       " 'libcblas-3.9.0-8_mkl.tar.bz2',\n",
       " 'libclang-11.1.0-default_h5c34c98_1.tar.bz2',\n",
       " 'libcurl-7.79.1-h789b8ee_0.tar.bz2',\n",
       " 'libdeflate-1.7-h8ffe710_5.tar.bz2',\n",
       " 'libiconv-1.16-he774522_0.tar.bz2',\n",
       " 'liblapack-3.9.0-8_mkl.tar.bz2',\n",
       " 'liblapacke-3.9.0-8_mkl.tar.bz2',\n",
       " 'libnetcdf-4.8.0-nompi_hf689e7d_103.tar.bz2',\n",
       " 'libogg-1.3.4-h8ffe710_1.tar.bz2',\n",
       " 'libopencv-4.5.3-py39h41a9e09_1.tar.bz2',\n",
       " 'libpng-1.6.37-h1d00b33_2.tar.bz2',\n",
       " 'libprotobuf-3.16.0-h7755175_0.tar.bz2',\n",
       " 'libraw-0.20.2-hee1bdec_1.tar.bz2',\n",
       " 'libsodium-1.0.18-h8d14728_1.tar.bz2',\n",
       " 'libssh2-1.10.0-h680486a_1.tar.bz2',\n",
       " 'libtheora-1.1.1-h8d14728_1005.tar.bz2',\n",
       " 'libtiff-4.3.0-h0c97f57_1.tar.bz2',\n",
       " 'libuv-1.42.0-h8ffe710_0.tar.bz2',\n",
       " 'libwebp-base-1.2.1-h8ffe710_0.tar.bz2',\n",
       " 'libxml2-2.9.12-hf5bbc77_0.tar.bz2',\n",
       " 'libxslt-1.1.33-h65864e5_2.tar.bz2',\n",
       " 'libzip-1.8.0-hfed4ece_0.tar.bz2',\n",
       " 'loguru-0.5.3-py39hcbf5309_2.tar.bz2',\n",
       " 'lxml-4.6.3-py39h4fd7cdf_0.tar.bz2',\n",
       " 'lz4-3.1.3-py39h92e281b_0.tar.bz2',\n",
       " 'lz4-c-1.9.3-h8ffe710_1.tar.bz2',\n",
       " 'm2w64-gcc-libgfortran-5.3.0-6.tar.bz2',\n",
       " 'm2w64-gcc-libs-5.3.0-7.tar.bz2',\n",
       " 'm2w64-gcc-libs-core-5.3.0-7.tar.bz2',\n",
       " 'm2w64-gmp-6.1.0-2.tar.bz2',\n",
       " 'm2w64-libwinpthread-git-5.0.0.4634.697f757-2.tar.bz2',\n",
       " 'macholib-1.14-pyh9f0ad1d_1.tar.bz2',\n",
       " 'markdown-it-py-1.1.0-pyhd8ed1ab_0.tar.bz2',\n",
       " 'markupsafe-2.0.1-py39hb82d6ee_0.tar.bz2',\n",
       " 'matplotlib-base-3.4.3-py39h581301d_1.tar.bz2',\n",
       " 'matplotlib-inline-0.1.3-pyhd8ed1ab_0.tar.bz2',\n",
       " 'mbstrdecoder-1.1.0-pyhd8ed1ab_0.tar.bz2',\n",
       " 'mccabe-0.6.1-py_1.tar.bz2',\n",
       " 'mdit-py-plugins-0.2.8-pyhd8ed1ab_0.tar.bz2',\n",
       " 'menuinst-1.4.16-py39h2bbff1b_0.conda',\n",
       " 'meshpy-2020.1-py39h2e25243_0.tar.bz2',\n",
       " 'missingno-0.4.2-py_1.tar.bz2',\n",
       " 'mistune-0.8.4-py39hb82d6ee_1004.tar.bz2',\n",
       " 'mkl-2020.4-hb70f87d_311.tar.bz2',\n",
       " 'msgfy-0.1.0-py_0.tar.bz2',\n",
       " 'msys2-conda-epoch-20160418-1.tar.bz2',\n",
       " 'nbclient-0.5.4-pyhd8ed1ab_0.tar.bz2',\n",
       " 'nbconvert-6.2.0-py39hcbf5309_0.tar.bz2',\n",
       " 'nbformat-5.1.3-pyhd8ed1ab_0.tar.bz2',\n",
       " 'nest-asyncio-1.5.1-pyhd8ed1ab_0.tar.bz2',\n",
       " 'networkx-2.3-py_0.tar.bz2',\n",
       " 'ninja-1.10.2-h5362a0b_0.tar.bz2',\n",
       " 'nodejs-16.6.1-h57928b3_0.tar.bz2',\n",
       " 'notebook-6.4.4-pyha770c72_0.tar.bz2',\n",
       " 'numpy-1.19.5-py39h6635163_2.tar.bz2',\n",
       " 'numpy-1.21.2-py39h6635163_0.tar.bz2',\n",
       " 'occt-7.5.2-h60997fb_0.tar.bz2',\n",
       " 'olefile-0.46-pyh9f0ad1d_1.tar.bz2',\n",
       " 'opencv-4.5.3-py39hcbf5309_1.tar.bz2',\n",
       " 'openexr-2.5.5-hab3b255_0.tar.bz2',\n",
       " 'openjpeg-2.4.0-hb211442_1.tar.bz2',\n",
       " 'openpyxl-3.0.9-pyhd8ed1ab_0.tar.bz2',\n",
       " 'openssl-1.1.1k-h2bbff1b_0.conda',\n",
       " 'openssl-1.1.1l-h8ffe710_0.tar.bz2',\n",
       " 'packaging-21.0-pyhd8ed1ab_0.tar.bz2',\n",
       " 'pandas-1.3.3-py39h2e25243_0.tar.bz2',\n",
       " 'pandasgui-0.2.9-py39hcbf5309_0.tar.bz2',\n",
       " 'pandoc-2.14.2-h8ffe710_0.tar.bz2',\n",
       " 'pandocfilters-1.5.0-pyhd8ed1ab_0.tar.bz2',\n",
       " 'parso-0.8.2-pyhd8ed1ab_0.tar.bz2',\n",
       " 'pathvalidate-2.4.1-pyhd8ed1ab_0.tar.bz2',\n",
       " 'patsy-0.5.1-py_0.tar.bz2',\n",
       " 'pcl-1.12.0-h68e0818_0.tar.bz2',\n",
       " 'pdf2image-1.16.0-pyhd8ed1ab_0.tar.bz2',\n",
       " 'pdfminer.six-20201018-pyhd8ed1ab_3.tar.bz2',\n",
       " 'pefile-2021.9.3-pyhd8ed1ab_0.tar.bz2',\n",
       " 'pendulum-2.1.2-pyhd8ed1ab_1.tar.bz2',\n",
       " 'pickleshare-0.7.5-py_1003.tar.bz2',\n",
       " 'pillow-8.3.2-py39h916092e_0.tar.bz2',\n",
       " 'pip-21.1.3-py39haa95532_0.conda',\n",
       " 'pip-21.2.4-pyhd8ed1ab_0.tar.bz2',\n",
       " 'pivy-0.6.6-py39h2132ece_0.tar.bz2',\n",
       " 'platformdirs-2.3.0-pyhd8ed1ab_0.tar.bz2',\n",
       " 'plotly-5.3.1-pyhd8ed1ab_0.tar.bz2',\n",
       " 'ply-3.11-py_1.tar.bz2',\n",
       " 'post_install.bat',\n",
       " 'powershell_shortcut-0.0.1-3.conda',\n",
       " 'ppscore-1.2.0-pyhd3deb0d_0.tar.bz2',\n",
       " 'pre_uninstall.bat',\n",
       " 'proj-7.2.0-h1cfcee9_2.tar.bz2',\n",
       " 'prometheus_client-0.11.0-pyhd8ed1ab_0.tar.bz2',\n",
       " 'prompt-toolkit-3.0.20-pyha770c72_0.tar.bz2',\n",
       " 'prompt_toolkit-3.0.20-hd8ed1ab_0.tar.bz2',\n",
       " 'pthreads-win32-2.9.1-hfa6e2cd_3.tar.bz2',\n",
       " 'pugixml-1.11.4-h0e60522_0.tar.bz2',\n",
       " 'py-opencv-4.5.3-py39h832f523_1.tar.bz2',\n",
       " 'pyautogui-0.9.48-py39hde42818_1.tar.bz2',\n",
       " 'pycodestyle-2.7.0-pyhd8ed1ab_0.tar.bz2',\n",
       " 'pycosat-0.6.3-py39h2bbff1b_0.conda',\n",
       " 'pycparser-2.20-pyh9f0ad1d_2.tar.bz2',\n",
       " 'pycparser-2.20-py_2.conda',\n",
       " 'pydantic-1.8.2-py39hb82d6ee_0.tar.bz2',\n",
       " 'pygments-2.10.0-pyhd8ed1ab_0.tar.bz2',\n",
       " 'pyinstaller-4.5.1-py39h4dafc3f_0.tar.bz2',\n",
       " 'pyinstaller-hooks-contrib-2021.3-pyhd8ed1ab_0.tar.bz2',\n",
       " 'pykakasi-2.2.1-py39hcbf5309_0.tar.bz2',\n",
       " 'pylint-2.11.1-pyhd8ed1ab_0.tar.bz2',\n",
       " 'pymsgbox-1.0.9-pyh9f0ad1d_0.tar.bz2',\n",
       " 'pymysql-1.0.2-pyhd8ed1ab_0.tar.bz2',\n",
       " 'pynput-1.7.3-py39hcbf5309_0.tar.bz2',\n",
       " 'pyntcloud-0.1.5-pyhd8ed1ab_0.tar.bz2',\n",
       " 'pyopenssl-20.0.1-pyhd3eb1b0_1.conda',\n",
       " 'pyparsing-2.4.7-pyh9f0ad1d_0.tar.bz2',\n",
       " 'pypdf2-1.26.0-py_2.tar.bz2',\n",
       " 'pyperclip-1.8.2-pyhd8ed1ab_2.tar.bz2',\n",
       " 'pyqt-5.12.3-py39hcbf5309_7.tar.bz2',\n",
       " 'pyqt-impl-5.12.3-py39h415ef7b_7.tar.bz2',\n",
       " 'pyqt5-sip-4.19.18-py39h415ef7b_7.tar.bz2',\n",
       " 'pyqtchart-5.12-py39h415ef7b_7.tar.bz2',\n",
       " 'pyqtwebengine-5.12.1-py39h415ef7b_7.tar.bz2',\n",
       " 'pyrsistent-0.17.3-py39hb82d6ee_2.tar.bz2',\n",
       " 'pyscreeze-0.1.27-pyhd8ed1ab_0.tar.bz2',\n",
       " 'pyside2-5.13.2-py39hc084194_4.tar.bz2',\n",
       " 'pysimplegui-4.47.0-pyhd8ed1ab_0.tar.bz2',\n",
       " 'pysimpleguiweb-0.39.0-py_0.tar.bz2',\n",
       " 'pysocks-1.7.1-py39haa95532_0.conda',\n",
       " 'pytablewriter-0.63.0-pyhd8ed1ab_0.tar.bz2',\n",
       " 'python-3.9.5-h6244533_3.conda',\n",
       " 'python-3.9.7-h7840368_2_cpython.tar.bz2',\n",
       " 'python-cufflinks-0.17.3-py_0.tar.bz2',\n",
       " 'python-dateutil-2.8.2-pyhd8ed1ab_0.tar.bz2',\n",
       " 'python-docx-0.8.11-pyhd8ed1ab_0.tar.bz2',\n",
       " 'python-pptx-0.6.21-pyhd8ed1ab_0.tar.bz2',\n",
       " 'python-xlib-0.28-pyh9f0ad1d_0.tar.bz2',\n",
       " 'pythonocc-core-7.5.1-py39h5d9d39a_0.tar.bz2',\n",
       " 'python_abi-3.9-2_cp39.tar.bz2',\n",
       " 'pytools-2021.2.8-pyhd8ed1ab_0.tar.bz2',\n",
       " 'pytorch-1.9.1-py3.9_cpu_0.tar.bz2',\n",
       " 'pytweening-1.0.3-py_0.tar.bz2',\n",
       " 'pytz-2021.1-pyhd8ed1ab_0.tar.bz2',\n",
       " 'pytzdata-2020.1-pyh9f0ad1d_0.tar.bz2',\n",
       " 'pywin32-228-py39he774522_0.conda',\n",
       " 'pywin32-301-py39hb82d6ee_0.tar.bz2',\n",
       " 'pywin32-ctypes-0.2.0-py39hcbf5309_1003.tar.bz2',\n",
       " 'pywinpty-0.5.7-py39haa95532_0.conda',\n",
       " 'pywinpty-1.1.4-py39h99910a6_0.tar.bz2',\n",
       " 'pyyaml-5.4.1-py39hb82d6ee_1.tar.bz2',\n",
       " 'pyzmq-22.3.0-py39he46f08e_0.tar.bz2',\n",
       " 'qhull-2020.2-h70d2c02_2.tar.bz2',\n",
       " 'qt-5.12.9-h5909a2a_4.tar.bz2',\n",
       " 'qtconsole-5.1.1-pyhd8ed1ab_0.tar.bz2',\n",
       " 'qtpy-1.11.2-pyhd8ed1ab_0.tar.bz2',\n",
       " 'rapidjson-1.1.0-ha925a31_1002.tar.bz2',\n",
       " 'remi-2021.3.2-pyh44b312d_0.tar.bz2',\n",
       " 'requests-2.25.1-pyhd3eb1b0_0.conda',\n",
       " 'requests-file-1.5.1-pyh9f0ad1d_0.tar.bz2',\n",
       " 'requests-toolbelt-0.9.1-py_0.tar.bz2',\n",
       " 'retrying-1.3.3-py_2.tar.bz2',\n",
       " 'ruamel_yaml-0.15.100-py39h2bbff1b_0.conda',\n",
       " 'scikit-learn-1.0-py39h74df8f2_0.tar.bz2',\n",
       " 'scipy-1.7.1-py39hc0c34ad_0.tar.bz2',\n",
       " 'seaborn-0.11.2-hd8ed1ab_0.tar.bz2',\n",
       " 'seaborn-base-0.11.2-pyhd8ed1ab_0.tar.bz2',\n",
       " 'selenium-3.141.0-py39hb82d6ee_1002.tar.bz2',\n",
       " 'send2trash-1.8.0-pyhd8ed1ab_0.tar.bz2',\n",
       " 'setuptools-52.0.0-py39haa95532_0.conda',\n",
       " 'setuptools-58.0.4-py39hcbf5309_1.tar.bz2',\n",
       " 'setuptools-lint-0.6.0-pyh9f0ad1d_0.tar.bz2',\n",
       " 'shapely-1.7.1-py39haadaec5_5.tar.bz2',\n",
       " 'six-1.16.0-pyh6c4a22f_0.tar.bz2',\n",
       " 'six-1.16.0-pyhd3eb1b0_0.conda',\n",
       " 'smesh-9.6.0.2-h7a081ec_0.tar.bz2',\n",
       " 'smmap-3.0.5-pyh44b312d_0.tar.bz2',\n",
       " 'sniffio-1.2.0-py39hcbf5309_1.tar.bz2',\n",
       " 'snowballstemmer-2.1.0-pyhd8ed1ab_0.tar.bz2',\n",
       " 'soqt-1.6.0-h95c7cbc_2.tar.bz2',\n",
       " 'sortedcontainers-2.4.0-pyhd8ed1ab_0.tar.bz2',\n",
       " 'soupsieve-2.0.1-py_1.tar.bz2',\n",
       " 'sphinx-4.2.0-pyh6c4a22f_0.tar.bz2',\n",
       " 'sphinxcontrib-applehelp-1.0.2-py_0.tar.bz2',\n",
       " 'sphinxcontrib-devhelp-1.0.2-py_0.tar.bz2',\n",
       " 'sphinxcontrib-htmlhelp-2.0.0-pyhd8ed1ab_0.tar.bz2',\n",
       " 'sphinxcontrib-jsmath-1.0.1-py_0.tar.bz2',\n",
       " 'sphinxcontrib-qthelp-1.0.3-py_0.tar.bz2',\n",
       " 'sphinxcontrib-serializinghtml-1.1.5-pyhd8ed1ab_0.tar.bz2',\n",
       " 'splipy-1.5.6-py39h5d4886f_1.tar.bz2',\n",
       " 'sqlalchemy-1.4.31-py39hb82d6ee_0.tar.bz2',\n",
       " 'sqlite-3.36.0-h2bbff1b_0.conda',\n",
       " 'sqlite-3.36.0-h8ffe710_1.tar.bz2',\n",
       " 'squarify-0.4.3-py_0.tar.bz2',\n",
       " 'starlette-0.16.0-pyhd8ed1ab_0.tar.bz2',\n",
       " 'statsmodels-0.12.2-py39h5d4886f_0.tar.bz2',\n",
       " 'strsimpy-0.1.9-pyh9f0ad1d_0.tar.bz2',\n",
       " 'tabledata-1.3.0-pyhd8ed1ab_0.tar.bz2',\n",
       " 'tbb-2020.2-h2d74725_4.tar.bz2',\n",
       " 'tbb-devel-2020.2-h2d74725_4.tar.bz2',\n",
       " 'tcolorpy-0.1.1-pyhd8ed1ab_0.tar.bz2',\n",
       " 'tenacity-8.0.1-pyhd8ed1ab_0.tar.bz2',\n",
       " 'terminado-0.12.1-py39hcbf5309_0.tar.bz2',\n",
       " 'terminado-0.9.4-py39haa95532_0.conda',\n",
       " 'testpath-0.5.0-pyhd8ed1ab_0.tar.bz2',\n",
       " 'threadpoolctl-2.2.0-pyh8a188c0_0.tar.bz2',\n",
       " 'tk-8.6.11-h8ffe710_1.tar.bz2',\n",
       " 'toml-0.10.2-pyhd8ed1ab_0.tar.bz2',\n",
       " 'torchaudio-0.9.1-py39.tar.bz2',\n",
       " 'torchvision-0.2.2-py_3.tar.bz2',\n",
       " 'tornado-6.1-py39hb82d6ee_1.tar.bz2',\n",
       " 'tqdm-4.61.2-pyhd3eb1b0_1.conda',\n",
       " 'traitlets-5.1.0-pyhd8ed1ab_0.tar.bz2',\n",
       " 'trimesh-3.9.30-pyh6c4a22f_0.tar.bz2',\n",
       " 'typepy-1.3.0-pyhd8ed1ab_0.tar.bz2',\n",
       " 'typing-extensions-3.10.0.2-hd8ed1ab_0.tar.bz2',\n",
       " 'typing_extensions-3.10.0.2-pyha770c72_0.tar.bz2',\n",
       " 'tzdata-2021a-h52ac0ba_0.conda',\n",
       " 'tzdata-2021a-he74cb21_1.tar.bz2',\n",
       " 'ucrt-10.0.20348.0-h57928b3_0.tar.bz2',\n",
       " 'urllib3-1.26.6-pyhd3eb1b0_1.conda',\n",
       " 'urls',\n",
       " 'urls.txt',\n",
       " 'utfcpp-3.2.1-h57928b3_0.tar.bz2',\n",
       " 'uvicorn-0.15.0-py39hcbf5309_1.tar.bz2',\n",
       " 'vc-14.2-h21ff451_1.conda',\n",
       " 'vc-14.2-hb210afc_5.tar.bz2',\n",
       " 'vs2015_runtime-14.27.29016-h5e58377_2.conda',\n",
       " 'vs2015_runtime-14.29.30037-h902a5da_5.tar.bz2',\n",
       " 'vtk-9.0.1-no_osmesa_py39h47d625f_109.tar.bz2',\n",
       " 'wcwidth-0.2.5-pyh9f0ad1d_2.tar.bz2',\n",
       " 'webencodings-0.5.1-py_1.tar.bz2',\n",
       " 'werkzeug-2.0.1-pyhd8ed1ab_0.tar.bz2',\n",
       " 'wheel-0.36.2-pyhd3eb1b0_0.conda',\n",
       " 'wheel-0.37.0-pyhd8ed1ab_1.tar.bz2',\n",
       " 'widgetsnbextension-3.5.1-py39hcbf5309_4.tar.bz2',\n",
       " 'win32_setctime-1.0.3-py_0.tar.bz2',\n",
       " 'wincertstore-0.2-py39h2bbff1b_0.conda',\n",
       " 'winpty-0.4.3-4.tar.bz2',\n",
       " 'win_inet_pton-1.1.0-py39haa95532_0.conda',\n",
       " 'wrapt-1.11.2-py39h4cdbadb_1.tar.bz2',\n",
       " 'xarray-0.19.0-pyhd8ed1ab_1.tar.bz2',\n",
       " 'xerces-c-3.2.3-h0e60522_2.tar.bz2',\n",
       " 'xlrd-2.0.1-pyhd8ed1ab_3.tar.bz2',\n",
       " 'xlsxwriter-3.0.1-pyhd8ed1ab_0.tar.bz2',\n",
       " 'xlwings-0.24.9-py39hcbf5309_0.tar.bz2',\n",
       " 'xz-5.2.5-h62dcd97_1.tar.bz2',\n",
       " 'yaml-0.2.5-he774522_0.conda',\n",
       " 'yaml-0.2.5-he774522_0.tar.bz2',\n",
       " 'zeep-4.1.0-pyh6c4a22f_0.tar.bz2',\n",
       " 'zeromq-4.3.4-h0e60522_1.tar.bz2',\n",
       " 'zipp-3.5.0-pyhd8ed1ab_0.tar.bz2',\n",
       " 'zlib-1.2.11-h62dcd97_1010.tar.bz2',\n",
       " 'zstd-1.5.0-h6255e5f_0.tar.bz2']"
      ]
     },
     "execution_count": 17,
     "metadata": {},
     "output_type": "execute_result"
    }
   ],
   "source": [
    "file_list"
   ]
  },
  {
   "cell_type": "markdown",
   "id": "8235d828",
   "metadata": {},
   "source": [
    "## factory_env_miniconda39→env_miniconda_39にコピー\n",
    "factory_env_miniconda39の未コミットのファイルをenv_miniconda_39にコピーします"
   ]
  },
  {
   "cell_type": "code",
   "execution_count": 18,
   "id": "54488dbc",
   "metadata": {},
   "outputs": [
    {
     "name": "stdout",
     "output_type": "stream",
     "text": [
      "[' M pkgs/urls.txt', '?? pkgs/chart-studio-1.1.0-pyh9f0ad1d_0.tar.bz2', '?? pkgs/conda-4.11.0-py39hcbf5309_2.tar.bz2', '?? pkgs/cufflinks-py-0.17.3-py_0.tar.bz2', '?? pkgs/python-cufflinks-0.17.3-py_0.tar.bz2']\n"
     ]
    }
   ],
   "source": [
    "import pandas as pd\n",
    "li_m = self.comfirm_file(case=0)\n",
    "li_s = [[i[0:2],i[3:]] for i in li_m]\n",
    "df = pd.DataFrame(li_s,columns=[\"code\",\"file_name\"])\n",
    "df_tg = df[df[\"code\"]==\"??\"]\n",
    "li = list(df_tg[\"file_name\"])"
   ]
  },
  {
   "cell_type": "code",
   "execution_count": 19,
   "id": "77aafb01",
   "metadata": {},
   "outputs": [
    {
     "data": {
      "text/plain": [
       "[' M pkgs/urls.txt',\n",
       " '?? pkgs/chart-studio-1.1.0-pyh9f0ad1d_0.tar.bz2',\n",
       " '?? pkgs/conda-4.11.0-py39hcbf5309_2.tar.bz2',\n",
       " '?? pkgs/cufflinks-py-0.17.3-py_0.tar.bz2',\n",
       " '?? pkgs/python-cufflinks-0.17.3-py_0.tar.bz2']"
      ]
     },
     "execution_count": 19,
     "metadata": {},
     "output_type": "execute_result"
    }
   ],
   "source": [
    "li_m"
   ]
  },
  {
   "cell_type": "code",
   "execution_count": 20,
   "id": "bd53e4c5",
   "metadata": {},
   "outputs": [],
   "source": [
    "file_list = li\n",
    "out_list = []\n",
    "for file in file_list:\n",
    "    f_path_moto = os.path.join(self.fac_path,file)\n",
    "    f_path_copy = os.path.join(self.remote_folder_path,file)\n",
    "    out_list.append([f_path_copy,os.path.getsize(f_path_moto) / 1000000])\n",
    "    try:\n",
    "        shutil.copyfile(f_path_moto,f_path_copy)\n",
    "    except :\n",
    "        print(f\"エラー:{f_path_moto}\")\n",
    "        pass\n",
    "df = pd.DataFrame(out_list)\n",
    "if len(df) != 0:\n",
    "    df.columns=[\"path\",\"MB\"]"
   ]
  },
  {
   "cell_type": "markdown",
   "id": "80402390",
   "metadata": {},
   "source": [
    "## 100M以上は分割（factory_env_miniconda39）"
   ]
  },
  {
   "cell_type": "code",
   "execution_count": 21,
   "id": "91b33c01",
   "metadata": {},
   "outputs": [],
   "source": [
    "files = os.listdir(self.remote_pkg_path)\n",
    "file_list = [os.path.join(self.remote_pkg_path,f) for f in files ]\n",
    "file_list = [[f,os.path.getsize(f) / 1000000] for f in file_list ]\n",
    "df = pd.DataFrame(file_list)\n",
    "df.columns=[\"path\",\"MB\"]"
   ]
  },
  {
   "cell_type": "code",
   "execution_count": 22,
   "id": "8675c85b",
   "metadata": {
    "scrolled": true
   },
   "outputs": [
    {
     "data": {
      "text/html": [
       "<div>\n",
       "<style scoped>\n",
       "    .dataframe tbody tr th:only-of-type {\n",
       "        vertical-align: middle;\n",
       "    }\n",
       "\n",
       "    .dataframe tbody tr th {\n",
       "        vertical-align: top;\n",
       "    }\n",
       "\n",
       "    .dataframe thead th {\n",
       "        text-align: right;\n",
       "    }\n",
       "</style>\n",
       "<table border=\"1\" class=\"dataframe\">\n",
       "  <thead>\n",
       "    <tr style=\"text-align: right;\">\n",
       "      <th></th>\n",
       "      <th>path</th>\n",
       "      <th>MB</th>\n",
       "    </tr>\n",
       "  </thead>\n",
       "  <tbody>\n",
       "  </tbody>\n",
       "</table>\n",
       "</div>"
      ],
      "text/plain": [
       "Empty DataFrame\n",
       "Columns: [path, MB]\n",
       "Index: []"
      ]
     },
     "execution_count": 22,
     "metadata": {},
     "output_type": "execute_result"
    }
   ],
   "source": [
    "df_b = df[df[\"MB\"]>99]\n",
    "df_b"
   ]
  },
  {
   "cell_type": "code",
   "execution_count": 23,
   "id": "5837e768",
   "metadata": {},
   "outputs": [],
   "source": [
    "if len(df_b)!=0:\n",
    "    for target in list(df_b[\"path\"]):\n",
    "        fileList = divide_file(target, 50*10**6)\n",
    "        df_a = pd.DataFrame(fileList,columns=[\"path\"])\n",
    "        df_a.to_csv(os.path.join(\"sep_file_list/\",os.path.basename(target)+\".csv\"),index=False)\n",
    "        os.remove(target)"
   ]
  },
  {
   "cell_type": "code",
   "execution_count": 24,
   "id": "d990418a",
   "metadata": {},
   "outputs": [],
   "source": [
    "! start ."
   ]
  },
  {
   "cell_type": "markdown",
   "id": "e6eb68f8",
   "metadata": {},
   "source": [
    "## githubへpush(factory_env_miniconda39)"
   ]
  },
  {
   "cell_type": "code",
   "execution_count": 25,
   "id": "4f2f9119",
   "metadata": {},
   "outputs": [
    {
     "name": "stdout",
     "output_type": "stream",
     "text": [
      "[' ? diff-dwg', ' M env.md', ' D pip_pkgs/mysqlclient-2.1.0-cp39-cp39-win_amd64.whl', ' D pkgs/greenlet-1.1.2-py39h415ef7b_1.tar.bz2', ' D pkgs/pymysql-1.0.2-pyhd8ed1ab_0.tar.bz2', ' D pkgs/sqlalchemy-1.4.31-py39hb82d6ee_0.tar.bz2', ' M utility.ipynb', ' M utility.py', '?? pip_pkgs/Pillow-9.0.1-cp39-cp39-win_amd64.whl', '?? pip_pkgs/lxml-4.8.0-cp39-cp39-win_amd64.whl', '?? pip_pkgs/packaging-21.3-py3-none-any.whl', '?? pip_pkgs/pikepdf-5.0.1-cp39-cp39-win_amd64.whl', '?? pip_pkgs/pyparsing-3.0.7-py3-none-any.whl', '?? pkgs/chart-studio-1.1.0-pyh9f0ad1d_0.tar.bz2', '?? pkgs/conda-4.11.0-py39hcbf5309_2.tar.bz2', '?? pkgs/cufflinks-py-0.17.3-py_0.tar.bz2', '?? pkgs/python-cufflinks-0.17.3-py_0.tar.bz2']\n"
     ]
    },
    {
     "data": {
      "text/html": [
       "<div>\n",
       "<style scoped>\n",
       "    .dataframe tbody tr th:only-of-type {\n",
       "        vertical-align: middle;\n",
       "    }\n",
       "\n",
       "    .dataframe tbody tr th {\n",
       "        vertical-align: top;\n",
       "    }\n",
       "\n",
       "    .dataframe thead th {\n",
       "        text-align: right;\n",
       "    }\n",
       "</style>\n",
       "<table border=\"1\" class=\"dataframe\">\n",
       "  <thead>\n",
       "    <tr style=\"text-align: right;\">\n",
       "      <th></th>\n",
       "      <th>code</th>\n",
       "      <th>file_name</th>\n",
       "    </tr>\n",
       "  </thead>\n",
       "  <tbody>\n",
       "    <tr>\n",
       "      <th>0</th>\n",
       "      <td>?</td>\n",
       "      <td>diff-dwg</td>\n",
       "    </tr>\n",
       "    <tr>\n",
       "      <th>1</th>\n",
       "      <td>M</td>\n",
       "      <td>env.md</td>\n",
       "    </tr>\n",
       "    <tr>\n",
       "      <th>2</th>\n",
       "      <td>D</td>\n",
       "      <td>pip_pkgs/mysqlclient-2.1.0-cp39-cp39-win_amd64...</td>\n",
       "    </tr>\n",
       "    <tr>\n",
       "      <th>3</th>\n",
       "      <td>D</td>\n",
       "      <td>pkgs/greenlet-1.1.2-py39h415ef7b_1.tar.bz2</td>\n",
       "    </tr>\n",
       "    <tr>\n",
       "      <th>4</th>\n",
       "      <td>D</td>\n",
       "      <td>pkgs/pymysql-1.0.2-pyhd8ed1ab_0.tar.bz2</td>\n",
       "    </tr>\n",
       "    <tr>\n",
       "      <th>5</th>\n",
       "      <td>D</td>\n",
       "      <td>pkgs/sqlalchemy-1.4.31-py39hb82d6ee_0.tar.bz2</td>\n",
       "    </tr>\n",
       "    <tr>\n",
       "      <th>6</th>\n",
       "      <td>M</td>\n",
       "      <td>utility.ipynb</td>\n",
       "    </tr>\n",
       "    <tr>\n",
       "      <th>7</th>\n",
       "      <td>M</td>\n",
       "      <td>utility.py</td>\n",
       "    </tr>\n",
       "    <tr>\n",
       "      <th>8</th>\n",
       "      <td>??</td>\n",
       "      <td>pip_pkgs/Pillow-9.0.1-cp39-cp39-win_amd64.whl</td>\n",
       "    </tr>\n",
       "    <tr>\n",
       "      <th>9</th>\n",
       "      <td>??</td>\n",
       "      <td>pip_pkgs/lxml-4.8.0-cp39-cp39-win_amd64.whl</td>\n",
       "    </tr>\n",
       "    <tr>\n",
       "      <th>10</th>\n",
       "      <td>??</td>\n",
       "      <td>pip_pkgs/packaging-21.3-py3-none-any.whl</td>\n",
       "    </tr>\n",
       "    <tr>\n",
       "      <th>11</th>\n",
       "      <td>??</td>\n",
       "      <td>pip_pkgs/pikepdf-5.0.1-cp39-cp39-win_amd64.whl</td>\n",
       "    </tr>\n",
       "    <tr>\n",
       "      <th>12</th>\n",
       "      <td>??</td>\n",
       "      <td>pip_pkgs/pyparsing-3.0.7-py3-none-any.whl</td>\n",
       "    </tr>\n",
       "    <tr>\n",
       "      <th>13</th>\n",
       "      <td>??</td>\n",
       "      <td>pkgs/chart-studio-1.1.0-pyh9f0ad1d_0.tar.bz2</td>\n",
       "    </tr>\n",
       "    <tr>\n",
       "      <th>14</th>\n",
       "      <td>??</td>\n",
       "      <td>pkgs/conda-4.11.0-py39hcbf5309_2.tar.bz2</td>\n",
       "    </tr>\n",
       "    <tr>\n",
       "      <th>15</th>\n",
       "      <td>??</td>\n",
       "      <td>pkgs/cufflinks-py-0.17.3-py_0.tar.bz2</td>\n",
       "    </tr>\n",
       "    <tr>\n",
       "      <th>16</th>\n",
       "      <td>??</td>\n",
       "      <td>pkgs/python-cufflinks-0.17.3-py_0.tar.bz2</td>\n",
       "    </tr>\n",
       "  </tbody>\n",
       "</table>\n",
       "</div>"
      ],
      "text/plain": [
       "   code                                          file_name\n",
       "0     ?                                           diff-dwg\n",
       "1     M                                             env.md\n",
       "2     D  pip_pkgs/mysqlclient-2.1.0-cp39-cp39-win_amd64...\n",
       "3     D         pkgs/greenlet-1.1.2-py39h415ef7b_1.tar.bz2\n",
       "4     D            pkgs/pymysql-1.0.2-pyhd8ed1ab_0.tar.bz2\n",
       "5     D      pkgs/sqlalchemy-1.4.31-py39hb82d6ee_0.tar.bz2\n",
       "6     M                                      utility.ipynb\n",
       "7     M                                         utility.py\n",
       "8    ??      pip_pkgs/Pillow-9.0.1-cp39-cp39-win_amd64.whl\n",
       "9    ??        pip_pkgs/lxml-4.8.0-cp39-cp39-win_amd64.whl\n",
       "10   ??           pip_pkgs/packaging-21.3-py3-none-any.whl\n",
       "11   ??     pip_pkgs/pikepdf-5.0.1-cp39-cp39-win_amd64.whl\n",
       "12   ??          pip_pkgs/pyparsing-3.0.7-py3-none-any.whl\n",
       "13   ??       pkgs/chart-studio-1.1.0-pyh9f0ad1d_0.tar.bz2\n",
       "14   ??           pkgs/conda-4.11.0-py39hcbf5309_2.tar.bz2\n",
       "15   ??              pkgs/cufflinks-py-0.17.3-py_0.tar.bz2\n",
       "16   ??          pkgs/python-cufflinks-0.17.3-py_0.tar.bz2"
      ]
     },
     "execution_count": 25,
     "metadata": {},
     "output_type": "execute_result"
    }
   ],
   "source": [
    "li_m = self.comfirm_file(case=1)\n",
    "li_s = [[i[0:2],i[3:]] for i in li_m]\n",
    "df = pd.DataFrame(li_s,columns=[\"code\",\"file_name\"])\n",
    "df"
   ]
  },
  {
   "cell_type": "code",
   "execution_count": 26,
   "id": "c70d3cc6",
   "metadata": {},
   "outputs": [
    {
     "name": "stdout",
     "output_type": "stream",
     "text": [
      "[' ? diff-dwg', 'M  env.md', 'A  pip_pkgs/Pillow-9.0.1-cp39-cp39-win_amd64.whl', 'A  pip_pkgs/lxml-4.8.0-cp39-cp39-win_amd64.whl', 'D  pip_pkgs/mysqlclient-2.1.0-cp39-cp39-win_amd64.whl', 'A  pip_pkgs/packaging-21.3-py3-none-any.whl', 'A  pip_pkgs/pikepdf-5.0.1-cp39-cp39-win_amd64.whl', 'A  pip_pkgs/pyparsing-3.0.7-py3-none-any.whl', 'A  pkgs/chart-studio-1.1.0-pyh9f0ad1d_0.tar.bz2', 'A  pkgs/conda-4.11.0-py39hcbf5309_2.tar.bz2', 'A  pkgs/cufflinks-py-0.17.3-py_0.tar.bz2', 'D  pkgs/greenlet-1.1.2-py39h415ef7b_1.tar.bz2', 'D  pkgs/pymysql-1.0.2-pyhd8ed1ab_0.tar.bz2', 'A  pkgs/python-cufflinks-0.17.3-py_0.tar.bz2', 'D  pkgs/sqlalchemy-1.4.31-py39hb82d6ee_0.tar.bz2', 'M  utility.ipynb', 'M  utility.py']\n"
     ]
    }
   ],
   "source": [
    "if len(li_m) != 0:\n",
    "    self.repo_remote_folder.git.add(r\"*\")\n",
    "    li_mi= self.comfirm_file(case=1)"
   ]
  },
  {
   "cell_type": "code",
   "execution_count": 27,
   "id": "64601c0c",
   "metadata": {
    "scrolled": true
   },
   "outputs": [
    {
     "data": {
      "text/plain": [
       "[' ? diff-dwg',\n",
       " 'M  env.md',\n",
       " 'A  pip_pkgs/Pillow-9.0.1-cp39-cp39-win_amd64.whl',\n",
       " 'A  pip_pkgs/lxml-4.8.0-cp39-cp39-win_amd64.whl',\n",
       " 'D  pip_pkgs/mysqlclient-2.1.0-cp39-cp39-win_amd64.whl',\n",
       " 'A  pip_pkgs/packaging-21.3-py3-none-any.whl',\n",
       " 'A  pip_pkgs/pikepdf-5.0.1-cp39-cp39-win_amd64.whl',\n",
       " 'A  pip_pkgs/pyparsing-3.0.7-py3-none-any.whl',\n",
       " 'A  pkgs/chart-studio-1.1.0-pyh9f0ad1d_0.tar.bz2',\n",
       " 'A  pkgs/conda-4.11.0-py39hcbf5309_2.tar.bz2',\n",
       " 'A  pkgs/cufflinks-py-0.17.3-py_0.tar.bz2',\n",
       " 'D  pkgs/greenlet-1.1.2-py39h415ef7b_1.tar.bz2',\n",
       " 'D  pkgs/pymysql-1.0.2-pyhd8ed1ab_0.tar.bz2',\n",
       " 'A  pkgs/python-cufflinks-0.17.3-py_0.tar.bz2',\n",
       " 'D  pkgs/sqlalchemy-1.4.31-py39hb82d6ee_0.tar.bz2',\n",
       " 'M  utility.ipynb',\n",
       " 'M  utility.py']"
      ]
     },
     "execution_count": 27,
     "metadata": {},
     "output_type": "execute_result"
    }
   ],
   "source": [
    "li_mi"
   ]
  },
  {
   "cell_type": "code",
   "execution_count": 28,
   "id": "4cdddc3b",
   "metadata": {},
   "outputs": [],
   "source": [
    "if len(li_mi) != 0:\n",
    "    self.repo_remote_folder.git.commit(\"-m\",\"anytree\")"
   ]
  },
  {
   "cell_type": "markdown",
   "id": "603a5734",
   "metadata": {},
   "source": [
    "push"
   ]
  },
  {
   "cell_type": "code",
   "execution_count": 29,
   "id": "31865b2c",
   "metadata": {},
   "outputs": [
    {
     "data": {
      "text/plain": [
       "''"
      ]
     },
     "execution_count": 29,
     "metadata": {},
     "output_type": "execute_result"
    }
   ],
   "source": [
    "self.repo_remote_folder.git.push()"
   ]
  },
  {
   "cell_type": "markdown",
   "id": "78e48d4f",
   "metadata": {},
   "source": [
    "# 相手側作業"
   ]
  },
  {
   "cell_type": "markdown",
   "id": "235e195b",
   "metadata": {},
   "source": [
    "リポジトリをダウンロードして、000_workの下に移動する\n",
    "\n",
    "https://github.com/nyanko111777/env_miniconda_39/archive/refs/heads/main.zip\n"
   ]
  },
  {
   "cell_type": "markdown",
   "id": "6c42c194",
   "metadata": {},
   "source": [
    "## 100M以上を復活"
   ]
  },
  {
   "cell_type": "code",
   "execution_count": 4,
   "id": "8f9cd91f",
   "metadata": {},
   "outputs": [
    {
     "data": {
      "text/plain": [
       "['mkl-2020.4-hb70f87d_311.tar.bz2.csv', 'qt-5.12.9-h5909a2a_4.tar.bz2.csv']"
      ]
     },
     "execution_count": 4,
     "metadata": {},
     "output_type": "execute_result"
    }
   ],
   "source": [
    "import pandas as pd\n",
    "import os\n",
    "\n",
    "file_list =  os.listdir(\"sep_file_list\")\n",
    "for file in file_list:\n",
    "    df_temp = pd.read_csv(\"sep_file_list/\"+file)\n",
    "    fileList = list(list(df_temp[\"path\"]))\n",
    "    target = fileList[0][:fileList[0].find(\".0\")]\n",
    "    join_file(fileList, target)\n",
    "    for d_file in fileList:\n",
    "        os.remove(d_file)"
   ]
  },
  {
   "cell_type": "markdown",
   "id": "94bed69e",
   "metadata": {},
   "source": [
    "## インストール"
   ]
  },
  {
   "cell_type": "markdown",
   "id": "c6df28cd",
   "metadata": {},
   "source": [
    "- conda の場合\n",
    "  `for /f %i in ('dir /A-d /B *') do conda install %i`\n",
    "\n",
    "\n",
    "\n",
    "- pip の場合\n",
    "  `for /f %i in ('dir /A-d /B *') do pip install %i`\n"
   ]
  },
  {
   "cell_type": "markdown",
   "id": "e2cba5a0",
   "metadata": {},
   "source": [
    "# test"
   ]
  },
  {
   "cell_type": "code",
   "execution_count": null,
   "id": "c501960f",
   "metadata": {},
   "outputs": [],
   "source": []
  }
 ],
 "metadata": {
  "jupytext": {
   "encoding": "# -*- coding: utf-8 -*-",
   "text_representation": {
    "extension": ".py",
    "format_name": "light",
    "format_version": "1.5",
    "jupytext_version": "1.13.1"
   }
  },
  "kernelspec": {
   "display_name": "Python 3 (ipykernel)",
   "language": "python",
   "name": "python3"
  },
  "language_info": {
   "codemirror_mode": {
    "name": "ipython",
    "version": 3
   },
   "file_extension": ".py",
   "mimetype": "text/x-python",
   "name": "python",
   "nbconvert_exporter": "python",
   "pygments_lexer": "ipython3",
   "version": "3.9.5"
  },
  "toc": {
   "base_numbering": 1,
   "nav_menu": {},
   "number_sections": true,
   "sideBar": true,
   "skip_h1_title": false,
   "title_cell": "Table of Contents",
   "title_sidebar": "Contents",
   "toc_cell": false,
   "toc_position": {
    "height": "calc(100% - 180px)",
    "left": "10px",
    "top": "150px",
    "width": "222.5px"
   },
   "toc_section_display": true,
   "toc_window_display": true
  }
 },
 "nbformat": 4,
 "nbformat_minor": 5
}
