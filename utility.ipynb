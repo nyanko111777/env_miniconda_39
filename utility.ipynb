{
 "cells": [
  {
   "cell_type": "code",
   "execution_count": 4,
   "id": "8a0f984c",
   "metadata": {},
   "outputs": [],
   "source": [
    "! start ."
   ]
  },
  {
   "cell_type": "code",
   "execution_count": 1,
   "id": "09bdba39",
   "metadata": {},
   "outputs": [],
   "source": [
    "! code ."
   ]
  },
  {
   "cell_type": "code",
   "execution_count": 6,
   "id": "49da73ea",
   "metadata": {},
   "outputs": [
    {
     "ename": "ModuleNotFoundError",
     "evalue": "No module named 'OCC'",
     "output_type": "error",
     "traceback": [
      "\u001b[1;31m---------------------------------------------------------------------------\u001b[0m",
      "\u001b[1;31mModuleNotFoundError\u001b[0m                       Traceback (most recent call last)",
      "\u001b[1;32m~\\AppData\\Local\\Temp/ipykernel_9680/2687242472.py\u001b[0m in \u001b[0;36m<module>\u001b[1;34m\u001b[0m\n\u001b[1;32m----> 1\u001b[1;33m \u001b[1;32mfrom\u001b[0m \u001b[0mOCC\u001b[0m\u001b[1;33m.\u001b[0m\u001b[0mgp\u001b[0m \u001b[1;32mimport\u001b[0m \u001b[0mgp_Pnt\u001b[0m\u001b[1;33m,\u001b[0m \u001b[0mgp_Pln\u001b[0m\u001b[1;33m,\u001b[0m \u001b[0mgp_Dir\u001b[0m\u001b[1;33m\u001b[0m\u001b[1;33m\u001b[0m\u001b[0m\n\u001b[0m",
      "\u001b[1;31mModuleNotFoundError\u001b[0m: No module named 'OCC'"
     ]
    }
   ],
   "source": [
    "from OCC.gp import gp_Pnt, gp_Pln, gp_Dir"
   ]
  },
  {
   "cell_type": "code",
   "execution_count": 7,
   "id": "36042461",
   "metadata": {},
   "outputs": [],
   "source": [
    "import os,git,shutil\n",
    "import pandas as pd"
   ]
  },
  {
   "cell_type": "code",
   "execution_count": 8,
   "id": "27b5d27b",
   "metadata": {},
   "outputs": [],
   "source": [
    "# 指定されたデータサイズでファイルを分割する\n",
    "def divide_file(filePath, chunkSize):\n",
    "    readedDataSize = 0\n",
    "    i = 0\n",
    "    fileList = []\n",
    "    # 対象ファイルを開く\n",
    "    f = open(filePath, \"rb\")\n",
    "    # ファイルを読み終わるまで繰り返す\n",
    "    contentLength = os.path.getsize(filePath)\n",
    "    while readedDataSize < contentLength:\n",
    "        # 読み取り位置をシーク\n",
    "        f.seek(readedDataSize)\n",
    "        # 指定されたデータサイズだけ読み込む\n",
    "        data = f.read(chunkSize)\n",
    "        # 分割ファイルを保存\n",
    "        saveFilePath = filePath + \".\" + str(i)\n",
    "        with open(saveFilePath, 'wb') as saveFile:\n",
    "            saveFile.write(data)\n",
    "        # 読み込んだデータサイズの更新\n",
    "        readedDataSize = readedDataSize + len(data)\n",
    "        i = i + 1\n",
    "        fileList.append(saveFilePath)\n",
    "    return fileList\n",
    "\n",
    "# 渡されたファイルリストの順序で１つのファイルに結合する\n",
    "def join_file(fileList, filePath):\n",
    "    with open(filePath, 'wb') as saveFile:\n",
    "        for f in fileList:\n",
    "            data = open(f, \"rb\").read()\n",
    "            saveFile.write(data)\n",
    "            saveFile.flush()"
   ]
  },
  {
   "cell_type": "code",
   "execution_count": 9,
   "id": "38bc6d6b",
   "metadata": {},
   "outputs": [],
   "source": [
    "  class env_util():\n",
    "    def __init__(self):\n",
    "        self.u_path = os.environ[\"userprofile\"]\n",
    "        self.miniconda_path = os.path.join(self.u_path,\"miniconda3\",\"pkgs\")\n",
    "        self.fac_path = os.path.join(self.u_path,\"000_work\",\"factory_env_miniconda39\")\n",
    "        self.fac_pkg_path = os.path.join(self.fac_path,\"pkgs\")\n",
    "        self.repo_fac = git.Repo(self.fac_path)\n",
    "        self.remote_folder_path = os.path.join(self.u_path,\"000_work\",\"env_miniconda_39\")\n",
    "        self.remote_pkg_path = os.path.join(self.remote_folder_path,\"pkgs\")\n",
    "        self.repo_remote_folder = git.Repo(self.remote_folder_path)\n",
    "\n",
    "    def get_status_text(self,case):\n",
    "        if case == 0:\n",
    "            tex = self.repo_fac.git.status(\"-s\")\n",
    "        elif case == 1:\n",
    "            tex = self.repo_remote_folder.git.status(\"-s\")\n",
    "        return tex\n",
    "        \n",
    "    def comfirm_file(self,case):\n",
    "        tex = self.get_status_text(case)\n",
    "        if tex.find(\"\\n\")  != 0:\n",
    "            li = tex.split(\"\\n\")\n",
    "            print(li)\n",
    "\n",
    "        return li\n",
    "\n",
    "    def get_list(self):\n",
    "        file_list = []\n",
    "        file_list_batsu = []\n",
    "        for root, dirs, files in os.walk(self.miniconda_path):\n",
    "            for filename in files:\n",
    "                fname = os.path.join(root, filename)\n",
    "                file_list.append([fname,os.path.getsize(fname) / 1000000])\n",
    "            df = pd.DataFrame(file_list)\n",
    "            df.columns=[\"path\",\"MB\"]\n",
    "        return df\n",
    "        \n",
    "if __name__ == '__main__':\n",
    "    self = env_util()"
   ]
  },
  {
   "cell_type": "markdown",
   "id": "2d003a1a",
   "metadata": {},
   "source": [
    "# おうち側作業"
   ]
  },
  {
   "cell_type": "markdown",
   "id": "c43b331b",
   "metadata": {},
   "source": [
    "## 初期化"
   ]
  },
  {
   "cell_type": "markdown",
   "id": "7c7a4b6c",
   "metadata": {},
   "source": [
    "### env_miniconda_39"
   ]
  },
  {
   "cell_type": "markdown",
   "id": "b6db74f4",
   "metadata": {},
   "source": [
    "pkgsとsep_file_listの中のファイルを削除"
   ]
  },
  {
   "cell_type": "code",
   "execution_count": 10,
   "id": "e5d985cb",
   "metadata": {},
   "outputs": [],
   "source": [
    "shutil.rmtree(self.remote_pkg_path)\n",
    "os.mkdir(self.remote_pkg_path)\n",
    "shutil.rmtree(os.path.join(self.remote_folder_path,\"sep_file_list\"))\n",
    "os.mkdir(os.path.join(self.remote_folder_path,\"sep_file_list\"))"
   ]
  },
  {
   "cell_type": "markdown",
   "id": "cfead465",
   "metadata": {},
   "source": [
    "### factory_env_miniconda39"
   ]
  },
  {
   "cell_type": "markdown",
   "id": "efabf77e",
   "metadata": {},
   "source": [
    "未コミットはコミットしておく"
   ]
  },
  {
   "cell_type": "code",
   "execution_count": 13,
   "id": "c534e391",
   "metadata": {
    "scrolled": false
   },
   "outputs": [
    {
     "name": "stdout",
     "output_type": "stream",
     "text": [
      "['']\n"
     ]
    }
   ],
   "source": [
    "li = self.comfirm_file(case=0)"
   ]
  },
  {
   "cell_type": "markdown",
   "id": "a5ae5054",
   "metadata": {},
   "source": [
    "未コミットがあれば、コミットとして0にする"
   ]
  },
  {
   "cell_type": "code",
   "execution_count": 12,
   "id": "35a238b6",
   "metadata": {},
   "outputs": [
    {
     "name": "stdout",
     "output_type": "stream",
     "text": [
      "['A  pkgs/ansi2html-1.6.0-py39hcbf5309_1.tar.bz2', 'A  pkgs/autopep8-1.5.7-pyhd8ed1ab_0.tar.bz2', 'A  pkgs/colorlover-0.3.0-py_0.tar.bz2', 'A  pkgs/jupyter-dash-0.4.0-pyhd8ed1ab_0.tar.bz2', 'A  pkgs/openssl-1.1.1l-h8ffe710_0.tar.bz2', 'A  pkgs/pycodestyle-2.7.0-pyhd8ed1ab_0.tar.bz2', 'A  pkgs/retrying-1.3.3-py_2.tar.bz2', 'A  pkgs/toml-0.10.2-pyhd8ed1ab_0.tar.bz2', 'M  pkgs/urls.txt']\n"
     ]
    }
   ],
   "source": [
    "if len(li) != 0:\n",
    "    self.repo_fac.git.add(r\"*\")\n",
    "    li = self.comfirm_file(case=0)\n",
    "\n",
    "if len(li) != 0:\n",
    "    self.repo_fac.git.commit(\"-m\",\"initial commit\")"
   ]
  },
  {
   "cell_type": "markdown",
   "id": "ab0db296",
   "metadata": {},
   "source": [
    "## miniconda→factory_env_miniconda39にコピー\n",
    "同じ状態にします"
   ]
  },
  {
   "cell_type": "code",
   "execution_count": 14,
   "id": "c976dade",
   "metadata": {},
   "outputs": [],
   "source": [
    "files = os.listdir(self.miniconda_path)\n",
    "file_list = [f for f in files if os.path.isfile(os.path.join(self.miniconda_path, f))]\n",
    "for file in file_list:\n",
    "    f_path_moto = os.path.join(self.miniconda_path,file)\n",
    "    f_path_copy = os.path.join(self.fac_pkg_path,file)\n",
    "    try:\n",
    "        shutil.copyfile(f_path_moto,f_path_copy)\n",
    "    except :\n",
    "        print(f\"エラー:{file}\")\n",
    "        pass"
   ]
  },
  {
   "cell_type": "markdown",
   "id": "8235d828",
   "metadata": {},
   "source": [
    "## factory_env_miniconda39→env_miniconda_39にコピー\n",
    "factory_env_miniconda39の未コミットのファイルをenv_miniconda_39にコピーします"
   ]
  },
  {
   "cell_type": "code",
   "execution_count": 15,
   "id": "54488dbc",
   "metadata": {},
   "outputs": [
    {
     "name": "stdout",
     "output_type": "stream",
     "text": [
      "[' M pkgs/urls.txt', '?? pkgs/alabaster-0.7.12-py_0.tar.bz2', '?? pkgs/astroid-2.7.3-py39hcbf5309_0.tar.bz2', '?? pkgs/babel-2.9.1-pyh44b312d_0.tar.bz2', '?? pkgs/camelot-py-0.9.0-pyhd8ed1ab_0.tar.bz2', '?? pkgs/chardet-3.0.4-py39h467e6f4_1008.tar.bz2', '?? pkgs/dacite-1.6.0-pyhd3deb0d_0.tar.bz2', '?? pkgs/dataproperty-0.52.0-pyhd8ed1ab_0.tar.bz2', '?? pkgs/deprecated-1.2.12-pyh44b312d_0.tar.bz2', '?? pkgs/descartes-1.1.0-py_4.tar.bz2', '?? pkgs/docutils-0.17.1-py39hcbf5309_0.tar.bz2', '?? pkgs/docx2txt-0.8-py_0.tar.bz2', '?? pkgs/easygui-0.98.1-py39hde42818_2.tar.bz2', '?? pkgs/ghostscript-9.54.0-h39d44d4_1.tar.bz2', '?? pkgs/imageio-2.9.0-py_0.tar.bz2', '?? pkgs/imagesize-1.2.0-py_0.tar.bz2', '?? pkgs/img2pdf-0.3.6-py39hde42818_2.tar.bz2', '?? pkgs/isort-5.9.3-pyhd8ed1ab_0.tar.bz2', '?? pkgs/jaconv-0.3-pyhd8ed1ab_0.tar.bz2', '?? pkgs/lazy-object-proxy-1.6.0-py39hb82d6ee_0.tar.bz2', '?? pkgs/mbstrdecoder-1.0.1-pyhd8ed1ab_0.tar.bz2', '?? pkgs/mccabe-0.6.1-py_1.tar.bz2', '?? pkgs/msgfy-0.1.0-py_0.tar.bz2', '?? pkgs/numpy-1.19.5-py39h6635163_2.tar.bz2', '?? pkgs/pandasgui-0.2.9-py39hcbf5309_0.tar.bz2', '?? pkgs/pathvalidate-2.4.1-pyhd8ed1ab_0.tar.bz2', '?? pkgs/pdf2image-1.16.0-pyhd8ed1ab_0.tar.bz2', '?? pkgs/platformdirs-2.3.0-pyhd8ed1ab_0.tar.bz2', '?? pkgs/pyautogui-0.9.48-py39hde42818_1.tar.bz2', '?? pkgs/pycryptodome-3.10.1-py39hb82d6ee_0.tar.bz2', '?? pkgs/pykakasi-2.2.1-py39hcbf5309_0.tar.bz2', '?? pkgs/pylint-2.10.2-pyhd8ed1ab_0.tar.bz2', '?? pkgs/pymsgbox-1.0.9-pyh9f0ad1d_0.tar.bz2', '?? pkgs/pynput-1.7.3-py39hcbf5309_0.tar.bz2', '?? pkgs/pypdf2-1.26.0-py_2.tar.bz2', '?? pkgs/pyperclip-1.8.2-pyhd8ed1ab_2.tar.bz2', '?? pkgs/pyscreeze-0.1.27-pyhd8ed1ab_0.tar.bz2', '?? pkgs/pysimplegui-4.47.0-pyhd8ed1ab_0.tar.bz2', '?? pkgs/pysimpleguiweb-0.39.0-py_0.tar.bz2', '?? pkgs/pytablewriter-0.62.0-pyhd8ed1ab_0.tar.bz2', '?? pkgs/python-docx-0.8.11-pyhd8ed1ab_0.tar.bz2', '?? pkgs/python-pptx-0.6.18-py_0.tar.bz2', '?? pkgs/python-xlib-0.28-pyh9f0ad1d_0.tar.bz2', '?? pkgs/pythonocc-core-7.5.1-py39h5d9d39a_0.tar.bz2', '?? pkgs/pytweening-1.0.3-py_0.tar.bz2', '?? pkgs/remi-2021.3.2-pyh44b312d_0.tar.bz2', '?? pkgs/selenium-3.141.0-py39hb82d6ee_1002.tar.bz2', '?? pkgs/setuptools-lint-0.6.0-pyh9f0ad1d_0.tar.bz2', '?? pkgs/snowballstemmer-2.1.0-pyhd8ed1ab_0.tar.bz2', '?? pkgs/sphinx-4.1.2-pyh6c4a22f_1.tar.bz2', '?? pkgs/sphinxcontrib-applehelp-1.0.2-py_0.tar.bz2', '?? pkgs/sphinxcontrib-devhelp-1.0.2-py_0.tar.bz2', '?? pkgs/sphinxcontrib-htmlhelp-2.0.0-pyhd8ed1ab_0.tar.bz2', '?? pkgs/sphinxcontrib-jsmath-1.0.1-py_0.tar.bz2', '?? pkgs/sphinxcontrib-qthelp-1.0.3-py_0.tar.bz2', '?? pkgs/sphinxcontrib-serializinghtml-1.1.5-pyhd8ed1ab_0.tar.bz2', '?? pkgs/splipy-1.5.6-py39h5d4886f_1.tar.bz2', '?? pkgs/tabledata-1.2.0-pyhd8ed1ab_0.tar.bz2', '?? pkgs/tcolorpy-0.1.1-pyhd8ed1ab_0.tar.bz2', '?? pkgs/typepy-1.2.0-pyhd8ed1ab_0.tar.bz2', '?? pkgs/wrapt-1.11.2-py39h4cdbadb_1.tar.bz2', '?? pkgs/xlsxwriter-3.0.1-pyhd8ed1ab_0.tar.bz2']\n"
     ]
    }
   ],
   "source": [
    "import pandas as pd\n",
    "li_m = self.comfirm_file(case=0)\n",
    "li_s = [[i[0:2],i[3:]] for i in li_m]\n",
    "df = pd.DataFrame(li_s,columns=[\"code\",\"file_name\"])\n",
    "df_tg = df[df[\"code\"]==\"??\"]\n",
    "li = list(df_tg[\"file_name\"])"
   ]
  },
  {
   "cell_type": "code",
   "execution_count": 11,
   "id": "bd53e4c5",
   "metadata": {},
   "outputs": [],
   "source": [
    "file_list = li\n",
    "out_list = []\n",
    "for file in file_list:\n",
    "    f_path_moto = os.path.join(self.fac_path,file)\n",
    "    f_path_copy = os.path.join(self.remote_folder_path,file)\n",
    "    out_list.append([f_path_copy,os.path.getsize(f_path_moto) / 1000000])\n",
    "    try:\n",
    "        shutil.copyfile(f_path_moto,f_path_copy)\n",
    "    except :\n",
    "        print(f\"エラー:{f_path_moto}\")\n",
    "        pass\n",
    "df = pd.DataFrame(out_list)\n",
    "df.columns=[\"path\",\"MB\"]"
   ]
  },
  {
   "cell_type": "markdown",
   "id": "80402390",
   "metadata": {},
   "source": [
    "## 100M以上は分割（factory_env_miniconda39）"
   ]
  },
  {
   "cell_type": "code",
   "execution_count": 12,
   "id": "91b33c01",
   "metadata": {},
   "outputs": [],
   "source": [
    "files = os.listdir(self.remote_pkg_path)\n",
    "file_list = [os.path.join(self.remote_pkg_path,f) for f in files ]\n",
    "file_list = [[f,os.path.getsize(f) / 1000000] for f in file_list ]\n",
    "df = pd.DataFrame(file_list)\n",
    "df.columns=[\"path\",\"MB\"]"
   ]
  },
  {
   "cell_type": "code",
   "execution_count": 13,
   "id": "8675c85b",
   "metadata": {
    "scrolled": true
   },
   "outputs": [
    {
     "data": {
      "text/html": [
       "<div>\n",
       "<style scoped>\n",
       "    .dataframe tbody tr th:only-of-type {\n",
       "        vertical-align: middle;\n",
       "    }\n",
       "\n",
       "    .dataframe tbody tr th {\n",
       "        vertical-align: top;\n",
       "    }\n",
       "\n",
       "    .dataframe thead th {\n",
       "        text-align: right;\n",
       "    }\n",
       "</style>\n",
       "<table border=\"1\" class=\"dataframe\">\n",
       "  <thead>\n",
       "    <tr style=\"text-align: right;\">\n",
       "      <th></th>\n",
       "      <th>path</th>\n",
       "      <th>MB</th>\n",
       "    </tr>\n",
       "  </thead>\n",
       "  <tbody>\n",
       "  </tbody>\n",
       "</table>\n",
       "</div>"
      ],
      "text/plain": [
       "Empty DataFrame\n",
       "Columns: [path, MB]\n",
       "Index: []"
      ]
     },
     "execution_count": 13,
     "metadata": {},
     "output_type": "execute_result"
    }
   ],
   "source": [
    "df_b = df[df[\"MB\"]>99]\n",
    "df_b"
   ]
  },
  {
   "cell_type": "code",
   "execution_count": 16,
   "id": "5837e768",
   "metadata": {},
   "outputs": [],
   "source": [
    "if len(df_b)!=0:\n",
    "    for target in list(df_b[\"path\"]):\n",
    "        fileList = divide_file(target, 50*10**6)\n",
    "        df_a = pd.DataFrame(fileList,columns=[\"path\"])\n",
    "        df_a.to_csv(os.path.join(\"sep_file_list/\",os.path.basename(target)+\".csv\"),index=False)\n",
    "        os.remove(target)"
   ]
  },
  {
   "cell_type": "markdown",
   "id": "e6eb68f8",
   "metadata": {},
   "source": [
    "## githubへpush(factory_env_miniconda39)"
   ]
  },
  {
   "cell_type": "code",
   "execution_count": 14,
   "id": "4f2f9119",
   "metadata": {},
   "outputs": [
    {
     "name": "stdout",
     "output_type": "stream",
     "text": [
      "[' M env.md', ' D pkgs/appdirs-1.4.4-pyh9f0ad1d_0.tar.bz2', ' D pkgs/blas-1.0-mkl.conda', ' D pkgs/blender-2.93.4-windows-x64.zip.0', ' D pkgs/blender-2.93.4-windows-x64.zip.1', ' D pkgs/blender-2.93.4-windows-x64.zip.2', ' D pkgs/blender-2.93.4-windows-x64.zip.3', ' D pkgs/blender-2.93.4-windows-x64.zip.4', ' D pkgs/brotli-python-1.0.9-py39h415ef7b_5.tar.bz2', ' D pkgs/click-8.0.1-py39hcbf5309_0.tar.bz2', ' D pkgs/cpuonly-1.0-0.tar.bz2', ' D pkgs/cycler-0.10.0-py_2.tar.bz2', ' D pkgs/dash-1.21.0-pyhd8ed1ab_0.tar.bz2', ' D pkgs/dash-bootstrap-components-0.13.0-pyhd8ed1ab_0.tar.bz2', ' D pkgs/dash-core-components-1.17.1-pyhd8ed1ab_0.tar.bz2', ' D pkgs/dash-daq-0.5.0-pyh9f0ad1d_1.tar.bz2', ' D pkgs/dash-html-components-1.1.4-pyhd8ed1ab_0.tar.bz2', ' D pkgs/dash-renderer-1.9.1-pyhd8ed1ab_0.tar.bz2', ' D pkgs/dash-table-4.12.0-pyhd8ed1ab_0.tar.bz2', ' D pkgs/dash_colorscales-0.0.4-pyh9f0ad1d_0.tar.bz2', ' D pkgs/dataclasses-0.8-pyhc8e2a94_3.tar.bz2', ' D pkgs/dtale-1.56.0-pyhd8ed1ab_0.tar.bz2', ' D pkgs/et_xmlfile-1.0.1-py_1001.tar.bz2', ' D pkgs/flask-2.0.1-pyhd8ed1ab_0.tar.bz2', ' D pkgs/flask-compress-1.10.1-pyhd8ed1ab_0.tar.bz2', ' D pkgs/freeglut-3.2.1-h0e60522_2.tar.bz2', ' D pkgs/future-0.18.2-py39hcbf5309_3.tar.bz2', ' D pkgs/geos-3.9.1-h39d44d4_2.tar.bz2', ' D pkgs/itsdangerous-2.0.1-pyhd8ed1ab_0.tar.bz2', ' D pkgs/jasper-2.0.14-h77af90b_2.tar.bz2', ' D pkgs/jdcal-1.4.1-py_0.tar.bz2', ' D pkgs/joblib-1.0.1-pyhd8ed1ab_0.tar.bz2', ' D pkgs/kiwisolver-1.3.2-py39h2e07f2f_0.tar.bz2', ' D pkgs/liblapacke-3.9.0-8_mkl.tar.bz2', ' D pkgs/libopencv-4.5.2-py39h41a9e09_1.tar.bz2', ' D pkgs/libprotobuf-3.16.0-h7755175_0.tar.bz2', ' D pkgs/libuv-1.42.0-h8ffe710_0.tar.bz2', ' D pkgs/lz4-3.1.3-py39h92e281b_0.tar.bz2', ' D pkgs/matplotlib-base-3.4.3-py39h581301d_0.tar.bz2', ' D pkgs/meshpy-2020.1-py39h2e25243_0.tar.bz2', ' D pkgs/missingno-0.4.2-py_1.tar.bz2', ' D pkgs/networkx-2.3-py_0.tar.bz2', ' D pkgs/ninja-1.10.2-h5362a0b_0.tar.bz2', ' D pkgs/olefile-0.46-pyh9f0ad1d_1.tar.bz2', ' D pkgs/opencv-4.5.2-py39hcbf5309_1.tar.bz2', ' D pkgs/openpyxl-3.0.7-pyhd8ed1ab_0.tar.bz2', ' D pkgs/patsy-0.5.1-py_0.tar.bz2', ' D pkgs/pdfminer.six-20201018-pyhd8ed1ab_3.tar.bz2', ' D pkgs/pillow-8.3.1-py39h916092e_0.tar.bz2', ' D pkgs/plotly-5.3.1-pyhd8ed1ab_0.tar.bz2', ' D pkgs/ppscore-1.2.0-pyhd3deb0d_0.tar.bz2', ' D pkgs/py-opencv-4.5.2-py39h832f523_1.tar.bz2', ' D pkgs/pyntcloud-0.1.5-pyhd8ed1ab_0.tar.bz2', ' D pkgs/pytools-2021.2.8-pyhd8ed1ab_0.tar.bz2', ' D pkgs/pytorch-1.9.0-py3.9_cpu_0.tar.bz2.0', ' D pkgs/pytorch-1.9.0-py3.9_cpu_0.tar.bz2.1', ' D pkgs/pytorch-1.9.0-py3.9_cpu_0.tar.bz2.2', ' D pkgs/pytorch-1.9.0-py3.9_cpu_0.tar.bz2.3', ' D pkgs/scikit-learn-0.24.2-py39he931e04_1.tar.bz2', ' D pkgs/scipy-1.7.1-py39hc0c34ad_0.tar.bz2', ' D pkgs/seaborn-0.11.2-hd8ed1ab_0.tar.bz2', ' D pkgs/seaborn-base-0.11.2-pyhd8ed1ab_0.tar.bz2', ' D pkgs/shapely-1.7.1-py39haadaec5_5.tar.bz2', ' D pkgs/sortedcontainers-2.4.0-pyhd8ed1ab_0.tar.bz2', ' D pkgs/squarify-0.4.3-py_0.tar.bz2', ' D pkgs/statsmodels-0.12.2-py39h5d4886f_0.tar.bz2', ' D pkgs/strsimpy-0.1.9-pyh9f0ad1d_0.tar.bz2', ' D pkgs/tenacity-8.0.1-pyhd8ed1ab_0.tar.bz2', ' D pkgs/threadpoolctl-2.2.0-pyh8a188c0_0.tar.bz2', ' D pkgs/torchaudio-0.9.0-py39.tar.bz2', ' D pkgs/torchvision-0.2.2-py_3.tar.bz2', ' D pkgs/trimesh-3.9.29-pyh6c4a22f_0.tar.bz2', ' D pkgs/werkzeug-2.0.1-pyhd8ed1ab_0.tar.bz2', ' D pkgs/xarray-0.19.0-pyhd8ed1ab_1.tar.bz2', ' D pkgs/xlrd-2.0.1-pyhd8ed1ab_3.tar.bz2', ' D sep_file_list/blender-2.93.4-windows-x64.zip.csv', ' D sep_file_list/pytorch-1.9.0-py3.9_cpu_0.tar.bz2.csv', ' M utility.ipynb', '?? pkgs/ansi2html-1.6.0-py39hcbf5309_1.tar.bz2', '?? pkgs/autopep8-1.5.7-pyhd8ed1ab_0.tar.bz2', '?? pkgs/colorlover-0.3.0-py_0.tar.bz2', '?? pkgs/jupyter-dash-0.4.0-pyhd8ed1ab_0.tar.bz2', '?? pkgs/openssl-1.1.1l-h8ffe710_0.tar.bz2', '?? pkgs/pycodestyle-2.7.0-pyhd8ed1ab_0.tar.bz2', '?? pkgs/retrying-1.3.3-py_2.tar.bz2', '?? pkgs/toml-0.10.2-pyhd8ed1ab_0.tar.bz2']\n"
     ]
    },
    {
     "data": {
      "text/html": [
       "<div>\n",
       "<style scoped>\n",
       "    .dataframe tbody tr th:only-of-type {\n",
       "        vertical-align: middle;\n",
       "    }\n",
       "\n",
       "    .dataframe tbody tr th {\n",
       "        vertical-align: top;\n",
       "    }\n",
       "\n",
       "    .dataframe thead th {\n",
       "        text-align: right;\n",
       "    }\n",
       "</style>\n",
       "<table border=\"1\" class=\"dataframe\">\n",
       "  <thead>\n",
       "    <tr style=\"text-align: right;\">\n",
       "      <th></th>\n",
       "      <th>code</th>\n",
       "      <th>file_name</th>\n",
       "    </tr>\n",
       "  </thead>\n",
       "  <tbody>\n",
       "    <tr>\n",
       "      <th>0</th>\n",
       "      <td>M</td>\n",
       "      <td>env.md</td>\n",
       "    </tr>\n",
       "    <tr>\n",
       "      <th>1</th>\n",
       "      <td>D</td>\n",
       "      <td>pkgs/appdirs-1.4.4-pyh9f0ad1d_0.tar.bz2</td>\n",
       "    </tr>\n",
       "    <tr>\n",
       "      <th>2</th>\n",
       "      <td>D</td>\n",
       "      <td>pkgs/blas-1.0-mkl.conda</td>\n",
       "    </tr>\n",
       "    <tr>\n",
       "      <th>3</th>\n",
       "      <td>D</td>\n",
       "      <td>pkgs/blender-2.93.4-windows-x64.zip.0</td>\n",
       "    </tr>\n",
       "    <tr>\n",
       "      <th>4</th>\n",
       "      <td>D</td>\n",
       "      <td>pkgs/blender-2.93.4-windows-x64.zip.1</td>\n",
       "    </tr>\n",
       "    <tr>\n",
       "      <th>...</th>\n",
       "      <td>...</td>\n",
       "      <td>...</td>\n",
       "    </tr>\n",
       "    <tr>\n",
       "      <th>81</th>\n",
       "      <td>??</td>\n",
       "      <td>pkgs/jupyter-dash-0.4.0-pyhd8ed1ab_0.tar.bz2</td>\n",
       "    </tr>\n",
       "    <tr>\n",
       "      <th>82</th>\n",
       "      <td>??</td>\n",
       "      <td>pkgs/openssl-1.1.1l-h8ffe710_0.tar.bz2</td>\n",
       "    </tr>\n",
       "    <tr>\n",
       "      <th>83</th>\n",
       "      <td>??</td>\n",
       "      <td>pkgs/pycodestyle-2.7.0-pyhd8ed1ab_0.tar.bz2</td>\n",
       "    </tr>\n",
       "    <tr>\n",
       "      <th>84</th>\n",
       "      <td>??</td>\n",
       "      <td>pkgs/retrying-1.3.3-py_2.tar.bz2</td>\n",
       "    </tr>\n",
       "    <tr>\n",
       "      <th>85</th>\n",
       "      <td>??</td>\n",
       "      <td>pkgs/toml-0.10.2-pyhd8ed1ab_0.tar.bz2</td>\n",
       "    </tr>\n",
       "  </tbody>\n",
       "</table>\n",
       "<p>86 rows × 2 columns</p>\n",
       "</div>"
      ],
      "text/plain": [
       "   code                                     file_name\n",
       "0     M                                        env.md\n",
       "1     D       pkgs/appdirs-1.4.4-pyh9f0ad1d_0.tar.bz2\n",
       "2     D                       pkgs/blas-1.0-mkl.conda\n",
       "3     D         pkgs/blender-2.93.4-windows-x64.zip.0\n",
       "4     D         pkgs/blender-2.93.4-windows-x64.zip.1\n",
       "..  ...                                           ...\n",
       "81   ??  pkgs/jupyter-dash-0.4.0-pyhd8ed1ab_0.tar.bz2\n",
       "82   ??        pkgs/openssl-1.1.1l-h8ffe710_0.tar.bz2\n",
       "83   ??   pkgs/pycodestyle-2.7.0-pyhd8ed1ab_0.tar.bz2\n",
       "84   ??              pkgs/retrying-1.3.3-py_2.tar.bz2\n",
       "85   ??         pkgs/toml-0.10.2-pyhd8ed1ab_0.tar.bz2\n",
       "\n",
       "[86 rows x 2 columns]"
      ]
     },
     "execution_count": 14,
     "metadata": {},
     "output_type": "execute_result"
    }
   ],
   "source": [
    "li_m = self.comfirm_file(case=1)\n",
    "li_s = [[i[0:2],i[3:]] for i in li_m]\n",
    "df = pd.DataFrame(li_s,columns=[\"code\",\"file_name\"])\n",
    "df"
   ]
  },
  {
   "cell_type": "code",
   "execution_count": 15,
   "id": "c70d3cc6",
   "metadata": {},
   "outputs": [
    {
     "name": "stdout",
     "output_type": "stream",
     "text": [
      "['M  env.md', 'A  pkgs/ansi2html-1.6.0-py39hcbf5309_1.tar.bz2', 'D  pkgs/appdirs-1.4.4-pyh9f0ad1d_0.tar.bz2', 'A  pkgs/autopep8-1.5.7-pyhd8ed1ab_0.tar.bz2', 'D  pkgs/blas-1.0-mkl.conda', 'D  pkgs/blender-2.93.4-windows-x64.zip.0', 'D  pkgs/blender-2.93.4-windows-x64.zip.1', 'D  pkgs/blender-2.93.4-windows-x64.zip.2', 'D  pkgs/blender-2.93.4-windows-x64.zip.3', 'D  pkgs/blender-2.93.4-windows-x64.zip.4', 'D  pkgs/brotli-python-1.0.9-py39h415ef7b_5.tar.bz2', 'D  pkgs/click-8.0.1-py39hcbf5309_0.tar.bz2', 'A  pkgs/colorlover-0.3.0-py_0.tar.bz2', 'D  pkgs/cpuonly-1.0-0.tar.bz2', 'D  pkgs/cycler-0.10.0-py_2.tar.bz2', 'D  pkgs/dash-1.21.0-pyhd8ed1ab_0.tar.bz2', 'D  pkgs/dash-bootstrap-components-0.13.0-pyhd8ed1ab_0.tar.bz2', 'D  pkgs/dash-core-components-1.17.1-pyhd8ed1ab_0.tar.bz2', 'D  pkgs/dash-daq-0.5.0-pyh9f0ad1d_1.tar.bz2', 'D  pkgs/dash-html-components-1.1.4-pyhd8ed1ab_0.tar.bz2', 'D  pkgs/dash-renderer-1.9.1-pyhd8ed1ab_0.tar.bz2', 'D  pkgs/dash-table-4.12.0-pyhd8ed1ab_0.tar.bz2', 'D  pkgs/dash_colorscales-0.0.4-pyh9f0ad1d_0.tar.bz2', 'D  pkgs/dataclasses-0.8-pyhc8e2a94_3.tar.bz2', 'D  pkgs/dtale-1.56.0-pyhd8ed1ab_0.tar.bz2', 'D  pkgs/et_xmlfile-1.0.1-py_1001.tar.bz2', 'D  pkgs/flask-2.0.1-pyhd8ed1ab_0.tar.bz2', 'D  pkgs/flask-compress-1.10.1-pyhd8ed1ab_0.tar.bz2', 'D  pkgs/freeglut-3.2.1-h0e60522_2.tar.bz2', 'D  pkgs/future-0.18.2-py39hcbf5309_3.tar.bz2', 'D  pkgs/geos-3.9.1-h39d44d4_2.tar.bz2', 'D  pkgs/itsdangerous-2.0.1-pyhd8ed1ab_0.tar.bz2', 'D  pkgs/jasper-2.0.14-h77af90b_2.tar.bz2', 'D  pkgs/jdcal-1.4.1-py_0.tar.bz2', 'D  pkgs/joblib-1.0.1-pyhd8ed1ab_0.tar.bz2', 'A  pkgs/jupyter-dash-0.4.0-pyhd8ed1ab_0.tar.bz2', 'D  pkgs/kiwisolver-1.3.2-py39h2e07f2f_0.tar.bz2', 'D  pkgs/liblapacke-3.9.0-8_mkl.tar.bz2', 'D  pkgs/libopencv-4.5.2-py39h41a9e09_1.tar.bz2', 'D  pkgs/libprotobuf-3.16.0-h7755175_0.tar.bz2', 'D  pkgs/libuv-1.42.0-h8ffe710_0.tar.bz2', 'D  pkgs/lz4-3.1.3-py39h92e281b_0.tar.bz2', 'D  pkgs/matplotlib-base-3.4.3-py39h581301d_0.tar.bz2', 'D  pkgs/meshpy-2020.1-py39h2e25243_0.tar.bz2', 'D  pkgs/missingno-0.4.2-py_1.tar.bz2', 'D  pkgs/networkx-2.3-py_0.tar.bz2', 'D  pkgs/ninja-1.10.2-h5362a0b_0.tar.bz2', 'D  pkgs/olefile-0.46-pyh9f0ad1d_1.tar.bz2', 'D  pkgs/opencv-4.5.2-py39hcbf5309_1.tar.bz2', 'D  pkgs/openpyxl-3.0.7-pyhd8ed1ab_0.tar.bz2', 'A  pkgs/openssl-1.1.1l-h8ffe710_0.tar.bz2', 'D  pkgs/patsy-0.5.1-py_0.tar.bz2', 'D  pkgs/pdfminer.six-20201018-pyhd8ed1ab_3.tar.bz2', 'D  pkgs/pillow-8.3.1-py39h916092e_0.tar.bz2', 'D  pkgs/plotly-5.3.1-pyhd8ed1ab_0.tar.bz2', 'D  pkgs/ppscore-1.2.0-pyhd3deb0d_0.tar.bz2', 'D  pkgs/py-opencv-4.5.2-py39h832f523_1.tar.bz2', 'A  pkgs/pycodestyle-2.7.0-pyhd8ed1ab_0.tar.bz2', 'D  pkgs/pyntcloud-0.1.5-pyhd8ed1ab_0.tar.bz2', 'D  pkgs/pytools-2021.2.8-pyhd8ed1ab_0.tar.bz2', 'D  pkgs/pytorch-1.9.0-py3.9_cpu_0.tar.bz2.0', 'D  pkgs/pytorch-1.9.0-py3.9_cpu_0.tar.bz2.1', 'D  pkgs/pytorch-1.9.0-py3.9_cpu_0.tar.bz2.2', 'D  pkgs/pytorch-1.9.0-py3.9_cpu_0.tar.bz2.3', 'A  pkgs/retrying-1.3.3-py_2.tar.bz2', 'D  pkgs/scikit-learn-0.24.2-py39he931e04_1.tar.bz2', 'D  pkgs/scipy-1.7.1-py39hc0c34ad_0.tar.bz2', 'D  pkgs/seaborn-0.11.2-hd8ed1ab_0.tar.bz2', 'D  pkgs/seaborn-base-0.11.2-pyhd8ed1ab_0.tar.bz2', 'D  pkgs/shapely-1.7.1-py39haadaec5_5.tar.bz2', 'D  pkgs/sortedcontainers-2.4.0-pyhd8ed1ab_0.tar.bz2', 'D  pkgs/squarify-0.4.3-py_0.tar.bz2', 'D  pkgs/statsmodels-0.12.2-py39h5d4886f_0.tar.bz2', 'D  pkgs/strsimpy-0.1.9-pyh9f0ad1d_0.tar.bz2', 'D  pkgs/tenacity-8.0.1-pyhd8ed1ab_0.tar.bz2', 'D  pkgs/threadpoolctl-2.2.0-pyh8a188c0_0.tar.bz2', 'A  pkgs/toml-0.10.2-pyhd8ed1ab_0.tar.bz2', 'D  pkgs/torchaudio-0.9.0-py39.tar.bz2', 'D  pkgs/torchvision-0.2.2-py_3.tar.bz2', 'D  pkgs/trimesh-3.9.29-pyh6c4a22f_0.tar.bz2', 'D  pkgs/werkzeug-2.0.1-pyhd8ed1ab_0.tar.bz2', 'D  pkgs/xarray-0.19.0-pyhd8ed1ab_1.tar.bz2', 'D  pkgs/xlrd-2.0.1-pyhd8ed1ab_3.tar.bz2', 'D  sep_file_list/blender-2.93.4-windows-x64.zip.csv', 'D  sep_file_list/pytorch-1.9.0-py3.9_cpu_0.tar.bz2.csv', 'M  utility.ipynb']\n"
     ]
    }
   ],
   "source": [
    "if len(li_m) != 0:\n",
    "    self.repo_remote_folder.git.add(r\"*\")\n",
    "    li_mi= self.comfirm_file(case=1)"
   ]
  },
  {
   "cell_type": "code",
   "execution_count": 16,
   "id": "64601c0c",
   "metadata": {},
   "outputs": [
    {
     "data": {
      "text/plain": [
       "['M  env.md',\n",
       " 'A  pkgs/ansi2html-1.6.0-py39hcbf5309_1.tar.bz2',\n",
       " 'D  pkgs/appdirs-1.4.4-pyh9f0ad1d_0.tar.bz2',\n",
       " 'A  pkgs/autopep8-1.5.7-pyhd8ed1ab_0.tar.bz2',\n",
       " 'D  pkgs/blas-1.0-mkl.conda',\n",
       " 'D  pkgs/blender-2.93.4-windows-x64.zip.0',\n",
       " 'D  pkgs/blender-2.93.4-windows-x64.zip.1',\n",
       " 'D  pkgs/blender-2.93.4-windows-x64.zip.2',\n",
       " 'D  pkgs/blender-2.93.4-windows-x64.zip.3',\n",
       " 'D  pkgs/blender-2.93.4-windows-x64.zip.4',\n",
       " 'D  pkgs/brotli-python-1.0.9-py39h415ef7b_5.tar.bz2',\n",
       " 'D  pkgs/click-8.0.1-py39hcbf5309_0.tar.bz2',\n",
       " 'A  pkgs/colorlover-0.3.0-py_0.tar.bz2',\n",
       " 'D  pkgs/cpuonly-1.0-0.tar.bz2',\n",
       " 'D  pkgs/cycler-0.10.0-py_2.tar.bz2',\n",
       " 'D  pkgs/dash-1.21.0-pyhd8ed1ab_0.tar.bz2',\n",
       " 'D  pkgs/dash-bootstrap-components-0.13.0-pyhd8ed1ab_0.tar.bz2',\n",
       " 'D  pkgs/dash-core-components-1.17.1-pyhd8ed1ab_0.tar.bz2',\n",
       " 'D  pkgs/dash-daq-0.5.0-pyh9f0ad1d_1.tar.bz2',\n",
       " 'D  pkgs/dash-html-components-1.1.4-pyhd8ed1ab_0.tar.bz2',\n",
       " 'D  pkgs/dash-renderer-1.9.1-pyhd8ed1ab_0.tar.bz2',\n",
       " 'D  pkgs/dash-table-4.12.0-pyhd8ed1ab_0.tar.bz2',\n",
       " 'D  pkgs/dash_colorscales-0.0.4-pyh9f0ad1d_0.tar.bz2',\n",
       " 'D  pkgs/dataclasses-0.8-pyhc8e2a94_3.tar.bz2',\n",
       " 'D  pkgs/dtale-1.56.0-pyhd8ed1ab_0.tar.bz2',\n",
       " 'D  pkgs/et_xmlfile-1.0.1-py_1001.tar.bz2',\n",
       " 'D  pkgs/flask-2.0.1-pyhd8ed1ab_0.tar.bz2',\n",
       " 'D  pkgs/flask-compress-1.10.1-pyhd8ed1ab_0.tar.bz2',\n",
       " 'D  pkgs/freeglut-3.2.1-h0e60522_2.tar.bz2',\n",
       " 'D  pkgs/future-0.18.2-py39hcbf5309_3.tar.bz2',\n",
       " 'D  pkgs/geos-3.9.1-h39d44d4_2.tar.bz2',\n",
       " 'D  pkgs/itsdangerous-2.0.1-pyhd8ed1ab_0.tar.bz2',\n",
       " 'D  pkgs/jasper-2.0.14-h77af90b_2.tar.bz2',\n",
       " 'D  pkgs/jdcal-1.4.1-py_0.tar.bz2',\n",
       " 'D  pkgs/joblib-1.0.1-pyhd8ed1ab_0.tar.bz2',\n",
       " 'A  pkgs/jupyter-dash-0.4.0-pyhd8ed1ab_0.tar.bz2',\n",
       " 'D  pkgs/kiwisolver-1.3.2-py39h2e07f2f_0.tar.bz2',\n",
       " 'D  pkgs/liblapacke-3.9.0-8_mkl.tar.bz2',\n",
       " 'D  pkgs/libopencv-4.5.2-py39h41a9e09_1.tar.bz2',\n",
       " 'D  pkgs/libprotobuf-3.16.0-h7755175_0.tar.bz2',\n",
       " 'D  pkgs/libuv-1.42.0-h8ffe710_0.tar.bz2',\n",
       " 'D  pkgs/lz4-3.1.3-py39h92e281b_0.tar.bz2',\n",
       " 'D  pkgs/matplotlib-base-3.4.3-py39h581301d_0.tar.bz2',\n",
       " 'D  pkgs/meshpy-2020.1-py39h2e25243_0.tar.bz2',\n",
       " 'D  pkgs/missingno-0.4.2-py_1.tar.bz2',\n",
       " 'D  pkgs/networkx-2.3-py_0.tar.bz2',\n",
       " 'D  pkgs/ninja-1.10.2-h5362a0b_0.tar.bz2',\n",
       " 'D  pkgs/olefile-0.46-pyh9f0ad1d_1.tar.bz2',\n",
       " 'D  pkgs/opencv-4.5.2-py39hcbf5309_1.tar.bz2',\n",
       " 'D  pkgs/openpyxl-3.0.7-pyhd8ed1ab_0.tar.bz2',\n",
       " 'A  pkgs/openssl-1.1.1l-h8ffe710_0.tar.bz2',\n",
       " 'D  pkgs/patsy-0.5.1-py_0.tar.bz2',\n",
       " 'D  pkgs/pdfminer.six-20201018-pyhd8ed1ab_3.tar.bz2',\n",
       " 'D  pkgs/pillow-8.3.1-py39h916092e_0.tar.bz2',\n",
       " 'D  pkgs/plotly-5.3.1-pyhd8ed1ab_0.tar.bz2',\n",
       " 'D  pkgs/ppscore-1.2.0-pyhd3deb0d_0.tar.bz2',\n",
       " 'D  pkgs/py-opencv-4.5.2-py39h832f523_1.tar.bz2',\n",
       " 'A  pkgs/pycodestyle-2.7.0-pyhd8ed1ab_0.tar.bz2',\n",
       " 'D  pkgs/pyntcloud-0.1.5-pyhd8ed1ab_0.tar.bz2',\n",
       " 'D  pkgs/pytools-2021.2.8-pyhd8ed1ab_0.tar.bz2',\n",
       " 'D  pkgs/pytorch-1.9.0-py3.9_cpu_0.tar.bz2.0',\n",
       " 'D  pkgs/pytorch-1.9.0-py3.9_cpu_0.tar.bz2.1',\n",
       " 'D  pkgs/pytorch-1.9.0-py3.9_cpu_0.tar.bz2.2',\n",
       " 'D  pkgs/pytorch-1.9.0-py3.9_cpu_0.tar.bz2.3',\n",
       " 'A  pkgs/retrying-1.3.3-py_2.tar.bz2',\n",
       " 'D  pkgs/scikit-learn-0.24.2-py39he931e04_1.tar.bz2',\n",
       " 'D  pkgs/scipy-1.7.1-py39hc0c34ad_0.tar.bz2',\n",
       " 'D  pkgs/seaborn-0.11.2-hd8ed1ab_0.tar.bz2',\n",
       " 'D  pkgs/seaborn-base-0.11.2-pyhd8ed1ab_0.tar.bz2',\n",
       " 'D  pkgs/shapely-1.7.1-py39haadaec5_5.tar.bz2',\n",
       " 'D  pkgs/sortedcontainers-2.4.0-pyhd8ed1ab_0.tar.bz2',\n",
       " 'D  pkgs/squarify-0.4.3-py_0.tar.bz2',\n",
       " 'D  pkgs/statsmodels-0.12.2-py39h5d4886f_0.tar.bz2',\n",
       " 'D  pkgs/strsimpy-0.1.9-pyh9f0ad1d_0.tar.bz2',\n",
       " 'D  pkgs/tenacity-8.0.1-pyhd8ed1ab_0.tar.bz2',\n",
       " 'D  pkgs/threadpoolctl-2.2.0-pyh8a188c0_0.tar.bz2',\n",
       " 'A  pkgs/toml-0.10.2-pyhd8ed1ab_0.tar.bz2',\n",
       " 'D  pkgs/torchaudio-0.9.0-py39.tar.bz2',\n",
       " 'D  pkgs/torchvision-0.2.2-py_3.tar.bz2',\n",
       " 'D  pkgs/trimesh-3.9.29-pyh6c4a22f_0.tar.bz2',\n",
       " 'D  pkgs/werkzeug-2.0.1-pyhd8ed1ab_0.tar.bz2',\n",
       " 'D  pkgs/xarray-0.19.0-pyhd8ed1ab_1.tar.bz2',\n",
       " 'D  pkgs/xlrd-2.0.1-pyhd8ed1ab_3.tar.bz2',\n",
       " 'D  sep_file_list/blender-2.93.4-windows-x64.zip.csv',\n",
       " 'D  sep_file_list/pytorch-1.9.0-py3.9_cpu_0.tar.bz2.csv',\n",
       " 'M  utility.ipynb']"
      ]
     },
     "execution_count": 16,
     "metadata": {},
     "output_type": "execute_result"
    }
   ],
   "source": [
    "li_mi"
   ]
  },
  {
   "cell_type": "code",
   "execution_count": 17,
   "id": "4cdddc3b",
   "metadata": {},
   "outputs": [],
   "source": [
    "if len(li_mi) != 0:\n",
    "    self.repo_remote_folder.git.commit(\"-m\",\"STEP3_dashjupyter\")"
   ]
  },
  {
   "cell_type": "markdown",
   "id": "603a5734",
   "metadata": {},
   "source": [
    "push"
   ]
  },
  {
   "cell_type": "code",
   "execution_count": 18,
   "id": "31865b2c",
   "metadata": {},
   "outputs": [
    {
     "data": {
      "text/plain": [
       "''"
      ]
     },
     "execution_count": 18,
     "metadata": {},
     "output_type": "execute_result"
    }
   ],
   "source": [
    "self.repo_remote_folder.git.push()"
   ]
  },
  {
   "cell_type": "markdown",
   "id": "78e48d4f",
   "metadata": {},
   "source": [
    "# 相手側作業"
   ]
  },
  {
   "cell_type": "markdown",
   "id": "235e195b",
   "metadata": {},
   "source": [
    "リポジトリをダウンロードして、000_workの下に移動する\n",
    "\n",
    "https://github.com/nyanko111777/env_miniconda_39/archive/refs/heads/main.zip\n"
   ]
  },
  {
   "cell_type": "markdown",
   "id": "6c42c194",
   "metadata": {},
   "source": [
    "## 100M以上を復活"
   ]
  },
  {
   "cell_type": "code",
   "execution_count": 4,
   "id": "8f9cd91f",
   "metadata": {},
   "outputs": [
    {
     "data": {
      "text/plain": [
       "['mkl-2020.4-hb70f87d_311.tar.bz2.csv', 'qt-5.12.9-h5909a2a_4.tar.bz2.csv']"
      ]
     },
     "execution_count": 4,
     "metadata": {},
     "output_type": "execute_result"
    }
   ],
   "source": [
    "import pandas as pd\n",
    "import os\n",
    "\n",
    "file_list =  os.listdir(\"sep_file_list\")\n",
    "for file in file_list:\n",
    "    df_temp = pd.read_csv(\"sep_file_list/\"+file)\n",
    "    fileList = list(list(df_temp[\"path\"]))\n",
    "    target = fileList[0][:fileList[0].find(\".0\")]\n",
    "    join_file(fileList, target)\n",
    "    for d_file in fileList:\n",
    "        os.remove(d_file)"
   ]
  },
  {
   "cell_type": "markdown",
   "id": "94bed69e",
   "metadata": {},
   "source": [
    "## インストール"
   ]
  },
  {
   "cell_type": "markdown",
   "id": "c6df28cd",
   "metadata": {},
   "source": [
    "- conda の場合\n",
    "  `for /f %i in ('dir /A-d /B *') do conda install %i`\n",
    "\n",
    "\n",
    "\n",
    "- pip の場合\n",
    "  `for /f %i in ('dir /A-d /B *') do pip install %i`\n"
   ]
  },
  {
   "cell_type": "code",
   "execution_count": null,
   "id": "77156bc5",
   "metadata": {},
   "outputs": [],
   "source": []
  }
 ],
 "metadata": {
  "kernelspec": {
   "display_name": "Python 3 (ipykernel)",
   "language": "python",
   "name": "python3"
  },
  "language_info": {
   "codemirror_mode": {
    "name": "ipython",
    "version": 3
   },
   "file_extension": ".py",
   "mimetype": "text/x-python",
   "name": "python",
   "nbconvert_exporter": "python",
   "pygments_lexer": "ipython3",
   "version": "3.9.5"
  },
  "toc": {
   "base_numbering": 1,
   "nav_menu": {},
   "number_sections": true,
   "sideBar": true,
   "skip_h1_title": false,
   "title_cell": "Table of Contents",
   "title_sidebar": "Contents",
   "toc_cell": false,
   "toc_position": {
    "height": "calc(100% - 180px)",
    "left": "10px",
    "top": "150px",
    "width": "222.5px"
   },
   "toc_section_display": true,
   "toc_window_display": true
  }
 },
 "nbformat": 4,
 "nbformat_minor": 5
}
